{
  "cells": [
    {
      "cell_type": "markdown",
      "metadata": {
        "id": "s5vFkeLy3to1"
      },
      "source": [
        "# Phase 2 Milestone 2"
      ]
    },
    {
      "cell_type": "markdown",
      "metadata": {
        "id": "URoL4QOC3-R5"
      },
      "source": [
        "\n",
        "## 1 - Introduction\n",
        "\n",
        "1. Nama    : Imam Ahfas\n",
        "2. Batch   : FTDS-012\n",
        "3. Dataset : Women Clothing E-Commerce Review |\n"
      ]
    },
    {
      "cell_type": "markdown",
      "metadata": {
        "id": "2_VKhHx-4U_M"
      },
      "source": [
        "### Description\n",
        "\n",
        "### Objective\n",
        "\n",
        "Milestones 2 ini dibuat guna mengevaluasi Pembelajaran Phase 2 :\n",
        "\n",
        "1. Mampu memahami konsep Computer Vision/NLP.\n",
        "2. Mampu mempersiapkan data untuk digunakan dalam model Computer Vision/NLP.\n",
        "3. Mampu mengimplementasikan Artificial Neural Network dengan data yang ada.\n",
        "4. Mampu menganalisis dan menjelaskan layer yang dibuat.\n",
        "\n",
        "### Problem Statement\n",
        "\n",
        "Membuat model klasifikasi menggunakan NLP untuk memprediksi Women Clothing E-Commerce Review menggunakan dataset yang sudah ada.\n"
      ]
    },
    {
      "cell_type": "markdown",
      "metadata": {
        "id": "vmsBrDYM5gpP"
      },
      "source": [
        "## Working Area"
      ]
    },
    {
      "cell_type": "markdown",
      "metadata": {
        "id": "nZVFpIun5jHe"
      },
      "source": [
        "## 2 - Import Libraries"
      ]
    },
    {
      "cell_type": "code",
      "execution_count": 328,
      "metadata": {
        "id": "gMgj1KmN4YRB",
        "colab": {
          "base_uri": "https://localhost:8080/"
        },
        "outputId": "de9ca790-cd19-4de9-9e6d-86426a0e8464"
      },
      "outputs": [
        {
          "output_type": "stream",
          "name": "stderr",
          "text": [
            "[nltk_data] Downloading package punkt to /root/nltk_data...\n",
            "[nltk_data]   Package punkt is already up-to-date!\n",
            "[nltk_data] Downloading package stopwords to /root/nltk_data...\n",
            "[nltk_data]   Package stopwords is already up-to-date!\n",
            "[nltk_data] Downloading package wordnet to /root/nltk_data...\n",
            "[nltk_data]   Package wordnet is already up-to-date!\n",
            "[nltk_data] Downloading package omw-1.4 to /root/nltk_data...\n",
            "[nltk_data]   Package omw-1.4 is already up-to-date!\n"
          ]
        }
      ],
      "source": [
        "# Import libraries\n",
        "import numpy as np\n",
        "import pandas as pd\n",
        "import matplotlib.pyplot as plt\n",
        "import seaborn as sns\n",
        "import scipy.stats as stats\n",
        "%matplotlib inline\n",
        "import statsmodels.api as sm\n",
        "import statsmodels.formula.api as smf\n",
        "import missingno as msno \n",
        "\n",
        "# Ignore Warnings\n",
        "import warnings\n",
        "warnings.filterwarnings('ignore')\n",
        "\n",
        "import nltk\n",
        "nltk.download('punkt')\n",
        "nltk.download('stopwords')\n",
        "nltk.download('wordnet')\n",
        "nltk.download('omw-1.4')\n",
        "from nltk.tokenize import sent_tokenize, word_tokenize\n",
        "from nltk.corpus import stopwords\n",
        "from nltk.stem import WordNetLemmatizer\n",
        "from nltk.stem import PorterStemmer\n",
        "from collections import Counter\n",
        "from wordcloud import WordCloud \n",
        "import string\n",
        "import re\n",
        "from sklearn.feature_extraction.text import CountVectorizer, TfidfTransformer\n",
        "\n",
        "from sklearn.model_selection import train_test_split, GridSearchCV, cross_val_score\n",
        "from sklearn.preprocessing import OneHotEncoder, MinMaxScaler, StandardScaler, LabelEncoder, MinMaxScaler, OrdinalEncoder\n",
        "\n",
        "import tensorflow as tf \n",
        "from tensorflow.keras.models import Sequential\n",
        "from tensorflow.keras.layers import Dense\n",
        "from tensorflow import keras\n",
        "from tensorflow.keras.layers import TextVectorization, Embedding\n",
        "from tensorflow.keras.layers import Dense, GlobalAveragePooling1D, Input, LSTM, GRU, Dropout\n",
        "from keras.layers import Bidirectional\n",
        "from tensorflow.keras.models import Model, Sequential\n",
        "from tensorflow.keras.utils import to_categorical\n",
        "from sklearn.naive_bayes import MultinomialNB\n",
        "from sklearn.metrics import classification_report\n",
        "from tensorflow.keras.callbacks import EarlyStopping\n",
        "\n",
        "\n",
        "from sklearn.metrics import classification_report, confusion_matrix, ConfusionMatrixDisplay\n",
        "from sklearn.pipeline import Pipeline\n",
        "from sklearn.compose import ColumnTransformer\n",
        "from imblearn.over_sampling import SMOTE\n",
        "\n",
        "import pickle, os\n",
        "\n"
      ]
    },
    {
      "cell_type": "markdown",
      "metadata": {
        "id": "DiAD1MWE6OWK"
      },
      "source": [
        "## 3 - Data Loading"
      ]
    },
    {
      "cell_type": "markdown",
      "metadata": {
        "id": "R_rhwIeDy6eH"
      },
      "source": [
        "> Bagian ini berisikan proses penyiapan data dengan memasukan dataset Women Clothing E-Commerce Review yang berformat csv"
      ]
    },
    {
      "cell_type": "code",
      "execution_count": 329,
      "metadata": {
        "id": "nAn37mNR4W1E"
      },
      "outputs": [],
      "source": [
        "# Memasukan data \n",
        "df = pd.read_csv(\"/content/Womens Clothing E-Commerce Reviews.csv\")"
      ]
    },
    {
      "cell_type": "code",
      "execution_count": 330,
      "metadata": {
        "id": "Dd0C8-WRy6eJ",
        "colab": {
          "base_uri": "https://localhost:8080/",
          "height": 208
        },
        "outputId": "bb676179-23e8-4334-a531-c3a5408b9fcf"
      },
      "outputs": [
        {
          "output_type": "execute_result",
          "data": {
            "text/plain": [
              "   Unnamed: 0  Clothing ID  Age Title  \\\n",
              "0           0          767   33   NaN   \n",
              "1           1         1080   34   NaN   \n",
              "\n",
              "                                         Review Text  Rating  Recommended IND  \\\n",
              "0  Absolutely wonderful - silky and sexy and comf...       4                1   \n",
              "1  Love this dress!  it's sooo pretty.  i happene...       5                1   \n",
              "\n",
              "   Positive Feedback Count Division Name Department Name Class Name  \n",
              "0                        0     Initmates        Intimate  Intimates  \n",
              "1                        4       General         Dresses    Dresses  "
            ],
            "text/html": [
              "\n",
              "  <div id=\"df-dd03f925-620e-4f2b-a631-962f3103ca1c\">\n",
              "    <div class=\"colab-df-container\">\n",
              "      <div>\n",
              "<style scoped>\n",
              "    .dataframe tbody tr th:only-of-type {\n",
              "        vertical-align: middle;\n",
              "    }\n",
              "\n",
              "    .dataframe tbody tr th {\n",
              "        vertical-align: top;\n",
              "    }\n",
              "\n",
              "    .dataframe thead th {\n",
              "        text-align: right;\n",
              "    }\n",
              "</style>\n",
              "<table border=\"1\" class=\"dataframe\">\n",
              "  <thead>\n",
              "    <tr style=\"text-align: right;\">\n",
              "      <th></th>\n",
              "      <th>Unnamed: 0</th>\n",
              "      <th>Clothing ID</th>\n",
              "      <th>Age</th>\n",
              "      <th>Title</th>\n",
              "      <th>Review Text</th>\n",
              "      <th>Rating</th>\n",
              "      <th>Recommended IND</th>\n",
              "      <th>Positive Feedback Count</th>\n",
              "      <th>Division Name</th>\n",
              "      <th>Department Name</th>\n",
              "      <th>Class Name</th>\n",
              "    </tr>\n",
              "  </thead>\n",
              "  <tbody>\n",
              "    <tr>\n",
              "      <th>0</th>\n",
              "      <td>0</td>\n",
              "      <td>767</td>\n",
              "      <td>33</td>\n",
              "      <td>NaN</td>\n",
              "      <td>Absolutely wonderful - silky and sexy and comf...</td>\n",
              "      <td>4</td>\n",
              "      <td>1</td>\n",
              "      <td>0</td>\n",
              "      <td>Initmates</td>\n",
              "      <td>Intimate</td>\n",
              "      <td>Intimates</td>\n",
              "    </tr>\n",
              "    <tr>\n",
              "      <th>1</th>\n",
              "      <td>1</td>\n",
              "      <td>1080</td>\n",
              "      <td>34</td>\n",
              "      <td>NaN</td>\n",
              "      <td>Love this dress!  it's sooo pretty.  i happene...</td>\n",
              "      <td>5</td>\n",
              "      <td>1</td>\n",
              "      <td>4</td>\n",
              "      <td>General</td>\n",
              "      <td>Dresses</td>\n",
              "      <td>Dresses</td>\n",
              "    </tr>\n",
              "  </tbody>\n",
              "</table>\n",
              "</div>\n",
              "      <button class=\"colab-df-convert\" onclick=\"convertToInteractive('df-dd03f925-620e-4f2b-a631-962f3103ca1c')\"\n",
              "              title=\"Convert this dataframe to an interactive table.\"\n",
              "              style=\"display:none;\">\n",
              "        \n",
              "  <svg xmlns=\"http://www.w3.org/2000/svg\" height=\"24px\"viewBox=\"0 0 24 24\"\n",
              "       width=\"24px\">\n",
              "    <path d=\"M0 0h24v24H0V0z\" fill=\"none\"/>\n",
              "    <path d=\"M18.56 5.44l.94 2.06.94-2.06 2.06-.94-2.06-.94-.94-2.06-.94 2.06-2.06.94zm-11 1L8.5 8.5l.94-2.06 2.06-.94-2.06-.94L8.5 2.5l-.94 2.06-2.06.94zm10 10l.94 2.06.94-2.06 2.06-.94-2.06-.94-.94-2.06-.94 2.06-2.06.94z\"/><path d=\"M17.41 7.96l-1.37-1.37c-.4-.4-.92-.59-1.43-.59-.52 0-1.04.2-1.43.59L10.3 9.45l-7.72 7.72c-.78.78-.78 2.05 0 2.83L4 21.41c.39.39.9.59 1.41.59.51 0 1.02-.2 1.41-.59l7.78-7.78 2.81-2.81c.8-.78.8-2.07 0-2.86zM5.41 20L4 18.59l7.72-7.72 1.47 1.35L5.41 20z\"/>\n",
              "  </svg>\n",
              "      </button>\n",
              "      \n",
              "  <style>\n",
              "    .colab-df-container {\n",
              "      display:flex;\n",
              "      flex-wrap:wrap;\n",
              "      gap: 12px;\n",
              "    }\n",
              "\n",
              "    .colab-df-convert {\n",
              "      background-color: #E8F0FE;\n",
              "      border: none;\n",
              "      border-radius: 50%;\n",
              "      cursor: pointer;\n",
              "      display: none;\n",
              "      fill: #1967D2;\n",
              "      height: 32px;\n",
              "      padding: 0 0 0 0;\n",
              "      width: 32px;\n",
              "    }\n",
              "\n",
              "    .colab-df-convert:hover {\n",
              "      background-color: #E2EBFA;\n",
              "      box-shadow: 0px 1px 2px rgba(60, 64, 67, 0.3), 0px 1px 3px 1px rgba(60, 64, 67, 0.15);\n",
              "      fill: #174EA6;\n",
              "    }\n",
              "\n",
              "    [theme=dark] .colab-df-convert {\n",
              "      background-color: #3B4455;\n",
              "      fill: #D2E3FC;\n",
              "    }\n",
              "\n",
              "    [theme=dark] .colab-df-convert:hover {\n",
              "      background-color: #434B5C;\n",
              "      box-shadow: 0px 1px 3px 1px rgba(0, 0, 0, 0.15);\n",
              "      filter: drop-shadow(0px 1px 2px rgba(0, 0, 0, 0.3));\n",
              "      fill: #FFFFFF;\n",
              "    }\n",
              "  </style>\n",
              "\n",
              "      <script>\n",
              "        const buttonEl =\n",
              "          document.querySelector('#df-dd03f925-620e-4f2b-a631-962f3103ca1c button.colab-df-convert');\n",
              "        buttonEl.style.display =\n",
              "          google.colab.kernel.accessAllowed ? 'block' : 'none';\n",
              "\n",
              "        async function convertToInteractive(key) {\n",
              "          const element = document.querySelector('#df-dd03f925-620e-4f2b-a631-962f3103ca1c');\n",
              "          const dataTable =\n",
              "            await google.colab.kernel.invokeFunction('convertToInteractive',\n",
              "                                                     [key], {});\n",
              "          if (!dataTable) return;\n",
              "\n",
              "          const docLinkHtml = 'Like what you see? Visit the ' +\n",
              "            '<a target=\"_blank\" href=https://colab.research.google.com/notebooks/data_table.ipynb>data table notebook</a>'\n",
              "            + ' to learn more about interactive tables.';\n",
              "          element.innerHTML = '';\n",
              "          dataTable['output_type'] = 'display_data';\n",
              "          await google.colab.output.renderOutput(dataTable, element);\n",
              "          const docLink = document.createElement('div');\n",
              "          docLink.innerHTML = docLinkHtml;\n",
              "          element.appendChild(docLink);\n",
              "        }\n",
              "      </script>\n",
              "    </div>\n",
              "  </div>\n",
              "  "
            ]
          },
          "metadata": {},
          "execution_count": 330
        }
      ],
      "source": [
        "# Melihat dataset 2 teratas\n",
        "df.head(2)"
      ]
    },
    {
      "cell_type": "code",
      "execution_count": 331,
      "metadata": {
        "id": "v26JZmpYy6eK",
        "colab": {
          "base_uri": "https://localhost:8080/",
          "height": 260
        },
        "outputId": "01b8176e-4315-487f-da61-69ace8ad22d7"
      },
      "outputs": [
        {
          "output_type": "execute_result",
          "data": {
            "text/plain": [
              "       Unnamed: 0  Clothing ID  Age  \\\n",
              "23484       23484         1084   28   \n",
              "23485       23485         1104   52   \n",
              "\n",
              "                                                   Title  \\\n",
              "23484  Very cute dress, perfect for summer parties an...   \n",
              "23485                    Please make more like this one!   \n",
              "\n",
              "                                             Review Text  Rating  \\\n",
              "23484  I bought this dress for a wedding i have this ...       3   \n",
              "23485  This dress in a lovely platinum is feminine an...       5   \n",
              "\n",
              "       Recommended IND  Positive Feedback Count   Division Name  \\\n",
              "23484                1                        2         General   \n",
              "23485                1                       22  General Petite   \n",
              "\n",
              "      Department Name Class Name  \n",
              "23484         Dresses    Dresses  \n",
              "23485         Dresses    Dresses  "
            ],
            "text/html": [
              "\n",
              "  <div id=\"df-a2c5ba37-3652-4a80-adb7-32502144342e\">\n",
              "    <div class=\"colab-df-container\">\n",
              "      <div>\n",
              "<style scoped>\n",
              "    .dataframe tbody tr th:only-of-type {\n",
              "        vertical-align: middle;\n",
              "    }\n",
              "\n",
              "    .dataframe tbody tr th {\n",
              "        vertical-align: top;\n",
              "    }\n",
              "\n",
              "    .dataframe thead th {\n",
              "        text-align: right;\n",
              "    }\n",
              "</style>\n",
              "<table border=\"1\" class=\"dataframe\">\n",
              "  <thead>\n",
              "    <tr style=\"text-align: right;\">\n",
              "      <th></th>\n",
              "      <th>Unnamed: 0</th>\n",
              "      <th>Clothing ID</th>\n",
              "      <th>Age</th>\n",
              "      <th>Title</th>\n",
              "      <th>Review Text</th>\n",
              "      <th>Rating</th>\n",
              "      <th>Recommended IND</th>\n",
              "      <th>Positive Feedback Count</th>\n",
              "      <th>Division Name</th>\n",
              "      <th>Department Name</th>\n",
              "      <th>Class Name</th>\n",
              "    </tr>\n",
              "  </thead>\n",
              "  <tbody>\n",
              "    <tr>\n",
              "      <th>23484</th>\n",
              "      <td>23484</td>\n",
              "      <td>1084</td>\n",
              "      <td>28</td>\n",
              "      <td>Very cute dress, perfect for summer parties an...</td>\n",
              "      <td>I bought this dress for a wedding i have this ...</td>\n",
              "      <td>3</td>\n",
              "      <td>1</td>\n",
              "      <td>2</td>\n",
              "      <td>General</td>\n",
              "      <td>Dresses</td>\n",
              "      <td>Dresses</td>\n",
              "    </tr>\n",
              "    <tr>\n",
              "      <th>23485</th>\n",
              "      <td>23485</td>\n",
              "      <td>1104</td>\n",
              "      <td>52</td>\n",
              "      <td>Please make more like this one!</td>\n",
              "      <td>This dress in a lovely platinum is feminine an...</td>\n",
              "      <td>5</td>\n",
              "      <td>1</td>\n",
              "      <td>22</td>\n",
              "      <td>General Petite</td>\n",
              "      <td>Dresses</td>\n",
              "      <td>Dresses</td>\n",
              "    </tr>\n",
              "  </tbody>\n",
              "</table>\n",
              "</div>\n",
              "      <button class=\"colab-df-convert\" onclick=\"convertToInteractive('df-a2c5ba37-3652-4a80-adb7-32502144342e')\"\n",
              "              title=\"Convert this dataframe to an interactive table.\"\n",
              "              style=\"display:none;\">\n",
              "        \n",
              "  <svg xmlns=\"http://www.w3.org/2000/svg\" height=\"24px\"viewBox=\"0 0 24 24\"\n",
              "       width=\"24px\">\n",
              "    <path d=\"M0 0h24v24H0V0z\" fill=\"none\"/>\n",
              "    <path d=\"M18.56 5.44l.94 2.06.94-2.06 2.06-.94-2.06-.94-.94-2.06-.94 2.06-2.06.94zm-11 1L8.5 8.5l.94-2.06 2.06-.94-2.06-.94L8.5 2.5l-.94 2.06-2.06.94zm10 10l.94 2.06.94-2.06 2.06-.94-2.06-.94-.94-2.06-.94 2.06-2.06.94z\"/><path d=\"M17.41 7.96l-1.37-1.37c-.4-.4-.92-.59-1.43-.59-.52 0-1.04.2-1.43.59L10.3 9.45l-7.72 7.72c-.78.78-.78 2.05 0 2.83L4 21.41c.39.39.9.59 1.41.59.51 0 1.02-.2 1.41-.59l7.78-7.78 2.81-2.81c.8-.78.8-2.07 0-2.86zM5.41 20L4 18.59l7.72-7.72 1.47 1.35L5.41 20z\"/>\n",
              "  </svg>\n",
              "      </button>\n",
              "      \n",
              "  <style>\n",
              "    .colab-df-container {\n",
              "      display:flex;\n",
              "      flex-wrap:wrap;\n",
              "      gap: 12px;\n",
              "    }\n",
              "\n",
              "    .colab-df-convert {\n",
              "      background-color: #E8F0FE;\n",
              "      border: none;\n",
              "      border-radius: 50%;\n",
              "      cursor: pointer;\n",
              "      display: none;\n",
              "      fill: #1967D2;\n",
              "      height: 32px;\n",
              "      padding: 0 0 0 0;\n",
              "      width: 32px;\n",
              "    }\n",
              "\n",
              "    .colab-df-convert:hover {\n",
              "      background-color: #E2EBFA;\n",
              "      box-shadow: 0px 1px 2px rgba(60, 64, 67, 0.3), 0px 1px 3px 1px rgba(60, 64, 67, 0.15);\n",
              "      fill: #174EA6;\n",
              "    }\n",
              "\n",
              "    [theme=dark] .colab-df-convert {\n",
              "      background-color: #3B4455;\n",
              "      fill: #D2E3FC;\n",
              "    }\n",
              "\n",
              "    [theme=dark] .colab-df-convert:hover {\n",
              "      background-color: #434B5C;\n",
              "      box-shadow: 0px 1px 3px 1px rgba(0, 0, 0, 0.15);\n",
              "      filter: drop-shadow(0px 1px 2px rgba(0, 0, 0, 0.3));\n",
              "      fill: #FFFFFF;\n",
              "    }\n",
              "  </style>\n",
              "\n",
              "      <script>\n",
              "        const buttonEl =\n",
              "          document.querySelector('#df-a2c5ba37-3652-4a80-adb7-32502144342e button.colab-df-convert');\n",
              "        buttonEl.style.display =\n",
              "          google.colab.kernel.accessAllowed ? 'block' : 'none';\n",
              "\n",
              "        async function convertToInteractive(key) {\n",
              "          const element = document.querySelector('#df-a2c5ba37-3652-4a80-adb7-32502144342e');\n",
              "          const dataTable =\n",
              "            await google.colab.kernel.invokeFunction('convertToInteractive',\n",
              "                                                     [key], {});\n",
              "          if (!dataTable) return;\n",
              "\n",
              "          const docLinkHtml = 'Like what you see? Visit the ' +\n",
              "            '<a target=\"_blank\" href=https://colab.research.google.com/notebooks/data_table.ipynb>data table notebook</a>'\n",
              "            + ' to learn more about interactive tables.';\n",
              "          element.innerHTML = '';\n",
              "          dataTable['output_type'] = 'display_data';\n",
              "          await google.colab.output.renderOutput(dataTable, element);\n",
              "          const docLink = document.createElement('div');\n",
              "          docLink.innerHTML = docLinkHtml;\n",
              "          element.appendChild(docLink);\n",
              "        }\n",
              "      </script>\n",
              "    </div>\n",
              "  </div>\n",
              "  "
            ]
          },
          "metadata": {},
          "execution_count": 331
        }
      ],
      "source": [
        "# Melihat dataset 2 terbawah\n",
        "df.tail(2)"
      ]
    },
    {
      "cell_type": "markdown",
      "metadata": {
        "id": "hQQE9Wxiy6eL"
      },
      "source": [
        "### Informasi Dataset\n",
        "|Column Name|Description|\n",
        "|-|-|\n",
        "|**Clothing ID**|Integer Categorical variable that refers to the specific piece being reviewed.|\n",
        "|||\n",
        "|**Age**|Positive Integer variable of the reviewers age.|\n",
        "|||\n",
        "|**Title**|String variable for the title of the review.|\n",
        "|||\n",
        "|**Review Text**|String variable for the review body.|\n",
        "|||\n",
        "|**Rating**|Positive Ordinal Integer variable for the product score granted by the customer from 1 Worst, to 5 Best.|\n",
        "|||\n",
        "|**Recommended IND**|Binary variable stating where the customer recommends the product where 1 is recommended, 0 is not recommended.|\n",
        "|||\n",
        "|**Positive Feedback Count**|Positive Integer documenting the number of other customers who found this review positive.|\n",
        "|||\n",
        "|**Division Name**|Categorical name of the product high level division.|\n",
        "|||\n",
        "|**Department Name**|Categorical name of the product department name.|\n",
        "|||\n",
        "|**Class Name**|Categorical name of the product class name.|\n",
        "|||"
      ]
    },
    {
      "cell_type": "code",
      "execution_count": 332,
      "metadata": {
        "id": "eYa0Q2uNy6eM",
        "colab": {
          "base_uri": "https://localhost:8080/",
          "height": 394
        },
        "outputId": "9d1d86ba-aa8f-4c2d-a9d6-378f231fc7c8"
      },
      "outputs": [
        {
          "output_type": "execute_result",
          "data": {
            "text/plain": [
              "                                                                         0  \\\n",
              "Unnamed: 0                                                               0   \n",
              "Clothing ID                                                            767   \n",
              "Age                                                                     33   \n",
              "Title                                                                  NaN   \n",
              "Review Text              Absolutely wonderful - silky and sexy and comf...   \n",
              "Rating                                                                   4   \n",
              "Recommended IND                                                          1   \n",
              "Positive Feedback Count                                                  0   \n",
              "Division Name                                                    Initmates   \n",
              "Department Name                                                   Intimate   \n",
              "Class Name                                                       Intimates   \n",
              "\n",
              "                                                                         1  \n",
              "Unnamed: 0                                                               1  \n",
              "Clothing ID                                                           1080  \n",
              "Age                                                                     34  \n",
              "Title                                                                  NaN  \n",
              "Review Text              Love this dress!  it's sooo pretty.  i happene...  \n",
              "Rating                                                                   5  \n",
              "Recommended IND                                                          1  \n",
              "Positive Feedback Count                                                  4  \n",
              "Division Name                                                      General  \n",
              "Department Name                                                    Dresses  \n",
              "Class Name                                                         Dresses  "
            ],
            "text/html": [
              "\n",
              "  <div id=\"df-0bd1ad4e-0cdb-4fb8-9583-9420eb6efbd4\">\n",
              "    <div class=\"colab-df-container\">\n",
              "      <div>\n",
              "<style scoped>\n",
              "    .dataframe tbody tr th:only-of-type {\n",
              "        vertical-align: middle;\n",
              "    }\n",
              "\n",
              "    .dataframe tbody tr th {\n",
              "        vertical-align: top;\n",
              "    }\n",
              "\n",
              "    .dataframe thead th {\n",
              "        text-align: right;\n",
              "    }\n",
              "</style>\n",
              "<table border=\"1\" class=\"dataframe\">\n",
              "  <thead>\n",
              "    <tr style=\"text-align: right;\">\n",
              "      <th></th>\n",
              "      <th>0</th>\n",
              "      <th>1</th>\n",
              "    </tr>\n",
              "  </thead>\n",
              "  <tbody>\n",
              "    <tr>\n",
              "      <th>Unnamed: 0</th>\n",
              "      <td>0</td>\n",
              "      <td>1</td>\n",
              "    </tr>\n",
              "    <tr>\n",
              "      <th>Clothing ID</th>\n",
              "      <td>767</td>\n",
              "      <td>1080</td>\n",
              "    </tr>\n",
              "    <tr>\n",
              "      <th>Age</th>\n",
              "      <td>33</td>\n",
              "      <td>34</td>\n",
              "    </tr>\n",
              "    <tr>\n",
              "      <th>Title</th>\n",
              "      <td>NaN</td>\n",
              "      <td>NaN</td>\n",
              "    </tr>\n",
              "    <tr>\n",
              "      <th>Review Text</th>\n",
              "      <td>Absolutely wonderful - silky and sexy and comf...</td>\n",
              "      <td>Love this dress!  it's sooo pretty.  i happene...</td>\n",
              "    </tr>\n",
              "    <tr>\n",
              "      <th>Rating</th>\n",
              "      <td>4</td>\n",
              "      <td>5</td>\n",
              "    </tr>\n",
              "    <tr>\n",
              "      <th>Recommended IND</th>\n",
              "      <td>1</td>\n",
              "      <td>1</td>\n",
              "    </tr>\n",
              "    <tr>\n",
              "      <th>Positive Feedback Count</th>\n",
              "      <td>0</td>\n",
              "      <td>4</td>\n",
              "    </tr>\n",
              "    <tr>\n",
              "      <th>Division Name</th>\n",
              "      <td>Initmates</td>\n",
              "      <td>General</td>\n",
              "    </tr>\n",
              "    <tr>\n",
              "      <th>Department Name</th>\n",
              "      <td>Intimate</td>\n",
              "      <td>Dresses</td>\n",
              "    </tr>\n",
              "    <tr>\n",
              "      <th>Class Name</th>\n",
              "      <td>Intimates</td>\n",
              "      <td>Dresses</td>\n",
              "    </tr>\n",
              "  </tbody>\n",
              "</table>\n",
              "</div>\n",
              "      <button class=\"colab-df-convert\" onclick=\"convertToInteractive('df-0bd1ad4e-0cdb-4fb8-9583-9420eb6efbd4')\"\n",
              "              title=\"Convert this dataframe to an interactive table.\"\n",
              "              style=\"display:none;\">\n",
              "        \n",
              "  <svg xmlns=\"http://www.w3.org/2000/svg\" height=\"24px\"viewBox=\"0 0 24 24\"\n",
              "       width=\"24px\">\n",
              "    <path d=\"M0 0h24v24H0V0z\" fill=\"none\"/>\n",
              "    <path d=\"M18.56 5.44l.94 2.06.94-2.06 2.06-.94-2.06-.94-.94-2.06-.94 2.06-2.06.94zm-11 1L8.5 8.5l.94-2.06 2.06-.94-2.06-.94L8.5 2.5l-.94 2.06-2.06.94zm10 10l.94 2.06.94-2.06 2.06-.94-2.06-.94-.94-2.06-.94 2.06-2.06.94z\"/><path d=\"M17.41 7.96l-1.37-1.37c-.4-.4-.92-.59-1.43-.59-.52 0-1.04.2-1.43.59L10.3 9.45l-7.72 7.72c-.78.78-.78 2.05 0 2.83L4 21.41c.39.39.9.59 1.41.59.51 0 1.02-.2 1.41-.59l7.78-7.78 2.81-2.81c.8-.78.8-2.07 0-2.86zM5.41 20L4 18.59l7.72-7.72 1.47 1.35L5.41 20z\"/>\n",
              "  </svg>\n",
              "      </button>\n",
              "      \n",
              "  <style>\n",
              "    .colab-df-container {\n",
              "      display:flex;\n",
              "      flex-wrap:wrap;\n",
              "      gap: 12px;\n",
              "    }\n",
              "\n",
              "    .colab-df-convert {\n",
              "      background-color: #E8F0FE;\n",
              "      border: none;\n",
              "      border-radius: 50%;\n",
              "      cursor: pointer;\n",
              "      display: none;\n",
              "      fill: #1967D2;\n",
              "      height: 32px;\n",
              "      padding: 0 0 0 0;\n",
              "      width: 32px;\n",
              "    }\n",
              "\n",
              "    .colab-df-convert:hover {\n",
              "      background-color: #E2EBFA;\n",
              "      box-shadow: 0px 1px 2px rgba(60, 64, 67, 0.3), 0px 1px 3px 1px rgba(60, 64, 67, 0.15);\n",
              "      fill: #174EA6;\n",
              "    }\n",
              "\n",
              "    [theme=dark] .colab-df-convert {\n",
              "      background-color: #3B4455;\n",
              "      fill: #D2E3FC;\n",
              "    }\n",
              "\n",
              "    [theme=dark] .colab-df-convert:hover {\n",
              "      background-color: #434B5C;\n",
              "      box-shadow: 0px 1px 3px 1px rgba(0, 0, 0, 0.15);\n",
              "      filter: drop-shadow(0px 1px 2px rgba(0, 0, 0, 0.3));\n",
              "      fill: #FFFFFF;\n",
              "    }\n",
              "  </style>\n",
              "\n",
              "      <script>\n",
              "        const buttonEl =\n",
              "          document.querySelector('#df-0bd1ad4e-0cdb-4fb8-9583-9420eb6efbd4 button.colab-df-convert');\n",
              "        buttonEl.style.display =\n",
              "          google.colab.kernel.accessAllowed ? 'block' : 'none';\n",
              "\n",
              "        async function convertToInteractive(key) {\n",
              "          const element = document.querySelector('#df-0bd1ad4e-0cdb-4fb8-9583-9420eb6efbd4');\n",
              "          const dataTable =\n",
              "            await google.colab.kernel.invokeFunction('convertToInteractive',\n",
              "                                                     [key], {});\n",
              "          if (!dataTable) return;\n",
              "\n",
              "          const docLinkHtml = 'Like what you see? Visit the ' +\n",
              "            '<a target=\"_blank\" href=https://colab.research.google.com/notebooks/data_table.ipynb>data table notebook</a>'\n",
              "            + ' to learn more about interactive tables.';\n",
              "          element.innerHTML = '';\n",
              "          dataTable['output_type'] = 'display_data';\n",
              "          await google.colab.output.renderOutput(dataTable, element);\n",
              "          const docLink = document.createElement('div');\n",
              "          docLink.innerHTML = docLinkHtml;\n",
              "          element.appendChild(docLink);\n",
              "        }\n",
              "      </script>\n",
              "    </div>\n",
              "  </div>\n",
              "  "
            ]
          },
          "metadata": {},
          "execution_count": 332
        }
      ],
      "source": [
        "# Transform data untuk memudahkan membaca dan menganalisa kolom dari data\n",
        "df.head(2).T"
      ]
    },
    {
      "cell_type": "markdown",
      "metadata": {
        "id": "rOh_AWN_y6eN"
      },
      "source": [
        "> Terlihat bahwa ada enam feature yang memiliki nilai numerik yaitu, Unnamed:0, Clothing ID, Age, Rating, Recommended IND, Positive Feedback Count, ada empat feature categorical yaitu, Review Text, Division Name, Department Name, Class Name, dan juga terdapat data NaN atau missing value yang terlihat pada feature Title"
      ]
    },
    {
      "cell_type": "code",
      "execution_count": 333,
      "metadata": {
        "id": "zuoW1ZJYKXjZ",
        "colab": {
          "base_uri": "https://localhost:8080/"
        },
        "outputId": "5d8e52d0-87b8-4125-9c65-3c9280368cd2"
      },
      "outputs": [
        {
          "output_type": "execute_result",
          "data": {
            "text/plain": [
              "Index(['Unnamed: 0', 'Clothing ID', 'Age', 'Title', 'Review Text', 'Rating',\n",
              "       'Recommended IND', 'Positive Feedback Count', 'Division Name',\n",
              "       'Department Name', 'Class Name'],\n",
              "      dtype='object')"
            ]
          },
          "metadata": {},
          "execution_count": 333
        }
      ],
      "source": [
        "df.columns"
      ]
    },
    {
      "cell_type": "code",
      "execution_count": 334,
      "metadata": {
        "id": "lD-Czu1qEFcM"
      },
      "outputs": [],
      "source": [
        "#Unnamed: 0 di drop karena informasinya sama dengan nomor index dan tidak digunakan fiturnya dalam analisa ini\n",
        "df.drop('Unnamed: 0',axis=1, inplace=True)"
      ]
    },
    {
      "cell_type": "code",
      "execution_count": 335,
      "metadata": {
        "id": "oRmEDHsN8Sw_",
        "colab": {
          "base_uri": "https://localhost:8080/"
        },
        "outputId": "782e195c-def5-4193-9e46-0d8fad28b978"
      },
      "outputs": [
        {
          "output_type": "stream",
          "name": "stdout",
          "text": [
            "<class 'pandas.core.frame.DataFrame'>\n",
            "RangeIndex: 23486 entries, 0 to 23485\n",
            "Data columns (total 10 columns):\n",
            " #   Column                   Non-Null Count  Dtype \n",
            "---  ------                   --------------  ----- \n",
            " 0   Clothing ID              23486 non-null  int64 \n",
            " 1   Age                      23486 non-null  int64 \n",
            " 2   Title                    19676 non-null  object\n",
            " 3   Review Text              22641 non-null  object\n",
            " 4   Rating                   23486 non-null  int64 \n",
            " 5   Recommended IND          23486 non-null  int64 \n",
            " 6   Positive Feedback Count  23486 non-null  int64 \n",
            " 7   Division Name            23472 non-null  object\n",
            " 8   Department Name          23472 non-null  object\n",
            " 9   Class Name               23472 non-null  object\n",
            "dtypes: int64(5), object(5)\n",
            "memory usage: 1.8+ MB\n"
          ]
        }
      ],
      "source": [
        "df.info()"
      ]
    },
    {
      "cell_type": "markdown",
      "metadata": {
        "id": "M0idUedPy6eO"
      },
      "source": [
        "> Terlihat bahwa title yang sebelumnya terlihat NaN memiliki tipe data Object dengan jumlah data yang ternyata tidak balance dengan yang lainnya, begitu juga division name, department name, dan class name"
      ]
    },
    {
      "cell_type": "code",
      "execution_count": 336,
      "metadata": {
        "id": "67ipTC07y6eP",
        "colab": {
          "base_uri": "https://localhost:8080/"
        },
        "outputId": "ad152ed0-578c-4924-fdfc-5ebdaddbfc23"
      },
      "outputs": [
        {
          "output_type": "execute_result",
          "data": {
            "text/plain": [
              "Clothing ID                   0\n",
              "Age                           0\n",
              "Title                      3810\n",
              "Review Text                 845\n",
              "Rating                        0\n",
              "Recommended IND               0\n",
              "Positive Feedback Count       0\n",
              "Division Name                14\n",
              "Department Name              14\n",
              "Class Name                   14\n",
              "dtype: int64"
            ]
          },
          "metadata": {},
          "execution_count": 336
        }
      ],
      "source": [
        "# Melihat missing value data\n",
        "df.isnull().sum()"
      ]
    },
    {
      "cell_type": "markdown",
      "metadata": {
        "id": "_lftFRnvy6eQ"
      },
      "source": [
        "> Terlihat bahwa pada title terdapat 3810 missing value, Review text 845 missing value, division name, department name dan class name, masing masing memiliki 14 missing value, namun tidak dilakukan handling missing value guna melihat originalitas data ketika exploratory data analyisis\n"
      ]
    },
    {
      "cell_type": "markdown",
      "metadata": {
        "id": "yF9W8MLaEFcO"
      },
      "source": [
        "> Sebelum selanjutnya melakukan analisa lebih lanjut agar lebih mudah, maka dilakukan perubahan nama pada kolom atau feature"
      ]
    },
    {
      "cell_type": "code",
      "execution_count": 337,
      "metadata": {
        "id": "OIPI5Qs7EFcP",
        "colab": {
          "base_uri": "https://localhost:8080/"
        },
        "outputId": "3453f46d-a3f3-4500-9825-efea3730b875"
      },
      "outputs": [
        {
          "output_type": "execute_result",
          "data": {
            "text/plain": [
              "Index(['Clothing ID', 'Age', 'Title', 'Review Text', 'Rating',\n",
              "       'Recommended IND', 'Positive Feedback Count', 'Division Name',\n",
              "       'Department Name', 'Class Name'],\n",
              "      dtype='object')"
            ]
          },
          "metadata": {},
          "execution_count": 337
        }
      ],
      "source": [
        "df.columns"
      ]
    },
    {
      "cell_type": "code",
      "execution_count": 338,
      "metadata": {
        "id": "XrVs6zmREFcQ"
      },
      "outputs": [],
      "source": [
        "df.rename(columns = {'Clothing ID' : 'clothing_id', 'Age' : 'age' , 'Title' : 'title', 'Review Text' : 'review_text', \n",
        "                     'Rating': 'rating', 'Recommended IND' : 'recommended', 'Positive Feedback Count' : 'feedback_count', \n",
        "                     'Division Name' : 'division', 'Department Name' : 'department', 'Class Name' :'class'}, inplace=True)"
      ]
    },
    {
      "cell_type": "code",
      "execution_count": 339,
      "metadata": {
        "id": "6R3XTfElEFcQ",
        "colab": {
          "base_uri": "https://localhost:8080/"
        },
        "outputId": "0eec25bd-1623-49d7-c9d9-a2a38a782975"
      },
      "outputs": [
        {
          "output_type": "execute_result",
          "data": {
            "text/plain": [
              "Index(['clothing_id', 'age', 'title', 'review_text', 'rating', 'recommended',\n",
              "       'feedback_count', 'division', 'department', 'class'],\n",
              "      dtype='object')"
            ]
          },
          "metadata": {},
          "execution_count": 339
        }
      ],
      "source": [
        "df.columns"
      ]
    },
    {
      "cell_type": "code",
      "execution_count": 340,
      "metadata": {
        "id": "34K3y2szEFcR",
        "colab": {
          "base_uri": "https://localhost:8080/",
          "height": 300
        },
        "outputId": "6494eab2-d164-4b2a-de69-506ce57c21b0"
      },
      "outputs": [
        {
          "output_type": "execute_result",
          "data": {
            "text/plain": [
              "        clothing_id           age        rating   recommended  feedback_count\n",
              "count  23486.000000  23486.000000  23486.000000  23486.000000    23486.000000\n",
              "mean     918.118709     43.198544      4.196032      0.822362        2.535936\n",
              "std      203.298980     12.279544      1.110031      0.382216        5.702202\n",
              "min        0.000000     18.000000      1.000000      0.000000        0.000000\n",
              "25%      861.000000     34.000000      4.000000      1.000000        0.000000\n",
              "50%      936.000000     41.000000      5.000000      1.000000        1.000000\n",
              "75%     1078.000000     52.000000      5.000000      1.000000        3.000000\n",
              "max     1205.000000     99.000000      5.000000      1.000000      122.000000"
            ],
            "text/html": [
              "\n",
              "  <div id=\"df-befd50d5-c071-42e9-9ef6-a1be24aa3ac6\">\n",
              "    <div class=\"colab-df-container\">\n",
              "      <div>\n",
              "<style scoped>\n",
              "    .dataframe tbody tr th:only-of-type {\n",
              "        vertical-align: middle;\n",
              "    }\n",
              "\n",
              "    .dataframe tbody tr th {\n",
              "        vertical-align: top;\n",
              "    }\n",
              "\n",
              "    .dataframe thead th {\n",
              "        text-align: right;\n",
              "    }\n",
              "</style>\n",
              "<table border=\"1\" class=\"dataframe\">\n",
              "  <thead>\n",
              "    <tr style=\"text-align: right;\">\n",
              "      <th></th>\n",
              "      <th>clothing_id</th>\n",
              "      <th>age</th>\n",
              "      <th>rating</th>\n",
              "      <th>recommended</th>\n",
              "      <th>feedback_count</th>\n",
              "    </tr>\n",
              "  </thead>\n",
              "  <tbody>\n",
              "    <tr>\n",
              "      <th>count</th>\n",
              "      <td>23486.000000</td>\n",
              "      <td>23486.000000</td>\n",
              "      <td>23486.000000</td>\n",
              "      <td>23486.000000</td>\n",
              "      <td>23486.000000</td>\n",
              "    </tr>\n",
              "    <tr>\n",
              "      <th>mean</th>\n",
              "      <td>918.118709</td>\n",
              "      <td>43.198544</td>\n",
              "      <td>4.196032</td>\n",
              "      <td>0.822362</td>\n",
              "      <td>2.535936</td>\n",
              "    </tr>\n",
              "    <tr>\n",
              "      <th>std</th>\n",
              "      <td>203.298980</td>\n",
              "      <td>12.279544</td>\n",
              "      <td>1.110031</td>\n",
              "      <td>0.382216</td>\n",
              "      <td>5.702202</td>\n",
              "    </tr>\n",
              "    <tr>\n",
              "      <th>min</th>\n",
              "      <td>0.000000</td>\n",
              "      <td>18.000000</td>\n",
              "      <td>1.000000</td>\n",
              "      <td>0.000000</td>\n",
              "      <td>0.000000</td>\n",
              "    </tr>\n",
              "    <tr>\n",
              "      <th>25%</th>\n",
              "      <td>861.000000</td>\n",
              "      <td>34.000000</td>\n",
              "      <td>4.000000</td>\n",
              "      <td>1.000000</td>\n",
              "      <td>0.000000</td>\n",
              "    </tr>\n",
              "    <tr>\n",
              "      <th>50%</th>\n",
              "      <td>936.000000</td>\n",
              "      <td>41.000000</td>\n",
              "      <td>5.000000</td>\n",
              "      <td>1.000000</td>\n",
              "      <td>1.000000</td>\n",
              "    </tr>\n",
              "    <tr>\n",
              "      <th>75%</th>\n",
              "      <td>1078.000000</td>\n",
              "      <td>52.000000</td>\n",
              "      <td>5.000000</td>\n",
              "      <td>1.000000</td>\n",
              "      <td>3.000000</td>\n",
              "    </tr>\n",
              "    <tr>\n",
              "      <th>max</th>\n",
              "      <td>1205.000000</td>\n",
              "      <td>99.000000</td>\n",
              "      <td>5.000000</td>\n",
              "      <td>1.000000</td>\n",
              "      <td>122.000000</td>\n",
              "    </tr>\n",
              "  </tbody>\n",
              "</table>\n",
              "</div>\n",
              "      <button class=\"colab-df-convert\" onclick=\"convertToInteractive('df-befd50d5-c071-42e9-9ef6-a1be24aa3ac6')\"\n",
              "              title=\"Convert this dataframe to an interactive table.\"\n",
              "              style=\"display:none;\">\n",
              "        \n",
              "  <svg xmlns=\"http://www.w3.org/2000/svg\" height=\"24px\"viewBox=\"0 0 24 24\"\n",
              "       width=\"24px\">\n",
              "    <path d=\"M0 0h24v24H0V0z\" fill=\"none\"/>\n",
              "    <path d=\"M18.56 5.44l.94 2.06.94-2.06 2.06-.94-2.06-.94-.94-2.06-.94 2.06-2.06.94zm-11 1L8.5 8.5l.94-2.06 2.06-.94-2.06-.94L8.5 2.5l-.94 2.06-2.06.94zm10 10l.94 2.06.94-2.06 2.06-.94-2.06-.94-.94-2.06-.94 2.06-2.06.94z\"/><path d=\"M17.41 7.96l-1.37-1.37c-.4-.4-.92-.59-1.43-.59-.52 0-1.04.2-1.43.59L10.3 9.45l-7.72 7.72c-.78.78-.78 2.05 0 2.83L4 21.41c.39.39.9.59 1.41.59.51 0 1.02-.2 1.41-.59l7.78-7.78 2.81-2.81c.8-.78.8-2.07 0-2.86zM5.41 20L4 18.59l7.72-7.72 1.47 1.35L5.41 20z\"/>\n",
              "  </svg>\n",
              "      </button>\n",
              "      \n",
              "  <style>\n",
              "    .colab-df-container {\n",
              "      display:flex;\n",
              "      flex-wrap:wrap;\n",
              "      gap: 12px;\n",
              "    }\n",
              "\n",
              "    .colab-df-convert {\n",
              "      background-color: #E8F0FE;\n",
              "      border: none;\n",
              "      border-radius: 50%;\n",
              "      cursor: pointer;\n",
              "      display: none;\n",
              "      fill: #1967D2;\n",
              "      height: 32px;\n",
              "      padding: 0 0 0 0;\n",
              "      width: 32px;\n",
              "    }\n",
              "\n",
              "    .colab-df-convert:hover {\n",
              "      background-color: #E2EBFA;\n",
              "      box-shadow: 0px 1px 2px rgba(60, 64, 67, 0.3), 0px 1px 3px 1px rgba(60, 64, 67, 0.15);\n",
              "      fill: #174EA6;\n",
              "    }\n",
              "\n",
              "    [theme=dark] .colab-df-convert {\n",
              "      background-color: #3B4455;\n",
              "      fill: #D2E3FC;\n",
              "    }\n",
              "\n",
              "    [theme=dark] .colab-df-convert:hover {\n",
              "      background-color: #434B5C;\n",
              "      box-shadow: 0px 1px 3px 1px rgba(0, 0, 0, 0.15);\n",
              "      filter: drop-shadow(0px 1px 2px rgba(0, 0, 0, 0.3));\n",
              "      fill: #FFFFFF;\n",
              "    }\n",
              "  </style>\n",
              "\n",
              "      <script>\n",
              "        const buttonEl =\n",
              "          document.querySelector('#df-befd50d5-c071-42e9-9ef6-a1be24aa3ac6 button.colab-df-convert');\n",
              "        buttonEl.style.display =\n",
              "          google.colab.kernel.accessAllowed ? 'block' : 'none';\n",
              "\n",
              "        async function convertToInteractive(key) {\n",
              "          const element = document.querySelector('#df-befd50d5-c071-42e9-9ef6-a1be24aa3ac6');\n",
              "          const dataTable =\n",
              "            await google.colab.kernel.invokeFunction('convertToInteractive',\n",
              "                                                     [key], {});\n",
              "          if (!dataTable) return;\n",
              "\n",
              "          const docLinkHtml = 'Like what you see? Visit the ' +\n",
              "            '<a target=\"_blank\" href=https://colab.research.google.com/notebooks/data_table.ipynb>data table notebook</a>'\n",
              "            + ' to learn more about interactive tables.';\n",
              "          element.innerHTML = '';\n",
              "          dataTable['output_type'] = 'display_data';\n",
              "          await google.colab.output.renderOutput(dataTable, element);\n",
              "          const docLink = document.createElement('div');\n",
              "          docLink.innerHTML = docLinkHtml;\n",
              "          element.appendChild(docLink);\n",
              "        }\n",
              "      </script>\n",
              "    </div>\n",
              "  </div>\n",
              "  "
            ]
          },
          "metadata": {},
          "execution_count": 340
        }
      ],
      "source": [
        "df.describe()"
      ]
    },
    {
      "cell_type": "markdown",
      "source": [
        "> Melihat deskripsi isi dari dataset, terlihat rata-rata yang memberikan review berada di umur 43 dengan rating rata-rata sebesar 4.19"
      ],
      "metadata": {
        "id": "24mp9OkyjhGh"
      }
    },
    {
      "cell_type": "code",
      "execution_count": 341,
      "metadata": {
        "id": "Z5ZMJyL5EFcR",
        "colab": {
          "base_uri": "https://localhost:8080/",
          "height": 175
        },
        "outputId": "0df54baa-21af-423c-e9dc-35faaaef3615"
      },
      "outputs": [
        {
          "output_type": "execute_result",
          "data": {
            "text/plain": [
              "           title                                        review_text division  \\\n",
              "count      19676                                              22641    23472   \n",
              "unique     13993                                              22634        3   \n",
              "top     Love it!  Perfect fit and i've gotten so many compliment...  General   \n",
              "freq         136                                                  3    13850   \n",
              "\n",
              "       department    class  \n",
              "count       23472    23472  \n",
              "unique          6       20  \n",
              "top          Tops  Dresses  \n",
              "freq        10468     6319  "
            ],
            "text/html": [
              "\n",
              "  <div id=\"df-b8ee8c55-13bd-4033-bfa5-0642dc73ab0f\">\n",
              "    <div class=\"colab-df-container\">\n",
              "      <div>\n",
              "<style scoped>\n",
              "    .dataframe tbody tr th:only-of-type {\n",
              "        vertical-align: middle;\n",
              "    }\n",
              "\n",
              "    .dataframe tbody tr th {\n",
              "        vertical-align: top;\n",
              "    }\n",
              "\n",
              "    .dataframe thead th {\n",
              "        text-align: right;\n",
              "    }\n",
              "</style>\n",
              "<table border=\"1\" class=\"dataframe\">\n",
              "  <thead>\n",
              "    <tr style=\"text-align: right;\">\n",
              "      <th></th>\n",
              "      <th>title</th>\n",
              "      <th>review_text</th>\n",
              "      <th>division</th>\n",
              "      <th>department</th>\n",
              "      <th>class</th>\n",
              "    </tr>\n",
              "  </thead>\n",
              "  <tbody>\n",
              "    <tr>\n",
              "      <th>count</th>\n",
              "      <td>19676</td>\n",
              "      <td>22641</td>\n",
              "      <td>23472</td>\n",
              "      <td>23472</td>\n",
              "      <td>23472</td>\n",
              "    </tr>\n",
              "    <tr>\n",
              "      <th>unique</th>\n",
              "      <td>13993</td>\n",
              "      <td>22634</td>\n",
              "      <td>3</td>\n",
              "      <td>6</td>\n",
              "      <td>20</td>\n",
              "    </tr>\n",
              "    <tr>\n",
              "      <th>top</th>\n",
              "      <td>Love it!</td>\n",
              "      <td>Perfect fit and i've gotten so many compliment...</td>\n",
              "      <td>General</td>\n",
              "      <td>Tops</td>\n",
              "      <td>Dresses</td>\n",
              "    </tr>\n",
              "    <tr>\n",
              "      <th>freq</th>\n",
              "      <td>136</td>\n",
              "      <td>3</td>\n",
              "      <td>13850</td>\n",
              "      <td>10468</td>\n",
              "      <td>6319</td>\n",
              "    </tr>\n",
              "  </tbody>\n",
              "</table>\n",
              "</div>\n",
              "      <button class=\"colab-df-convert\" onclick=\"convertToInteractive('df-b8ee8c55-13bd-4033-bfa5-0642dc73ab0f')\"\n",
              "              title=\"Convert this dataframe to an interactive table.\"\n",
              "              style=\"display:none;\">\n",
              "        \n",
              "  <svg xmlns=\"http://www.w3.org/2000/svg\" height=\"24px\"viewBox=\"0 0 24 24\"\n",
              "       width=\"24px\">\n",
              "    <path d=\"M0 0h24v24H0V0z\" fill=\"none\"/>\n",
              "    <path d=\"M18.56 5.44l.94 2.06.94-2.06 2.06-.94-2.06-.94-.94-2.06-.94 2.06-2.06.94zm-11 1L8.5 8.5l.94-2.06 2.06-.94-2.06-.94L8.5 2.5l-.94 2.06-2.06.94zm10 10l.94 2.06.94-2.06 2.06-.94-2.06-.94-.94-2.06-.94 2.06-2.06.94z\"/><path d=\"M17.41 7.96l-1.37-1.37c-.4-.4-.92-.59-1.43-.59-.52 0-1.04.2-1.43.59L10.3 9.45l-7.72 7.72c-.78.78-.78 2.05 0 2.83L4 21.41c.39.39.9.59 1.41.59.51 0 1.02-.2 1.41-.59l7.78-7.78 2.81-2.81c.8-.78.8-2.07 0-2.86zM5.41 20L4 18.59l7.72-7.72 1.47 1.35L5.41 20z\"/>\n",
              "  </svg>\n",
              "      </button>\n",
              "      \n",
              "  <style>\n",
              "    .colab-df-container {\n",
              "      display:flex;\n",
              "      flex-wrap:wrap;\n",
              "      gap: 12px;\n",
              "    }\n",
              "\n",
              "    .colab-df-convert {\n",
              "      background-color: #E8F0FE;\n",
              "      border: none;\n",
              "      border-radius: 50%;\n",
              "      cursor: pointer;\n",
              "      display: none;\n",
              "      fill: #1967D2;\n",
              "      height: 32px;\n",
              "      padding: 0 0 0 0;\n",
              "      width: 32px;\n",
              "    }\n",
              "\n",
              "    .colab-df-convert:hover {\n",
              "      background-color: #E2EBFA;\n",
              "      box-shadow: 0px 1px 2px rgba(60, 64, 67, 0.3), 0px 1px 3px 1px rgba(60, 64, 67, 0.15);\n",
              "      fill: #174EA6;\n",
              "    }\n",
              "\n",
              "    [theme=dark] .colab-df-convert {\n",
              "      background-color: #3B4455;\n",
              "      fill: #D2E3FC;\n",
              "    }\n",
              "\n",
              "    [theme=dark] .colab-df-convert:hover {\n",
              "      background-color: #434B5C;\n",
              "      box-shadow: 0px 1px 3px 1px rgba(0, 0, 0, 0.15);\n",
              "      filter: drop-shadow(0px 1px 2px rgba(0, 0, 0, 0.3));\n",
              "      fill: #FFFFFF;\n",
              "    }\n",
              "  </style>\n",
              "\n",
              "      <script>\n",
              "        const buttonEl =\n",
              "          document.querySelector('#df-b8ee8c55-13bd-4033-bfa5-0642dc73ab0f button.colab-df-convert');\n",
              "        buttonEl.style.display =\n",
              "          google.colab.kernel.accessAllowed ? 'block' : 'none';\n",
              "\n",
              "        async function convertToInteractive(key) {\n",
              "          const element = document.querySelector('#df-b8ee8c55-13bd-4033-bfa5-0642dc73ab0f');\n",
              "          const dataTable =\n",
              "            await google.colab.kernel.invokeFunction('convertToInteractive',\n",
              "                                                     [key], {});\n",
              "          if (!dataTable) return;\n",
              "\n",
              "          const docLinkHtml = 'Like what you see? Visit the ' +\n",
              "            '<a target=\"_blank\" href=https://colab.research.google.com/notebooks/data_table.ipynb>data table notebook</a>'\n",
              "            + ' to learn more about interactive tables.';\n",
              "          element.innerHTML = '';\n",
              "          dataTable['output_type'] = 'display_data';\n",
              "          await google.colab.output.renderOutput(dataTable, element);\n",
              "          const docLink = document.createElement('div');\n",
              "          docLink.innerHTML = docLinkHtml;\n",
              "          element.appendChild(docLink);\n",
              "        }\n",
              "      </script>\n",
              "    </div>\n",
              "  </div>\n",
              "  "
            ]
          },
          "metadata": {},
          "execution_count": 341
        }
      ],
      "source": [
        "df.describe(include=object)"
      ]
    },
    {
      "cell_type": "markdown",
      "source": [
        "> Terlihat class dresses dari sebanyak 20 class yang ada, pling banyak di berikan review yaitu sebanyak 6319 review"
      ],
      "metadata": {
        "id": "X8vhNNzWj4KN"
      }
    },
    {
      "cell_type": "code",
      "execution_count": 342,
      "metadata": {
        "id": "GkOmMB3xEFcR",
        "colab": {
          "base_uri": "https://localhost:8080/"
        },
        "outputId": "29a2929e-c055-4e03-a69c-7491bc30e91f"
      },
      "outputs": [
        {
          "output_type": "stream",
          "name": "stdout",
          "text": [
            "clothing_id unique:  [ 767 1080 1077 ...  181  721  522] \n",
            "\n",
            "age unique:  [33 34 60 50 47 49 39 24 53 44 41 32 55 31 28 46 21 36 65 29 38 59 40 23\n",
            " 67 48 43 52 56 66 61 57 58 37 27 62 68 51 83 69 54 63 71 30 35 64 42 22\n",
            " 26 72 25 45 74 70 20 80 93 82 77 85 73 78 79 19 76 84 75 89 81 90 94 86\n",
            " 99 18 91 87 92] \n",
            "\n",
            "title unique:  [nan 'Some major design flaws' 'My favorite buy!' ...\n",
            " 'Cute, but see through'\n",
            " 'Very cute dress, perfect for summer parties and we'\n",
            " 'Please make more like this one!'] \n",
            "\n",
            "review_text unique:  ['Absolutely wonderful - silky and sexy and comfortable'\n",
            " 'Love this dress!  it\\'s sooo pretty.  i happened to find it in a store, and i\\'m glad i did bc i never would have ordered it online bc it\\'s petite.  i bought a petite and am 5\\'8\".  i love the length on me- hits just a little below the knee.  would definitely be a true midi on someone who is truly petite.'\n",
            " 'I had such high hopes for this dress and really wanted it to work for me. i initially ordered the petite small (my usual size) but i found this to be outrageously small. so small in fact that i could not zip it up! i reordered it in petite medium, which was just ok. overall, the top half was comfortable and fit nicely, but the bottom half had a very tight under layer and several somewhat cheap (net) over layers. imo, a major design flaw was the net over layer sewn directly into the zipper - it c'\n",
            " ...\n",
            " \"This fit well, but the top was very see through. this never would have worked for me. i'm glad i was able to try it on in the store and didn't order it online. with different fabric, it would have been great.\"\n",
            " \"I bought this dress for a wedding i have this summer, and it's so cute. unfortunately the fit isn't perfect. the medium fits my waist perfectly, but was way too long and too big in the bust and shoulders. if i wanted to spend the money, i could get it tailored, but i just felt like it might not be worth it. side note - this dress was delivered to me with a nordstrom tag on it and i found it much cheaper there after looking!\"\n",
            " 'This dress in a lovely platinum is feminine and fits perfectly, easy to wear and comfy, too! highly recommend!'] \n",
            "\n",
            "rating unique:  [4 5 3 2 1] \n",
            "\n",
            "recommended unique:  [1 0] \n",
            "\n",
            "feedback_count unique:  [  0   4   6   1  14   2   3   7   5   9  34  10  17  11  24  12   8  13\n",
            "  20  16  23  15  19  29  32  30  55  84  27  43  21  42  37  71  35  65\n",
            " 117  33  18  25  47  22  51  94  31  77  61  46  26  28  36  57  45  66\n",
            "  82  44  81  58  78  38  49  52 122  41 108  54  40  53  87  64  89  68\n",
            "  56  98  95  39  93  48  99  50  69  59] \n",
            "\n",
            "division unique:  ['Initmates' 'General' 'General Petite' nan] \n",
            "\n",
            "department unique:  ['Intimate' 'Dresses' 'Bottoms' 'Tops' 'Jackets' 'Trend' nan] \n",
            "\n",
            "class unique:  ['Intimates' 'Dresses' 'Pants' 'Blouses' 'Knits' 'Outerwear' 'Lounge'\n",
            " 'Sweaters' 'Skirts' 'Fine gauge' 'Sleep' 'Jackets' 'Swim' 'Trend' 'Jeans'\n",
            " 'Legwear' 'Shorts' 'Layering' 'Casual bottoms' nan 'Chemises'] \n",
            "\n"
          ]
        }
      ],
      "source": [
        "# Melihat unique value dari dataset\n",
        "\n",
        "for i in df.columns:\n",
        "    print(i, 'unique: ', df[i].unique(),'\\n')"
      ]
    },
    {
      "cell_type": "markdown",
      "metadata": {
        "id": "akFA9KqwEFcS"
      },
      "source": [
        "> Terlihat pada fitur division terdapat typo Initmates yang seharusnya Intimates, selanjutnya akan kita lakukan replacement"
      ]
    },
    {
      "cell_type": "code",
      "execution_count": 343,
      "metadata": {
        "id": "lZGFYuXmEFcS"
      },
      "outputs": [],
      "source": [
        "# Merubah Initmates menjadi Intimates\n",
        "df = df.replace({'Initmates' : 'Intimates'})"
      ]
    },
    {
      "cell_type": "code",
      "execution_count": 344,
      "metadata": {
        "id": "qttB0cqgEFcS",
        "colab": {
          "base_uri": "https://localhost:8080/"
        },
        "outputId": "43610a35-07db-492a-c2b5-e97dfbd5c126"
      },
      "outputs": [
        {
          "output_type": "execute_result",
          "data": {
            "text/plain": [
              "General           13850\n",
              "General Petite     8120\n",
              "Intimates          1502\n",
              "Name: division, dtype: int64"
            ]
          },
          "metadata": {},
          "execution_count": 344
        }
      ],
      "source": [
        "df['division'].value_counts()"
      ]
    },
    {
      "cell_type": "markdown",
      "metadata": {
        "id": "Luz0oqwAEFcT"
      },
      "source": [
        "> Value sudah berubah menjadi Intimates"
      ]
    },
    {
      "cell_type": "code",
      "execution_count": 345,
      "metadata": {
        "id": "butyWALXEFcT",
        "colab": {
          "base_uri": "https://localhost:8080/"
        },
        "outputId": "7a4c1dc6-941b-427e-cfc2-31439178042d"
      },
      "outputs": [
        {
          "output_type": "execute_result",
          "data": {
            "text/plain": [
              "Index(['clothing_id', 'age', 'title', 'review_text', 'rating', 'recommended',\n",
              "       'feedback_count', 'division', 'department', 'class'],\n",
              "      dtype='object')"
            ]
          },
          "metadata": {},
          "execution_count": 345
        }
      ],
      "source": [
        "df.columns"
      ]
    },
    {
      "cell_type": "markdown",
      "metadata": {
        "id": "sMRp9iS-7MKv"
      },
      "source": [
        "## 4 - Exploratory Data Analysis (EDA)"
      ]
    },
    {
      "cell_type": "markdown",
      "metadata": {
        "id": "u-eISBSVy6eS"
      },
      "source": [
        "### Chart Jumlah Produk Recommended dan Not Recommended"
      ]
    },
    {
      "cell_type": "code",
      "execution_count": 346,
      "metadata": {
        "id": "8fl4qfV8EFcY",
        "colab": {
          "base_uri": "https://localhost:8080/",
          "height": 575
        },
        "outputId": "e5c5b8d3-8311-41ea-ec60-55fb991d070a"
      },
      "outputs": [
        {
          "output_type": "display_data",
          "data": {
            "text/plain": [
              "<Figure size 1440x720 with 1 Axes>"
            ],
            "image/png": "[encoded data removed]"
          },
          "metadata": {}
        }
      ],
      "source": [
        "plt.figure(figsize=(20,10))\n",
        "df['recommended'].value_counts().plot(y=\"recommended\", kind=\"pie\", autopct='%1.1f%%' )\n",
        "plt.show()"
      ]
    },
    {
      "cell_type": "markdown",
      "metadata": {
        "id": "yNsQBlqoEFcZ"
      },
      "source": [
        "> Terlihat bahwa data atau product not recomended sebesar 17.8% dan product recommended sebesar 82.2%"
      ]
    },
    {
      "cell_type": "markdown",
      "metadata": {
        "id": "tph05R9GEFcZ"
      },
      "source": [
        "### Korelasi Class, Rating dan Recommendation"
      ]
    },
    {
      "cell_type": "code",
      "execution_count": 347,
      "metadata": {
        "id": "srvtvUpoEFcZ",
        "colab": {
          "base_uri": "https://localhost:8080/",
          "height": 479
        },
        "outputId": "88ef798a-4d47-46bd-d51a-0e1d7f765308"
      },
      "outputs": [
        {
          "output_type": "display_data",
          "data": {
            "text/plain": [
              "<Figure size 1800x720 with 1 Axes>"
            ],
            "image/png": "[encoded data removed]"
          },
          "metadata": {
            "needs_background": "light"
          }
        }
      ],
      "source": [
        "plt.figure(figsize=(25,10))\n",
        "sns.barplot(x='class', y='rating', hue='recommended', data=df)\n",
        "plt.show()"
      ]
    },
    {
      "cell_type": "markdown",
      "metadata": {
        "id": "iVkkw0dHEFcZ"
      },
      "source": [
        "> Terlihat bahwa seluruh class produk yang menjadi rekomendasi berada di rating 4 ke atas, sedangkan yang tidak menjadi rekomendasi berada di rating 3 ke bawah, casual bottoms dan chemises tidak ada yang tidak direkomendasikan"
      ]
    },
    {
      "cell_type": "markdown",
      "metadata": {
        "id": "gOENpohJEFca"
      },
      "source": [
        "### Korelasi Class, Feedback_count dan Recommendation"
      ]
    },
    {
      "cell_type": "code",
      "execution_count": 348,
      "metadata": {
        "id": "YOGRfWjbEFca",
        "colab": {
          "base_uri": "https://localhost:8080/",
          "height": 479
        },
        "outputId": "831b0634-2ed3-416b-a7ca-cdd7c64ac242"
      },
      "outputs": [
        {
          "output_type": "display_data",
          "data": {
            "text/plain": [
              "<Figure size 1800x720 with 1 Axes>"
            ],
            "image/png": "[encoded data removed]"
          },
          "metadata": {
            "needs_background": "light"
          }
        }
      ],
      "source": [
        "plt.figure(figsize=(25,10))\n",
        "sns.barplot(x='class', y='feedback_count', hue='recommended', data=df)\n",
        "plt.show()\n"
      ]
    },
    {
      "cell_type": "markdown",
      "metadata": {
        "id": "B04EltK4EFca"
      },
      "source": [
        "> Terlihat dari semua class produk bahwa user lebih banyak memberikan feedback ketika produk tidak rekomended, yang paling banyak mendapat feedback tidak recommended adalah jackets kemudian Trend"
      ]
    },
    {
      "cell_type": "markdown",
      "metadata": {
        "id": "eJMEIraDy6eU"
      },
      "source": [
        "### Distribusi Age dan Feedback_Count"
      ]
    },
    {
      "cell_type": "code",
      "execution_count": 349,
      "metadata": {
        "id": "I4nX4XKly6eU",
        "colab": {
          "base_uri": "https://localhost:8080/",
          "height": 338
        },
        "outputId": "26c86ebd-4b4a-4868-983e-d85684cd15e4"
      },
      "outputs": [
        {
          "output_type": "execute_result",
          "data": {
            "text/plain": [
              "<matplotlib.legend.Legend at 0x7efb09daa510>"
            ]
          },
          "metadata": {},
          "execution_count": 349
        },
        {
          "output_type": "display_data",
          "data": {
            "text/plain": [
              "<Figure size 1440x360 with 2 Axes>"
            ],
            "image/png": "[encoded data removed]"
          },
          "metadata": {
            "needs_background": "light"
          }
        }
      ],
      "source": [
        "plt.figure(figsize=(20,5))\n",
        "plt.subplot(1, 2, 1)\n",
        "sns.distplot(df.age[df.recommended==0], bins=(15, 30, 45, 60, 75, 90, 105), color=\"r\", label=\"not_recommended\")\n",
        "sns.distplot(df.age[df.recommended==1], bins=(15, 30, 45, 60, 75, 90, 105), color=\"g\", label=\"recommended\")\n",
        "plt.legend()\n",
        "plt.subplot(1, 2, 2)\n",
        "sns.distplot(df.feedback_count[df.recommended==0], bins=(0, 20, 40, 60, 80, 100, 120, 140), color=\"r\", label=\"not_recommended\")\n",
        "sns.distplot(df.feedback_count[df.recommended==1], bins=(0, 20, 40, 60, 80, 100, 120, 140), color=\"g\", label=\"recommended\")\n",
        "plt.legend()"
      ]
    },
    {
      "cell_type": "markdown",
      "metadata": {
        "id": "er7Nxmmry6eV"
      },
      "source": [
        "> Pada chart pertama terlihat bahwa pelanggan dengan umur sekitar 30-50 lebih banyak memberikan produk not recommended, dan umur sekitar 50-70 lebih banyak memberikan produk recommended"
      ]
    },
    {
      "cell_type": "markdown",
      "metadata": {
        "id": "KkMKHeGMy6eV"
      },
      "source": [
        "### Korelasi antara Rating, Division, Department, Class dengan Recommendation"
      ]
    },
    {
      "cell_type": "code",
      "execution_count": 350,
      "metadata": {
        "id": "qqGt-36ky6eV",
        "colab": {
          "base_uri": "https://localhost:8080/",
          "height": 577
        },
        "outputId": "789ba7fd-9948-4369-a466-3d70def7bc4b"
      },
      "outputs": [
        {
          "output_type": "display_data",
          "data": {
            "text/plain": [
              "<Figure size 2880x1440 with 4 Axes>"
            ],
            "image/png": "[encoded data removed]"
          },
          "metadata": {
            "needs_background": "light"
          }
        }
      ],
      "source": [
        "cat_var = ['rating', 'division', 'department', 'class']\n",
        "fig, axes = plt.subplots(2, 2, figsize=(40, 20))\n",
        "for cat, ax in zip(cat_var, axes.flatten()):\n",
        "    a = sns.countplot(cat, data=df, hue=\"recommended\", ax=ax)\n",
        "    a.set_xlabel(cat,fontsize=30)\n",
        "    a.set_ylabel(\"count\",fontsize=30)"
      ]
    },
    {
      "cell_type": "markdown",
      "metadata": {
        "id": "1Jz10indEFcb"
      },
      "source": [
        "> Pada chart hubungan rating dengan rekomendasi terlihat bahwa rekomendasi diberikan ketika rating 4 dan 5 sedikit adanya rekomendasi ketika rating 3"
      ]
    },
    {
      "cell_type": "markdown",
      "metadata": {
        "id": "m2mnnA2PEFcb"
      },
      "source": [
        "> Pada chart hubungan Division dengan rekomendasi, paling banyak rekomendasi diberikan di divisi General"
      ]
    },
    {
      "cell_type": "markdown",
      "metadata": {
        "id": "Al-uSgC4EFcc"
      },
      "source": [
        "> Pada chart hubungan Department dengan rekomendasi terlihat bahwa Top memiliki paling banyak rekomendasi, dan yang kedua paling banyak adalah Dress"
      ]
    },
    {
      "cell_type": "markdown",
      "metadata": {
        "id": "MILWqlnlEFcc"
      },
      "source": [
        "> Pada chart hubungan Produk Class dengan rekomendasi terlihat bahwa Dress memiliki rekomendasi paling banyak, dan yang kedua paling banyak adalah Knits"
      ]
    },
    {
      "cell_type": "markdown",
      "metadata": {
        "id": "yjng144wy6eX"
      },
      "source": [
        "### Korelasi setiap feature dengan Heatmap"
      ]
    },
    {
      "cell_type": "code",
      "execution_count": 351,
      "metadata": {
        "id": "YxGZ0Y9my6eX",
        "colab": {
          "base_uri": "https://localhost:8080/",
          "height": 705
        },
        "outputId": "3a0be9a6-f8ac-47f4-c185-24e62ff0609c"
      },
      "outputs": [
        {
          "output_type": "display_data",
          "data": {
            "text/plain": [
              "<Figure size 864x864 with 2 Axes>"
            ],
            "image/png": "[encoded data removed]"
          },
          "metadata": {
            "needs_background": "light"
          }
        }
      ],
      "source": [
        "# Melihat hubungan antara tiap fitur menggunakan heatmap\n",
        "plt.figure(figsize=(12,12))\n",
        "sns.heatmap(df.corr(), annot=True)\n",
        "plt.show()"
      ]
    },
    {
      "cell_type": "markdown",
      "metadata": {
        "id": "sStPOiyKEFcc"
      },
      "source": [
        "> Terlihat bahwa yang memiliki nilai korelasi atau hubungan paling besar adalah recommended dengan rating"
      ]
    },
    {
      "cell_type": "markdown",
      "metadata": {
        "id": "-rClKLIo7SCd"
      },
      "source": [
        "## 5 - Data Preprocessing"
      ]
    },
    {
      "cell_type": "markdown",
      "metadata": {
        "id": "iZevSgjz7Vzy"
      },
      "source": [
        "### Get Data for Model Inference"
      ]
    },
    {
      "cell_type": "code",
      "execution_count": 352,
      "metadata": {
        "id": "4OqLky887GEB",
        "colab": {
          "base_uri": "https://localhost:8080/",
          "height": 191
        },
        "outputId": "74b7f9ec-b5d7-4ab3-cc5c-a1139b3211fa"
      },
      "outputs": [
        {
          "output_type": "execute_result",
          "data": {
            "text/plain": [
              "      clothing_id  age              title  \\\n",
              "1297         1095   34   Size up if busty   \n",
              "7228          903   57  Snap front hoodie   \n",
              "\n",
              "                                            review_text  rating  recommended  \\\n",
              "1297  I agree with the other reviewer that the color...       4            1   \n",
              "7228  I have many sweaters but i bought this during ...       4            1   \n",
              "\n",
              "      feedback_count        division department       class  \n",
              "1297              19         General    Dresses     Dresses  \n",
              "7228               0  General Petite       Tops  Fine gauge  "
            ],
            "text/html": [
              "\n",
              "  <div id=\"df-e070477a-6e2d-4160-845d-d23e5b7667f2\">\n",
              "    <div class=\"colab-df-container\">\n",
              "      <div>\n",
              "<style scoped>\n",
              "    .dataframe tbody tr th:only-of-type {\n",
              "        vertical-align: middle;\n",
              "    }\n",
              "\n",
              "    .dataframe tbody tr th {\n",
              "        vertical-align: top;\n",
              "    }\n",
              "\n",
              "    .dataframe thead th {\n",
              "        text-align: right;\n",
              "    }\n",
              "</style>\n",
              "<table border=\"1\" class=\"dataframe\">\n",
              "  <thead>\n",
              "    <tr style=\"text-align: right;\">\n",
              "      <th></th>\n",
              "      <th>clothing_id</th>\n",
              "      <th>age</th>\n",
              "      <th>title</th>\n",
              "      <th>review_text</th>\n",
              "      <th>rating</th>\n",
              "      <th>recommended</th>\n",
              "      <th>feedback_count</th>\n",
              "      <th>division</th>\n",
              "      <th>department</th>\n",
              "      <th>class</th>\n",
              "    </tr>\n",
              "  </thead>\n",
              "  <tbody>\n",
              "    <tr>\n",
              "      <th>1297</th>\n",
              "      <td>1095</td>\n",
              "      <td>34</td>\n",
              "      <td>Size up if busty</td>\n",
              "      <td>I agree with the other reviewer that the color...</td>\n",
              "      <td>4</td>\n",
              "      <td>1</td>\n",
              "      <td>19</td>\n",
              "      <td>General</td>\n",
              "      <td>Dresses</td>\n",
              "      <td>Dresses</td>\n",
              "    </tr>\n",
              "    <tr>\n",
              "      <th>7228</th>\n",
              "      <td>903</td>\n",
              "      <td>57</td>\n",
              "      <td>Snap front hoodie</td>\n",
              "      <td>I have many sweaters but i bought this during ...</td>\n",
              "      <td>4</td>\n",
              "      <td>1</td>\n",
              "      <td>0</td>\n",
              "      <td>General Petite</td>\n",
              "      <td>Tops</td>\n",
              "      <td>Fine gauge</td>\n",
              "    </tr>\n",
              "  </tbody>\n",
              "</table>\n",
              "</div>\n",
              "      <button class=\"colab-df-convert\" onclick=\"convertToInteractive('df-e070477a-6e2d-4160-845d-d23e5b7667f2')\"\n",
              "              title=\"Convert this dataframe to an interactive table.\"\n",
              "              style=\"display:none;\">\n",
              "        \n",
              "  <svg xmlns=\"http://www.w3.org/2000/svg\" height=\"24px\"viewBox=\"0 0 24 24\"\n",
              "       width=\"24px\">\n",
              "    <path d=\"M0 0h24v24H0V0z\" fill=\"none\"/>\n",
              "    <path d=\"M18.56 5.44l.94 2.06.94-2.06 2.06-.94-2.06-.94-.94-2.06-.94 2.06-2.06.94zm-11 1L8.5 8.5l.94-2.06 2.06-.94-2.06-.94L8.5 2.5l-.94 2.06-2.06.94zm10 10l.94 2.06.94-2.06 2.06-.94-2.06-.94-.94-2.06-.94 2.06-2.06.94z\"/><path d=\"M17.41 7.96l-1.37-1.37c-.4-.4-.92-.59-1.43-.59-.52 0-1.04.2-1.43.59L10.3 9.45l-7.72 7.72c-.78.78-.78 2.05 0 2.83L4 21.41c.39.39.9.59 1.41.59.51 0 1.02-.2 1.41-.59l7.78-7.78 2.81-2.81c.8-.78.8-2.07 0-2.86zM5.41 20L4 18.59l7.72-7.72 1.47 1.35L5.41 20z\"/>\n",
              "  </svg>\n",
              "      </button>\n",
              "      \n",
              "  <style>\n",
              "    .colab-df-container {\n",
              "      display:flex;\n",
              "      flex-wrap:wrap;\n",
              "      gap: 12px;\n",
              "    }\n",
              "\n",
              "    .colab-df-convert {\n",
              "      background-color: #E8F0FE;\n",
              "      border: none;\n",
              "      border-radius: 50%;\n",
              "      cursor: pointer;\n",
              "      display: none;\n",
              "      fill: #1967D2;\n",
              "      height: 32px;\n",
              "      padding: 0 0 0 0;\n",
              "      width: 32px;\n",
              "    }\n",
              "\n",
              "    .colab-df-convert:hover {\n",
              "      background-color: #E2EBFA;\n",
              "      box-shadow: 0px 1px 2px rgba(60, 64, 67, 0.3), 0px 1px 3px 1px rgba(60, 64, 67, 0.15);\n",
              "      fill: #174EA6;\n",
              "    }\n",
              "\n",
              "    [theme=dark] .colab-df-convert {\n",
              "      background-color: #3B4455;\n",
              "      fill: #D2E3FC;\n",
              "    }\n",
              "\n",
              "    [theme=dark] .colab-df-convert:hover {\n",
              "      background-color: #434B5C;\n",
              "      box-shadow: 0px 1px 3px 1px rgba(0, 0, 0, 0.15);\n",
              "      filter: drop-shadow(0px 1px 2px rgba(0, 0, 0, 0.3));\n",
              "      fill: #FFFFFF;\n",
              "    }\n",
              "  </style>\n",
              "\n",
              "      <script>\n",
              "        const buttonEl =\n",
              "          document.querySelector('#df-e070477a-6e2d-4160-845d-d23e5b7667f2 button.colab-df-convert');\n",
              "        buttonEl.style.display =\n",
              "          google.colab.kernel.accessAllowed ? 'block' : 'none';\n",
              "\n",
              "        async function convertToInteractive(key) {\n",
              "          const element = document.querySelector('#df-e070477a-6e2d-4160-845d-d23e5b7667f2');\n",
              "          const dataTable =\n",
              "            await google.colab.kernel.invokeFunction('convertToInteractive',\n",
              "                                                     [key], {});\n",
              "          if (!dataTable) return;\n",
              "\n",
              "          const docLinkHtml = 'Like what you see? Visit the ' +\n",
              "            '<a target=\"_blank\" href=https://colab.research.google.com/notebooks/data_table.ipynb>data table notebook</a>'\n",
              "            + ' to learn more about interactive tables.';\n",
              "          element.innerHTML = '';\n",
              "          dataTable['output_type'] = 'display_data';\n",
              "          await google.colab.output.renderOutput(dataTable, element);\n",
              "          const docLink = document.createElement('div');\n",
              "          docLink.innerHTML = docLinkHtml;\n",
              "          element.appendChild(docLink);\n",
              "        }\n",
              "      </script>\n",
              "    </div>\n",
              "  </div>\n",
              "  "
            ]
          },
          "metadata": {},
          "execution_count": 352
        }
      ],
      "source": [
        "# Membuat data untuk model inference\n",
        "df_inf = df.sample(10, random_state=42)\n",
        "df_inf.head(2)"
      ]
    },
    {
      "cell_type": "code",
      "execution_count": 353,
      "metadata": {
        "id": "awBJZLKE7bTx",
        "colab": {
          "base_uri": "https://localhost:8080/",
          "height": 112
        },
        "outputId": "dc4b23b4-469d-4412-f6a9-fa9900827668"
      },
      "outputs": [
        {
          "output_type": "execute_result",
          "data": {
            "text/plain": [
              "   clothing_id  age title                                        review_text  \\\n",
              "0          767   33   NaN  Absolutely wonderful - silky and sexy and comf...   \n",
              "1         1080   34   NaN  Love this dress!  it's sooo pretty.  i happene...   \n",
              "\n",
              "   rating  recommended  feedback_count   division department      class  \n",
              "0       4            1               0  Intimates   Intimate  Intimates  \n",
              "1       5            1               4    General    Dresses    Dresses  "
            ],
            "text/html": [
              "\n",
              "  <div id=\"df-2880290d-dd9b-4db4-8c49-2845d17f9fc3\">\n",
              "    <div class=\"colab-df-container\">\n",
              "      <div>\n",
              "<style scoped>\n",
              "    .dataframe tbody tr th:only-of-type {\n",
              "        vertical-align: middle;\n",
              "    }\n",
              "\n",
              "    .dataframe tbody tr th {\n",
              "        vertical-align: top;\n",
              "    }\n",
              "\n",
              "    .dataframe thead th {\n",
              "        text-align: right;\n",
              "    }\n",
              "</style>\n",
              "<table border=\"1\" class=\"dataframe\">\n",
              "  <thead>\n",
              "    <tr style=\"text-align: right;\">\n",
              "      <th></th>\n",
              "      <th>clothing_id</th>\n",
              "      <th>age</th>\n",
              "      <th>title</th>\n",
              "      <th>review_text</th>\n",
              "      <th>rating</th>\n",
              "      <th>recommended</th>\n",
              "      <th>feedback_count</th>\n",
              "      <th>division</th>\n",
              "      <th>department</th>\n",
              "      <th>class</th>\n",
              "    </tr>\n",
              "  </thead>\n",
              "  <tbody>\n",
              "    <tr>\n",
              "      <th>0</th>\n",
              "      <td>767</td>\n",
              "      <td>33</td>\n",
              "      <td>NaN</td>\n",
              "      <td>Absolutely wonderful - silky and sexy and comf...</td>\n",
              "      <td>4</td>\n",
              "      <td>1</td>\n",
              "      <td>0</td>\n",
              "      <td>Intimates</td>\n",
              "      <td>Intimate</td>\n",
              "      <td>Intimates</td>\n",
              "    </tr>\n",
              "    <tr>\n",
              "      <th>1</th>\n",
              "      <td>1080</td>\n",
              "      <td>34</td>\n",
              "      <td>NaN</td>\n",
              "      <td>Love this dress!  it's sooo pretty.  i happene...</td>\n",
              "      <td>5</td>\n",
              "      <td>1</td>\n",
              "      <td>4</td>\n",
              "      <td>General</td>\n",
              "      <td>Dresses</td>\n",
              "      <td>Dresses</td>\n",
              "    </tr>\n",
              "  </tbody>\n",
              "</table>\n",
              "</div>\n",
              "      <button class=\"colab-df-convert\" onclick=\"convertToInteractive('df-2880290d-dd9b-4db4-8c49-2845d17f9fc3')\"\n",
              "              title=\"Convert this dataframe to an interactive table.\"\n",
              "              style=\"display:none;\">\n",
              "        \n",
              "  <svg xmlns=\"http://www.w3.org/2000/svg\" height=\"24px\"viewBox=\"0 0 24 24\"\n",
              "       width=\"24px\">\n",
              "    <path d=\"M0 0h24v24H0V0z\" fill=\"none\"/>\n",
              "    <path d=\"M18.56 5.44l.94 2.06.94-2.06 2.06-.94-2.06-.94-.94-2.06-.94 2.06-2.06.94zm-11 1L8.5 8.5l.94-2.06 2.06-.94-2.06-.94L8.5 2.5l-.94 2.06-2.06.94zm10 10l.94 2.06.94-2.06 2.06-.94-2.06-.94-.94-2.06-.94 2.06-2.06.94z\"/><path d=\"M17.41 7.96l-1.37-1.37c-.4-.4-.92-.59-1.43-.59-.52 0-1.04.2-1.43.59L10.3 9.45l-7.72 7.72c-.78.78-.78 2.05 0 2.83L4 21.41c.39.39.9.59 1.41.59.51 0 1.02-.2 1.41-.59l7.78-7.78 2.81-2.81c.8-.78.8-2.07 0-2.86zM5.41 20L4 18.59l7.72-7.72 1.47 1.35L5.41 20z\"/>\n",
              "  </svg>\n",
              "      </button>\n",
              "      \n",
              "  <style>\n",
              "    .colab-df-container {\n",
              "      display:flex;\n",
              "      flex-wrap:wrap;\n",
              "      gap: 12px;\n",
              "    }\n",
              "\n",
              "    .colab-df-convert {\n",
              "      background-color: #E8F0FE;\n",
              "      border: none;\n",
              "      border-radius: 50%;\n",
              "      cursor: pointer;\n",
              "      display: none;\n",
              "      fill: #1967D2;\n",
              "      height: 32px;\n",
              "      padding: 0 0 0 0;\n",
              "      width: 32px;\n",
              "    }\n",
              "\n",
              "    .colab-df-convert:hover {\n",
              "      background-color: #E2EBFA;\n",
              "      box-shadow: 0px 1px 2px rgba(60, 64, 67, 0.3), 0px 1px 3px 1px rgba(60, 64, 67, 0.15);\n",
              "      fill: #174EA6;\n",
              "    }\n",
              "\n",
              "    [theme=dark] .colab-df-convert {\n",
              "      background-color: #3B4455;\n",
              "      fill: #D2E3FC;\n",
              "    }\n",
              "\n",
              "    [theme=dark] .colab-df-convert:hover {\n",
              "      background-color: #434B5C;\n",
              "      box-shadow: 0px 1px 3px 1px rgba(0, 0, 0, 0.15);\n",
              "      filter: drop-shadow(0px 1px 2px rgba(0, 0, 0, 0.3));\n",
              "      fill: #FFFFFF;\n",
              "    }\n",
              "  </style>\n",
              "\n",
              "      <script>\n",
              "        const buttonEl =\n",
              "          document.querySelector('#df-2880290d-dd9b-4db4-8c49-2845d17f9fc3 button.colab-df-convert');\n",
              "        buttonEl.style.display =\n",
              "          google.colab.kernel.accessAllowed ? 'block' : 'none';\n",
              "\n",
              "        async function convertToInteractive(key) {\n",
              "          const element = document.querySelector('#df-2880290d-dd9b-4db4-8c49-2845d17f9fc3');\n",
              "          const dataTable =\n",
              "            await google.colab.kernel.invokeFunction('convertToInteractive',\n",
              "                                                     [key], {});\n",
              "          if (!dataTable) return;\n",
              "\n",
              "          const docLinkHtml = 'Like what you see? Visit the ' +\n",
              "            '<a target=\"_blank\" href=https://colab.research.google.com/notebooks/data_table.ipynb>data table notebook</a>'\n",
              "            + ' to learn more about interactive tables.';\n",
              "          element.innerHTML = '';\n",
              "          dataTable['output_type'] = 'display_data';\n",
              "          await google.colab.output.renderOutput(dataTable, element);\n",
              "          const docLink = document.createElement('div');\n",
              "          docLink.innerHTML = docLinkHtml;\n",
              "          element.appendChild(docLink);\n",
              "        }\n",
              "      </script>\n",
              "    </div>\n",
              "  </div>\n",
              "  "
            ]
          },
          "metadata": {},
          "execution_count": 353
        }
      ],
      "source": [
        "# Remove Inference-Set from Dataset\n",
        "df_train_test =df.drop(df_inf.index)\n",
        "df_train_test.head(2)"
      ]
    },
    {
      "cell_type": "code",
      "execution_count": 354,
      "metadata": {
        "id": "kHfkh2EF7pW-",
        "colab": {
          "base_uri": "https://localhost:8080/",
          "height": 191
        },
        "outputId": "b128f508-7ea6-4720-951b-645a2c924229"
      },
      "outputs": [
        {
          "output_type": "execute_result",
          "data": {
            "text/plain": [
              "   clothing_id  age              title  \\\n",
              "0         1095   34   Size up if busty   \n",
              "1          903   57  Snap front hoodie   \n",
              "\n",
              "                                         review_text  rating  recommended  \\\n",
              "0  I agree with the other reviewer that the color...       4            1   \n",
              "1  I have many sweaters but i bought this during ...       4            1   \n",
              "\n",
              "   feedback_count        division department       class  \n",
              "0              19         General    Dresses     Dresses  \n",
              "1               0  General Petite       Tops  Fine gauge  "
            ],
            "text/html": [
              "\n",
              "  <div id=\"df-3186d442-9c28-470d-a86d-7f362960fd35\">\n",
              "    <div class=\"colab-df-container\">\n",
              "      <div>\n",
              "<style scoped>\n",
              "    .dataframe tbody tr th:only-of-type {\n",
              "        vertical-align: middle;\n",
              "    }\n",
              "\n",
              "    .dataframe tbody tr th {\n",
              "        vertical-align: top;\n",
              "    }\n",
              "\n",
              "    .dataframe thead th {\n",
              "        text-align: right;\n",
              "    }\n",
              "</style>\n",
              "<table border=\"1\" class=\"dataframe\">\n",
              "  <thead>\n",
              "    <tr style=\"text-align: right;\">\n",
              "      <th></th>\n",
              "      <th>clothing_id</th>\n",
              "      <th>age</th>\n",
              "      <th>title</th>\n",
              "      <th>review_text</th>\n",
              "      <th>rating</th>\n",
              "      <th>recommended</th>\n",
              "      <th>feedback_count</th>\n",
              "      <th>division</th>\n",
              "      <th>department</th>\n",
              "      <th>class</th>\n",
              "    </tr>\n",
              "  </thead>\n",
              "  <tbody>\n",
              "    <tr>\n",
              "      <th>0</th>\n",
              "      <td>1095</td>\n",
              "      <td>34</td>\n",
              "      <td>Size up if busty</td>\n",
              "      <td>I agree with the other reviewer that the color...</td>\n",
              "      <td>4</td>\n",
              "      <td>1</td>\n",
              "      <td>19</td>\n",
              "      <td>General</td>\n",
              "      <td>Dresses</td>\n",
              "      <td>Dresses</td>\n",
              "    </tr>\n",
              "    <tr>\n",
              "      <th>1</th>\n",
              "      <td>903</td>\n",
              "      <td>57</td>\n",
              "      <td>Snap front hoodie</td>\n",
              "      <td>I have many sweaters but i bought this during ...</td>\n",
              "      <td>4</td>\n",
              "      <td>1</td>\n",
              "      <td>0</td>\n",
              "      <td>General Petite</td>\n",
              "      <td>Tops</td>\n",
              "      <td>Fine gauge</td>\n",
              "    </tr>\n",
              "  </tbody>\n",
              "</table>\n",
              "</div>\n",
              "      <button class=\"colab-df-convert\" onclick=\"convertToInteractive('df-3186d442-9c28-470d-a86d-7f362960fd35')\"\n",
              "              title=\"Convert this dataframe to an interactive table.\"\n",
              "              style=\"display:none;\">\n",
              "        \n",
              "  <svg xmlns=\"http://www.w3.org/2000/svg\" height=\"24px\"viewBox=\"0 0 24 24\"\n",
              "       width=\"24px\">\n",
              "    <path d=\"M0 0h24v24H0V0z\" fill=\"none\"/>\n",
              "    <path d=\"M18.56 5.44l.94 2.06.94-2.06 2.06-.94-2.06-.94-.94-2.06-.94 2.06-2.06.94zm-11 1L8.5 8.5l.94-2.06 2.06-.94-2.06-.94L8.5 2.5l-.94 2.06-2.06.94zm10 10l.94 2.06.94-2.06 2.06-.94-2.06-.94-.94-2.06-.94 2.06-2.06.94z\"/><path d=\"M17.41 7.96l-1.37-1.37c-.4-.4-.92-.59-1.43-.59-.52 0-1.04.2-1.43.59L10.3 9.45l-7.72 7.72c-.78.78-.78 2.05 0 2.83L4 21.41c.39.39.9.59 1.41.59.51 0 1.02-.2 1.41-.59l7.78-7.78 2.81-2.81c.8-.78.8-2.07 0-2.86zM5.41 20L4 18.59l7.72-7.72 1.47 1.35L5.41 20z\"/>\n",
              "  </svg>\n",
              "      </button>\n",
              "      \n",
              "  <style>\n",
              "    .colab-df-container {\n",
              "      display:flex;\n",
              "      flex-wrap:wrap;\n",
              "      gap: 12px;\n",
              "    }\n",
              "\n",
              "    .colab-df-convert {\n",
              "      background-color: #E8F0FE;\n",
              "      border: none;\n",
              "      border-radius: 50%;\n",
              "      cursor: pointer;\n",
              "      display: none;\n",
              "      fill: #1967D2;\n",
              "      height: 32px;\n",
              "      padding: 0 0 0 0;\n",
              "      width: 32px;\n",
              "    }\n",
              "\n",
              "    .colab-df-convert:hover {\n",
              "      background-color: #E2EBFA;\n",
              "      box-shadow: 0px 1px 2px rgba(60, 64, 67, 0.3), 0px 1px 3px 1px rgba(60, 64, 67, 0.15);\n",
              "      fill: #174EA6;\n",
              "    }\n",
              "\n",
              "    [theme=dark] .colab-df-convert {\n",
              "      background-color: #3B4455;\n",
              "      fill: #D2E3FC;\n",
              "    }\n",
              "\n",
              "    [theme=dark] .colab-df-convert:hover {\n",
              "      background-color: #434B5C;\n",
              "      box-shadow: 0px 1px 3px 1px rgba(0, 0, 0, 0.15);\n",
              "      filter: drop-shadow(0px 1px 2px rgba(0, 0, 0, 0.3));\n",
              "      fill: #FFFFFF;\n",
              "    }\n",
              "  </style>\n",
              "\n",
              "      <script>\n",
              "        const buttonEl =\n",
              "          document.querySelector('#df-3186d442-9c28-470d-a86d-7f362960fd35 button.colab-df-convert');\n",
              "        buttonEl.style.display =\n",
              "          google.colab.kernel.accessAllowed ? 'block' : 'none';\n",
              "\n",
              "        async function convertToInteractive(key) {\n",
              "          const element = document.querySelector('#df-3186d442-9c28-470d-a86d-7f362960fd35');\n",
              "          const dataTable =\n",
              "            await google.colab.kernel.invokeFunction('convertToInteractive',\n",
              "                                                     [key], {});\n",
              "          if (!dataTable) return;\n",
              "\n",
              "          const docLinkHtml = 'Like what you see? Visit the ' +\n",
              "            '<a target=\"_blank\" href=https://colab.research.google.com/notebooks/data_table.ipynb>data table notebook</a>'\n",
              "            + ' to learn more about interactive tables.';\n",
              "          element.innerHTML = '';\n",
              "          dataTable['output_type'] = 'display_data';\n",
              "          await google.colab.output.renderOutput(dataTable, element);\n",
              "          const docLink = document.createElement('div');\n",
              "          docLink.innerHTML = docLinkHtml;\n",
              "          element.appendChild(docLink);\n",
              "        }\n",
              "      </script>\n",
              "    </div>\n",
              "  </div>\n",
              "  "
            ]
          },
          "metadata": {},
          "execution_count": 354
        }
      ],
      "source": [
        "# Reset Index\n",
        "df_train_test.reset_index(drop=True, inplace=True)\n",
        "df_inf.reset_index(drop=True, inplace=True)\n",
        "df_inf.head(2)"
      ]
    },
    {
      "cell_type": "markdown",
      "metadata": {
        "id": "SArCSVFYEFce"
      },
      "source": [
        "### Text Preprocessing"
      ]
    },
    {
      "cell_type": "code",
      "execution_count": 355,
      "metadata": {
        "id": "DcMSsndMEFce",
        "colab": {
          "base_uri": "https://localhost:8080/"
        },
        "outputId": "583a6f88-1c66-44db-dd48-98b34aa01285"
      },
      "outputs": [
        {
          "output_type": "execute_result",
          "data": {
            "text/plain": [
              "Index(['clothing_id', 'age', 'title', 'review_text', 'rating', 'recommended',\n",
              "       'feedback_count', 'division', 'department', 'class'],\n",
              "      dtype='object')"
            ]
          },
          "metadata": {},
          "execution_count": 355
        }
      ],
      "source": [
        "df.columns"
      ]
    },
    {
      "cell_type": "code",
      "execution_count": 356,
      "metadata": {
        "id": "dmBKPLnJEFce"
      },
      "outputs": [],
      "source": [
        "# Membuat copy dataset guna menanggulangi kesalahan atau kerusakan dalam dataset\n",
        "df_tx = df.copy()"
      ]
    },
    {
      "cell_type": "markdown",
      "source": [
        ""
      ],
      "metadata": {
        "id": "_6SwHa9KkoXU"
      }
    },
    {
      "cell_type": "code",
      "execution_count": 357,
      "metadata": {
        "id": "7G7nUd8nEFce"
      },
      "outputs": [],
      "source": [
        "# Dropping feature untuk mengambil fitur review_text dan recomended yang akan digunakan dalam analisa\n",
        "df_tx.drop(['clothing_id', 'age', 'title', 'rating',\n",
        "       'feedback_count', 'division', 'department', 'class'], axis=1, inplace=True)"
      ]
    },
    {
      "cell_type": "code",
      "execution_count": 358,
      "metadata": {
        "id": "c8jGHqPcEFce",
        "colab": {
          "base_uri": "https://localhost:8080/",
          "height": 424
        },
        "outputId": "272f581a-2ec1-47eb-cd5a-4363b4801166"
      },
      "outputs": [
        {
          "output_type": "execute_result",
          "data": {
            "text/plain": [
              "                                             review_text  recommended\n",
              "0      Absolutely wonderful - silky and sexy and comf...            1\n",
              "1      Love this dress!  it's sooo pretty.  i happene...            1\n",
              "2      I had such high hopes for this dress and reall...            0\n",
              "3      I love, love, love this jumpsuit. it's fun, fl...            1\n",
              "4      This shirt is very flattering to all due to th...            1\n",
              "...                                                  ...          ...\n",
              "23481  I was very happy to snag this dress at such a ...            1\n",
              "23482  It reminds me of maternity clothes. soft, stre...            1\n",
              "23483  This fit well, but the top was very see throug...            0\n",
              "23484  I bought this dress for a wedding i have this ...            1\n",
              "23485  This dress in a lovely platinum is feminine an...            1\n",
              "\n",
              "[23486 rows x 2 columns]"
            ],
            "text/html": [
              "\n",
              "  <div id=\"df-8a465ed5-6a99-4186-bddf-1278ab694a7b\">\n",
              "    <div class=\"colab-df-container\">\n",
              "      <div>\n",
              "<style scoped>\n",
              "    .dataframe tbody tr th:only-of-type {\n",
              "        vertical-align: middle;\n",
              "    }\n",
              "\n",
              "    .dataframe tbody tr th {\n",
              "        vertical-align: top;\n",
              "    }\n",
              "\n",
              "    .dataframe thead th {\n",
              "        text-align: right;\n",
              "    }\n",
              "</style>\n",
              "<table border=\"1\" class=\"dataframe\">\n",
              "  <thead>\n",
              "    <tr style=\"text-align: right;\">\n",
              "      <th></th>\n",
              "      <th>review_text</th>\n",
              "      <th>recommended</th>\n",
              "    </tr>\n",
              "  </thead>\n",
              "  <tbody>\n",
              "    <tr>\n",
              "      <th>0</th>\n",
              "      <td>Absolutely wonderful - silky and sexy and comf...</td>\n",
              "      <td>1</td>\n",
              "    </tr>\n",
              "    <tr>\n",
              "      <th>1</th>\n",
              "      <td>Love this dress!  it's sooo pretty.  i happene...</td>\n",
              "      <td>1</td>\n",
              "    </tr>\n",
              "    <tr>\n",
              "      <th>2</th>\n",
              "      <td>I had such high hopes for this dress and reall...</td>\n",
              "      <td>0</td>\n",
              "    </tr>\n",
              "    <tr>\n",
              "      <th>3</th>\n",
              "      <td>I love, love, love this jumpsuit. it's fun, fl...</td>\n",
              "      <td>1</td>\n",
              "    </tr>\n",
              "    <tr>\n",
              "      <th>4</th>\n",
              "      <td>This shirt is very flattering to all due to th...</td>\n",
              "      <td>1</td>\n",
              "    </tr>\n",
              "    <tr>\n",
              "      <th>...</th>\n",
              "      <td>...</td>\n",
              "      <td>...</td>\n",
              "    </tr>\n",
              "    <tr>\n",
              "      <th>23481</th>\n",
              "      <td>I was very happy to snag this dress at such a ...</td>\n",
              "      <td>1</td>\n",
              "    </tr>\n",
              "    <tr>\n",
              "      <th>23482</th>\n",
              "      <td>It reminds me of maternity clothes. soft, stre...</td>\n",
              "      <td>1</td>\n",
              "    </tr>\n",
              "    <tr>\n",
              "      <th>23483</th>\n",
              "      <td>This fit well, but the top was very see throug...</td>\n",
              "      <td>0</td>\n",
              "    </tr>\n",
              "    <tr>\n",
              "      <th>23484</th>\n",
              "      <td>I bought this dress for a wedding i have this ...</td>\n",
              "      <td>1</td>\n",
              "    </tr>\n",
              "    <tr>\n",
              "      <th>23485</th>\n",
              "      <td>This dress in a lovely platinum is feminine an...</td>\n",
              "      <td>1</td>\n",
              "    </tr>\n",
              "  </tbody>\n",
              "</table>\n",
              "<p>23486 rows × 2 columns</p>\n",
              "</div>\n",
              "      <button class=\"colab-df-convert\" onclick=\"convertToInteractive('df-8a465ed5-6a99-4186-bddf-1278ab694a7b')\"\n",
              "              title=\"Convert this dataframe to an interactive table.\"\n",
              "              style=\"display:none;\">\n",
              "        \n",
              "  <svg xmlns=\"http://www.w3.org/2000/svg\" height=\"24px\"viewBox=\"0 0 24 24\"\n",
              "       width=\"24px\">\n",
              "    <path d=\"M0 0h24v24H0V0z\" fill=\"none\"/>\n",
              "    <path d=\"M18.56 5.44l.94 2.06.94-2.06 2.06-.94-2.06-.94-.94-2.06-.94 2.06-2.06.94zm-11 1L8.5 8.5l.94-2.06 2.06-.94-2.06-.94L8.5 2.5l-.94 2.06-2.06.94zm10 10l.94 2.06.94-2.06 2.06-.94-2.06-.94-.94-2.06-.94 2.06-2.06.94z\"/><path d=\"M17.41 7.96l-1.37-1.37c-.4-.4-.92-.59-1.43-.59-.52 0-1.04.2-1.43.59L10.3 9.45l-7.72 7.72c-.78.78-.78 2.05 0 2.83L4 21.41c.39.39.9.59 1.41.59.51 0 1.02-.2 1.41-.59l7.78-7.78 2.81-2.81c.8-.78.8-2.07 0-2.86zM5.41 20L4 18.59l7.72-7.72 1.47 1.35L5.41 20z\"/>\n",
              "  </svg>\n",
              "      </button>\n",
              "      \n",
              "  <style>\n",
              "    .colab-df-container {\n",
              "      display:flex;\n",
              "      flex-wrap:wrap;\n",
              "      gap: 12px;\n",
              "    }\n",
              "\n",
              "    .colab-df-convert {\n",
              "      background-color: #E8F0FE;\n",
              "      border: none;\n",
              "      border-radius: 50%;\n",
              "      cursor: pointer;\n",
              "      display: none;\n",
              "      fill: #1967D2;\n",
              "      height: 32px;\n",
              "      padding: 0 0 0 0;\n",
              "      width: 32px;\n",
              "    }\n",
              "\n",
              "    .colab-df-convert:hover {\n",
              "      background-color: #E2EBFA;\n",
              "      box-shadow: 0px 1px 2px rgba(60, 64, 67, 0.3), 0px 1px 3px 1px rgba(60, 64, 67, 0.15);\n",
              "      fill: #174EA6;\n",
              "    }\n",
              "\n",
              "    [theme=dark] .colab-df-convert {\n",
              "      background-color: #3B4455;\n",
              "      fill: #D2E3FC;\n",
              "    }\n",
              "\n",
              "    [theme=dark] .colab-df-convert:hover {\n",
              "      background-color: #434B5C;\n",
              "      box-shadow: 0px 1px 3px 1px rgba(0, 0, 0, 0.15);\n",
              "      filter: drop-shadow(0px 1px 2px rgba(0, 0, 0, 0.3));\n",
              "      fill: #FFFFFF;\n",
              "    }\n",
              "  </style>\n",
              "\n",
              "      <script>\n",
              "        const buttonEl =\n",
              "          document.querySelector('#df-8a465ed5-6a99-4186-bddf-1278ab694a7b button.colab-df-convert');\n",
              "        buttonEl.style.display =\n",
              "          google.colab.kernel.accessAllowed ? 'block' : 'none';\n",
              "\n",
              "        async function convertToInteractive(key) {\n",
              "          const element = document.querySelector('#df-8a465ed5-6a99-4186-bddf-1278ab694a7b');\n",
              "          const dataTable =\n",
              "            await google.colab.kernel.invokeFunction('convertToInteractive',\n",
              "                                                     [key], {});\n",
              "          if (!dataTable) return;\n",
              "\n",
              "          const docLinkHtml = 'Like what you see? Visit the ' +\n",
              "            '<a target=\"_blank\" href=https://colab.research.google.com/notebooks/data_table.ipynb>data table notebook</a>'\n",
              "            + ' to learn more about interactive tables.';\n",
              "          element.innerHTML = '';\n",
              "          dataTable['output_type'] = 'display_data';\n",
              "          await google.colab.output.renderOutput(dataTable, element);\n",
              "          const docLink = document.createElement('div');\n",
              "          docLink.innerHTML = docLinkHtml;\n",
              "          element.appendChild(docLink);\n",
              "        }\n",
              "      </script>\n",
              "    </div>\n",
              "  </div>\n",
              "  "
            ]
          },
          "metadata": {},
          "execution_count": 358
        }
      ],
      "source": [
        "# Melihat dataset df_tx setelah feature \n",
        "df_tx"
      ]
    },
    {
      "cell_type": "code",
      "execution_count": 359,
      "metadata": {
        "id": "VSaO4RTiEFcf",
        "colab": {
          "base_uri": "https://localhost:8080/"
        },
        "outputId": "18ee67a6-79a7-4025-feb1-c6fd0d8ed7f7"
      },
      "outputs": [
        {
          "output_type": "execute_result",
          "data": {
            "text/plain": [
              "review_text    845\n",
              "recommended      0\n",
              "dtype: int64"
            ]
          },
          "metadata": {},
          "execution_count": 359
        }
      ],
      "source": [
        "df_tx.isnull().sum()"
      ]
    },
    {
      "cell_type": "code",
      "execution_count": 360,
      "metadata": {
        "id": "fbvjJFF4EFcf"
      },
      "outputs": [],
      "source": [
        "df_tx.dropna(inplace=True)"
      ]
    },
    {
      "cell_type": "code",
      "execution_count": 361,
      "metadata": {
        "id": "ZmWavNOIEFcf",
        "colab": {
          "base_uri": "https://localhost:8080/"
        },
        "outputId": "ae226b83-958a-44c2-8e7c-f6ad87c18f64"
      },
      "outputs": [
        {
          "output_type": "execute_result",
          "data": {
            "text/plain": [
              "review_text    0\n",
              "recommended    0\n",
              "dtype: int64"
            ]
          },
          "metadata": {},
          "execution_count": 361
        }
      ],
      "source": [
        "df_tx.isnull().sum()"
      ]
    },
    {
      "cell_type": "code",
      "execution_count": 362,
      "metadata": {
        "id": "h46aMOCNEFcf",
        "colab": {
          "base_uri": "https://localhost:8080/"
        },
        "outputId": "021b536e-45be-4b94-8d3a-e20a97424426"
      },
      "outputs": [
        {
          "output_type": "stream",
          "name": "stdout",
          "text": [
            "<class 'pandas.core.frame.DataFrame'>\n",
            "Int64Index: 22641 entries, 0 to 23485\n",
            "Data columns (total 2 columns):\n",
            " #   Column       Non-Null Count  Dtype \n",
            "---  ------       --------------  ----- \n",
            " 0   review_text  22641 non-null  object\n",
            " 1   recommended  22641 non-null  int64 \n",
            "dtypes: int64(1), object(1)\n",
            "memory usage: 530.6+ KB\n"
          ]
        }
      ],
      "source": [
        "df_tx.info()"
      ]
    },
    {
      "cell_type": "code",
      "execution_count": 363,
      "metadata": {
        "id": "grdDFNUYEFcf",
        "colab": {
          "base_uri": "https://localhost:8080/"
        },
        "outputId": "3b364f08-23d5-4154-89d3-9b6e4f5219ce"
      },
      "outputs": [
        {
          "output_type": "stream",
          "name": "stdout",
          "text": [
            "Absolutely wonderful - silky and sexy and comfortable\n"
          ]
        }
      ],
      "source": [
        "print(df_tx.review_text[0])"
      ]
    },
    {
      "cell_type": "markdown",
      "metadata": {
        "id": "SwVfgUFoEFcg"
      },
      "source": [
        "## Case Folding\n",
        "\n",
        "- Ubah teks ke lowercase\n",
        "- Menghilangkan tanda baca\n",
        "- Menghilangkan karakter yang tidak diperlukan\n",
        "- Menghilangkan stopwords\n",
        "- Lematisasi"
      ]
    },
    {
      "cell_type": "code",
      "execution_count": 364,
      "metadata": {
        "id": "0uZibvOYEFcg",
        "colab": {
          "base_uri": "https://localhost:8080/",
          "height": 70
        },
        "outputId": "452abed6-59f8-4f6b-daad-5e48d2823162"
      },
      "outputs": [
        {
          "output_type": "execute_result",
          "data": {
            "text/plain": [
              "'love this dress!  it\\'s sooo pretty.  i happened to find it in a store, and i\\'m glad i did bc i never would have ordered it online bc it\\'s petite.  i bought a petite and am 5\\'8\".  i love the length on me- hits just a little below the knee.  would definitely be a true midi on someone who is truly petite.'"
            ],
            "application/vnd.google.colaboratory.intrinsic+json": {
              "type": "string"
            }
          },
          "metadata": {},
          "execution_count": 364
        }
      ],
      "source": [
        "#Ubah teks ke lowercase\n",
        "\n",
        "teks = df_tx.review_text[1]\n",
        "teks_lower = teks.lower()\n",
        "teks_lower"
      ]
    },
    {
      "cell_type": "code",
      "execution_count": 365,
      "metadata": {
        "id": "Be1U1COyEFcg",
        "colab": {
          "base_uri": "https://localhost:8080/",
          "height": 70
        },
        "outputId": "c8be217f-33a6-4840-a5fc-a06ba5270c4f"
      },
      "outputs": [
        {
          "output_type": "execute_result",
          "data": {
            "text/plain": [
              "'love this dress  its sooo pretty  i happened to find it in a store and im glad i did bc i never would have ordered it online bc its petite  i bought a petite and am 58  i love the length on me hits just a little below the knee  would definitely be a true midi on someone who is truly petite'"
            ],
            "application/vnd.google.colaboratory.intrinsic+json": {
              "type": "string"
            }
          },
          "metadata": {},
          "execution_count": 365
        }
      ],
      "source": [
        "#Menghilangkan tanda baca\n",
        "\n",
        "teks_punc = teks_lower.translate(str.maketrans(\"\",\"\",string.punctuation))\n",
        "teks_punc"
      ]
    },
    {
      "cell_type": "code",
      "execution_count": 366,
      "metadata": {
        "id": "G3yI9bY9EFcg",
        "colab": {
          "base_uri": "https://localhost:8080/",
          "height": 36
        },
        "outputId": "348e987f-4c82-4412-c936-61195f6c042a"
      },
      "outputs": [
        {
          "output_type": "execute_result",
          "data": {
            "text/plain": [
              "'!\"#$%&\\'()*+,-./:;<=>?@[\\\\]^_`{|}~'"
            ],
            "application/vnd.google.colaboratory.intrinsic+json": {
              "type": "string"
            }
          },
          "metadata": {},
          "execution_count": 366
        }
      ],
      "source": [
        "string.punctuation"
      ]
    },
    {
      "cell_type": "code",
      "execution_count": 367,
      "metadata": {
        "id": "ToIsHMFVEFch",
        "colab": {
          "base_uri": "https://localhost:8080/",
          "height": 70
        },
        "outputId": "bc27a7fd-98b1-4a6b-a2bc-ec81139c795c"
      },
      "outputs": [
        {
          "output_type": "execute_result",
          "data": {
            "text/plain": [
              "'love this dress  its sooo pretty  i happened to find it in a store and im glad i did bc i never would have ordered it online bc its petite  i bought a petite and am     i love the length on me hits just a little below the knee  would definitely be a true midi on someone who is truly petite'"
            ],
            "application/vnd.google.colaboratory.intrinsic+json": {
              "type": "string"
            }
          },
          "metadata": {},
          "execution_count": 367
        }
      ],
      "source": [
        "#Tanda @ pada username hilang, sehingga nanti kita tidak bisa menghapus username dengan mudah karena tidak diperlukan\n",
        "\n",
        "teks_punc = re.sub(\"@[A-Za-z0-9_]+\",\" \", teks_punc) #Menghilangkan mention\n",
        "teks_punc = re.sub(\"#[A-Za-z0-9_]+\",\" \", teks_punc) #Menghilangkan hashtag\n",
        "teks_punc = re.sub(r\"\\\\n\",\" \",teks_punc) #Menghilangkan \\n\n",
        "teks_punc = teks_punc.strip()\n",
        "teks_punc = re.sub(r\"http\\S+\", \" \", teks_punc) #Menghilangkan link\n",
        "teks_punc = re.sub(r\"www.\\S+\", \" \", teks_punc) #Menghilangkan link\n",
        "teks_punc = re.sub(\"[^A-Za-z\\s']\",\" \", teks_punc) #Menghilangkan yang bukan huruf\n",
        "teks_punc"
      ]
    },
    {
      "cell_type": "code",
      "execution_count": 368,
      "metadata": {
        "id": "29Ej3jcmEFch",
        "colab": {
          "base_uri": "https://localhost:8080/",
          "height": 53
        },
        "outputId": "bb4cbd31-a24c-4911-fc64-c2d1eeb4e640"
      },
      "outputs": [
        {
          "output_type": "execute_result",
          "data": {
            "text/plain": [
              "'love dress sooo pretty happened find store im glad bc never would ordered online bc petite bought petite love length hits little knee would definitely true midi someone truly petite'"
            ],
            "application/vnd.google.colaboratory.intrinsic+json": {
              "type": "string"
            }
          },
          "metadata": {},
          "execution_count": 368
        }
      ],
      "source": [
        "#Menghilangkan stopwords\n",
        "\n",
        "stpwds_en = list(set(stopwords.words('english')))\n",
        "tokens = word_tokenize(teks_punc)\n",
        "\n",
        "teks_stopwords = ' '.join([word for word in tokens if word not in stpwds_en])\n",
        "teks_stopwords"
      ]
    },
    {
      "cell_type": "code",
      "execution_count": 369,
      "metadata": {
        "id": "t3qoGBLQEFch",
        "colab": {
          "base_uri": "https://localhost:8080/",
          "height": 53
        },
        "outputId": "7f55565b-6084-424a-cf5d-ae1551fde942"
      },
      "outputs": [
        {
          "output_type": "execute_result",
          "data": {
            "text/plain": [
              "'love dress sooo pretty happened find store im glad bc never would ordered online bc petite bought petite love length hits little knee would definitely true midi someone truly petite'"
            ],
            "application/vnd.google.colaboratory.intrinsic+json": {
              "type": "string"
            }
          },
          "metadata": {},
          "execution_count": 369
        }
      ],
      "source": [
        "#Lemmatization\n",
        "lemma = WordNetLemmatizer()\n",
        "lemmatized_string = ''.join([lemma.lemmatize(words) for words in teks_stopwords])\n",
        "lemmatized_string"
      ]
    },
    {
      "cell_type": "code",
      "execution_count": 370,
      "metadata": {
        "id": "wmmSHp6NEFci"
      },
      "outputs": [],
      "source": [
        "#Membuat fungsi agar bisa diterapkan pada dataframe\n",
        "\n",
        "def text_proses(teks):\n",
        "  teks = teks.lower()\n",
        "  teks = teks.translate(str.maketrans(\"\",\"\",string.punctuation))\n",
        "  teks = re.sub(\"@[A-Za-z0-9_]+\",\" \", teks) #Menghilangkan mention jika ada\n",
        "  teks = re.sub(\"#[A-Za-z0-9_]+\",\" \", teks) #Menghilangkan hashtag jika ada\n",
        "  teks = re.sub(r\"\\\\n\",\" \",teks) #Menghilangkan \\n jika ada\n",
        "  teks = teks.strip()\n",
        "  teks = re.sub(r\"http\\S+\", \" \", teks) #Menghilangkan link jika ada\n",
        "  teks = re.sub(r\"www.\\S+\", \" \", teks) #Menghilangkan link jika ada\n",
        "  teks = re.sub(\"[^A-Za-z\\s']\",\" \", teks) #Menghilangkan yang bukan huruf jika ada\n",
        "  tokens = word_tokenize(teks)\n",
        "  teks = ' '.join([word for word in tokens if word not in stpwds_en])\n",
        "  teks = ''.join([lemma.lemmatize(words) for words in teks])\n",
        "  return teks"
      ]
    },
    {
      "cell_type": "code",
      "execution_count": 371,
      "metadata": {
        "colab": {
          "base_uri": "https://localhost:8080/",
          "height": 206
        },
        "id": "NLYfyRCREFci",
        "outputId": "833e4203-385d-4563-fcbd-2b13bc689fcd"
      },
      "outputs": [
        {
          "output_type": "execute_result",
          "data": {
            "text/plain": [
              "                                         review_text  recommended  \\\n",
              "0  Absolutely wonderful - silky and sexy and comf...            1   \n",
              "1  Love this dress!  it's sooo pretty.  i happene...            1   \n",
              "2  I had such high hopes for this dress and reall...            0   \n",
              "3  I love, love, love this jumpsuit. it's fun, fl...            1   \n",
              "4  This shirt is very flattering to all due to th...            1   \n",
              "\n",
              "                                      text_processed  \n",
              "0        absolutely wonderful silky sexy comfortable  \n",
              "1  love dress sooo pretty happened find store im ...  \n",
              "2  high hopes dress really wanted work initially ...  \n",
              "3  love love love jumpsuit fun flirty fabulous ev...  \n",
              "4  shirt flattering due adjustable front tie perf...  "
            ],
            "text/html": [
              "\n",
              "  <div id=\"df-0fea0f74-a6ba-4846-8f84-d4dc2ee9f18e\">\n",
              "    <div class=\"colab-df-container\">\n",
              "      <div>\n",
              "<style scoped>\n",
              "    .dataframe tbody tr th:only-of-type {\n",
              "        vertical-align: middle;\n",
              "    }\n",
              "\n",
              "    .dataframe tbody tr th {\n",
              "        vertical-align: top;\n",
              "    }\n",
              "\n",
              "    .dataframe thead th {\n",
              "        text-align: right;\n",
              "    }\n",
              "</style>\n",
              "<table border=\"1\" class=\"dataframe\">\n",
              "  <thead>\n",
              "    <tr style=\"text-align: right;\">\n",
              "      <th></th>\n",
              "      <th>review_text</th>\n",
              "      <th>recommended</th>\n",
              "      <th>text_processed</th>\n",
              "    </tr>\n",
              "  </thead>\n",
              "  <tbody>\n",
              "    <tr>\n",
              "      <th>0</th>\n",
              "      <td>Absolutely wonderful - silky and sexy and comf...</td>\n",
              "      <td>1</td>\n",
              "      <td>absolutely wonderful silky sexy comfortable</td>\n",
              "    </tr>\n",
              "    <tr>\n",
              "      <th>1</th>\n",
              "      <td>Love this dress!  it's sooo pretty.  i happene...</td>\n",
              "      <td>1</td>\n",
              "      <td>love dress sooo pretty happened find store im ...</td>\n",
              "    </tr>\n",
              "    <tr>\n",
              "      <th>2</th>\n",
              "      <td>I had such high hopes for this dress and reall...</td>\n",
              "      <td>0</td>\n",
              "      <td>high hopes dress really wanted work initially ...</td>\n",
              "    </tr>\n",
              "    <tr>\n",
              "      <th>3</th>\n",
              "      <td>I love, love, love this jumpsuit. it's fun, fl...</td>\n",
              "      <td>1</td>\n",
              "      <td>love love love jumpsuit fun flirty fabulous ev...</td>\n",
              "    </tr>\n",
              "    <tr>\n",
              "      <th>4</th>\n",
              "      <td>This shirt is very flattering to all due to th...</td>\n",
              "      <td>1</td>\n",
              "      <td>shirt flattering due adjustable front tie perf...</td>\n",
              "    </tr>\n",
              "  </tbody>\n",
              "</table>\n",
              "</div>\n",
              "      <button class=\"colab-df-convert\" onclick=\"convertToInteractive('df-0fea0f74-a6ba-4846-8f84-d4dc2ee9f18e')\"\n",
              "              title=\"Convert this dataframe to an interactive table.\"\n",
              "              style=\"display:none;\">\n",
              "        \n",
              "  <svg xmlns=\"http://www.w3.org/2000/svg\" height=\"24px\"viewBox=\"0 0 24 24\"\n",
              "       width=\"24px\">\n",
              "    <path d=\"M0 0h24v24H0V0z\" fill=\"none\"/>\n",
              "    <path d=\"M18.56 5.44l.94 2.06.94-2.06 2.06-.94-2.06-.94-.94-2.06-.94 2.06-2.06.94zm-11 1L8.5 8.5l.94-2.06 2.06-.94-2.06-.94L8.5 2.5l-.94 2.06-2.06.94zm10 10l.94 2.06.94-2.06 2.06-.94-2.06-.94-.94-2.06-.94 2.06-2.06.94z\"/><path d=\"M17.41 7.96l-1.37-1.37c-.4-.4-.92-.59-1.43-.59-.52 0-1.04.2-1.43.59L10.3 9.45l-7.72 7.72c-.78.78-.78 2.05 0 2.83L4 21.41c.39.39.9.59 1.41.59.51 0 1.02-.2 1.41-.59l7.78-7.78 2.81-2.81c.8-.78.8-2.07 0-2.86zM5.41 20L4 18.59l7.72-7.72 1.47 1.35L5.41 20z\"/>\n",
              "  </svg>\n",
              "      </button>\n",
              "      \n",
              "  <style>\n",
              "    .colab-df-container {\n",
              "      display:flex;\n",
              "      flex-wrap:wrap;\n",
              "      gap: 12px;\n",
              "    }\n",
              "\n",
              "    .colab-df-convert {\n",
              "      background-color: #E8F0FE;\n",
              "      border: none;\n",
              "      border-radius: 50%;\n",
              "      cursor: pointer;\n",
              "      display: none;\n",
              "      fill: #1967D2;\n",
              "      height: 32px;\n",
              "      padding: 0 0 0 0;\n",
              "      width: 32px;\n",
              "    }\n",
              "\n",
              "    .colab-df-convert:hover {\n",
              "      background-color: #E2EBFA;\n",
              "      box-shadow: 0px 1px 2px rgba(60, 64, 67, 0.3), 0px 1px 3px 1px rgba(60, 64, 67, 0.15);\n",
              "      fill: #174EA6;\n",
              "    }\n",
              "\n",
              "    [theme=dark] .colab-df-convert {\n",
              "      background-color: #3B4455;\n",
              "      fill: #D2E3FC;\n",
              "    }\n",
              "\n",
              "    [theme=dark] .colab-df-convert:hover {\n",
              "      background-color: #434B5C;\n",
              "      box-shadow: 0px 1px 3px 1px rgba(0, 0, 0, 0.15);\n",
              "      filter: drop-shadow(0px 1px 2px rgba(0, 0, 0, 0.3));\n",
              "      fill: #FFFFFF;\n",
              "    }\n",
              "  </style>\n",
              "\n",
              "      <script>\n",
              "        const buttonEl =\n",
              "          document.querySelector('#df-0fea0f74-a6ba-4846-8f84-d4dc2ee9f18e button.colab-df-convert');\n",
              "        buttonEl.style.display =\n",
              "          google.colab.kernel.accessAllowed ? 'block' : 'none';\n",
              "\n",
              "        async function convertToInteractive(key) {\n",
              "          const element = document.querySelector('#df-0fea0f74-a6ba-4846-8f84-d4dc2ee9f18e');\n",
              "          const dataTable =\n",
              "            await google.colab.kernel.invokeFunction('convertToInteractive',\n",
              "                                                     [key], {});\n",
              "          if (!dataTable) return;\n",
              "\n",
              "          const docLinkHtml = 'Like what you see? Visit the ' +\n",
              "            '<a target=\"_blank\" href=https://colab.research.google.com/notebooks/data_table.ipynb>data table notebook</a>'\n",
              "            + ' to learn more about interactive tables.';\n",
              "          element.innerHTML = '';\n",
              "          dataTable['output_type'] = 'display_data';\n",
              "          await google.colab.output.renderOutput(dataTable, element);\n",
              "          const docLink = document.createElement('div');\n",
              "          docLink.innerHTML = docLinkHtml;\n",
              "          element.appendChild(docLink);\n",
              "        }\n",
              "      </script>\n",
              "    </div>\n",
              "  </div>\n",
              "  "
            ]
          },
          "metadata": {},
          "execution_count": 371
        }
      ],
      "source": [
        "# Memanggil fungsi dan diterapkan pada dataset\n",
        "df_tx['text_processed'] = df_tx['review_text'].apply(lambda x: text_proses(x))\n",
        "df_tx.head()"
      ]
    },
    {
      "cell_type": "markdown",
      "metadata": {
        "id": "40XUMkZd7vQt"
      },
      "source": [
        "### Splitting Dataset"
      ]
    },
    {
      "cell_type": "markdown",
      "metadata": {
        "id": "4fBo-R5py6ea"
      },
      "source": [
        "> Bagian adalah merupakan pemisahan dataset menjadi dua variabel yaitu variabel X untuk fitur dan y untuk target"
      ]
    },
    {
      "cell_type": "code",
      "execution_count": 372,
      "metadata": {
        "id": "cqxvmHYbEFci"
      },
      "outputs": [],
      "source": [
        "X_train, X_test, y_train, y_test = train_test_split(df_tx.text_processed, df_tx.recommended, test_size=0.25, random_state=46, stratify=df_tx.recommended)"
      ]
    },
    {
      "cell_type": "code",
      "execution_count": 373,
      "metadata": {
        "colab": {
          "base_uri": "https://localhost:8080/"
        },
        "id": "wJ0XHye1EFcj",
        "outputId": "40e17529-180b-428b-a3f7-3c78d6b9f29f"
      },
      "outputs": [
        {
          "output_type": "execute_result",
          "data": {
            "text/plain": [
              "<16980x15502 sparse matrix of type '<class 'numpy.int64'>'\n",
              "\twith 447591 stored elements in Compressed Sparse Row format>"
            ]
          },
          "metadata": {},
          "execution_count": 373
        }
      ],
      "source": [
        "Vectorize = CountVectorizer()\n",
        "X_train_vec = Vectorize.fit_transform(X_train)\n",
        "X_test_vec = Vectorize.transform(X_test)\n",
        "\n",
        "X_train_vec"
      ]
    },
    {
      "cell_type": "code",
      "execution_count": 374,
      "metadata": {
        "colab": {
          "base_uri": "https://localhost:8080/",
          "height": 36
        },
        "id": "4TfSXWkNEFcj",
        "outputId": "a3d3fd68-fcae-4b89-ec5d-634a3e5d4fa0"
      },
      "outputs": [
        {
          "output_type": "execute_result",
          "data": {
            "text/plain": [
              "'great casual fall sweater comfortable bit design goes everything bought grey love fits bit big'"
            ],
            "application/vnd.google.colaboratory.intrinsic+json": {
              "type": "string"
            }
          },
          "metadata": {},
          "execution_count": 374
        }
      ],
      "source": [
        "X_train.iloc[0]"
      ]
    },
    {
      "cell_type": "code",
      "execution_count": 375,
      "metadata": {
        "colab": {
          "base_uri": "https://localhost:8080/"
        },
        "id": "sLvOW_WKEFcj",
        "outputId": "6a825269-96b8-4ea2-b8e6-b6c5eeb13380"
      },
      "outputs": [
        {
          "output_type": "stream",
          "name": "stdout",
          "text": [
            "  (0, 5661)\t1\n",
            "  (0, 2031)\t1\n",
            "  (0, 4613)\t1\n",
            "  (0, 13166)\t1\n",
            "  (0, 2587)\t1\n",
            "  (0, 1210)\t2\n",
            "  (0, 3485)\t1\n",
            "  (0, 5538)\t1\n",
            "  (0, 4393)\t1\n",
            "  (0, 1501)\t1\n",
            "  (0, 5707)\t1\n",
            "  (0, 7645)\t1\n",
            "  (0, 4867)\t1\n",
            "  (0, 1161)\t1\n",
            "  (1, 4613)\t1\n",
            "  (1, 2587)\t1\n",
            "  (1, 7645)\t1\n",
            "  (1, 2502)\t1\n",
            "  (1, 1327)\t1\n",
            "  (1, 6713)\t1\n",
            "  (1, 15001)\t1\n",
            "  (1, 11195)\t1\n",
            "  (1, 5597)\t1\n",
            "  (1, 6359)\t1\n",
            "  (1, 5491)\t1\n",
            "  :\t:\n",
            "  (16978, 5965)\t1\n",
            "  (16978, 6028)\t1\n",
            "  (16978, 5954)\t1\n",
            "  (16978, 886)\t1\n",
            "  (16978, 11697)\t1\n",
            "  (16978, 9919)\t1\n",
            "  (16978, 8109)\t1\n",
            "  (16978, 5141)\t1\n",
            "  (16979, 13166)\t1\n",
            "  (16979, 1161)\t1\n",
            "  (16979, 14942)\t1\n",
            "  (16979, 11942)\t1\n",
            "  (16979, 9512)\t1\n",
            "  (16979, 7309)\t2\n",
            "  (16979, 9069)\t1\n",
            "  (16979, 14531)\t1\n",
            "  (16979, 6821)\t1\n",
            "  (16979, 3571)\t1\n",
            "  (16979, 5980)\t1\n",
            "  (16979, 3189)\t1\n",
            "  (16979, 10419)\t1\n",
            "  (16979, 15365)\t1\n",
            "  (16979, 12062)\t1\n",
            "  (16979, 4810)\t1\n",
            "  (16979, 12966)\t1\n"
          ]
        }
      ],
      "source": [
        "print(X_train_vec)"
      ]
    },
    {
      "cell_type": "code",
      "execution_count": 376,
      "metadata": {
        "colab": {
          "base_uri": "https://localhost:8080/"
        },
        "id": "xgKeuXoPEFcj",
        "outputId": "38cc3145-13f9-496b-9d30-089cfe4eac55"
      },
      "outputs": [
        {
          "output_type": "execute_result",
          "data": {
            "text/plain": [
              "dict_keys(['great', 'casual', 'fall', 'sweater', 'comfortable', 'bit', 'design', 'goes', 'everything', 'bought', 'grey', 'love', 'fits', 'big', 'color', 'blue', 'item', 'went', 'sale', 'grab', 'im', 'glad', 'feels', 'medium', 'weight', 'could', 'throw', 'cool', 'summer', 'night', 'also', 'sparkle', 'fabric', 'think', 'really', 'nice', 'added', 'touch', 'looks', 'adorable', 'dress', 'precious', 'good', 'body', 'types', 'however', 'bust', 'extremely', 'tight', 'go', 'size', 'fit', 'chest', 'area', 'top', 'us', 'flowy', 'breathable', 'feminine', 'light', 'doesnt', 'feel', 'like', 'youre', 'wearing', 'swing', 'heavy', 'sheer', 'cami', 'underneath', 'best', 'flowers', 'less', 'structured', 'tops', 'small', 'id', 'gorgeous', 'perfect', 'springsummer', 'run', 'wideloose', 'read', 'reviews', 'ordering', 'usually', 'petite', 'recommended', 'going', 'regular', 'due', 'length', 'bottom', 'wanting', 'able', 'bend', 'comfortably', 'lbs', 'ordered', 'worked', 'well', 'received', 'many', 'compliments', 'wanted', 'buy', 'usual', 'mp', 'sold', 'normal', 'got', 'shift', 'enhance', 'curves', 'luxurious', 'knitted', 'sack', 'mean', 'way', 'cling', 'reaches', 'knees', 'worry', 'stretch', 'factor', 'reviewers', 'noted', 'since', 'see', 'sleeves', 'wish', 'take', 'button', 'loop', 'picked', 'day', 'looking', 'jeans', 'alternative', 'slim', 'skinny', 'far', 'one', 'wear', 'still', 'shape', 'little', 'much', 'moss', 'crisp', 'lot', 'transitioning', 'missed', 'sherpa', 'vest', 'caramel', 'last', 'year', 'didnt', 'want', 'miss', 'cant', 'wait', 'gets', 'chilly', 'easilly', 'layered', 'thicker', 'tshirt', 'pictured', 'grows', 'every', 'time', 'put', 'flattering', 'literally', 'winter', 'long', 'leggings', 'absolutely', 'cream', 'tank', 'material', 'look', 'yet', 'mature', 'need', 'bra', 'thick', 'stretchy', 'pencil', 'skirt', 'chino', 'shorts', 'soft', 'comfy', 'took', 'perfectly', 'runs', 'definitely', 'feature', 'detailing', 'paired', 'white', 'denim', 'jacket', 'fleetwood', 'stylevery', 'trendyfit', 'dream', 'leggy', 'gals', 'hem', 'would', 'cute', 'cutoffs', 'shortiestrue', 'fun', 'cozy', 'use', 'ivory', 'although', 'true', 'tad', 'around', 'upper', 'arms', 'uncomfortable', 'somewhat', 'dont', 'type', 'check', 'sweaters', 'isolated', 'case', 'worn', 'loose', 'quite', 'mid', 'lower', 'part', 'fyi', 'coral', 'beautiful', 'peach', 'linen', 'longer', 'roomier', 'waist', 'expecting', 'detail', 'makes', 'eyecatching', 'happy', 'purchase', 'purchased', 'red', 'glowing', 'warm', 'complexioncool', 'undertones', 'pant', 'first', 'pair', 'tried', 'sales', 'associate', 'suggested', 'trying', 'ithis', 'trouser', 'tie', 'reminds', 'retro', 'pantwhich', 'concerned', 'purchasing', 'two', 'slender', 'people', 'buying', 'athletic', 'normally', 'pretty', 'stiff', 'brocade', 'cut', 'different', 'form', 'fitting', 'enhancing', 'attractive', 'neck', 'binding', 'cutting', 'interesting', 'touches', 'make', 'shifts', 'lined', 'falls', 'knee', 'jumpsuit', 'looked', 'model', 'hideous', 'ridiculousnot', 'mention', 'rode', 'right', 'backside', 'worst', 'possible', 'disappointed', 'pants', 'hesitant', 'try', 'fear', 'diaper', 'ive', 'always', 'liked', 'pull', 'local', 'retailer', 'solid', 'gone', 'either', 'better', 'hips', 'draping', 'isnt', 'exaggerated', 'bulky', 'pic', 'add', 'frame', 'mate', 'simple', 'poodles', 'anything', 'poodle', 'print', 'estatic', 'snagged', 'horrible', 'pillowcase', 'inches', 'wide', 'side', 'attempting', 'dolman', 'short', 'wrong', 'return', 'agree', 'others', 'badly', 'work', 'lift', 'without', 'whole', 'riding', 'store', 'couldnt', 'larger', 'overall', 'appropriate', 'someone', 'age', 'practical', 'ch', 'colors', 'wasnt', 'curvy', 'fill', 'straight', 'updown', 'lay', 'flat', 'tallslim', 'build', 'hilo', 'indicated', 'pictures', 'fan', 'style', 'hoping', 'minimal', 'asymmetric', 'get', 'hit', 'unique', 'patternreminds', 'key', 'west', 'slight', 'tent', 'appears', 'done', 'wouldnt', 'armholes', 'huge', 'bug', 'typically', 'med', 'sides', 'ton', 'tailor', 'taken', 'belts', 'dresses', 'sure', 'seems', 'reoccurring', 'issue', 'bummed', 'spend', 'money', 'even', 'photo', 'shirt', 'excited', 'vibrant', 'thing', 'kind', 'maternity', 'lxl', 'whim', 'twoinone', 'piece', 'dressed', 'office', 'blazer', 'striped', 'portion', 'ponte', 'curvymuscular', 'roomy', 'things', 'smooth', 'dressier', 'ran', 'large', 'sort', 'frumpy', 'returning', 'elastic', 'baby', 'fine', 'belt', 'covered', 'never', 'thought', 'based', 'picture', 'online', 'saw', 'person', 'rich', 'pink', 'gal', 'works', 'quality', 'full', 'lining', 'lucked', 'steal', 'clearance', 'another', 'wthe', 'beading', 'velvet', 'nothing', 'tall', 'felt', 'cropped', 'flare', 'making', 'send', 'back', 'buttery', 'yellow', 'picturing', 'know', 'world', 'terrible', 'turned', 'exactly', 'hoped', 'made', 'classy', 'notice', 'weeks', 'ever', 'pleasure', 'owning', 'hope', 'future', 'includes', 'acquiring', 'fortunate', 'enough', 'holly', 'taupe', 'unproportioned', 'layers', 'least', 'three', 'seasons', 'drape', 'willa', 'complements', 'longsleeved', 'easily', 'compliment', 'maybe', 'problem', 'knew', 'gamble', 'images', 'gave', 'come', 'close', 'near', 'nope', 'crafty', 'pondering', 'adding', 'lace', 'end', 'keeping', 'dressit', 'thin', 'partially', 'plus', 'line', 'coming', 'xs', 'front', 'slitvent', 'high', 'liking', 'spot', 'guess', 'rather', 'save', 'funds', 'something', 'ca', 'today', 'leave', 'pacquerette', 'shirtdress', 'similar', 'bohopeasant', 'vibe', 'preferred', 'paquerette', 'price', 'anwen', 'peasant', 'inch', 'though', 'couple', 'wedding', 'june', 'cotton', 'kept', 'sizes', 'open', 'tee', 'date', 'allow', 'new', 'available', 'navy', 'irregular', 'dots', 'smaller', 'chance', 'scalloped', 'edge', 'slits', 'crocheted', 'addition', 'florida', 'wardrobe', 'mentioned', 'softest', 'acrylic', 'overlook', 'fact', 'pairs', 'waisted', 'jeansskirts', 'embroidery', 'handmade', 'cheap', 'slit', 'opinion', 'expect', 'heavier', 'layering', 'ideal', 'colder', 'weather', 'may', 'biased', 'romper', 'elegant', 'fabrics', 'scream', 'concept', 'executed', 'pleated', 'accordion', 'wants', 'constrict', 'next', 'third', 'average', 'difference', 'middle', 'gives', 'weird', 'potential', 'reference', 'measurements', 'bird', 'bright', 'colorful', 'smallish', 'yes', 'suggests', 'features', 'let', 'explain', 'broad', 'shouldersback', 'dresstop', 'buttons', 'etc', 'fitted', 'upside', 'triangle', 'inside', 'strings', 'cooler', 'weekend', 'errand', 'confortable', 'artistic', 'boots', 'pockets', 'handy', 'easy', 'contrast', 'scarf', 'necklace', 'warmth', 'slip', 'alone', 'spring', 'sandals', 'numerous', 'several', 'later', 'anticipate', 'often', 'finally', 'wears', 'nightgown', 'favorite', 'gray', 'wash', 'distressing', 'subtle', 'rise', 'bending', 'belly', 'description', 'loyal', 'ag', 'stevie', 'shopper', 'skinnier', 'ankles', 'ill', 'probably', 'needed', 'lbsi', 'low', 'show', 'cleavage', 'plan', 'okay', 'looser', 'prefer', 'exchange', 'eager', 'receive', 'already', 'mostly', 'shapeless', 'balls', 'piling', 'wool', 'happens', 'months', 'metallic', 'knitting', 'missing', 'points', 'actual', 'holes', 'places', 'col', 'pinkishorange', 'summers', 'debated', 'ended', 'almost', 'wings', 'steamed', 'home', 'relaxed', 'draped', 'nicely', 'turn', 'warning', 'lovely', 'aqua', 'pattern', 'fussy', 'seams', 'drove', 'tangerine', 'black', 'pounds', 'arm', 'reviewer', 'reported', 'torso', 'traveling', 'wont', 'wrinkle', 'washablethe', 'surprisingly', 'sh', 'boob', 'actually', 'swimming', 'coverage', 'whoa', 'old', 'dingy', 'brand', 'highlight', 'hangs', 'awkward', 'version', 'gathered', 'stomach', 'reminded', 'appear', 'green', 'needs', 'ironing', 'must', 'uniquely', 'designed', 'main', 'reasons', 'toy', 'timeless', 'affordable', 'versatile', 'worth', 'simply', 'resist', 'crossbody', 'bag', 'exploring', 'city', 'strappy', 'healed', 'flashy', 'jewelry', 'garden', 'party', 'event', 'booties', 'cardigan', 'evening', 'rock', 'terms', 'sizing', 'dd', 'booty', 'match', 'capris', 'together', 'stylish', 'running', 'errands', 'drinks', 'girls', 'transition', 'chambray', 'incredibly', 'stated', 'inseam', 'understated', 'clearly', 'blouse', 'tighter', 'areas', 'evenly', 'throughout', 'rarity', 'wonderful', 'hits', 'beautifully', 'crimson', 'th', 'narrow', 'baggy', 'pet', 'peeves', 'compromised', 'tightsfit', 'loved', 'adds', 'outfit', 'lightweight', 'snaps', 'mine', 'keep', 'undone', 'hands', 'smalls', 'amount', 'breathing', 'room', 'highly', 'recommend', 'unattractive', 'say', 'imagine', 'anyone', 'seem', 'ruched', 'saggy', 'gotten', 'strip', 'washed', 'bikini', 'bigger', 'butt', 'boyfriend', 'careful', 'shrink', 'said', 'accidentally', 'dryer', 'shrunk', 'shows', 'snug', 'thankfully', 'wearable', 'twice', 'useful', 'beach', 'coverup', 'couldve', 'anywhere', 'breezy', 'gotothebeach', 'shove', 'towel', 'might', 'else', 'flow', 'sent', 'dirty', 'stained', 'boyish', 'figure', 'accommodate', 'maeve', 'generally', 'sadly', 'definite', 'exception', 'solved', 'changing', 'construction', 'breasts', 'causing', 'gape', 'cup', 'crossed', 'washprint', 'ocean', 'straps', 'considered', 'taking', 'ultimately', 'decided', 'xxsp', 'supposed', 'hang', 'shoulders', 'finding', 'cottony', 'feeling', 'super', 'shown', 'order', 'picky', 'clothes', 'recently', 'self', 'conscious', 'tummy', 'shaped', 'redish', 'orange', 'creamish', 'moment', 'came', 'sleeve', 'necessa', 'wonderfully', 'necessary', 'staple', 'years', 'smells', 'vinegar', 'away', 'hours', 'itchy', 'ombr', 'fading', 'darker', 'earrings', 'amazing', 'restocks', 'soon', 'tights', 'daughter', 'loves', 'sells', 'disappoint', 'slightly', 'sexy', 'revealing', 'find', 'annoying', 'busted', 'seemed', 'found', 'wow', 'believe', 'ms', 'among', 'unlined', 'sub', 'shock', 'happened', 'please', 'dark', 'silver', 'casually', 'formallydepending', 'tees', 'seam', 'barely', 'noticed', 'plain', 'percent', 'warn', 'stone', 'completely', 'legs', 'swapping', 'mens', 'upcoming', 'interview', 'bill', 'packaging', 'worried', 'boxy', 'allowing', 'movement', 'accentuated', 'xl', 'impressed', 'regretting', 'theyre', 'unavailable', 'seriously', 'hunt', 'olive', 'militaryish', 'finishings', 'coolrose', 'gold', 'aline', 'give', 'sit', 'verging', 'bottoms', 'trim', 'recent', 'vaca', 'perfection', 'lived', 'rips', 'ft', 'cuffing', 'tts', 'clothing', 'adore', 'tones', 'skin', 'lumps', 'bumps', 'patterned', 'ago', 'winner', 'left', 'center', 'drapes', 'rayon', 'interest', 'sp', 'xsp', 'sized', 'complaint', 'expensive', 'control', 'deal', 'smidgen', 'dolan', 'slimming', 'thats', 'overly', 'mock', 'constricting', 'impulse', 'purchases', 'coat', 'buttoned', 'hood', 'shorter', 'ba', 'classic', 'lots', 'mindful', 'seethrough', 'totally', 'tho', 'broke', 'heart', 'everywhere', 'odd', 'breast', 'tell', 'flows', 'shoulder', 'fell', 'ribbed', 'xlarge', 'cuff', 'half', 'joggers', 'ridiculously', 'especially', 'practice', 'decide', 'whether', 'extra', 'pulls', 'awkwardbunchy', 'showing', 'chested', 'teal', 'image', 'fold', 'originally', 'giving', 'wore', 'holiday', 'helps', 'delightful', 'glove', 'stunning', 'happier', 'october', 'struggle', 'feet', 'tailoring', 'dance', 'floor', 'hooks', 'began', 'yikes', 'times', 'divine', 'luxe', 'knit', 'xsmall', 'opted', 'review', 'chime', 'eyeing', 'hefty', 'tag', 'start', 'byron', 'lars', 'snugly', 'lumpy', 'cmon', 'accent', 'google', 'search', 'prevent', 'speak', 'standard', 'massive', 'amounts', 'ballet', 'flats', 'possibilities', 'endless', 'havent', 'updress', 'aesthetically', 'tunic', 'adequately', 'issues', 'yielded', 'seen', 'stopped', 'shoulderarmpitsleeve', 'cowl', 'comes', 'hip', 'unfortunately', 'fears', 'swimsuit', 'support', 'despite', 'halter', 'rely', 'sad', 'heavenly', 'problems', 'suffering', 'late', 'place', 'items', 'hold', 'washing', 'means', 'hand', 'cold', 'water', 'pear', 'sleeveless', 'sm', 'fitthe', 'tiny', 'flutter', 'details', 'fluttering', 'swingy', 'texture', 'hide', 'stains', 'correct', 'occasions', 'church', 'special', 'events', 'dinner', 'wedges', 'repeating', 'across', 'shimmy', 'aside', 'lineseparating', 'intended', 'umpire', 'natural', 'uncovered', 'toward', 'otherwise', 'justice', 'woman', 'excess', 'bunching', 'thrilled', 'nude', 'underwear', 'lighter', 'socks', 'tunics', 'anyways', 'reaching', 'thighs', 'theres', 'puffiness', 'surprised', 'delighted', 'particularly', 'defining', 'perhaps', 'shouldve', 'known', 'convert', 'confident', 'whoops', 'ribcage', 'anyway', 'exquisitely', 'unbeliev', 'amazingly', 'previous', 'chose', 'sits', 'tuck', 'interested', 'rest', 'pregnant', 'shower', 'congratulations', 'youve', 'dreamed', 'xxs', 'ginormous', 'onto', 'flying', 'squirrel', 'proper', 'oversized', 'flimsy', 'returned', 'hot', 'avantgarde', 'fashion', 'oversizedits', 'orders', 'understand', 'watching', 'awhile', 'accentuates', 'attention', 'removable', 'strap', 'swim', 'padding', 'cause', 'feb', 'course', 'stock', 'typical', 'arrived', 'monday', 'lighteningfast', 'speed', 'breathtaking', 'circa', 'faded', 'grandma', 'vintage', 'causes', 'unflattering', 'delicate', 'fault', 'peplum', 'brings', 'youd', 'highwaisted', 'suck', 'ruffles', 'rath', 'mauve', 'immediately', 'parties', 'friends', 'outings', 'california', 'september', 'ps', 'importantly', 'distracting', 'balloony', 'enveloped', 'unsnapped', 'skinnies', 'layer', 'pieces', 'stripes', 'shirts', 'taller', 'dip', 'covers', 'bum', 'instantly', 'def', 'fresh', 'hanger', 'basically', 'modelsized', 'boobs', 'itll', 'pucker', 'women', 'consider', 'job', 'hiding', 'imperfections', 'pleat', 'apparent', 'neckline', 'floaty', 'sagged', 'granted', 'hugged', 'rear', 'element', 'turquoise', 'muted', 'thank', 'collection', 'tend', 'priced', 'jut', 'ok', 'deep', 'department', 'tracy', 'reese', 'waited', 'gorgeously', 'holds', 'living', 'twirling', 'hemmed', 'gem', 'toned', 'tailored', 'risk', 'accuratei', 'colorspatterns', 'premium', 'pulled', 'zip', 'closed', 'closefitting', 'fleeceweight', 'within', 'popped', 'split', 'shoddily', 'discount', 'handsew', 'minor', 'repairs', 'xx', 'unlike', 'formfitting', 'smallest', 'maxi', 'height', 'excellent', 'selling', 'zips', 'rides', 'walk', 'pilcros', 'bout', 'skinnyathletic', 'soccer', 'player', 'hard', 'leg', 'gap', 'checked', 'boxes', 'required', 'litt', 'topjacket', 'heels', 'weigh', 'antho', 'arent', 'designer', 'kakhi', 'collar', 'unrolled', 'roll', 'wrinkled', 'shipment', 'cares', 'longtime', 'written', 'friday', 'sick', 'workout', 'sloppy', 'ultra', 'blackwhite', 'heathered', 'lately', 'closet', 'filled', 'mix', 'basics', 'scarves', 'dozen', 'ways', 'kimono', 'jazz', 'pricey', 'cheapness', 'asap', 'disclosure', 'six', 'flown', 'bump', 'instead', 'perfectlyso', 'lavender', 'higher', 'pilcro', 'heat', 'neither', 'shade', 'tone', 'busty', 'ddd', 'showed', 'hid', 'unfit', 'ease', 'stripe', 'flawlessly', 'man', 'unexpectedly', 'oh', 'elevate', 'accessories', 'transforms', 'clingy', 'saturated', 'paige', 'blackcharcoal', 'beads', 'prepared', 'bad', 'early', 'platform', 'diet', 'stop', 'thinking', 'sister', 'shopping', 'theyd', 'goner', 'somehow', 'highlow', 'manages', 'execute', 'face', 'versat', 'package', 'skeptical', 'pleased', 'dressthe', 'reader', 'outfits', 'listing', 'darling', 'care', 'shot', 'constructed', 'flaw', 'boho', 'edgy', 'sweet', 'afraid', 'outer', 'modest', 'plunge', 'airy', 'days', 'stitching', 'unraveled', 'washes', 'horse', 'race', 'keeps', 'cuter', 'aware', 'flairs', 'stands', 'closer', 'ladies', 'beware', 'redberry', 'fantastic', 'hugs', 'instructions', 'reading', 'dry', 'highlo', 'debating', 'lines', 'carries', 'reordered', 'solids', 'prints', 'boiled', 'contrasting', 'peachy', 'muchand', 'rolled', 'option', 'pocket', 'prominent', 'crisper', 'trouserlike', 'pantthis', 'register', 'marked', 'paying', 'hate', 'uk', 'ridiculous', 'initially', 'squeezed', 'sage', 'dipping', 'toe', 'colored', 'reccomend', 'undertsated', 'tru', 'comfort', 'given', 'mind', 'midriff', 'depending', 'teeny', 'purple', 'motif', 'favors', 'grace', 'kelly', 'combines', 'matches', 'pay', 'penny', 'remove', 'label', 'snags', 'unrepairable', 'forces', 'ml', 'fleece', 'stretched', 'skirts', 'trench', 'coats', 'gravitate', 'blues', 'eyes', 'tends', 'blueish', 'category', 'wider', 'allows', 'fluffier', 'creates', 'illusion', 'anyones', 'jean', 'vests', 'cardigans', 'regret', 'iti', 'plans', 'victim', 'trend', 'using', 'substituting', 'softer', 'horrors', 'waistband', 'sweatshirty', 'result', 'tla', 'xsm', 'bunches', 'crossing', 'gender', 'stores', 'nicer', 'vs', 'models', 'forward', 'mail', 'materical', 'absolute', 'gigantic', 'unreal', 'ten', 'heightwise', 'widthwise', 'swallowed', 'exchanging', 'reasonable', 'blush', 'drop', 'waisttiered', 'downright', 'bridal', 'dre', 'romantic', 'cranberry', 'cap', 'positive', 'forearm', 'impossible', 'raise', 'variety', 'textures', 'used', 'photos', 'hourglass', 'reddish', 'certainly', 'xss', 'rarely', 'zipper', 'pain', 'pastel', 'thanks', 'paned', 'except', 'stats', 'tallchestwaisthipsinseam', 'offering', 'designers', 'outdressed', 'lounging', 'house', 'durable', 'ankle', 'rocker', 'tightjust', 'rustic', 'regarding', 'armpit', 'thighness', 'mislabeled', 'mistake', 'defective', 'pics', 'jersey', 'dressey', 'waiste', 'elongatesy', 'sz', 'begins', 'layes', 'topno', 'al', 'word', 'caution', 'pregnancy', 'postpartum', 'shortwaisted', 'crotch', 'factory', 'strange', 'shops', 'comments', 'sheath', 'dancing', 'sometimes', 'uncommon', 'weddings', 'necessarily', 'outwear', 'young', 'coupon', 'shouldersi', 'pop', 'alert', 'letting', 'spots', 'expected', 'wowed', 'tapered', 'supersexy', 'alot', 'happily', 'level', 'background', 'tan', 'embroidered', 'eyelets', 'peeks', 'closing', 'si', 'intensely', 'seconds', 'rehearsal', 'imagined', 'ironed', 'steam', 'cinched', 'loosely', 'immediate', 'gift', 'truly', 'owner', 'coffee', 'along', 'volume', 'princess', 'matched', 'secure', 'awesome', 'waste', 'liner', 'bring', 'stuff', 'inconsistent', 'hook', 'head', 'wonder', 'ripped', 'soso', 'semisheer', 'trimmer', 'walking', 'pjs', 'delivered', 'macrame', 'burnt', 'indian', 'brick', 'redorange', 'disgusting', 'quick', 'itchylike', 'statedit', 'itches', 'sandpaperi', 'frank', 'point', 'favulous', 'capein', 'playful', 'chic', 'dramatic', 'statement', 'figureit', 'suppose', 'tobut', 'sense', 'pocketsi', 'play', 'favorites', 'season', 'excitement', 'honestly', 'second', 'hung', 'suspect', 'clipped', 'dressy', 'meant', 'sandels', 'everyone', 'woven', 'stick', 'win', 'neutral', 'toosh', 'pairing', 'grabbed', 'hemming', 'ruined', 'backordered', 'petites', 'combo', 'count', 'elegance', 'tough', 'call', 'confused', 'beige', 'product', 'lovelove', 'week', 'turtleneck', 'itching', 'bluegreynavy', 'madesturdy', 'cords', 'thighcalves', 'calves', 'cord', 'styles', 'star', 'fingers', 'albeit', 'unusual', 'loving', 'appreciate', 'detailed', 'patterns', 'ends', 'floral', 'adequate', 'lose', 'trip', 'onepiece', 'gi', 'basic', 'ans', 'lb', 'described', 'fully', 'opaque', 'showthough', 'improve', 'upon', 'advertised', 'disappointing', 'silk', 'blacknavy', 'dried', 'machines', 'shrank', 'snap', 'tricky', 'sew', 'warmer', 'creating', 'double', 'effect', 'crochet', 'getting', 'colorado', 'experience', 'including', 'unflatering', 'pleats', 'hitting', 'confusing', 'moving', 'goodlooking', 'takes', 'squirming', 'usa', 'mexico', 'globally', 'sourced', 'materials', 'ie', 'rusty', 'picturedslightly', 'fluffy', 'wri', 'treated', 'fullprice', 'shrinking', 'vintagelooking', 'threw', 'blus', 'mornings', 'isstill', 'flounce', 'methe', 'incredible', 'beneath', 'twill', 'circle', 'rd', 'anticipated', 'strangely', 'brown', 'xls', 'fast', 'bummer', 'stars', 'quickly', 'partly', 'shares', 'jeansknakis', 'ti', 'eyelet', 'clogs', 'express', 'prone', 'pilling', 'unfortunate', 'hole', 'hidden', 'pale', 'alteration', 'fuller', 'vertical', 'suggest', 'torn', 'portland', 'blouses', 'honey', 'tapers', 'wtih', 'disproportionately', 'hd', 'paris', 'someway', 'plenty', 'particular', 'bustline', 'resulted', 'rejected', 'offerings', 'past', 'real', 'lump', 'cautious', 'nailed', 'supportive', 'howe', 'ontrend', 'colorway', 'virtually', 'free', 'neon', 'multiple', 'visual', 'mesh', 'panel', 'transitional', 'threads', 'laundering', 'log', 'website', 'learn', 'machine', 'washable', 'lingerie', 'pu', 'opened', 'draw', 'string', 'bloused', 'tax', 'variations', 'ribbing', 'modern', 'unless', 'framed', 'biceps', 'helping', 'difficult', 'strangling', 'reason', 'pragmatics', 'lacking', 'regualr', 'striping', 'flowey', 'obvious', 'eptite', 'goood', 'hopes', 'jsut', 'spending', 'latetly', 'wildly', 'require', 'transparent', 'closely', 'museum', 'picnicso', 'blueorange', 'reoommend', 'largerknocked', 'luckily', 'surprise', 'sun', 'pradollano', 'loungers', 'hei', 'twist', 'luncheonwork', 'hair', 'styled', 'throwback', 'caught', 'sweatshirt', 'deterred', 'doubt', 'bootie', 'ticket', 'suuuuper', 'stylist', 'amazed', 'vneck', 'concern', 'requested', 'wrin', 'widest', 'section', 'gaping', 'fence', 'idea', 'priceim', 'shorty', 'plum', 'corduroy', 'according', 'directions', 'considerably', 'qualityi', 'watch', 'bid', 'tucked', 'particulars', 'thinner', 'bothered', 'slimmer', 'cordspants', 'brands', 'bellflare', 'comparable', 'cheaper', 'detailedbut', 'springbut', 'july', 'evenings', 'space', 'passed', 'smallmedium', 'vendor', 'lays', 'per', 'cart', 'ages', 'waiting', 'general', 'fabulous', 'happen', 'creeps', 'wrinkling', 'hence', 'spectacular', 'matter', 'costumer', 'sooo', 'shimmery', 'thread', 'curvier', 'hesitation', 'lapels', 'complaints', 'placement', 'bother', 'spins', 'exchanged', 'creases', 'properly', 'crop', 'substantial', 'onyou', 'step', 'thru', 'opening', 'zippers', 'challenge', 'silhouettes', 'become', 'laid', 'compare', 'major', 'width', 'wise', 'typi', 'undershirt', 'sheerness', 'offwhite', 'stark', 'struggling', 'leana', 'follows', 'life', 'compared', 'summery', 'blossoms', 'honeybees', 'butterflies', 'afford', 'art', 'object', 'important', 'underslip', 'opacity', 'greenish', 'cast', 'pure', 'harder', 'generous', 'business', 'environment', 'pxs', 'bunched', 'funny', 'overwhelm', 'hemline', 'snagging', 'oddbig', 'adjustable', 'spice', 'destructed', 'burgundy', 'voluminous', 'camisole', 'bandeau', 'travel', 'disguising', 'loads', 'men', 'femininity', 'stops', 'sugary', 'guy', 'bunch', 'copper', 'ones', 'altar', 'bailey', 'hail', 'enhances', 'horribly', 'scratchy', 'kicky', 'bargain', 'basement', 'kicking', 'warms', 'theyll', 'fluid', 'swore', 'husband', 'plaids', 'lied', 'desert', 'wine', 'furry', 'fallwinter', 'attracted', 'harsh', 'keeper', 'vacation', 'shoes', 'yesterday', 'lady', 'weighing', 'foot', 'expense', 'pajamas', 'million', 'bucks', 'womans', 'fantasy', 'jumper', 'asked', 'elses', 'complex', 'torsothen', 'pulling', 'speaking', 'built', 'blazers', 'wellfitting', 'linings', 'satisfactory', 'illfitting', 'shop', 'unhappy', 'share', 'poor', 'hardly', 'stand', 'deff', 'depth', 'satinlike', 'provide', 'risqu', 'faux', 'honest', 'ridealong', 'meet', 'shipping', 'minimum', 'wound', 'unevenish', 'appeal', 'largeyou', 'taneven', 'skimming', 'audrey', 'hepburn', 'grosgrain', 'girl', 'easier', 'tossing', 'min', 'helped', 'clean', 'maintenance', 'billowy', 'gauzy', 'silky', 'hooked', 'beyond', 'versatility', 'ask', 'snack', 'turqoise', 'smell', 'transferred', 'dye', 'tub', 'pilled', 'constantly', 'exclusive', 'returns', 'standup', 'folds', 'belted', 'builtin', 'fasteners', 'everyday', 'depicted', 'commented', 'pros', 'outweigh', 'cons', 'cover', 'fuzz', 'accurate', 'biggest', 'disappointment', 'daughters', 'occasion', 'youll', 'topthe', 'waaay', 'multi', 'called', 'dominate', 'representation', 'round', 'waffle', 'john', 'landscapeprint', 'durham', 'nc', 'xmas', 'appeared', 'silkscreen', 'curved', 'blazerlike', 'patiently', 'promotion', 'struck', 'telling', 'investment', 'common', 'anymore', 'polyester', 'ver', 'location', 'warehouse', 'vary', 'polished', 'mint', 'says', 'grayish', 'accept', 'ruffle', 'hides', 'unraveling', 'fix', 'fat', 'stageand', 'bulge', 'redits', 'evident', 'sets', 'apart', 'doublelayered', 'ahead', 'forgiving', 'lengt', 'thistop', 'iscomfortable', 'restrictive', 'willing', 'fringe', 'holding', 'horses', 'beginning', 'restocked', 'yay', 'defin', 'antropologies', 'cloths', 'vanity', 'minimized', 'flares', 'catalog', 'figures', 'currently', 'compareed', 'trapeze', 'pass', 'fa', 'ready', 'minutes', 'compartments', 'dcup', 'necessity', 'acceptable', 'largei', 'fitunfortunately', 'itfor', 'amazingi', 'softness', 'toenails', 'pierce', 'sock', 'bonus', 'spathese', 'stay', 'thigh', 'garter', 'li', 'prompted', 'maroon', 'temps', 'easil', 'equally', 'retain', 'neatness', 'scallops', 'god', 'bless', 'soul', 'birthday', 'regardless', 'midsection', 'whi', 'st', 'nd', 'designnot', 'impractical', 'oversight', 'mobility', 'stalked', 'dropped', 'pounced', 'unwearable', 'oddly', 'shrinks', 'saturateddeeper', 'single', 'motifs', 'likely', 'live', 'decades', 'superb', 'military', 'north', 'caroline', 'swings', 'untucked', 'amd', 'value', 'snowflske', 'awful', 'dressuntil', 'drywhich', 'differently', 'instruct', 'annoyed', 'shrinkage', 'luv', 'con', 'patience', 'organization', 'cleaning', 'gently', 'flatters', 'moomoo', 'jeggings', 'fla', 'sleeved', 'needsnot', 'downsidesi', 'tightsand', 'nature', 'glide', 'therefore', 'int', 'tightform', 'reversed', 'tempted', 'adored', 'continued', 'yarn', 'opposed', 'puffy', 'sharking', 'boxyish', 'ordinarily', 'thinnerstraightershaped', 'basket', 'tiem', 'liekd', 'ot', 'otherwsie', 'pettie', 'mifnight', 'aka', 'friend', 'laways', 'tenty', 'cardi', 'shimmering', 'forest', 'teardrop', 'panels', 'zero', 'coupled', 'possibly', 'cheapest', 'manufactured', 'exhausting', 'safe', 'prewashed', 'considering', 'ruin', 'extrabillowy', 'tasteif', 'behind', 'normala', 'overwhelmed', 'taste', 'wife', 'christmas', 'shes', 'kidding', 'information', 'fairly', 'longwaisted', 'falling', 'laser', 'thinkthe', 'remind', 'welli', 'comfie', 'shabby', 'darn', 'upbeat', 'fuzzy', 'eventually', 'snag', 'curve', 'becoming', 'flirty', 'padded', 'busyness', 'drawback', 'depends', 'greeny', 'choice', 'generously', 'springsummerness', 'hyphen', 'chinos', 'stretchiness', 'sewn', 'shut', 'sag', 'eye', 'poofy', 'combined', 'girlish', 'prettier', 'shorten', 'cuteunfortunately', 'nowadays', 'swimsuits', 'openings', 'disliked', 'managed', 'distance', 'christmastime', 'additional', 'hesitated', 'avoid', 'picking', 'clinging', 'topsdresses', 'chesty', 'ha', 'easybreezy', 'longsleeve', 'highlights', 'maxis', 'overwhelming', 'moves', 'lengths', 'drew', 'rt', 'contemporary', 'salesperson', 'raved', 'told', 'daughte', 'tentlike', 'cashmere', 'default', 'shawl', 'vice', 'versa', 'hopefully', 'oneoff', 'changes', 'help', 'range', 'shoppers', 'lie', 'create', 'waistline', 'bubble', 'shoesaccessories', 'comparison', 'sizebigger', 'write', 'waistt', 'ehre', 'move', 'kne', 'buggier', 'gym', 'tail', 'accessorized', 'suggestion', 'offever', 'locate', 'hour', 'mini', 'photographs', 'pintuck', 'buttondown', 'lilac', 'justiceit', 'band', 'draws', 'cottonvery', 'casuali', 'chunky', 'slips', 'seamlessly', 'intend', 'elbow', 'patches', 'expectations', 'apparel', 'heeled', 'reshipped', 'wrinkles', 'determine', 'shame', 'sending', 'manner', 'secondly', 'individuals', 'necessitated', 'replacement', 'sturdy', 'altered', 'underarms', 'alteredi', 'lyocel', 'cd', 'college', 'graduation', 'complimented', 'professional', 'strangest', 'poofs', 'crazy', 'droopy', 'occasionally', 'backdesign', 'tons', 'versitile', 'skims', 'cupro', 'substitute', 'breathes', 'uniqlo', 'uses', 'airism', 'products', 'barbecue', 'tied', 'sandal', 'duster', 'avoids', 'bathrobe', 'sorry', 'bet', 'blousy', 'criticism', 'figured', 'kinda', 'mixed', 'textiled', 'accommodates', 'daytime', 'bare', 'pleating', 'consideration', 'cinching', 'dare', 'street', 'curling', 'book', 'fire', 'active', 'emphasizes', 'prom', 'ribbon', 'slub', 'midbum', 'girlfriend', 'card', 'working', 'werent', 'highquality', 'owned', 'bold', 'midknee', 'enormous', 'overtheknee', 'glitzy', 'intricate', 'bunchy', 'sensitive', 'metallics', 'thrown', 'enthralled', 'par', 'xsxsp', 'exposed', 'summed', 'thoughts', 'capsleeve', 'solves', 'crossover', 'cutouts', 'mimic', 'traditional', 'sari', 'sacrificing', 'inspired', 'standout', 'sea', 'lov', 'creme', 'windowpane', 'kicks', 'notch', 'weekends', 'four', 'versions', 'morning', 'glory', 'canna', 'closures', 'cinch', 'likecomplainers', 'forewarned', 'slimslenderpetite', 'tw', 'reach', 'formal', 'reluctant', 'marled', 'sstyle', 'partial', 'ski', 'spotted', 'planning', 'fur', 'planned', 'styling', 'sorta', 'target', 'stumpified', 'seychelles', 'cognac', 'fixed', 'iron', 'seaming', 'culottes', 'largemore', 'sitting', 'hoodie', 'seamstress', 'shocked', 'alterations', 'rolling', 'necklineand', 'knowing', 'removed', 'significant', 'bulk', 'clasp', 'inverted', 'needlessly', 'rotund', 'profile', 'posture', 'hunched', 'unaltered', 'silh', 'sweatertunic', 'structure', 'raspberry', 'orangered', 'referring', 'strong', 'poncho', 'springy', 'mark', 'navygray', 'matching', 'puffer', 'san', 'diego', 'retailers', 'town', 'detaches', 'reversible', 'treat', 'yoself', 'reddishorange', 'coloration', 'coolerrainy', 'brightens', 'launders', 'update', 'pressed', 'sat', 'entire', 'maker', 'measured', 'terribly', 'reg', 'continues', 'dressshirt', 'gain', 'sound', 'ability', 'change', 'hopeful', 'weirdly', 'loses', 'five', 'crumpled', 'nobody', 'reviewed', 'butthe', 'favourite', 'sleep', 'drying', 'velvety', 'dusty', 'rose', 'complete', 'mission', 'jacketcardigan', 'ranks', 'leaves', 'aesthetic', 'pa', 'modal', 'rightnot', 'lies', 'softens', 'facejust', 'fori', 'softlooking', 'frilly', 'ruffled', 'placket', 'genius', 'snapped', 'stays', 'restricting', 'throat', 'lenght', 'post', 'partum', 'laundry', 'frustrating', 'hippie', 'oldladyish', 'versatilewhat', 'makeup', 'apparently', 'soap', 'impression', 'bluepurplesilver', 'orangetangold', 'unsure', 'lengthcan', 'mom', 'strangers', 'thisand', 'scored', 'frayed', 'previously', 'charcoal', 'asymmetrical', 'pieced', 'superflattering', 'imay', 'excelle', 'saying', 'itch', 'load', 'justifies', 'peeked', 'leather', 'pilcroi', 'recognized', 'luck', 'intent', 'vacations', 'anticipating', 'judging', 'bodycon', 'anti', 'umbrella', 'contemplating', 'dot', 'garment', 'suction', 'cups', 'entirely', 'tore', 'visit', 'relative', 'heavily', 'purchasers', 'deodorant', 'perfume', 'nauseating', 'condition', 'downhill', 'armpits', 'ai', 'sticky', 'humid', 'hanging', 'door', 'lover', 'usu', 'sum', 'trendy', 'patter', 'brunch', 'celebration', 'sweaterit', 'loud', 'upsize', 'shortsleeved', 'dresss', 'batwing', 'combinations', 'patternsfabrics', 'apple', 'affect', 'ex', 'jeansnot', 'muc', 'winterthe', 'softcomfortable', 'rougher', 'instant', 'glamour', 'burnout', 'holidays', 'flowing', 'flaws', 'conceals', 'breath', 'striking', 'cancelled', 'teenage', 'boys', 'unzip', 'buckles', 'month', 'sunday', 'enjoyed', 'site', 'lo', 'behold', 'sizingfit', 'respect', 'questioned', 'sans', 'issuesi', 'lessthanflattering', 'implies', 'bell', 'execution', 'lean', 'bc', 'realllly', 'provence', 'sunset', 'walked', 'creation', 'lacy', 'southoffrance', 'american', 'shy', 'powers', 'internet', 'magnolia', 'charlie', 'trousers', 'beachy', 'purse', 'backorder', 'tocall', 'effortless', 'remarkable', 'drawn', 'colours', 'undershirtcamisole', 'cuffed', 'reveal', 'festive', 'lends', 'bbq', 'soooooo', 'sports', 'strappiness', 'allit', 'character', 'classes', 'pump', 'trapezeshaped', 'smallsize', 'topblouse', 'pleasantly', 'fitand', 'accommodated', 'possess', 'stretches', 'inward', 'bodyso', 'autumn', 'saturday', 'afternoon', 'overpowering', 'jeanswith', 'launder', 'capsule', 'lacing', 'offtheshoulder', 'strapless', 'alas', 'chemise', 'nevertheless', 'multitude', 'options', 'results', 'palette', 'mall', 'knots', 'negative', 'ish', 'denimy', 'lightness', 'mass', 'realized', 'beauty', 'jumpers', 'cuts', 'eating', 'gained', 'painful', 'derri', 'cocktail', 'silhouette', 'baroque', 'flavor', 'textured', 'jumps', 'suit', 'suits', 'provides', 'note', 'australian', 'standards', 'dainty', 'giant', 'started', 'touched', 'searching', 'trucker', 'referance', 'promptly', 'anytime', 'fuss', 'destroyed', 'royal', 'flower', 'sweateri', 'washingthe', 'downsizing', 'heel', 'bf', 'promo', 'topper', 'finishes', 'reminder', 'collected', 'bailly', 'colwyn', 'rxxsxs', 'frankly', 'clown', 'conundrum', 'example', 'qu', 'break', 'fond', 'limp', 'ts', 'elaborate', 'followed', 'tshirts', 'tr', 'set', 'mossy', 'greengrey', 'sharp', 'ride', 'midst', 'losing', 'exceeded', 'combination', 'consistently', 'sophisticated', 'occasional', 'companies', 'exclusively', 'retailerbut', 'timethats', 'begin', 'describe', 'distinct', 'exclude', 'mileage', 'breastfeeding', 'rate', 'rust', 'mothers', 'colorless', 'bleach', 'chrolox', 'themi', 'mad', 'crushed', 'stuck', 'dowdy', 'trouble', 'arrivals', 'rib', 'cage', 'number', 'plaid', 'subtlelight', 'window', 'pane', 'brothers', 'conference', 'floreat', 'serif', 'airplanes', 'closes', 'nearly', 'embellished', 'theyve', 'embellishment', 'beaded', 'crunchy', 'ru', 'alt', 'fav', 'period', 'returnedso', 'dressing', 'knotted', 'welldesigned', 'hug', 'stuckbadly', 'packing', 'ship', 'drapey', 'unrealistic', 'fancier', 'indeed', 'personally', 'coloring', 'messing', 'athleticmuscular', 'kids', 'choose', 'vacationing', 'heads', 'cheapens', 'lookdefinitely', 'hte', 'lost', 'unfrotuantely', 'bracelets', 'wellmade', 'regrettably', 'tastes', 'texas', 'girlie', 'lush', 'skort', 'hawaii', 'outside', 'storesoft', 'relatively', 'concrete', 'wall', 'school', 'pin', 'outline', 'wante', 'constructioncraftmanship', 'intrigued', 'convinced', 'offset', 'securesupportive', 'hesitate', 'lar', 'success', 'wi', 'pumps', 'sneakers', 'scoop', 'minute', 'warned', 'enamored', 'dressshirtcoat', 'shouldered', 'gather', 'western', 'shots', 'marvelous', 'santee', 'escalante', 'violet', 'fluxes', 'states', 'waters', 'cutwork', 'risky', 'thisa', 'charlies', 'wrote', 'brush', 'strokes', 'isabella', 'sinclair', 'grid', 'wrap', 'intentions', 'nursing', 'opens', 'convenient', 'mother', 'bl', 'antheropologie', 'praise', 'boyleg', 'seafolly', 'slouchy', 'hat', 'distinction', 'canton', 'taping', 'tended', 'prevented', 'highlighting', 'edges', 'pops', 'present', 'uploaded', 'mask', 'digging', 'transistional', 'accessorize', 'bland', 'plumbrown', 'orde', 'balling', 'continue', 'underskirt', 'additionally', 'fraying', 'stitched', 'steep', 'arrive', 'niece', 'married', 'embrodering', 'rounder', 'braless', 'flatter', 'guessing', 'blend', 'truth', 'taper', 'intention', 'cure', 'clingier', 'substance', 'raw', 'insanely', 'constant', 'rotation', 'vibranttrue', 'delicious', 'shortsjust', 'workmanship', 'somewhere', 'village', 'nyc', 'misplaced', 'total', 'loss', 'delicacy', 'sendback', 'square', 'cottonlinen', 'blends', 'cycle', 'air', 'report', 'cape', 'superior', 'became', 'rooms', 'pajama', 'wouldve', 'steve', 'cushy', 'favor', 'interim', 'killer', 'sish', 'current', 'box', 'bow', 'detachable', 'safety', 'nights', 'translucent', 'thus', 'cleaned', 'comment', 'durability', 'cusp', 'imo', 'perhap', 'mango', 'goodness', 'territory', 'otherw', 'cloth', 'direction', 'borderline', 'wearin', 'defined', 'phone', 'wrapped', 'blanket', 'yellowish', 'mottle', 'polka', 'yellower', 'nonetheless', 'te', 'hops', 'rack', 'correctly', 'fo', 'sways', 'sweaterlike', 'partake', 'dumpy', 'overpower', 'drawstrings', 'nanny', 'exquisite', 'suitable', 'yearround', 'handwash', 'carefully', 'miniature', 'circular', 'informal', 'aspect', 'attended', 'sihirt', 'shimmer', 'thickness', 'sequins', 'optimal', 'cross', 'twoperson', 'bodice', 'zipped', 'sweaterjacket', 'chanel', 'closure', 'jackets', 'appalled', 'drapery', 'misleading', 'pea', 'list', 'pal', 'eprson', 'materila', 'thinish', 'strecthy', 'brr', 'capped', 'dindt', 'exepct', 'somethig', 'rocked', 'defense', 'solidly', 'loops', 'offsets', 'beauti', 'flannely', 'cuffs', 'colorways', 'offered', 'listed', 'distressed', 'holey', 'culotte', 'basketball', 'hybrid', 'heavenvery', 'windy', 'buildings', 'wind', 'tunnels', 'alittle', 'waista', 'forgiveness', 'le', 'appealing', 'derriere', 'llama', 'eagerly', 'awaited', 'arrival', 'ahmazing', 'desired', 'lookedstrange', 'rolle', 'causal', 'sweat', 'lounge', 'xsmal', 'proportioned', 'meaning', 'rail', 'tush', 'automatically', 'rolls', 'trick', 'styledits', 'curvey', 'board', 'teenagers', 'eve', 'gianormous', 'feared', 'hipy', 'yuck', 'looseness', 'navymarin', 'apprehensive', 'stretching', 'andor', 'cartonnier', 'insisted', 'goodone', 'knows', 'talking', 'mjuch', 'huhm', 'twinsies', 'consistent', 'salon', 'various', 'lively', 'underdress', 'static', 'shouldnt', 'finds', 'adjusted', 'wrists', 'oatmeal', 'farskinned', 'blonde', 'pearshaped', 'complementary', 'straighter', 'colorfeels', 'emphasize', 'quirky', 'skip', 'overlooked', 'introduced', 'yucky', 'breaker', 'autumnwinter', 'il', 'unbutton', 'billows', 'balance', 'tra', 'prior', 'wished', 'broken', 'khakis', 'bathing', 'feedback', 'portions', 'cue', 'darlings', 'sight', 'fail', 'boy', 'lowmaintenance', 'inner', 'wiggle', 'gorgeouson', 'halfway', 'web', 'sacklike', 'vivid', 'wh', 'nervous', 'lets', 'hated', 'older', 'golden', 'exact', 'opposite', 'potato', 'weighed', 'travelling', 'array', 'differing', 'opinions', 'sentiments', 'slimstraight', 'ni', 'nook', 'cranny', 'skim', 'ground', 'wedge', 'shoe', 'appliqu', 'raising', 'rhinestones', 'catch', 'movements', 'tangl', 'kneethe', 'chubby', 'appearance', 'belting', 'swallow', 'flexible', 'pinkypurple', 'mommy', 'evergreen', 'obviously', 'manage', 'turqouise', 'workplace', 'oversize', 'fave', 'suede', 'retailerthe', 'pix', 'delicatecasual', 'fittinghits', 'letters', 'motifstyle', 'teacher', 'hearts', 'fox', 'cats', 'random', 'theme', 'bath', 'robe', 'skinnys', 'markdown', 'sticks', 'intentional', 'knot', 'birds', 'tanks', 'wearvery', 'camre', 'brighten', 'lipstick', 'whatever', 'pick', 'larges', 'laughing', 'muffin', 'toile', 'pinks', 'somebody', 'instore', 'helpful', 'camel', 'indicates', 'brioche', 'stitch', 'loft', 'raglan', 'decreases', 'angles', 'clear', 'flashing', 'breeze', 'needing', 'charity', 'bordeaux', 'cable', 'varying', 'pinned', 'lifting', 'expose', 'pushing', 'legcrop', 'sizebuild', 'citizen', 'butwowza', 'onexchange', 'carry', 'greenville', 'sc', 'sassy', 'inperson', 'dull', 'scouting', 'flouncy', 'steel', 'bluegrey', 'doll', 'fragile', 'picks', 'shaping', 'outthis', 'bead', 'visible', 'alsolooks', 'dips', 'felty', 'accurately', 'depict', 'conservative', 'sparkles', 'production', 'proportion', 'accordinglythis', 'smallthis', 'representative', 'categories', 'associates', 'womens', 'mevery', 'networking', 'semi', 'dinners', 'rockies', 'woodland', 'animal', 'raccoons', 'critters', 'flannel', 'sprang', 'craftsmanship', 'hue', 'relaxes', 'photograph', 'foxes', 'scotty', 'dogs', 'trees', 'henleys', 'excessive', 'surpassed', 'wildest', 'offer', 'swinging', 'killed', 'redhead', 'neony', 'developed', 'veyr', 'granite', 'counter', 'excuse', 'mindbut', 'proportions', 'hippy', 'themed', 'expects', 'hadnt', 'finially', 'trust', 'tired', 'ties', 'recall', 'slighting', 'mound', 'thorwback', 'mankind', 'giganticit', 'linenlike', 'whiskering', 'percentages', 'effects', 'skew', 'summation', 'justify', 'southwestern', 'mannequin', 'record', 'gripe', 'connecting', 'camisoles', 'deter', 'muscularcurvy', 'cellulite', 'boring', 'rare', 'unimpressed', 'worse', 'obscene', 'ambitious', 'rumpled', 'grandmothers', 'attic', 'jumped', 'orangey', 'breeziness', 'sake', 'coolits', 'certain', 'factoring', 'listened', 'eight', 'upsizing', 'nowhere', 'trial', 'reunion', 'tomorrow', 'displayed', 'orderin', 'ref', 'gauze', 'gathers', 'glorious', 'void', 'espadrilles', 'reality', 'fair', 'crinkly', 'fingertips', 'snugger', 'admittedly', 'necklaces', 'inspires', 'reveries', 'castles', 'legends', 'eira', 'met', 'geometric', 'forgot', 'stra', 'watercolor', 'besides', 'undies', 'seethru', 'spectrum', 'bette', 'coppery', 'complimentary', 'heartbroken', 'border', 'packed', 'midthigh', 'anyhow', 'slate', 'cleanly', 'proven', 'nurse', 'newborn', 'hates', 'acid', 'cutest', 'litter', 'vouch', 'fitbut', 'buckle', 'weak', 'ugly', 'sayi', 'hey', 'gel', 'manicure', 'die', 'car', 'seats', 'sofa', 'fifties', 'largish', 'stage', 'mpetite', 'marred', 'endowed', 'none', 'advice', 'alternate', 'toggles', 'butwhat', 'lack', 'tolerable', 'tucks', 'brass', 'slides', 'goto', 'email', 'teaser', 'devastated', 'delight', 'coveted', 'michael', 'kors', 'shapes', 'claim', 'valid', 'stonewashing', 'linear', 'studying', 'university', 'underdressed', 'overdressed', 'solution', 'uniform', 'class', 'minnesota', 'winters', 'complained', 'chiffon', 'chunk', 'budget', 'oth', 'raincoat', 'forever', 'tightness', 'raining', 'oldfashioned', 'wispy', 'ribbons', 'kills', 'normallength', 'chosen', 'aestheticdesign', 'stepped', 'tencil', 'lowcut', 'rating', 'ama', 'butterfly', 'choosing', 'hairy', 'placed', 'rip', 'dreamy', 'terrific', 'vanja', 'flair', 'subway', 'bench', 'adjust', 'pinksalmon', 'significantly', 'elegantly', 'empire', 'pendant', 'halfwish', 'smallparticularly', 'ignore', 'maeves', 'cutecasual', 'revealingthe', 'plunging', 'armmaybe', 'charming', 'charm', 'fringed', 'skinnystraight', 'opt', 'saccharine', 'um', 'eyeballing', 'abo', 'gloves', 'prompt', 'lasts', 'disagree', 'robs', 'football', 'finish', 'zipping', 'bothersome', 'cottonpolyester', 'ratio', 'alter', 'requiring', 'materialpattern', 'bi', 'brighter', 'flatteringslimming', 'words', 'attempted', 'stacked', 'agreement', 'original', 'sash', 'intentionally', 'weave', 'airynot', 'freezing', 'receiving', 'cargos', 'dyes', 'gentle', 'shallow', 'pricy', 'wo', 'nightmare', 'loosen', 'sliding', 'proportional', 'horizontal', 'group', 'mist', 'everytime', 'demure', 'lol', 'replaced', 'antro', 'child', 'stiffer', 'gathering', 'contributes', 'fashionable', 'functional', 'itchiness', 'imaging', 'bustling', 'meit', 'bohemian', 'splits', 'lysee', 'bootiesi', 'quarter', 'girlhave', 'admit', 'fab', 'ac', 'wld', 'recd', 'observation', 'workday', 'shipped', 'till', 'dumped', 'attempt', 'irritating', 'calf', 'sacramento', 'mustard', 'mess', 'regrets', 'crepe', 'blackgrey', 'speckled', 'mewould', 'varied', 'downside', 'jewelryhandbags', 'chains', 'embellishments', 'bluegray', 'puffs', 'ziphoodie', 'sky', 'hh', 'miles', 'widelegged', 'leaning', 'khaki', 'lights', 'qualityvery', 'challenging', 'ugh', 'ignored', 'instinct', 'dollars', 'snappy', 'leaving', 'puckered', 'sleevesand', 'slacks', 'meets', 'collarbone', 'cheerful', 'jasper', 'jeera', 'nijar', 'sandles', 'ladiesthe', 'drawstringlike', 'flirt', 'banding', 'homerun', 'smitten', 'bizarre', 'limited', 'softbreathable', 'satisfied', 'designs', 'applaud', 'overalls', 'assumed', 'rosy', 'unexpected', 'outs', 'yoke', 'company', 'ample', 'needless', 'gauge', 'willingness', 'tha', 'poorly', 'toro', 'inlove', 'boxer', 'regain', 'south', 'shapeaverage', 'equivalent', 'standing', 'pantyhose', 'spansthey', 'paininducing', 'beautifulit', 'lessthanperfect', 'buttonup', 'extensively', 'tack', 'pur', 'hypen', 'salmon', 'apricot', 'mindboggling', 'drastic', 'gala', 'awards', 'ceremony', 'selected', 'easel', 'caftan', 'providing', 'bothers', 'nylons', 'droop', 'pinch', 'weekly', 'itany', 'nottooshort', 'tiered', 'beadssequins', 'whimsy', 'tassels', 'tiesoo', 'cumbersome', 'calling', 'smallxsmall', 'itd', 'sheepskin', 'rug', 'chart', 'brought', 'consequently', 'lint', 'turns', 'zoom', 'specs', 'complimen', 'overlay', 'sheerer', 'ballooned', 'noticeably', 'brokesad', 'unbelievably', 'loungewear', 'cushion', 'bootcut', 'perfecti', 'gradually', 'climates', 'indoors', 'plane', 'airport', 'driving', 'elsewhere', 'bumped', 'crinkled', 'cardiganjacket', 'practically', 'rainy', 'weightnot', 'mater', 'splurge', 'sooooo', 'smallchested', 'bustier', 'uniqueness', 'babydoll', 'rated', 'straining', 'tommy', 'bahama', 'heather', 'canadian', 'marks', 'bathroom', 'modernwell', 'blessed', 'splurged', 'lucky', 'intarsia', 'bits', 'tree', 'island', 'uncuff', 'slipped', 'darts', 'weighty', 'diamond', 'muumuu', 'irradiates', 'seeing', 'absoluty', 'safely', 'preserved', 'recomend', 'manthis', 'cave', 'encourage', 'overindulge', 'sexyconservative', 'catching', 'handles', 'throwing', 'meanwhile', 'starts', 'marrakech', 'thingsmaxi', 'hems', 'peaking', 'sle', 'pricedhowever', 'clog', 'essential', 'dipped', 'printcolor', 'accidental', 'imp', 'didreceived', 'qualitysome', 'weathered', 'narrower', 'beadwork', 'gingham', 'name', 'recommendation', 'frequently', 'smallextra', 'busting', 'overpowered', 'fulllength', 'weighs', 'sactuary', 'mei', 'patten', 'nicey', 'flowery', 'heights', 'vertically', 'seamless', 'display', 'approach', 'anthto', 'gon', 'na', 'diagonal', 'widths', 'compfy', 'scrunched', 'gifting', 'bedtime', 'pampered', 'cheep', 'definelty', 'oceanside', 'attend', 'rigid', 'zippered', 'entry', 'broader', 'comically', 'suitcase', 'pineapple', 'maui', 'tug', 'foresee', 'backyard', 'hoops', 'bo', 'pullover', 'employee', 'melodist', 'issuetoo', 'wellstructured', 'refined', 'fridays', 'festival', 'smallerbusted', 'grommets', 'frontclosure', 'racerback', 'bras', 'spilling', 'comfiest', 'picturethe', 'approximately', 'contact', 'pinched', 'thinnest', 'reinforced', 'unhealthily', 'push', 'loosens', 'grabbing', 'undergarments', 'boat', 'shortslegs', 'unacceptable', 'questionable', 'iam', 'throug', 'specific', 'purplish', 'colorvaried', 'figureflattering', 'thinness', 'flared', 'foam', 'strips', 'closeup', 'posted', 'decent', 'wearings', 'paid', 'heard', 'sl', 'pads', 'tents', 'bowback', 'nautical', 'recurve', 'stress', 'awkwardly', 'sisters', 'screams', 'reviewlooks', 'lengthening', 'honesti', 'cleaner', 'term', 'exaggeration', 'dishes', 'reserve', 'lists', 'xspetite', 'aa', 'mainly', 'eit', 'trapezoid', 'blazerlooks', 'degree', 'horticulture', 'prepregnancy', 'bosom', 'loosefitting', 'plug', 'code', 'bone', 'wideleg', 'flatteringlyplaced', 'insist', 'slipping', 'bullet', 'matters', 'pool', 'graceful', 'modelmid', 'grea', 'haha', 'flowed', 'silly', 'unflatteringly', 'moo', 'topsjacketssweatersas', 'shoesboots', 'bringing', 'offers', 'rona', 'sa', 'pointed', 'wellproportioned', 'bat', 'brainer', 'uber', 'linking', 'pearl', 'bett', 'florals', 'ittuck', 'longtunic', 'slippery', 'laces', 'tryi', 'clutch', 'gemnot', 'relaxing', 'sn', 'cinchers', 'waits', 'aesthetics', 'functionality', 'weaned', 'tulle', 'prairie', 'glorified', 'engagement', 'weari', 'pouf', 'spanks', 'writing', 'illplaced', 'fluff', 'twisted', 'bulges', 'exceptional', 'petticoats', 'shiny', 'gypsyishmy', 'firm', 'whimsical', 'shades', 'drab', 'pillsnag', 'hipped', 'fluctuates', 'hammy', 'stinks', 'thighsha', 'noticeable', 'dreaded', 'fabricfit', 'ordinary', 'boxier', 'flatchested', 'remember', 'redeeming', 'qualities', 'promise', 'impeccable', 'hav', 'midseptember', 'salesgirl', 'assured', 'discovered', 'rebought', 'nabbing', 'testament', 'cost', 'thirst', 'bows', 'tbu', 'hite', 'cools', 'deeper', 'greens', 'browns', 'caveats', 'practicaltheyre', 'temperatures', 'lightermore', 'silvery', 'depicts', 'ab', 'longline', 'underwire', 'teared', 'longerlarger', 'betweenseason', 'garments', 'nicest', 'demonstrates', 'compatible', 'situation', 'comfortableso', 'versatileso', 'notation', 'advised', 'checkout', 'desk', 'anticipation', 'alley', 'allseason', 'purcha', 'strawberry', 'shortcake', 'ruffling', 'dizzying', 'peeve', 'minimizes', 'soo', 'nordstrom', 'reinforce', 'chests', 'ds', 'contained', 'designfit', 'armhole', 'camisoletank', 'goofy', 'flexibility', 'covering', 'unroll', 'accentuate', 'smocking', 'dressmakers', 'sailcloth', 'finely', 'laced', 'gown', 'sleeping', 'cooling', 'redblack', 'shell', 'bagging', 'camoflage', 'printed', 'tencel', 'lon', 'mediumlarge', 'meim', 'muscular', 'horrid', 'frontnot', 'achieve', 'flowit', 'problemi', 'funky', 'unfinished', 'rawhemmed', 'keyhole', 'longagain', 'impact', 'smallbut', 'springtosummer', 'lackadaisical', 'midrise', 'leaned', 'reached', 'jacketinitially', 'melita', 'latter', 'jacketmiddle', 'tugging', 'funnel', 'drowning', 'athleticslim', 'gauzelike', 'readjust', 'lying', 'sorely', 'batch', 'popular', 'newer', 'batches', 'ther', 'marigold', 'mintteal', 'greydark', 'starting', 'cinches', 'unnecessary', 'cohesive', 'props', 'kimonos', 'homemany', 'fromm', 'terrified', 'drawstring', 'concerns', 'degrees', 'ponchos', 'detract', 'enjoy', 'eptites', 'msut', 'wrng', 'bude', 'wasit', 'elasticized', 'hire', 'ladys', 'maid', 'contortionist', 'decorative', 'held', 'fly', 'customer', 'service', 'replenishing', 'wildfire', 'prohibitively', 'sell', 'nightie', 'younger', 'bough', 'monitor', 'depiction', 'moreover', 'artist', 'fastits', 'angel', 'sought', 'appreciated', 'co', 'lightly', 'bomber', 'distract', 'muggy', 'daysesp', 'southern', 'intense', 'assets', 'displaying', 'crosses', 'matronly', 'shoulderupper', 'sexyish', 'gorge', 'bracelet', 'difficulty', 'funquirky', 'referred', 'batwings', 'trimester', 'unfolding', 'parts', 'floppy', 'platinum', 'cobalt', 'jacquard', 'skit', 'function', 'wondered', 'busy', 'longest', 'variation', 'coordinating', 'slouch', 'sewers', 'disguise', 'marring', 'puff', 'pm', 'skincoloring', 'hairolive', 'china', 'shelf', 'expectation', 'magic', 'worrying', 'counts', 'modernized', 'personality', 'attitude', 'tissue', 'midi', 'greatstylebeautiful', 'allaround', 'amp', 'hints', 'truer', 'embroid', 'spandex', 'incorporated', 'honor', 'duties', 'hugging', 'buckling', 'brides', 'children', 'fray', 'unbuttoning', 'circulation', 'buttoning', 'conceal', 'htey', 'bottomthighs', 'swimwear', 'eliminates', 'busts', 'wou', 'instores', 'tightened', 'xsi', 'fabricfine', 'cal', 'human', 'tap', 'dow', 'ishowever', 'saythe', 'greatnot', 'washer', 'curtain', 'pooled', 'subject', 'thicktextured', 'honoring', 'folks', 'elevates', 'gaps', 'berry', 'fancy', 'agreed', 'evanthe', 'redwine', 'differences', 'remaining', 'yo', 'twirls', 'blow', 'winds', 'stack', 'tryons', 'blown', 'orleans', 'presentation', 'glance', 'realize', 'paisley', 'leopards', 'tiger', 'xtra', 'surprising', 'dangling', 'trimmed', 'scissors', 'presale', 'creative', 'beforehand', 'frist', 'themmake', 'hipsthe', 'dust', 'iive', 'avoided', 'highrise', 'tuesday', 'walks', 'pizzaz', 'retailerpo', 'preteen', 'waaaay', 'advantage', 'fussing', 'underlay', 'cropssome', 'blackgray', 'jeansvery', 'camouflages', 'meal', 'reservations', 'bulkiness', 'adorableso', 'fianc', 'favorably', 'thembut', 'snow', 'whyyyyyyyyyyy', 'taupecolored', 'fiber', 'account', 'sift', 'headed', 'onwhat', 'smallthe', 'verdict', 'bot', 'boned', 'fitshapely', 'unwanted', 'senitive', 'greatthe', 'approprialty', 'rinestones', 'counting', 'exceptionally', 'witches', 'weightless', 'overheated', 'downfall', 'cabled', 'pearshape', 'peplumstyle', 'sweatshirts', 'applique', 'cheaply', 'soaked', 'bleu', 'twisty', 'curveseven', 'thorax', 'exist', 'disappoints', 'throwonandgo', 'cocoon', 'acrylicnylonwool', 'ordere', 'cuddly', 'shear', 'seemingly', 'hooded', 'nicel', 'bulged', 'marilyn', 'clung', 'requires', 'drinksdinner', 'afterwards', 'chestshoulders', 'lengththe', 'nothingspecial', 'biggie', 'temple', 'colorbutthe', 'pits', 'restriction', 'materi', 'misaligned', 'rows', 'likewise', 'curiosity', 'pointelle', 'crowd', 'hemslike', 'dragged', 'recei', 'jade', 'reads', 'dog', 'jumpsuits', 'selftie', 'definition', 'ensure', 'preparing', 'tested', 'buti', 'tear', 'testing', 'hrs', 'gaudy', 'caveat', 'manufacturers', 'elevenses', 'cutout', 'diaphanous', 'improved', 'tapering', 'addit', 'custom', 'ethnic', 'yarns', 'lead', 'pill', 'lazy', 'goanywhere', 'pound', 'grandmother', 'whats', 'script', 'boot', 'approaching', 'insets', 'rough', 'approx', 'stumbled', 'discomfort', 'fl', 'optimistic', 'catalogue', 'richer', 'studio', 'dres', 'baseball', 'bleachers', 'sleeker', 'shortcropped', 'starchy', 'juts', 'downs', 'flannelswhich', 'sleek', 'paper', 'mismatched', 'stunned', 'billow', 'anth', 'clouds', 'poplin', 'swiss', 'kn', 'urban', 'popsicles', 'popsicle', 'fitflare', 'shirtwaist', 'yumi', 'kim', 'public', 'bagginess', 'stet', 'impersonator', 'wonders', 'stets', 'greatness', 'circumferentially', 'differ', 'reviewe', 'reduce', 'addicted', 'browsing', 'espeically', 'polyesterrayonviscose', 'tick', 'synthetic', 'absence', 'easytowear', 'fairy', 'poof', 'oompa', 'loompa', 'involved', 'enormously', 'subdued', 'adjusting', 'repeat', 'circles', 'bent', 'receipt', 'bounce', 'deleted', 'coz', 'books', 'utility', 'flags', 'member', 'shortsskirts', 'necklines', 'family', 'deletta', 'simplistic', 'stayed', 'lke', 'climate', 'quiteappliqu', 'tod', 'forming', 'meeting', 'spacedye', 'cocoony', 'trainers', 'whip', 'bun', 'financial', 'bracket', 'nouveau', 'eastern', 'greater', 'lovers', 'etros', 'spent', 'thousands', 'afterward', 'intact', 'aggressive', 'tooso', 'fabrication', 'aided', 'eva', 'franco', 'jury', 'measur', 'burgandy', 'punch', 'bustyside', 'surely', 'ah', 'contraire', 'fade', 'block', 'chasing', 'heaven', 'smallerchested', 'chewed', 'news', 'opportunity', 'sharing', 'oversharing', 'gg', 'welldone', 'endofwinter', 'doldrums', 'powdery', 'separate', 'envision', 'slipdress', 'mary', 'janes', 'game', 'bodyand', 'widelegs', 'overboard', 'inappropriately', 'hardplastic', 'becomes', 'doable', 'printcolors', 'petitie', 'flood', 'remembering', 'inching', 'butter', 'gallery', 'ibs', 'elements', 'friendly', 'successful', 'pillfree', 'reveals', 'environs', 'dollar', 'legsthese', 'elder', 'handle', 'chub', 'motivate', 'useless', 'unlaced', 'tightly', 'treasure', 'torsos', 'waythe', 'flareadd', 'perfectlya', 'topsweater', 'wild', 'goose', 'chase', 'country', 'midwest', 'abercrombie', 'fraction', 'accents', 'thisits', 'eyed', 'immodest', 'delicates', 'assessment', 'perfectvery', 'notsogood', 'la', 'ombre', 'ruins', 'crops', 'midcalf', 'shortshorts', 'furthe', 'boxlike', 'texturedthick', 'portrays', 'newly', 'folded', 'dimension', 'prefect', 'accentuating', 'mashine', 'death', 'constricted', 'overweight', 'clings', 'experienced', 'shedding', 'problematic', 'redand', 'chanceand', 'fabricso', 'slanted', 'hi', 'cherish', 'decision', 'waistchallenged', 'narrowly', 'highend', 'righ', 'intolerable', 'flatten', 'fullness', 'shouldersbackupper', 'frontback', 'neat', 'peekaboo', 'unbuttoned', 'greyblue', 'european', 'sizestyle', 'hilarious', 'personal', 'stunner', 'pullovers', 'aubergine', 'garnet', 'skirtjeans', 'withstand', 'developing', 'pers', 'mn', 'claimed', 'cleans', 'onelove', 'rethinking', 'cat', 'secretly', 'scrunch', 'doublev', 'downward', 'proposed', 'edginess', 'hint', 'horseshoe', 'facing', 'howeveri', 'jeansshorts', 'purples', 'roses', 'painting', 'coworkers', 'tacky', 'dangerously', 'extended', 'europe', 'forsomething', 'law', 'outdoor', 'farm', 'tunicy', 'taupenavy', 'tailorfitted', 'lengthshape', 'regularlength', 'eq', 'swam', 'customers', 'stretchier', 'likes', 'birth', 'ruching', 'unsightly', 'females', 'complexion', 'filipino', 'ahem', 'blond', 'jacketcoat', 'laceup', 'completed', 'sheen', 'stood', 'flatteringway', 'blah', 'tact', 'returnso', 'imwas', 'imput', 'toembrace', 'roder', 'fitthis', 'nonmodels', 'beating', 'measure', 'patternpalette', 'genuinely', 'puzzled', 'waistdefinition', 'beshowed', 'skinniest', 'pr', 'selves', 'oozes', 'costume', 'steaming', 'ensured', 'experiencing', 'timeso', 'beltdoesnt', 'colorblocking', 'cleaners', 'informed', 'bleed', 'paneling', 'spotcleaned', 'computer', 'boo', 'inexpensive', 'bigam', 'forth', 'thi', 'moderately', 'dubious', 'stitches', 'bubbled', 'pastels', 'rocking', 'greatnice', 'wouldits', 'drag', 'lateseptember', 'seaside', 'realistic', 'italy', 'dryers', 'linedried', 'personthe', 'spilled', 'tummymuffin', 'highest', 'tremendously', 'emerald', 'transfer', 'inevitably', 'topso', 'wet', 'bib', 'pennyone', 'curvierathletic', 'emphasized', 'panty', 'interior', 'affixed', 'preferring', 'crooked', 'fauxfur', 'blizzard', 'forget', 'shoulderslike', 'underarm', 'restricted', 'junk', 'trunk', 'therell', 'anatomy', 'recommemd', 'volumous', 'meadow', 'rue', 'downed', 'pricebut', 'serious', 'jumpsuiti', 'fireside', 'fallwinternever', 'prewedding', 'dc', 'fullbusted', 'someones', 'train', 'video', 'highlighted', 'excessively', 'tonemore', 'yelloworange', 'largemaybe', 'torsopetite', 'summerit', 'skintoned', 'steamer', 'raving', 'regained', 'sincerely', 'fate', 'awaiting', 'meboxy', 'enjoying', 'earlier', 'collections', 'include', 'hemlines', 'atlanta', 'humidity', 'em', 'elbowtofulllength', 'yr', 'topbut', 'reviewsi', 'nightcant', 'understanding', 'limitations', 'critical', 'bizarrely', 'repeated', 'heeded', 'hoisted', 'everthing', 'cones', 'glamorous', 'deserves', 'puckers', 'classiclooking', 'ladylike', 'screaming', 'massively', 'swimmers', 'nee', 'waistlegs', 'thirty', 'peak', 'clasps', 'colorsblack', 'meleri', 'stain', 'damaged', 'damage', 'accepts', 'earthy', 'buttonholes', 'midweight', 'serve', 'purpose', 'seaso', 'link', 'detailcut', 'mins', 'deciding', 'teh', 'stiching', 'colw', 'ripples', 'tummmy', 'expensivei', 'atypical', 'upholstery', 'shirtdresses', 'cornflower', 'endlessly', 'complexions', 'handkerchief', 'gar', 'slipnighty', 'nightgowns', 'leaf', 'heihei', 'pooch', 'largest', 'southwesternish', 'rompers', 'threading', 'poly', 'pricier', 'quote', 'snatched', 'linin', 'pom', 'poms', 'comfyand', 'mottleddye', 'bordering', 'tint', 'stetson', 'coatjaclket', 'slighly', 'sport', 'summary', 'creampink', 'blueteal', 'sassiness', 'obsessed', 'itthen', 'spotlight', 'neath', 'wasted', 'checking', 'pathetic', 'represent', 'inaccurately', 'juxtaposition', 'topnormally', 'attach', 'similarly', 'reshaped', 'airdried', 'smallershorter', 'blacks', 'shrug', 'wa', 'bed', 'justiceloved', 'bear', 'polkadots', 'spare', 'buyers', 'kneelength', 'popping', 'timelessclassical', 'immensely', 'objected', 'insufficient', 'characteristic', 'workthe', 'nono', 'mayb', 'notat', 'mos', 'team', 'chillier', 'influence', 'enthusiasm', 'delightfully', 'sti', 'hlding', 'seaters', 'choices', 'falttering', 'triple', 'typei', 'converse', 'vans', 'mostespecially', 'exterior', 'mushroom', 'dusterlength', 'versus', 'rushed', 'tealblue', 'elevated', 'adn', 'troubadour', 'seasonbut', 'pirces', 'hink', 'nexl', 'ine', 'pcture', 'discover', 'atrocious', 'workwear', 'groups', 'fist', 'alexandria', 'va', 'olde', 'towne', 'hippies', 'woodstock', 'errandsinstead', 'activewear', 'uncertain', 'mermaidish', 'spruces', 'remotely', 'springfall', 'mod', 'monkeys', 'uncle', 'dad', 'altering', 'triangles', 'fingernails', 'soak', 'fluctuate', 'jacketthe', 'taupetotally', 'mild', 'medlrg', 'dries', 'storelooks', 'smalland', 'flattening', 'splotchy', 'wondering', 'credit', 'assume', 'washings', 'chesttotal', 'squash', 'nabbed', 'potatosackfrump', 'bolero', 'graygreen', 'featured', 'ad', 'cheery', 'moodenhancing', 'skewed', 'fallspring', 'yogapilates', 'activities', 'knock', 'french', 'terry', 'seefeel', 'sumptuous', 'fitlook', 'clin', 'resolved', 'stunningthe', 'trash', 'scared', 'stride', 'downtown', 'alpacawool', 'banded', 'manageable', 'mat', 'hal', 'breathe', 'marie', 'kondos', 'sparks', 'joy', 'sml', 'assumption', 'detect', 'clavicle', 'abundance', 'capri', 'pantsthe', 'mixing', 'mediums', 'decently', 'india', 'topgot', 'simultaneously', 'supporting', 'community', 'click', 'remarkably', 'com', 'role', 'april', 'pregnancies', 'mattered', 'dresstunic', 'dirt', 'mattress', 'unvariating', 'caveatthe', 'rubs', 'kitchen', 'countertops', 'wiping', 'counters', 'retailermodel', 'graytone', 'fought', 'gre', 'treatment', 'mill', 'moneythe', 'delaney', 'casualcreative', 'graywhy', 'magical', 'belle', 'ball', 'swirled', 'spun', 'tequilaginger', 'handwashable', 'bode', 'grecian', 'drown', 'promised', 'higherwaisted', 'buttonfront', 'businesscasual', 'setting', 'regularly', 'pocketdetail', 'incorporate', 'chief', 'xsxxs', 'compensate', 'cutaway', 'sophistication', 'zone', 'materialnot', 'jump', 'tassel', 'owls', 'chosenit', 'grown', 'amenable', 'straplessand', 'doesand', 'affected', 'windier', 'accesso', 'majority', 'students', 'ninja', 'snake', 'studs', 'putting', 'wallet', 'creamblue', 'recieved', 'procrastinate', 'bodyhugging', 'hearing', 'hype', 'hating', 'dense', 'mockneck', 'taylored', 'issued', 'sctrachy', 'simplicity', 'boxiness', 'cld', 'midbust', 'armh', 'boatneck', 'stomachs', 'nephews', 'tea', 'flung', 'british', 'colony', 'yesteryear', 'effort', 'extreme', 'wetsuit', 'silicone', 'farrah', 'fawcett', 'sizematched', 'following', 'flannels', 'opting', 'pe', 'billowed', 'circus', 'worlds', 'smallfits', 'moto', 'hardware', 'minimalist', 'wrinkly', 'resistant', 'kahki', 'swish', 'mildly', 'noncollar', 'soooo', 'unstitched', 'piping', 'pleasant', 'zed', 'outgot', 'costs', 'fabulousflatteringcomfortablei', 'acknowledge', 'runner', 'labeled', 'usable', 'flowydrapey', 'adirondacks', 'mountain', 'camouflage', 'mentions', 'doubles', 'minded', 'nottoostretchy', 'knocked', 'symmetrical', 'torsoed', 'midbutt', 'drooled', 'plainweird', 'raves', 'starburst', 'nubby', 'menti', 'exclusives', 'gladiator', 'wearer', 'availability', 'action', 'formfitted', 'getrestock', 'theoryvince', 'menswear', 'waiver', 'erred', 'justbaggyin', 'wth', 'falters', 'omg', 'mirror', 'gypsy', 'hundred', 'attached', 'inconvenient', 'test', 'webbed', 'astounded', 'cro', 'glass', 'bronze', 'sensitivity', 'upscale', 'delayed', 'flight', 'differen', 'petiteathletic', 'roomwashing', 'hasnt', 'tube', 'casing', 'figuremy', 'percentage', 'prob', 'non', 'sheet', 'summ', 'flip', 'flops', 'drops', 'painted', 'coarse', 'coolest', 'sequined', 'component', 'opengauge', 'minty', 'bluegreen', 'flights', 'schlumpy', 'laec', 'smmed', 'lemon', 'limit', 'sandalswedges', 'transparency', 'pxxs', 'complement', 'offcenter', 'postmark', 'widen', 'mindthe', 'stoked', 'husbands', 'anniversary', 'csection', 'scar', 'fortunately', 'closest', 'personi', 'awesomely', 'thingsbrands', 'plastic', 'armful', 'bangles', 'dropwaist', 'measures', 'turtle', 'fittedstyle', 'mebut', 'thong', 'sexyromantic', 'thongs', 'reorder', 'yacht', 'cruise', 'althleisure', 'market', 'shapedid', 'beam', 'sucker', 'completer', 'voilaeffortlessly', 'rising', 'chuckled', 'fluctuating', 'backwardsthe', 'produced', 'rubbed', 'maternit', 'sheds', 'shortened', 'towards', 'tip', 'subtly', 'snugness', 'sweatercoat', 'allowed', 'mountains', 'disappoitned', 'sice', 'strikes', 'distinctive', 'onlinenowhere', 'dropseam', 'text', 'gods', 'earth', 'dropshoulder', 'middl', 'sandy', 'respectable', 'shining', 'crinkle', 'floreats', 'content', 'specifically', 'purely', 'tighten', 'invest', 'smoothing', 'fitsdrapes', 'longi', 'rightthey', 'yoga', 'lg', 'sloths', 'wretched', 'damp', 'charging', 'passable', 'happening', 'tonight', 'snails', 'guest', 'swea', 'pinkcoral', 'skinned', 'mamas', 'shapewhich', 'springthroughsummer', 'indigo', 'purpleygray', 'earnest', 'brushstroke', 'removing', 'choker', 'ant', 'adjustments', 'hubby', 'study', 'packs', 'travels', 'heathy', 'east', 'racer', 'chocolate', 'mediocre', 'collector', 'textiles', 'passion', 'criteria', 'treasured', 'charles', 'rennie', 'macintosh', 'garnered', 'teens', 'tremendous', 'retailerday', 'sweaterjackets', 'doublesided', 'longand', 'pushed', 'ensemble', 'nonexistent', 'flap', 'skinniesblack', 'ribs', 'bodyskimming', 'coul', 'definitively', 'lookingsometimes', 'stuffed', 'marshmallow', 'legging', 'bandnot', 'tankcami', 'suited', 'picturesi', 'hugefelt', 'naturally', 'rea', 'touching', 'fashioned', 'dressi', 'cheapon', 'contrary', 'goon', 'tightsboots', 'warmerlined', 'truthfully', 'whatsoever', 'london', 'milan', 'valentines', 'cities', 'teen', 'doesntbeautiful', 'process', 'summerearly', 'delicatemay', 'trimming', 'discrepancy', 'ripping', 'repair', 'scated', 'moth', 'nonconsequential', 'mentionedit', 'exhausted', 'fro', 'stopper', 'beauties', 'wallpaper', 'included', 'careless', 'thighsbutt', 'squish', 'resort', 'spoton', 'staying', 'airconditioned', 'offices', 'backlit', 'screen', 'charente', 'repertoire', 'stating', 'pirchasing', 'headneck', 'smidge', 'mo', 'attendant', 'upset', 'incorrect', 'peru', 'socially', 'responsible', 'recipient', 'challenged', 'epaulets', 'veratile', 'repurchase', 'patterntype', 'twirl', 'abt', 'unpleasant', 'sel', 'greenmoss', 'changed', 'othe', 'intimidating', 'blousyboxy', 'rayonspandex', 'bouncier', 'appropriately', 'stalking', 'likeetc', 'incentive', 'justeverything', 'chevron', 'mintseaside', 'centered', 'overnight', 'address', 'layed', 'drynow', 'envisioned', 'workappropriate', 'shortsleeve', 'cutesy', 'clowns', 'cry', 'overpriced', 'monstrosity', 'steampress', 'sewed', 'blowzy', 'drawbacks', 'positively', 'satin', 'underlining', 'sensed', 'crumples', 'hoop', 'sewing', 'itso', 'prettyfeminine', 'versatileexcept', 'redhow', 'revieweri', 'axtra', 'frivolous', 'buyim', 'comfrotbale', 'victorian', 'flattrering', 'muscles', 'alining', 'petie', 'steamy', 'backwards', 'defeats', 'imho', 'combos', 'teeter', 'prefered', 'slept', 'goodol', 'riverdeck', 'vein', 'innocent', 'tiniest', 'amidst', 'poking', 'encountered', 'blueaqua', 'skills', 'northern', 'assuming', 'allinall', 'gaped', 'strained', 'games', 'choking', 'combat', 'overt', 'unsolvable', 'preserve', 'admire', 'fake', 'unusually', 'nails', 'fitit', 'hurry', 'easypeasy', 'whilst', 'tu', 'richly', 'mediumtolarge', 'juuuust', 'engulfed', 'mrs', 'roper', 'wea', 'inwards', 'minus', 'carbon', 'unnatural', 'sand', 'dobby', 'comber', 'disaster', 'semimaternity', 'sweetest', 'looki', 'heal', 'pushup', 'whos', 'shortest', 'thighway', 'lastly', 'ou', 'splashes', 'spelled', 'amoret', 'unevenly', 'resulting', 'sticking', 'fourth', 'weighta', 'presentable', 'salestill', 'summeri', 'tab', 'hooray', 'caused', 'suitjackets', 'meetings', 'labcoat', 'nogo', 'accessorizing', 'squeeze', 'poofed', 'poofiness', 'collarlapel', 'flaps', 'secured', 'lapel', 'busti', 'dressso', 'sucks', 'bumthese', 'shapelier', 'dreamso', 'needsi', 'topsbottoms', 'cozier', 'merely', 'boucle', 'chair', 'coatsizing', 'underneathlooks', 'provided', 'sunglasses', 'beat', 'realizing', 'internship', 'concert', 'carefree', 'periods', 'dislike', 'incred', 'base', 'misshapen', 'dragging', 'unstretched', 'tuxedo', 'restretching', 'budge', 'stretchable', 'pooched', 'notsoskinny', 'pantsskirts', 'camitank', 'disturbed', 'throughou', 'muscle', 'coralpink', 'tasteful', 'struggles', 'exposure', 'underlayer', 'firstly', 'untie', 'clip', 'tags', 'fiery', 'fluttery', 'august', 'sleevelessso', 'cheekier', 'puffyin', 'iampamp', 'missouri', 'disgustingly', 'heats', 'thro', 'inbox', 'warmers', 'frosty', 'jacketish', 'invisible', 'metal', 'fi', 'fasten', 'peplumall', 'jams', 'coralpeach', 'obscured', 'everybody', 'lives', 'epitome', 'bolo', 'poppy', 'prettiest', 'nighty', 'comfywill', 'itdefinitely', 'aframe', 'coh', 'kneecap', 'moveability', 'drive', 'hemwise', 'quirkiness', 'heirloom', 'multitextured', 'stranger', 'shortening', 'narrowing', 'tooi', 'sleepwear', 'voice', 'heartbeat', 'irl', 'balances', 'stellar', 'flora', 'nikrooz', 'delivery', 'wellexcept', 'crease', 'remnant', 'primary', 'bridesmaids', 'roaring', 'sipping', 'roaming', 'moors', 'wooden', 'stash', 'hanky', 'nit', 'checkered', 'lend', 'paring', 'wishing', 'hare', 'leeway', 'yep', 'menopause', 'baggage', 'easter', 'seek', 'pepto', 'bismol', 'tennis', 'buyi', 'lookfeel', 'saleswoman', 'wais', 'doubtful', 'curls', 'grad', 'stature', 'orphan', 'grocery', 'uncomfotably', 'vocoder', 'replace', 'preferably', 'rushing', 'gotos', 'deterrent', 'lumberjack', 'discreet', 'jacketcute', 'prowl', 'continuing', 'stray', 'thre', 'coloured', 'angled', 'defect', 'moved', 'rewarded', 'casu', 'lab', 'eat', 'reordering', 'article', 'folding', 'disintegrates', 'sarong', 'miniskirt', 'resew', 'hear', 'bran', 'nocurve', 'dynamite', 'tide', 'thirteen', 'backpack', 'doingwearing', 'rub', 'continuously', 'affair', 'throb', 'trunks', 'swathed', 'cartoon', 'protruding', 'rested', 'bells', 'slouches', 'boohoo', 'forms', 'slant', 'ilove', 'represents', 'remembered', 'polishedcasual', 'blueblack', 'shirttucker', 'irritate', 'moderate', 'contribute', 'annoy', 'hardy', 'xxxs', 'norm', 'usefulness', 'pack', 'atbarely', 'highqualit', 'smurf', 'shouts', 'roomies', 'borrow', 'rises', 'upgraded', 'exhilarating', 'poufs', 'corals', 'fees', 'pricetag', 'theory', 'view', 'align', 'strategically', 'deceiving', 'strangeto', 'bummedthe', 'wellthis', 'modeltailored', 'land', 'pizzazz', 'givestretch', 'colde', 'cents', 'ups', 'su', 'tasseled', 'wellstocked', 'girly', 'sleevesacross', 'trusting', 'angle', 'chicuptown', 'spattering', 'ideas', 'jiggles', 'spanx', 'jiggling', 'accord', 'veered', 'belonged', 'surrounded', 'brethren', 'allalthough', 'laughed', 'rec', 'bingo', 'flipflops', 'unravel', 'sliming', 'exchanges', 'ags', 'stopperunfortunately', 'tips', 'molded', 'insert', 'workable', 'motion', 'preference', 'sideslits', 'mi', 'woodsysomething', 'robin', 'merry', 'wellsuited', 'latte', 'table', 'regretted', 'cocktails', 'shillouette', 'courderoy', 'worki', 'washability', 'buttonedup', 'overshirt', 'vavavavoom', 'summarize', 'fabulously', 'directly', 'task', 'idaho', 'patricks', 'smiling', 'widerhipped', 'showthrough', 'thoughmaybe', 'surgery', 'raised', 'bralettes', 'daisytype', 'emb', 'shed', 'skintight', 'bacon', 'ooo', 'sunlight', 'subset', 'patch', 'nonsensical', 'lattice', 'pilco', 'mim', 'absolutley', 'colorspattern', 'proportionally', 'sweaterthat', 'sheep', 'chairs', 'gymor', 'cardigansweaterjacket', 'splendidly', 'kick', 'compaint', 'wil', 'ldecide', 'pantsjeans', 'trade', 'cam', 'thingit', 'shake', 'delineator', 'hysterical', 'allwould', 'leggingstights', 'mainstay', 'distracted', 'updates', 'navyvelvet', 'betteri', 'heals', 'bluethis', 'mentioning', 'cookout', 'immaturechildish', 'favorable', 'chances', 'accumulate', 'slightest', 'blousey', 'finishing', 'transported', 'downton', 'abbey', 'deco', 'baggies', 'apr', 'sski', 'handknit', 'otth', 'sentence', 'turning', 'randomly', 'lunch', 'flowinng', 'vee', 'balloon', 'imaginable', 'settle', 'blueness', 'skipped', 'cme', 'reccomended', 'carried', 'perfectionvery', 'inquiries', 'pilcos', 'fallen', 'piped', 'bees', 'saffron', 'undecided', 'reduced', 'succumb', 'anxious', 'produce', 'modeled', 'dimensions', 'implied', 'baggier', 'pri', 'goodhyouman', 'forehead', 'kisses', 'underrated', 'dancer', 'enthusiast', 'slide', 'physicality', 'survived', 'illeffects', 'fabulouslooking', 'dealbreaker', 'midhip', 'brownishblack', 'longbut', 'shrunken', 'tendd', 'midwe', 'xssm', 'undo', 'repurpose', 'hipthis', 'sparkly', 'extrasmall', 'nylon', 'outerwear', 'earl', 'swallowing', 'sign', 'confess', 'moonlight', 'intending', 'aspects', 'aheadpress', 'bui', 'sizei', 'proving', 'worthwhile', 'showy', 'btw', 'storethe', 'tassled', 'stil', 'ldecided', 'seemd', 'detaisl', 'sleevescollar', 'staggered', 'shine', 'whenever', 'accomodate', 'ful', 'poufy', 'sloppiness', 'picsbarely', 'recognizable', 'december', 'jeanscords', 'adoreable', 'staring', 'taught', 'latch', 'flaring', 'semihigh', 'reasonyou', 'coal', 'papaya', 'surprises', 'geiger', 'remembers', 'sandalswish', 'librarian', 'mis', 'lil', 'largeblack', 'yearold', 'smelled', 'utter', 'dismay', 'bruises', 'howeverending', 'melon', 'graham', 'spencer', 'stiffly', 'chestcollar', 'postpregnancy', 'bod', 'phenomenal', 'fullfigured', 'foggy', 'ware', 'hesitating', 'bralette', 'flawy', 'supper', 'collect', 'erin', 'fetherston', 'dressesskirts', 'sequin', 'glitter', 'keds', 'kate', 'spadeits', 'dynam', 'peel', 'hookeye', 'caribbean', 'humiliated', 'ring', 'curl', 'switch', 'formalness', 'jerseyterry', 'flecked', 'awfully', 'shading', 'limbs', 'sleev', 'bronzy', 'manufacturer', 'lucy', 'lui', 'elementary', 'sweatergiven', 'propensity', 'colorsdesign', 'bu', 'smooths', 'flab', 'ahhh', 'blessinga', 'middleage', 'middlebody', 'former', 'alines', 'themes', 'wellboring', 'deserved', 'thanksgiving', 'joes', 'hunter', 'eg', 'exceess', 'fee', 'bling', 'corresponded', 'xssml', 'snowflake', 'rests', 'wire', 'attrac', 'wonderfullymade', 'nicley', 'wjeans', 'peice', 'transitions', 'fabrici', 'righttoday', 'snowing', 'wary', 'knits', 'stretchedout', 'keepin', 'averting', 'ansy', 'navel', 'hipsseat', 'glasses', 'onit', 'upit', 'expands', 'undressed', 'desire', 'lengthvolume', 'fallseason', 'stiffness', 'expectedthe', 'chill', 'sweetsoft', 'awesomefrom', 'sweatshirtlike', 'mightve', 'esp', 'blocked', 'question', 'asthetic', 'largeloose', 'shifting', 'lbswith', 'sagging', 'tneckhigh', 'crew', 'torsofor', 'confidence', 'preordered', 'huey', 'bip', 'tutu', 'indicative', 'bailley', 'obi', 'picturesyou', 'unsecured', 'looooove', 'shoddy', 'practicality', 'standpoint', 'slightlyyyy', 'swiftly', 'regularl', 'pile', 'bootsknee', 'possession', 'greal', 'discounts', 'unbearably', 'corrected', 'browngold', 'ws', 'iwould', 'ehels', 'perhpas', 'frnt', 'asymmetry', 'transitioned', 'stared', 'rouching', 'created', 'accomplish', 'garbage', 'skimminghugging', 'gapping', 'puts', 'slendertaller', 'cutejust', 'openwork', 'polyrayonspandex', 'oneofakind', 'atl', 'oetiteregular', 'finished', 'snatch', 'sorbet', 'pallette', 'nip', 'costumey', 'wench', 'renaissance', 'denying', 'tapestry', 'expanding', 'physique', 'catches', 'rhianna', 'maximizes', 'terra', 'cotta', 'stunted', 'yummy', 'attest', 'handled', 'talk', 'timeworn', 'staticky', 'lbsordered', 'requests', 'risks', 'raises', 'brunette', 'ruining', 'wayyyy', 'picturedexpected', 'breathability', 'relax', 'toplayer', 'considerable', 'stubborn', 'perfe', 'scooped', 'profession', 'bias', 'hohum', 'monkey', 'brighterbetter', 'airdrying', 'greenblue', 'birkenstocks', 'seat', 'clusters', 'stones', 'attire', 'reminiscent', 'hunting', 'mile', 'bronzed', 'creamy', 'packaged', 'represented', 'desperately', 'qualityit', 'worsened', 'shield', 'brisk', 'maintaining', 'status', 'issuei', 'buckled', 'mediumsize', 'outdated', 'galore', 'emergency', 'loun', 'heartbreaker', 'warming', 'stashed', 'hilow', 'saddle', 'str', 'butit', 'rhinestone', 'glams', 'baglike', 'hmm', 'flash', 'via', 'slinky', 'intricately', 'sleevearm', 'heck', 'thr', 'lacks', 'pre', 'pills', 'finicky', 'varies', 'title', 'easyslouchy', 'predominant', 'rectangular', 'bunchiness', 'beefier', 'avid', 'bohemiangothic', 'designquality', 'bikermoto', 'jacketboots', 'devoted', 'creppy', 'essentially', 'lacework', 'staged', 'pins', 'surplus', 'boardwalk', 'clunky', 'desperate', 'grow', 'armsand', 'exciting', 'lifeless', 'unstructured', 'redyed', 'uncinched', 'palm', 'preface', 'laidback', 'breakthable', 'beatifully', 'convertible', 'classier', 'drama', 'allusion', 'continuous', 'pouch', 'barneypurple', 'proved', 'seed', 'perspective', 'sewer', 'squeezing', 'rain', 'ireland', 'slow', 'coastal', 'rendition', 'eyelash', 'sons', 'classical', 'extends', 'prima', 'knitwear', 'largerbulkier', 'disproportionate', 'madly', 'hollywood', 'glam', 'cuz', 'existing', 'ias', 'jammies', 'retired', 'outcome', 'emerson', 'leery', 'thumbs', 'suedelike', 'stages', 'prongs', 'eex', 'sing', 'carrying', 'trie', 'artistically', 'pleasing', 'balanced', 'dying', 'lithe', 'obnoxious', 'wrestle', 'dreaming', 'shortsskinnies', 'nontraditional', 'choosi', 'crown', 'abstract', 'largebusted', 'ethereal', 'floating', 'chartreuse', 'midnight', 'buttonfly', 'protrude', 'protrusion', 'overlap', 'flesh', 'fleshcolored', 'graphic', 'tiers', 'schoolmar', 'loungeathome', 'contrasted', 'occassion', 'elongates', 'guarantees', 'ropethread', 'disintegrated', 'reattach', 'sympath', 'boobies', 'echo', 'perfectlyslimming', 'upgrade', 'arenamp', 'easiest', 'donamp', 'lowhanging', 'lotta', 'rinse', 'chemical', 'diss', 'allowance', 'girlsnot', 'vinyl', 'itlike', 'rainproof', 'adj', 'gowns', 'pj', 'cell', 'fron', 'turtlenecks', 'cadi', 'thighquadricep', 'son', 'kitty', 'olivey', 'normall', 'dial', 'becasue', 'apocolypse', 'imminent', 'food', 'pregnanti', 'born', 'muddy', 'broadish', 'accessory', 'loosened', 'adjustment', 'cancel', 'styleaesthetics', 'downsides', 'teaching', 'natori', 'hipsters', 'panties', 'rave', 'marian', 'blissfully', 'figuring', 'wraps', 'midthough', 'oder', 'pricejust', 'swimbeach', 'kaftan', 'silks', 'sweaterkimono', 'ons', 'oclor', 'rolldown', 'topwith', 'elephants', 'darkermuted', 'iim', 'undergarment', 'browse', 'cheetah', 'wearability', 'vegan', 'getaway', 'zeros', 'everyones', 'dds', 'hued', 'strangelyi', 'neater', 'seatbelt', 'dr', 'coast', 'backward', 'ope', 'conventional', 'clients', 'lifestyle', 'jeansthe', 'ndtrimesterpregnancyblouse', 'ta', 'rigidity', 'packable', 'contains', 'fibers', 'seater', 'conspicuous', 'parka', 'smokylike', 'odor', 'disappeared', 'pilcr', 'ivorycolored', 'minipleated', 'sections', 'ke', 'wisesaw', 'pinkits', 'spin', 'drivers', 'language', 'advises', 'possibility', 'surfaces', 'recommends', 'collared', 'oomph', 'sexiness', 'inappropriate', 'colorkind', 'bandaidcolored', 'wishful', 'gut', 'consequences', 'minuses', 'pluses', 'bendy', 'unnoticeable', 'downbut', 'revisit', 'oneseptember', 'meda', 'stunningive', 'underside', 'romier', 'sizze', 'hev', 'eclectic', 'shoulderbodice', 'prettiness', 'understood', 'uneven', 'mexican', 'aptly', 'named', 'perforated', 'bridesmaid', 'spinning', 'posed', 'challenges', 'creater', 'identical', 'flatteringly', 'deepdark', 'arguably', 'modified', 'dddd', 'lusted', 'haute', 'couture', 'sidesliced', 'clips', 'cringing', 'colorsit', 'layeringcomfortable', 'reverse', 'untextured', 'perks', 'gracefully', 'define', 'swath', 'creatively', 'knotting', 'tucking', 'securing', 'pantsnice', 'greenhard', 'slubbed', 'remark', 'topish', 'colorfastness', 'separately', 'planet', 'gambl', 'sweaterunique', 'priviledge', 'colros', 'som', 'thickheavy', 'tendency', 'battle', 'grunge', 'brooding', 'doc', 'martins', 'misunderstood', 'masking', 'portrayed', 'bled', 'calia', 'blkwht', 'pouffy', 'brastrap', 'holders', 'supersoft', 'yup', 'cheerleaders', 'visited', 'huh', 'dressyou', 'bigi', 'greatest', 'warrants', 'shotgun', 'hall', 'rented', 'runway', 'weddingish', 'throughthe', 'variable', 'glow', 'bicep', 'duty', 'multifabric', 'speck', 'offwhitepalest', 'cooltoned', 'zigzag', 'ouside', 'trapezey', 'embroider', 'giddy', 'answer', 'onebutton', 'legsso', 'access', 'sunflower', 'moths', 'lovelybright', 'dryclean', 'everyth', 'curious', 'dressiness', 'believable', 'expensiv', 'creamforrest', 'fallish', 'buttoms', 'elastized', 'dresssophisticated', 'amazingfabulous', 'topi', 'noting', 'scroll', 'differs', 'sizeslightly', 'widerboxier', 'armsbust', 'dilemma', 'colorsi', 'dresssome', 'kriscross', 'twistbut', 'bluewhich', 'accenting', 'movie', 'defeated', 'nut', 'msitake', 'sweeater', 'antique', 'fluttered', 'unflatteringthe', 'modcloth', 'themthey', 'linevery', 'brilliant', 'bluelavender', 'synch', 'navyblack', 'plays', 'peekaboos', 'nonissue', 'pharmacist', 'drugstore', 'pantsbut', 'jerseystyle', 'northeast', 'whisper', 'oop', 'icecream', 'lesson', 'recognize', 'crowns', 'nifty', 'highwater', 'mainstream', 'neda', 'mediumhigh', 'history', 'slubby', 'purplegrey', 'oval', 'capes', 'constructions', 'jearns', 'bootybelly', 'tealwhite', 'coralnavy', 'shattered', 'extras', 'notes', 'chemicals', 'deem', 'worthy', 'dressbut', 'direct', 'froth', 'oddity', 'bullseye', 'lbspear', 'sungmainly', 'liningi', 'cutei', 'shrinkagei', 'weightotherwise', 'citizens', 'sienna', 'blood', 'england', 'nylonspandex', 'botto', 'resembles', 'daughterinlaw', 'russian', 'swear', 'parks', 'recreation', 'episodeand', 'postbaby', 'montclair', 'lavendar', 'effortlessly', 'jules', 'friction', 'tunicstyle', 'jeansthey', 'didthey', 'greybrown', 'turner', 'vine', 'graniteslate', 'comfycozy', 'poofing', 'hwy', 'colla', 'wellworn', 'childish', 'longevity', 'dated', 'bac', 'flowswing', 'arei', 'steer', 'ladder', 'backshouldersupper', 'flattens', 'cohs', 'parker', 'fuddy', 'duddy', 'floats', 'jeansnecklaces', 'overruled', 'gifted', 'shines', 'tastefully', 'grandmas', 'regualar', 'binge', 'mentioend', 'stamps', 'cupped', 'rial', 'dippy', 'waistbutt', 'peachyplaid', 'fitandflare', 'waistlinehips', 'bcup', 'wireless', 'gorgeouswith', 'luxury', 'ori', 'youwow', 'gamut', 'maternityish', 'snipped', 'knicker', 'stepping', 'tailors', 'staples', 'accented', 'faces', 'notsoprecious', 'elongating', 'rosettes', 'guilty', 'sheers', 'notquiteprepregnancy', 'looserfit', 'crafted', 'embroidary', 'cottonsilk', 'loo', 'strongly', 'clumps', 'superpetite', 'coziness', 'che', 'flabby', 'labeling', 'seperate', 'serves', 'flatting', 'starkly', 'hawk', 'cop', 'navyivory', 'ny', 'repurchasing', 'quire', 'pantscargo', 'compression', 'stockings', 'boodie', 'badi', 'heavyweight', 'waistbust', 'boxyboyfriend', 'daysbummed', 'colorpattern', 'summertime', 'lbds', 'topic', 'mixture', 'underwhelmed', 'reasonably', 'woohoo', 'addon', 'fleecelined', 'softdefinitely', 'employees', 'everythingi', 'myselfit', 'ice', 'skater', 'zara', 'copy', 'sierra', 'unbearable', 'wantedneeded', 'jacketscoats', 'softened', 'gabardia', 'lacausa', 'dara', 'buys', 'sapphire', 'winning', 'pricely', 'mastectomy', 'drains', 'grateful', 'greyjust', 'thesethey', 'gauzey', 'bulkier', 'uuuuggghhh', 'stiffbouncy', 'neoprene', 'nonpetite', 'wiskering', 'sanctuary', 'repellent', 'park', 'kiddos', 'impromptu', 'gifts', 'recipients', 'emeraldgreen', 'articles', 'hairs', 'actively', 'pup', 'lovingly', 'brushing', 'puppy', 'roller', 'desi', 'outstanding', 'midshin', 'greywhite', 'seasonal', 'kota', 'versatileit', 'de', 'bohochic', 'laceprinted', 'cutin', 'reaction', 'floralstripe', 'qual', 'fighting', 'flanking', 'sweatersuper', 'scrip', 'formerly', 'scoured', 'defected', 'hunchback', 'explanation', 'spreading', 'arr', 'feelings', 'summervacation', 'straighton', 'bee', 'smallbusted', 'closureknotting', 'innovative', 'sweltering', 'alaska', 'sometime', 'gatherings', 'grazes', 'related', 'netting', 'jeanspants', 'misty', 'wynwood', 'playfulness', 'unmatched', 'beauitiful', 'thighhugging', 'pigmented', 'assures', 'tennies', 'freepeople', 'experiences', 'baily', 'pi', 'sleevesbut', 'prett', 'lightercolored', 'scratch', 'approximate', 'beaches', 'puerto', 'rico', 'epice', 'boston', 'chameleon', 'picure', 'slouchier', 'inset', 'crack', 'waistwere', 'cedar', 'info', 'manmade', 'supercute', 'creasing', 'contrived', 'eternal', 'association', 'seasonthese', 'candidate', 'feather', 'smelly', 'advise', 'blusha', 'notethere', 'protect', 'modesty', 'descriptions', 'fellow', 'wearers', 'formed', 'bottombummer', 'alleviate', 'sill', 'oot', 'greathits', 'waistcoat', 'bodytype', 'sweaterreally', 'pose', 'lifted', 'tuckedin', 'fearing', 'brushed', 'flirtiness', 'ge', 'spoke', 'unbalanced', 'request', 'stitc', 'moments', 'midbelly', 'classyclassic', 'flirtier', 'hacked', 'beautifullyperfect', 'blackoverall', 'ludicrousi', 'january', 'refund', 'dressbased', 'thereby', 'spite', 'bein', 'vneckline', 'hemstitch', 'scale', 'onseam', 'sxs', 'cowlneck', 'crazylong', 'showstopper', 'wavering', 'digit', 'fiddled', 'restroom', 'dropping', 'flooryes', 'separates', 'meended', 'mixes', 'pastbeautiful', 'pallet', 'itunless', 'embrace', 'visibility', 'headlights', 'cloud', 'technically', 'fe', 'roughly', 'middlethis', 'looseso', 'roomsomething', 'supervisor', 'strapunderarm', 'silverybeige', 'jazzed', 'topquality', 'striations', 'purplishplum', 'sculpted', 'nips', 'nipped', 'uncomfortably', 'yelling', 'fairness', 'tearing', 'workit', 'lily', 'failed', 'shifted', 'thes', 'sink', 'vestit', 'linerslip', 'blackandwhite', 'matador', 'saledoes', 'aroundstylefit', 'lota', 'clears', 'altho', 'shopperi', 'ken', 'alike', 'sizeim', 'lightened', 'channeling', 'realness', 'pans', 'thankful', 'chopped', 'interestingly', 'lengthens', 'quilted', 'tying', 'shinier', 'pullon', 'wlovely', 'overdone', 'promising', 'summerfall', 'tot', 'pinkgraylavendarwhitesilver', 'chestback', 'sounds', 'plusfor', 'bypassed', 'lighweight', 'lovehate', 'relationship', 'stylejust', 'comparing', 'un', 'sheathtype', 'howeverl', 'heres', 'armhoes', 'flatteringcoral', 'orangedk', 'updo', 'smiles', 'todays', 'lowrise', 'bar', 'descided', 'instagr', 'page', 'sharkbite', 'pronounced', 'fitquality', 'lokka', 'longso', 'wrist', 'pajamalike', 'continually', 'prices', 'soared', 'remained', 'adults', 'curating', 'multiseason', 'georgette', 'errandrunning', 'hiking', 'shoul', 'reviewsbut', 'fallunfortunately', 'gawking', 'armsbut', 'cases', 'compl', 'planes', 'longs', 'sassing', 'anxiously', 'symphony', 'alright', 'wan', 'gonga', 'pantsthey', 'slowly', 'disappearing', 'shells', 'boarder', 'sidesand', 'seattle', 'unpredictable', 'weatherwise', 'blousebut', 'limits', 'caliber', 'unpacked', 'retu', 'poky', 'plasticy', 'unzipped', 'pyjama', 'pudge', 'frames', 'offen', 'hoxton', 'benefit', 'seldom', 'skier', 'comfortz', 'festivals', 'armshoulder', 'itty', 'bity', 'tier', 'mawmaw', 'bonetop', 'lowwaisted', 'smlarge', 'heading', 'goal', 'rol', 'janeausten', 'protection', 'wantneed', 'wonderim', 'preshrunk', 'bathed', 'impresssionistic', 'wraparound', 'mohair', 'sizeshape', 'weekday', 'weekendwflats', 'impatiently', 'overnighted', 'err', 'frumpiness', 'measurement', 'multilevel', 'tuc', 'semiformal', 'trigger', 'widely', 'jacksons', 'echoing', 'remarks', 'largewide', 'mixtures', 'textile', 'magenta', 'kneehigh', 'indifferent', 'movies', 'crotchwaist', 'definately', 'ivorycream', 'nieces', 'bride', 'impressionist', 'stilettos', 'deeply', 'discounted', 'rightim', 'force', 'cascade', 'lacey', 'shortlegged', 'learned', 'plague', 'airyness', 'finger', 'yankee', 'xxsit', 'areacould', 'fitdisappointed', 'hsould', 'peple', 'nottom', 'gegt', 'inchess', 'waiat', 'musclea', 'plaform', 'heeks', 'equals', 'substandard', 'patchwork', 'recommending', 'tattoos', 'rectangle', 'methis', 'waisthips', 'accordingly', 'aize', 'elastaine', 'levis', 'wedgie', 'hills', 'definitel', 'increasingly', 'sporty', 'vlike', 'flopped', 'skimps', 'tit', 'artylooking', 'ink', 'merino', 'ecept', 'beautifu', 'orderingreturning', 'woah', 'raiding', 'moms', 'combed', 'nap', 'sweats', 'gladly', 'grill', 'club', 'potentially', 'goesj', 'detached', 'conforms', 'smallaverage', 'wavy', 'agreeing', 'underpinnings', 'disguises', 'sealed', 'godets', 'lanky', 'modelesque', 'warranted', 'hello', 'stag', 'bonfire', 'collarless', 'retailerpolgie', 'dinnerparty', 'youthful', 'liningcovering', 'hover', 'blousing', 'upright', 'madras', 'subsequently', 'lands', 'chunkiness', 'blousewell', 'nonstop', 'fabricmaterial', 'ads', 'earned', 'cash', 'und', 'volumptuous', 'stretchjust', 'attending', 'swingloose', 'laying', 'tumble', 'foundation', 'disadvantage', 'baggyloose', 'strictly', 'sillier', 'wing', 'codes', 'againuntil', 'colordesign', 'endo', 'defiantly', 'cheeky', 'misses', 'mittens', 'spruce', 'brief', 'pricepoint', 'didblah', 'murky', 'wetting', 'dual', 'clas', 'blotches', 'puffed', 'precisely', 'itchingscratching', 'quot', 'pearhourglass', 'lesser', 'tire', 'colo', 'reweave', 'poster', 'thoroughly', 'daring', 'shall', 'fundraiser', 'miami', 'pokerstraight', 'rid', 'expec', 'novelty', 'hoods', 'springearly', 'compliant', 'gorgeousthis', 'minimize', 'bealthough', 'negativ', 'artwork', 'dynamic', 'majorly', 'ur', 'tempting', 'shearling', 'taco', 'topit', 'freebird', 'glittery', 'cabernetturquoise', 'cecelia', 'prado', 'swingyflowy', 'fallwinterspring', 'crisscross', 'trashbaggy', 'olivedarker', 'fare', 'punks', 'clashed', 'yall', 'basis', 'recheck', 'showcases', 'sweptup', 'topdresscoverupruns', 'killing', 'moderncitymeetsprairieboho', 'shoot', 'seethe', 'discrepancies', 'tig', 'bombshell', 'tacked', 'feat', 'media', 'moot', 'urge', 'chemiseslipnightie', 'godsend', 'campus', 'complain', 'supple', 'postthree', 'skirted', 'maillot', 'supported', 'cartionnier', 'juvenile', 'henley', 'camis', 'greati', 'tropical', 'describes', 'snuggly', 'toasty', 'instagram', 'beautifultheyre', 'rangei', 'di', 'nansen', 'greenteal', 'retained', 'flowiness', 'restrictions', 'blazing', 'tx', 'ehm', 'behindmaybe', 'reed', 'spank', 'impressions', 'scheme', 'downand', 'remedied', 'hardest', 'constr', 'sweatersi', 'extralarge', 'modelso', 'fabricnot', 'pickup', 'unnoticable', 'colour', 'delaine', 'ruggedness', 'stuffy', 'easyily', 'lust', 'feast', 'mona', 'fuzziness', 'myuch', 'itwhich', 'cand', 'bands', 'reattaching', 'selfidentify', 'reminding', 'attachment', 'bog', 'cou', 'charisma', 'sudden', 'slims', 'brownish', 'stamped', 'richlycolored', 'disap', 'lounges', 'modelbut', 'woolfeeling', 'lea', 'abnormally', 'beautifulits', 'thoughalmost', 'flawed', 'delivers', 'betty', 'draper', 'slenderizing', 'athletically', 'devery', 'stylishlove', 'aaaaaaamazing', 'bagged', 'collage', 'opportunities', 'indicate', 'etcbecause', 'yetbut', 'flatering', 'botom', 'comfotable', 'babies', 'loosly', 'corodorys', 'interpret', 'stretchey', 'outfitter', 'laundered', 'liquid', 'detergent', 'unable', 'finestill', 'transcends', 'relaxedfit', 'featuring', 'influenced', 'embossed', 'minds', 'softly', 'costumed', 'da', 'climbing', 'crisscrossed', 'sb', 'bubbles', 'weightiness', 'skirtits', 'detsils', 'recomnend', 'senses', 'sleevesback', 'todo', 'undoing', 'awe', 'jacketsmy', 'melt', 'ar', 'pirate', 'bravely', 'brandfirst', 'snugafraid', 'relish', 'op', 'truetolife', 'teach', 'casualluxe', 'tahari', 'negatives', 'classics', 'shapely', 'approaches', 'butran', 'tightalso', 'peplums', 'winemaroon', 'combine', 'ashaped', 'ide', 'perfecto', 'rollup', 'sturdyive', 'sufficiently', 'cinchable', 'stretchingsagging', 'cowboy', 'garmets', 'androgynous', 'ick', 'druzy', 'orientation', 'trapezoidshaped', 'freshly', 'starched', 'leisure', 'spied', 'bridey', 'lbd', 'rounded', 'jt', 'citizenspaigeag', 'doenst', 'finishcolor', 'greyish', 'almostlingerielike', 'purposely', 'ratty', 'correctits', 'rifle', 'reeled', 'prompting', 'boundaries', 'lengthwise', 'hags', 'speaker', 'fundraising', 'homeless', 'abused', 'affluent', 'physical', 'follow', 'heartfelt', 'inclusive', 'authenticity', 'encouragement', 'wwhat', 'washingair', 'recievied', 'burst', 'purposes', 'topbottoms', 'tankini', 'splendidlybut', 'puffing', 'region', 'grazing', 'regard', 'tayloring', 'undertaking', 'wrapvestkimono', 'dazzled', 'importhead', 'silves', 'enthusiastic', 'buttflattening', 'sprung', 'darting', 'ove', 'bohemianrocker', 'prim', 'pity', 'hipsbutt', 'compromise', 'puffin', 'niceits', 'awkwardness', 'yeahit', 'shortstop', 'bel', 'emphasizing', 'provocative', 'questions', 'trired', 'lvoed', 'ihavetohaveit', 'superfast', 'unforgiving', 'elongated', 'clasped', 'doubts', 'hallmarks', 'pinkvery', 'lacelike', 'cooperate', 'steps', 'comb', 'upsetting', 'cosmetic', 'dangle', 'downwards', 'mmmmm', 'lin', 'consistency', 'surface', 'paigepilcro', 'mcguire', 'mcguires', 'robes', 'allover', 'hist', 'squares', 'pillowy', 'masculine', 'perches', 'larkspur', 'tailered', 'pasties', 'messes', 'oranges', 'sweep', 'handwoven', 'asking', 'layout', 'partthey', 'bikinionly', 'recom', 'vinta', 'thickish', 'meh', 'bods', 'attracting', 'ocher', 'yellowygreen', 'nocal', 'foundations', 'deceived', 'moniker', 'belled', 'laughable', 'miraculously', 'openweave', 'bedskirt', 'largenot', 'hungyuck', 'fallwool', 'spunk', 'colters', 'objectionably', 'bohemain', 'yellowivory', 'favs', 'minuet', 'mes', 'demoiselles', 'sparklein', 'vestsin', 'nue', 'shani', 'coolit', 'meoverall', 'underlying', 'male', 'leggingsmay', 'oxfords', 'baffled', 'tealgreen', 'wrinklednot', 'merlotburgundy', 'bootsbooties', 'disagreed', 'bridalbaby', 'athlete', 'oneits', 'smallas', 'daily', 'lux', 'dart', 'updated', 'objections', 'ornamental', 'downsized', 'sspm', 'wrestling', 'countless', 'tote', 'road', 'duller', 'retailerpolgies', 'shirtsdresses', 'ranna', 'gill', 'bodices', 'mossolive', 'undertone', 'bootsvery', 'cancer', 'awareness', 'luncheon', 'cherry', 'peeking', 'sunnyhappy', 'lifetime', 'indication', 'ord', 'grayblack', 'phoenix', 'onlin', 'jsutice', 'percect', 'dimples', 'lvoe', 'yfit', 'styllsit', 'insiting', 'lstretch', 'shal', 'savvy', 'princessy', 'drowned', 'arriveand', 'lusting', 'inbetween', 'flamingos', 'ikat', 'appealed', 'siz', 'retirement', 'talked', 'pinching', 'houston', 'sweeter', 'fathom', 'designedit', 'smallboned', 'iso', 'strops', 'matte', 'straightfigured', 'complaining', 'linencotton', 'itexchanging', 'cos', 'blackbeige', 'mys', 'buildthis', 'oklahoma', 'negligee', 'hone', 'cowled', 'sidezip', 'aquaflora', 'warmup', 'vas', 'stubby', 'droops', 'sizeordered', 'flatttering', 'boning', 'blows', 'bryden', 'resisted', 'oni', 'shawljacket', 'blackbrown', 'beachpool', 'jack', 'tallish', 'blank', 'doo', 'fluke', 'heathergrey', 'mayperfect', 'inflexibility', 'ligher', 'woul', 'superlayered', 'straightshift', 'petit', 'whereas', 'parachute', 'sturdier', 'breastsi', 'uplifted', 'thum', 'advertising', 'polish', 'underneaththe', 'misnomer', 'sweatercardigan', 'bam', 'gasped', 'hahahaha', 'preggers', 'accident', 'viewing', 'widel', 'sunny', 'amalfi', 'threwonmyboyfriendsshirt', 'weightbut', 'upits', 'longas', 'fabricits', 'redblue', 'diff', 'clay', 'garish', 'everythingtops', 'differemt', 'glossy', 'gloss', 'coated', 'produ', 'unmodest', 'coverupbut', 'nightwith', 'scrooge', 'needle', 'individual', 'correctit', 'purchasethe', 'embroi', 'gaining', 'smallpetite', 'inclined', 'searched', 'minimalistic', 'inlaw', 'visiting', 'splotches', 'nuance', 'mombod', 'perkier', 'costa', 'rica', 'splash', 'felted', 'roomie', 'onsie', 'chicago', 'petals', 'adorn', 'plackets', 'mixedmediamaterial', 'spontaneous', 'sparklydinner', 'excels', 'adoreworthy', 'shortsi', 'drawer', 'pretties', 'dissippointment', 'damages', 'dissipointed', 'tinge', 'proportionate', 'skosh', 'cu', 'overalli', 'satisfi', 'bumpy', 'shirtssweaters', 'mailing', 'midrift', 'overlaps', 'stripesivory', 'saddlebag', 'wih', 'lik', 'braided', 'stronger', 'resewn', 'impressive', 'intexas', 'positing', 'guys', 'compelled', 'ia', 'trendier', 'lookthe', 'armwould', 'airyvery', 'electricity', 'washedline', 'preggars', 'iand', 'thingsthe', 'unshapely', 'downsize', 'subtlety', 'quirk', 'sillouhette', 'rubber', 'retailerpolog', 'pinterest', 'yummiest', 'unimpressive', 'mor', 'jns', 'loom', 'chick', 'connected', 'boos', 'aps', 'divulging', 'materialpolyester', 'surebecause', 'nuts', 'mont', 'blanc', 'chamomix', 'unmistakable', 'matterhorn', 'zermatt', 'whitetanblack', 'smallmed', 'coored', 'smalllight', 'itgorgeous', 'matl', 'tres', 'debuted', 'rope', 'galleria', 'unlikely', 'addressed', 'transformed', 'industry', 'wither', 'longlegged', 'looseknit', 'hurt', 'butits', 'umph', 'itlightweight', 'fetching', 'tat', 'nonfitted', 'ensures', 'branch', 'reluctantly', 'baggish', 'thesis', 'lightgrey', 'pixie', 'layover', 'elated', 'canopy', 'rugged', 'pointing', 'crewneck', 'bulging', 'bordered', 'gawdy', 'led', 'snuggle', 'anymoreso', 'flecks', 'goldenrod', 'downotherwise', 'arty', 'readily', 'choppy', 'standingit', 'potatoe', 'cottonpoly', 'viscose', 'hemant', 'nandita', 'shark', 'bite', 'footwear', 'habitus', 'lowest', 'flax', 'cafe', 'unnecessarily', 'longwh', 'inwardly', 'rule', 'thumb', 'mama', 'parisian', 'cigar', 'remover', 'heft', 'erring', 'beautifull', 'proves', 'traps', 'wrinkleprone', 'togethers', 'smashing', 'rinsed', 'cur', 'anna', 'sui', 'boobarmpit', 'glows', 'realllllly', 'waif', 'retailerheavy', 'decade', 'insirpring', 'bulkly', 'exercises', 'bluishgrayish', 'momish', 'optional', 'mansions', 'rhode', 'fooled', 'claims', 'cheapreturned', 'crucial', 'bloated', 'offthe', 'definitive', 'rag', 'inseams', 'loosenessperfect', 'feetperfect', 'heavyperfect', 'bluebeautiful', 'squishy', 'hmmm', 'valentino', 'jeansleggings', 'wellcut', 'quibbles', 'niche', 'compa', 'martial', 'charleston', 'sites', 'located', 'evokes', 'memory', 'exclamations', 'inaccurate', 'mud', 'misrepresented', 'digress', 'supportlining', 'calls', 'chicreminds', 'mehis', 'donailed', 'dock', 'siyu', 'jacketcape', 'puctures', 'junctions', 'faltering', 'beit', 'gravely', 'pointy', 'frustrated', 'lowered', 'frustration', 'honolulu', 'travelwear', 'cuffedlook', 'adventure', 'peep', 'necklacevery', 'cane', 'overkill', 'tuned', 'twee', 'edgier', 'scallopsi', 'replacing', 'hoodies', 'pratically', 'invites', 'shawlwrap', 'warren', 'blog', 'power', 'era', 'overwhelmingjust', 'anhtro', 'photographer', 'sliplining', 'unattached', 'dioes', 'fitnot', 'sprayed', 'waterwrinkles', 'molds', 'flexibly', 'washablewhats', 'thisboth', 'exceptionand', 'largechested', 'lai', 'lark', 'ruffly', 'lengthnot', 'stevies', 'colorwash', 'nicelythe', 'comfortableit', 'camera', 'fewer', 'bugs', 'forced', 'increase', 'vowed', 'lifenot', 'supima', 'nonorganic', 'washedhung', 'birkinstocks', 'breakfast', 'celadon', 'install', 'unstitch', 'definitly', 'smallwow', 'todayand', 'shirttail', 'effortlesschic', 'peiople', 'cutis', 'forgivin', 'tushy', 'skiny', 'scuff', 'ridic', 'stretc', 'bustwaist', 'freedom', 'crinolined', 'categorized', 'kimonobell', 'impr', 'unattractively', 'leaner', 'sinc', 'underlayers', 'kangaroo', 'protruded', 'sundry', 'backup', 'geez', 'sass', 'mismatch', 'slash', 'torontobritish', 'columbia', 'withing', 'beadssequinsall', 'sur', 'hightower', 'chinosnope', 'sweaterponcho', 'buttonups', 'scallop', 'tease', 'davy', 'crockett', 'cottoni', 'pearls', 'straightpetite', 'outlined', 'confining', 'spacious', 'disappointedi', 'knitand', 'cottonhas', 'photobut', 'anywhereeverywhere', 'canso', 'deligthfully', 'lengthwear', 'flipped', 'longertunic', 'loveeeeeeee', 'quali', 'wildberry', 'mottled', 'bigloose', 'inexplicably', 'puckering', 'gett', 'mood', 'tightas', 'equates', 'fastened', 'float', 'capriscrops', 'cutfabric', 'smudge', 'planner', 'smallsometimes', 'lyocell', 'crowded', 'morocco', 'lookout', 'fastenings', 'stinking', 'armsshoulders', 'landed', 'acacia', 'unveil', 'jaw', 'release', 'relegated', 'levels', 'boxywide', 'eitheri', 'squishing', 'maintains', 'broen', 'extensive', 'cashier', 'tented', 'purportedly', 'pilcrow', 'sweetheart', 'trailered', 'lowraise', 'demin', 'topespecially', 'snaghole', 'pippa', 'dryit', 'unwornunwashed', 'wellthe', 'chestarm', 'incorrectly', 'conditionally', 'larg', 'stuggle', 'oneso', 'dramatically', 'lookslays', 'feltwool', 'railthin', 'banking', 'largeand', 'looped', 'darned', 'breaks', 'tears', 'rings', 'dissapointed', 'linedi', 'loden', 'duper', 'saturdaysunday', 'capedigan', 'continuity', 'muffintop', 'producing', 'state', 'hyperhidrosis', 'sweating', 'coverageprotection', 'fluidity', 'kudos', 'crave', 'fails', 'piqued', 'factored', 'graybluegreenblack', 'discolored', 'reto', 'billowing', 'enlarging', 'reallly', 'brightness', 'nonfussy', 'oatmealishwarm', 'played', 'redburnt', 'se', 'fitteddefinitely', 'fronttucke', 'looooooove', 'offcentered', 'ocd', 'middleand', 'flawno', 'security', 'yellowfloral', 'exposes', 'midline', 'showbut', 'snugi', 'concur', 'fins', 'repaired', 'mend', 'ghost', 'halloween', 'purchasi', 'litght', 'sweeps', 'downplay', 'qualityretailer', 'traveled', 'boobage', 'breastline', 'nipples', 'functionalhaving', 'thatfits', 'opaqueness', 'gracious', 'gapped', 'oddest', 'balloons', 'cooled', 'teeshirt', 'sissy', 'spacek', 'peek', 'ahve', 'moveable', 'nicked', 'whenif', 'toothere', 'pit', 'fingernail', 'muscularathletic', 'legsbottom', 'zipperi', 'studied', 'jackie', 'kennedy', 'orangish', 'coordinates', 'mosscolored', 'stickon', 'gloomy', 'neckshoulders', 'colorthe', 'togetherwell', 'occurrence', 'requirement', 'leifsdottir', 'daylight', 'cloudy', 'nonstretch', 'risked', 'behin', 'affects', 'thinonly', 'donampamp', 'hookandeye', 'itampamp', 'onsale', 'reflection', 'abou', 'colorivory', 'unders', 'sternum', 'thinkng', 'areaalso', 'ballgowns', 'attribute', 'stratchy', 'essentiel', 'antwerp', 'quilting', 'twinkles', 'temp', 'chestso', 'overal', 'likebut', 'returrn', 'aged', 'assistant', 'sensati', 'jeandress', 'fringy', 'bermuda', 'generalfrom', 'noti', 'parcels', 'carrierslaser', 'readthis', 'postage', 'ignoredand', 'parcel', 'swishy', 'interestingit', 'sipper', 'ore', 'bendable', 'sham', 'powder', 'unreliable', 'daughterwithout', 'tracking', 'saleand', 'twoluckily', 'workplaces', 'towns', 'swingness', 'capture', 'unbeatable', 'quilt', 'tale', 'lime', 'thyre', 'thier', 'adhesive', 'fuzzes', 'sample', 'landscape', 'sacrifice', 'brochure', 'topsand', 'loosefit', 'winding', 'pkg', 'pictureits', 'akemi', 'kin', 'wintry', 'tum', 'browncopper', 'maternitylike', 'impulsively', 'gorgeousand', 'overstretched', 'htis', 'sotre', 'petties', 'odrdered', 'swaeter', 'rebuy', 'geometrical', 'geometry', 'geared', 'complimenting', 'plate', 'distinctly', 'solely', 'pantsleggings', 'york', 'trapped', 'crispwell', 'periwinkle', 'boxyrun', 'addict', 'quest', 'cali', 'skimpy', 'toughwhere', 'neutrals', 'sitter', 'reward', 'preppy', 'handsdown', 'corners', 'clinged', 'complicated', 'alluring', 'ol', 'elbows', 'tickles', 'yeah', 'tickle', 'flowyjust', 'heavens', 'grandmay', 'jessa', 'semiboxy', 'semicropped', 'builds', 'skir', 'fitim', 'straightslender', 'improperly', 'distress', 'demographic', 'reservation', 'itamp', 'ampquotnoampquot', 'thatamp', 'tolerance', 'pause', 'lenox', 'geek', 'sepia', 'twin', 'acquisition', 'zillion', 'suspected', 'critique', 'poolside', 'scratchiness', 'proclaimed', 'essence', 'inwas', 'cableknot', 'eighties', 'bends', 'finer', 'fight', 'widens', 'psychedelic', 'bustwide', 'blended', 'graphics', 'cowboys', 'cacti', 'wavydistorted', 'unclear', 'pillingpulls', 'scree', 'stri', 'straighten', 'hipsbust', 'painfully', 'hulk', 'flowyswingy', 'solve', 'shied', 'downup', 'whey', 'doubled', 'terracotta', 'pantsskirt', 'cutewith', 'roomyswingy', 'jiffy', 'daybbq', 'rage', 'tech', 'rules', 'applied', 'monotony', 'fiattering', 'pooling', 'ocassionally', 'slimminga', 'petticoat', 'topits', 'monogramhwr', 'sprinkled', 'curvyathletic', 'hoochie', 'mamma', 'weary', 'necks', 'chemicaltype', 'airing', 'calming', 'nonstretchy', 'guaranteed', 'irresistible', 'roc', 'earthtone', 'genuine', 'purchasable', 'thx', 'ratings', 'periodically', 'quit', 'flattened', 'spillage', 'standardand', 'upwell', 'carnival', 'syntheticthe', 'boost', 'savannah', 'ga', 'longterm', 'wellcant', 'lacked', 'bff', 'drooljust', 'linebacker', 'shouldersbroad', 'user', 'flail', 'cellophane', 'oneinch', 'presents', 'ferry', 'ahh', 'absurd', 'potatoes', 'tthis', 'navyin', 'estimating', 'classiest', 'isblack', 'passe', 'conflicts', 'cuffbut', 'croppedvery', 'joke', 'lineespecially', 'laugh', 'craft', 'project', 'ironic', 'jeansprobably', 'whisking', 'reviewersthey', 'truetosize', 'hipstummybutt', 'theater', 'restock', 'discuss', 'furthermore', 'clo', 'mak', 'concealing', 'stumble', 'wherever', 'anorak', 'drug', 'stre', 'aroundholds', 'featuresthe', 'swimmer', 'bulkytrue', 'social', 'situations', 'snuggie', 'drooped', 'incidental', 'cas', 'orangepeachcoral', 'greenyellow', 'detailsthe', 'scrolled', 'messed', 'thickbroad', 'muslinlike', 'conditioned', 'wayyyyy', 'hundo', 'proof', 'underneathat', 'lookwise', 'ninetofive', 'periwinklelavender', 'springlike', 'redpurple', 'camo', 'jammie', 'error', 'discouraged', 'stretchyjersey', 'adult', 'hess', 'viewers', 'saidexcept', 'whiteit', 'restricts', 'plansbut', 'cautionthe', 'shirtskirt', 'fr', 'pacifica', 'wearthrow', 'dons', 'masterpiece', 'initial', 'meat', 'bones', 'hassle', 'brightened', 'pingorange', 'deducted', 'tulip', 'deliciously', 'excellentall', 'expertly', 'youthfull', 'comfrotable', 'cahnce', 'heelhoweverm', 'tey', 'htem', 'perfectlyi', 'orangy', 'succeed', 'convenientthey', 'keys', 'bodywith', 'zippedfor', 'shotits', 'knowledge', 'prettydelicate', 'silvergrey', 'metalic', 'fearful', 'petitesized', 'itclassic', 'finesse', 'iridescent', 'bluepinklavender', 'vision', 'longtorsoed', 'luxuriouslooking', 'worktoevening', 'inand', 'madewell', 'meif', 'pictu', 'moulinette', 'souers', 'versatille', 'breton', 'army', 'mellow', 'reds', 'whites', 'pinksvirtually', 'tentshaped', 'shapejust', 'colorwise', 'pace', 'icing', 'cake', 'scuba', 'dive', 'enter', 'masters', 'message', 'motivated', 'font', 'onthe', 'beginthis', 'guise', 'patent', 'antiqueish', 'definetly', 'shortness', 'fiti', 'everythingpants', 'oneshoping', 'modes', 'stripped', 'discourage', 'understatement', 'diameter', 'fabr', 'brownmaroon', 'uneasy', 'splitback', 'checks', 'obtrusive', 'poufing', 'legged', 'chelan', 'artsy', 'figurehugging', 'ican', 'jeansboots', 'skirtsheels', 'barley', 'survey', 'maternitylooking', 'bindingtight', 'nightworthy', 'containing', 'loopy', 'dylan', 'mccartney', 'roger', 'walters', 'neil', 'pinkish', 'flop', 'fitt', 'admiring', 'bikinilike', 'forarms', 'relief', 'armchest', 'ongoing', 'getter', 'antrho', 'shir', 'fascinating', 'shin', 'tablecloth', 'distorts', 'celebrations', 'palate', 'disappears', 'swishes', 'wee', 'oatmealbeige', 'impeded', 'beautifullightweight', 'pencillike', 'sloped', 'tails', 'cargo', 'cutenot', 'looses', 'prevents', 'deteriorating', 'unsewn', 'lowquality', 'rechecking', 'signs', 'combothe', 'slapped', 'dickey', 'soften', 'graywhite', 'disgusted', 'fleecelike', 'plush', 'rega', 'playing', 'cello', 'weekenderrandsummer', 'energy', 'bookmarking', 'boooo', 'supershort', 'shocking', 'teachers', 'cupcake', 'fullest', 'detracts', 'feed', 'waves', 'gun', 'tbale', 'elngth', 'almsot', 'ths', 'referenc', 'wonky', 'suite', 'boxyroomy', 'wristforearm', 'childhood', 'cars', 'kid', 'chamois', 'shammy', 'soaking', 'musthave', 'motifso', 'barre', 'rusticcharming', 'nevermind', 'horizont', 'conservatively', 'scraps', 'lone', 'dissenter', 'faves', 'xxxxxxxxs', 'slig', 'smallsince', 'juniors', 'drycleaned', 'repeats', 'bottomjust', 'missewn', 'purposeful', 'damask', 'fiveyear', 'twenty', 'arrives', 'eliding', 'vents', 'unzipping', 'mesmerizing', 'temperature', 'balled', 'nicequality', 'anyday', 'defectiveit', 'midway', 'waistlineso', 'cardiganboots', 'growing', 'peche', 'thisthe', 'sontheslopes', 'wich', 'estimate', 'hospital', 'scrub', 'editingi', 'goof', 'besidebelow', 'anomaly', 'thy', 'corduroys', 'seeming', 'fairisle', 'drapy', 'lowkey', 'umbrellarain', 'tunicruffle', 'anywherethis', 'wearthe', 'beautifuli', 'fathers', 'pds', 'vacating', 'tile', 'survivor', 'lopsided', 'milder', 'act', 'wrangle', 'nudecolored', 'mustve', 'photoshopped', 'childs', 'ecstatic', 'museums', 'churches', 'lighting', 'disneyland', 'oops', 'highcropped', 'sizeprint', 'springtime', 'arri', 'theses', 'hourglasspear', 'nogive', 'nbut', 'rahter', 'grooves', 'forh', 'onooh', 'padderns', 'selection', 'isits', 'fifth', 'herestill', 'elected', 'chestarms', 'materialitem', 'photography', 'champagne', 'denimlike', 'armschest', 'leftover', 'netted', 'uniqueand', 'waistam', 'column', 'waistright', 'specialist', 'reviewersthis', 'washdryshrink', 'tuns', 'cascadia', 'superficial', 'plaidthis', 'vogue', 'seampleat', 'twists', 'herringbone', 'monica', 'maine', 'stumpy', 'unconnected', 'tackylooking', 'crass', 'max', 'mere', 'tealnavy', 'whitenavy', 'photographed', 'murdered', 'needles', 'pricking', 'tolerating', 'undernea', 'france', 'tickets', 'italians', 'jacketim', 'friendsthis', 'typica', 'ut', 'inspection', 'recreate', 'smoking', 'carpet', 'crimplene', 'odorit', 'leggins', 'noi', 'triangular', 'prisoner', 'saleonsale', 'begging', 'fabricliner', 'fin', 'harm', 'nyloncotton', 'parrot', 'didt', 'multifunctionality', 'marry', 'jewel', 'twins', 'arielle', 'maiden', 'reflex', 'dear', 'somewhatumsuppre', 'thingsdepending', 'offbut', 'noooo', 'listening', 'reliable', 'topmedium', 'abs', 'fluctuations', 'sunning', 'tanktop', 'postcard', 'greatly', 'underlayment', 'formality', 'graze', 'tur', 'bind', 'coordinate', 'itemprobably', 'prove', 'classroom', 'sizewore', 'kansas', 'citymo', 'plaza', 'mediately', 'popover', 'matted', 'drycleaning', 'swims', 'sli', 'convey', 'maternityesque', 'revealed', 'shininess', 'meshish', 'mediumweight', 'drawstringstyle', 'altogether', 'persondarker', 'thinto', 'ov', 'ideally', 'everydayjacket', 'weeding', 'currentelliot', 'sai', 'drink', 'toojust', 'versitle', 'pantsshorts', 'lengthmy', 'defi', 'comfortableflattering', 'holidaynye', 'patternnot', 'shortslength', 'blkblk', 'outdoors', 'toss', 'paranoid', 'articlepattern', 'exp', 'messy', 'xxsmall', 'henely', 'allison', 'highland', 'woodlands', 'employing', 'staff', 'warrant', 'smart', 'sizingusually', 'aztecy', 'asis', 'sentimental', 'libs', 'itthe', 'intricacy', 'stylebut', 'spark', 'conversation', 'durableive', 'woolite', 'wreaked', 'subsequent', 'circumstance', 'unbuttons', 'proba', 'war', 'leary', 'modeling', 'justified', 'sailor', 'whiteonwhite', 'belowclassic', 'degrade', 'faster', 'shippingpricing', 'conflict', 'honored', 'orignal', 'drip', 'exudes', 'mehand', 'merchandised', 'xtr', 'mr', 'sexier', 'eh', 'cervical', 'dealing', 'health', 'blocking', 'twotone', 'wideness', 'pinker', 'amply', 'join', 'yogawear', 'craze', 'lovethis', 'jeweled', 'pinky', 'thisdefinitely', 'andnonary', 'select', 'exercise', 'loosest', 'xxspruns', 'aswing', 'easiness', 'styleill', 'tooooopss', 'remarked', 'admiration', 'deliver', 'shoulderback', 'haging', 'colori', 'kneethere', 'streamlined', 'semiabstract', 'sailboat', 'bugged', 'maternityand', 'swingflow', 'tagged', 'loser', 'loserlonger', 'greenishgray', 'contoured', 'distinguishable', 'jackpot', 'lambswool', 'arranged', 'numero', 'uno', 'cedarneutral', 'fiveyearold', 'stylishthese', 'stylefabric', 'delay', 'smmd', 'edging', 'flaunt', 'prepre', 'phase', 'smile', 'passersby', 'occasionsevents', 'dangly', 'slipons', 'interpretation', 'peplm', 'vanilla', 'poked', 'suddenly', 'granddaughter', 'oft', 'tightand', 'skimmed', 'overexposed', 'apt', 'receptionist', 'nonmaternity', 'properlythe', 'thinand', 'peachpink', 'elasticised', 'gambled', 'als', 'remiss', 'bellybutton', 'fulltime', 'student', 'reviewsthe', 'drives', 'judge', 'mu', 'baggyall', 'contour', 'flabbergasted', 'patched', 'chiller', 'georgia', 'thrill', 'accepted', 'bodys', 'leggingsyoga', 'lightthin', 'superpleased', 'beigeneutral', 'skintone', 'inky', 'sufficient', 'overcoming', 'curtains', 'girlfriends', 'turquoisenavy', 'taupepeach', 'solo', 'elasticity', 'lovelier', 'plusher', 'focused', 'focuses', 'arctic', 'guard', 'translated', 'mailbox', 'noon', 'reconsider', 'closedat', 'quarters', 'butas', 'offeven', 'shapewear', 'aligned', 'exceeds', 'flattery', 'ark', 'members', 'mallard', 'loungesleep', 'transform', 'whitewithflowers', 'masks', 'flowereddesign', 'barelegged', 'statuesque', 'palazzos', 'spoken', 'animals', 'wardrobes', 'perfectexactly', 'abhor', 'resembling', 'commenters', 'delicately', 'highe', 'weekender', 'websitewhen', 'whitewhich', 'wellconstructed', 'bauble', 'sends', 'catalogs', 'anorexic', 'unhealthy', 'circumference', 'shouldersthe', 'purchaseit', 'catcher', 'smalli', 'structural', 'needwant', 'leading', 'flatte', 'needwear', 'navyred', 'feelingyou', 'sticker', 'timelessness', 'flapper', 'century', 'musical', 'tuts', 'theatre', 'puddle', 'vineyard', 'pillingshedding', 'fish', 'pallas', 'perfectso', 'guide', 'socal', 'purchasingbut', 'flutes', 'cameo', 'brooch', 'hastle', 'map', 'extremes', 'nela', 'ispretty', 'amelia', 'bedelia', 'whacky', 'childrens', 'fittedbut', 'disposable', 'acceptabl', 'waistgives', 'detach', 'extraordinary', 'borders', 'grew', 'displays', 'materia', 'retains', 'spaghetti', 'chucks', 'fir', 'toptunic', 'tory', 'burch', 'fittoo', 'nonuniform', 'wfact', 'lbsbought', 'wood', 'prickling', 'colorblock', 'arrangement', 'backarms', 'lp', 'mommytummy', 'streaks', 'strands', 'pumped', 'guessed', 'sting', 'pasted', 'sadl', 'concerning', 'tightsimho', 'barn', 'allllllmost', 'nipple', 'roominess', 'borrowed', 'tantaupe', 'asheville', 'smallframed', 'disservice', 'saleunless', 'handwashed', 'grade', 'fabricthe', 'sandkhaki', 'tealaqua', 'workcasual', 'southeast', 'asia', 'february', 'backpacker', 'develop', 'excell', 'recomme', 'filter', 'cleverly', 'pasadena', 'shore', 'shins', 'underwhelming', 'historically', 'welleven', 'eitherhow', 'cecilia', 'floraknit', 'ashape', 'camos', 'covet', 'boxescomfy', 'upa', 'grabs', 'perf', 'attack', 'speaks', 'cellular', 'burgers', 'injury', 'cardio', 'uh', 'sizethe', 'handful', 'fixable', 'scramble', 'crawling', 'cheeks', 'zippie', 'session', 'bottomit', 'lengthlittle', 'schooler', 'descriptionhowever', 'blendwould', 'madeit', 'keepers', 'beefy', 'routinely', 'expand', 'shredded', 'vshape', 'volumes', 'leggingsgreat', 'poorlyi', 'waistlinethere', 'discarded', 'straw', 'burlap', 'duffs', 'substancial', 'tirst', 'tme', 'defectiv', 'kneesexactly', 'weighted', 'shirring', 'palazzo', 'rsty', 'fastening', 'mateiral', 'protected', 'strategy', 'wit', 'tanbrown', 'buyin', 'styledesign', 'purchasedgot', 'refernce', 'intimidate', 'tonesi', 'horizontally', 'ultimate', 'goddess', 'superskinny', 'repackaged', 'looged', 'stretchyi', 'relaxedtrouser', 'ole', 'heaps', 'bread', 'pasta', 'priceless', 'brow', 'bluered', 'blindly', 'akemikin', 'edged', 'consumed', 'pinning', 'settled', 'deceptive', 'mayat', 'emailed', 'reply', 'classicand', 'halterneck', 'bellshaped', 'jeanstrousers', 'final', 'objection', 'memories', 'skating', 'wheatleys', 'pond', 'primarily', 'dresslight', 'refreshing', 'polyes', 'ii', 'br', 'granddad', 'casualweekend', 'bigbaggy', 'puregood', 'cordered', 'smoothly', 'silvergray', 'blackdark', 'sizenot', 'swtr', 'blackcamel', 'pregnantplus', 'incase', 'unpick', 'revi', 'gogo', 'decolltagebut', 'decoration', 'enlarged', 'irks', 'usedand', 'tiokeep', 'overlaid', 'shap', 'uniquespecial', 'cables', 'popcorn', 'beca', 'pettte', 'hipwidth', 'jcrew', 'positioned', 'musually', 'flowerscolors', 'patternscolors', 'timeframe', 'darkheav', 'clever', 'worries', 'trashy', 'cleave', 'becau', 'snagthread', 'highwaist', 'breasted', 'apre', 'homebase', 'excitedly', 'webs', 'hm', 'esque', 'bueno', 'quiet', 'conform', 'brutal', 'pinstripe', 'spaced', 'thruout', 'inadequate', 'upturned', 'forgotten', 'ilike', 'brafriendliness', 'thise', 'bes', 'largeregular', 'poured', 'backwaist', 'wellfitted', 'darkwash', 'jeansan', 'withstanding', 'bundle', 'niceactually', 'perfectnot', 'tests', 'fluffs', 'reseam', 'tightbaggy', 'schemes', 'promises', 'xsmallsmall', 'apprehension', 'dorsay', 'rig', 'softener', 'tossed', 'backs', 'nicelysurprisingly', 'loafers', 'welcoming', 'politely', 'murkier', 'smokey', 'expectedsort', 'nhl', 'plico', 'dining', 'hindsight', 'probable', 'toocasual', 'peasantlike', 'lengthgiven', 'singly', 'presentations', 'faculty', 'functions', 'aforementioned', 'slick', 'creamivory', 'vulgar', 'cutmy', 'cheese', 'clothit', 'weirdwonky', 'lifespan', 'reasonsit', 'middlefinally', 'wellendowed', 'photoshoot', 'sucked', 'separation', 'pools', 'colorssuper', 'fitvery', 'flatteringgreat', 'lengthvery', 'comfortablejust', 'saidpilcro', 'againits', 'oblong', 'spaceage', 'jutted', 'covershides', 'iis', 'denimit', 'blocks', 'regulat', 'craves', 'detailrich', 'labels', 'commissioned', 'trusted', 'instincts', 'dressthere', 'decorating', 'biglooser', 'shopped', 'wandered', 'intimates', 'artfully', 'forgettin', 'verify', 'positives', 'physically', 'answe', 'patternprint', 'navygreen', 'redbrown', 'blackgold', 'oxford', 'gapes', 'tape', 'fastener', 'muchwhat', 'workmanshipquality', 'iterations', 'contributed', 'printsbut', 'hues', 'oftenpretty', 'monet', 'lingere', 'hotter', 'bitter', 'backmodel', 'hipbutt', 'polyspandexrayon', 'predominately', 'smallertighter', 'pas', 'blousehowever', 'dazzle', 'twirly', 'instants', 'wuzzy', 'extravagant', 'singleuse', 'buyer', 'occasionsweddings', 'memorials', 'flushed', 'delicateness', 'mega', 'tightsleggings', 'thirties', 'thisis', 'gumby', 'toes', 'longcloser', 'holy', 'grail', 'whatevers', 'exteemely', 'shiop', 'justicevery', 'threequarter', 'firmly', 'decorations', 'ivories', 'creams', 'medical', 'professionalism', 'luxuriously', 'fitwell', 'tback', 'wrinkel', 'showers', 'brunches', 'rocket', 'babys', 'acutually', 'petiteshorter', 'entirel', 'chestnot', 'wayand', 'dressgreat', 'fabricweight', 'returnhope', 'symmetry', 'centering', 'stout', 'dimensional', 'feelscheap', 'wadded', 'depths', 'mongolian', 'singing', 'operatic', 'arias', 'sole', 'reache', 'tomato', 'confusion', 'yrs', 'statue', 'tweed', 'comfortablethe', 'waistpocket', 'brownettes', 'drawing', 'smoothes', 'inconsistencies', 'petitte', 'thinks', 'inherent', 'mostslimming', 'lug', 'fau', 'bank', 'maintain', 'linens', 'salesgirls', 'howeve', 'sandalsbut', 'uncured', 'atbelow', 'extend', 'tyla', 'actuality', 'midjuly', 'holesfalling', 'ageappropriate', 'hugelike', 'saidlike', 'blotchy', 'swallows', 'sins', 'nemesis', 'salesome', 'outhang', 'emphasis', 'inviting', 'nightdress', 'sags', 'urged', 'fabricators', 'lightasair', 'stare', 'disguised', 'stadium', 'neutralbeige', 'shou', 'ju', 'poke', 'bunnies', 'billowpuffbag', 'thereno', 'restaurant', 'justabovetheankle', 'healswedges', 'teensy', 'storeso', 'softvery', 'contain', 'flecking', 'highmaybe', 'nordic', 'folk', 'itwith', 'bluebut', 'brightlight', 'topand', 'waaaaay', 'kno', 'rearrange', 'sustainably', 'ghana', 'responsibly', 'beatrice', 'straighterlooking', 'cehst', 'ahd', 'pen', 'colr', 'eliminate', 'settings', 'dept', 'stroll', 'dread', 'shimmersthere', 'finei', 'ivoryespecially', 'neighborhood', 'bottomless', 'yellowy', 'backi', 'cardigansweater', 'liiiiiittle', 'peter', 'pan', 'sueded', 'nearidenticallypatterned', 'heavierweight', 'outlin', 'interviewer', 'contender', 'disppaointed', 'offwhte', 'femine', 'youthis', 'astronomical', 'whitish', 'refresher', 'banquet', 'opera', 'nirsing', 'stretchyhte', 'shouldersarms', 'extent', 'onesize', 'becuase', 'flattered', 'themand', 'sooner', 'seven', 'sorryhad', 'asidesince', 'roomymore', 'amazon', 'descriptor', 'motorcycle', 'admired', 'admirin', 'freely', 'peels', 'betwe', 'dawn', 'bomb', 'shouldersneck', 'reco', 'platforms', 'comjfortable', 'beloved', 'securely', 'perfectlyat', 'recognition', 'suitnot', 'bidding', 'auction', 'music', 'slitunder', 'fullstunning', 'falli', 'bootiesmadly', 'reviwes', 'picturenot', 'weightquality', 'swingyness', 'whitebeige', 'idid', 'athleisure', 'squished', 'summerlike', 'inline', 'slipper', 'grippies', 'tabs', 'shirtsleeves', 'realign', 'nine', 'genetic', 'supply', 'purc', 'apply', 'sequence', 'definetely', 'dresse', 'corer', 'itopen', 'heavyhot', 'jaggedly', 'haphazardly', 'sewnit', 'supersale', 'rescue', 'conversely', 'sporting', 'tunicim', 'highwaited', 'bewarethis', 'materiel', 'coobies', 'swell', 'shortcomings', 'petitethinner', 'camisol', 'rana', 'grrrrrrrrrrr', 'nightwear', 'withoutso', 'greatlooking', 'andunrolledthey', 'moresorry', 'retailermy', 'incidents', 'annoyance', 'ingredients', 'sheerwhich', 'discourages', 'slitted', 'formless', 'kicked', 'cutie', 'criss', 'stetchy', 'closedend', 'sensitivethis', 'withou', 'straplength', 'chore', 'dig', 'whitecream', 'connector', 'canyon', 'topped', 'shooties', 'imply', 'melange', 'backthick', 'faryl', 'tjhis', 'detial', 'dominant', 'substantially', 'yellowlemon', 'owns', 'elongate', 'sizingi', 'shapeit', 'sinches', 'frills', 'claiming', 'bestnot', 'slee', 'instance', 'saver', 'hotel', 'picro', 'panic', 'discontinues', 'sparingly', 'picnic', 'itlooks', 'farmhand', 'zombie', 'benefitted', 'marriage', 'pairings', 'orangetangerine', 'bulked', 'necknice', 'tieneck', 'broach', 'redundant', 'colorprint', 'chooses', 'outermost', 'bignot', 'canvas', 'saving', 'summercant', 'secular', 'cringed', 'saidthe', 'stylists', 'bomberstyle', 'colsely', 'mentione', 'ampquot', 'snigger', 'ironingsteaming', 'firstafter', 'suffer', 'methey', 'ands', 'prefectly', 'shaggy', 'batiklike', 'gettogethers', 'fairs', 'longlimned', 'strang', 'anythingtights', 'feminie', 'pelats', 'pantsejans', 'shortsif', 'chores', 'resting', 'squat', 'layerng', 'redoing', 'tigh', 'straightforward', 'checkers', 'iton', 'ampampampamp', 'ampampampampquot', 'iampampampamp', 'wonampampamp', 'bus', 'funalso', 'supermodel', 'overthetop', 'starbucks', 'formfit', 'chambraydenim', 'braslip', 'newmommy', 'kneecaps', 'maneuvering', 'tightstretched', 'fuzzyjust', 'floppyyou', 'enticed', 'printing', 'tunicswing', 'modei', 'unfitted', 'mara', 'hoffman', 'basketweave', 'fractals', 'hipbones', 'haunt', 'dressup', 'slice', 'adoring', 'ohso', 'po', 'areturn', 'construct', 'reall', 'vcut', 'whic', 'onlinethen', 'priceyikes', 'hurray', 'veryvery', 'sleeper', 'thoughtwhat', 'diagonals', 'mermaid', 'loosing', 'trampy', 'cozying', 'wrappi', 'zooming', 'shownand', 'onyeah', 'loosernot', 'draft', 'pregant', 'notebook', 'slings', 'ubiquitous', 'regulr', 'midbottom', 'unreasonable', 'hps', 'grading', 'cheek', 'flimsythe', 'flaredstraight', 'stilts', 'vvv', 'ls', 'warns', 'alllll', 'manufacturing', 'samei', 'payed', 'declining', 'showingi', 'kinds', 'wholeheartedly', 'lifelong', 'tyically', 'butta', 'choke', 'reviewersi', 'ber', 'waterproof', 'insulated', 'exposing', 'purcahse', 'striked', 'investing', 'stability', 'grease', 'linger', 'lbsm', 'smocks', 'fronts', 'bluish', 'squared', 'boobsagging', 'lackedsomething', 'wires', 'researched', 'interchangeable', 'disappoin', 'customize', 'onlineprobably', 'inventory', 'anlobn', 'beigecream', 'prettybut', 'importantlythe', 'rightfor', 'bottomlooks', 'eyelits', 'toying', 'dead', 'feeltrue', 'mih', 'abnormal', 'shouldersarmpit', 'navygrey', 'clock', 'journey', 'approved', 'squishes', 'dressand', 'pos', 'destroying', 'outfitting', 'inspiration', 'kit', 'greenpink', 'bluemaroon', 'inserts', 'ventilation', 'jacketsdont', 'multicolor', 'anklestrap', 'releases', 'edgey', 'smoky', 'remain', 'aroun', 'nuff', 'bootsa', 'greathowever', 'poncholike', 'overbearing', 'oood', 'rtw', 'knockoff', 'creep', 'famous', 'neede', 'overkillunnecessary', 'overdress', 'resewing', 'spoil', 'focal', 'earrin', 'pliable', 'riddled', 'boyfriends', 'beautifulvery', 'ergo', 'comfortablegreat', 'itselfgot', 'fallwinterholiday', 'porcelain', 'halftucked', 'waistlength', 'lowbacked', 'vent', 'buttonsthey', 'slid', 'admirable', 'patternsseasons', 'tropicalexotic', 'summe', 'frontal', 'restoring', 'faith', 'sheerest', 'troublesome', 'giv', 'perceive', 'didnot', 'frays', 'oneand', 'slipwhich', 'format', 'dyed', 'coordinated', 'exceptions', 'sweather', 'tunicdress', 'pricemaybe', 'clicking', 'fisherman', 'liberty', 'bodywaist', 'widened', 'silkvelvet', 'quotskyquot', 'slithering', 'growths', 'whoever', 'resent', 'wout', 'paints', 'ne', 'uncuffed', 'mauveish', 'shadow', 'lookfit', 'nab', 'offweekends', 'gorgeousyou', 'tooand', 'retailerpersonal', 'carolyn', 'blair', 'helpfu', 'laceeyelet', 'snd', 'bin', 'georgetown', 'managing', 'princessfeeling', 'clothespinning', 'pai', 'sema', 'neatly', 'pari', 'peite', 'lacedup', 'weirdoverstretched', 'jerseyknit', 'upperhalf', 'bottomhalf', 'agin', 'references', 'powerless', 'satiny', 'dates', 'ballgown', 'reclip', 'seasoned', 'listen', 'attractively', 'generic', 'eggplant', 'formhugging', 'wedged', 'shorties', 'cinderella', 'camping', 'remake', 'fabri', 'starring', 'film', 'noir', 'specifies', 'cleaningthere', 'tlc', 'rearthigh', 'weightand', 'ineach', 'gravitating', 'composition', 'upbut', 'outwards', 'embarrassed', 'orangemango', 'vadc', 'missoni', 'sothe', 'sheerit', 'viscoserayon', 'getgo', 'topbought', 'colorswhite', 'tshirtssized', 'aggressively', 'throwon', 'camp', 'chestbarely', 'largeri', 'hippelvis', 'picturedi', 'concealed', 'narrowest', 'supertiny', 'cleverits', 'quibble', 'stocking', 'feeti', 'fluffiest', 'flowered', 'tranforms', 'slightl', 'frontthere', 'messso', 'notsoflat', 'butts', 'muscley', 'realityshort', 'fabricit', 'waistnot', 'brogues', 'barefoot', 'thoat', 'hipdoes', 'stifflike', 'furniture', 'sweatpants', 'polyblend', 'linedbut', 'saggier', 'thickpoufy', 'furball', 'tacks', 'candy', 'eu', 'noticing', 'relacing', 'installing', 'consuming', 'beigey', 'scratches', 'fortunyesque', 'specialoccasion', 'leggingsalmost', 'sexiest', 'patterncolor', 'armneck', 'simplecomfybut', 'thingsjeans', 'kneeskimmer', 'globs', 'coveralls', 'sideways', 'myers', 'coolwish', 'iris', 'bloom', 'slouched', 'veterinarian', 'nonbulky', 'disturb', 'handembroidered', 'users', 'indiscretions', 'wilted', 'leggier', 'milky', 'versatilei', 'pomonas', 'buttonsi', 'racks', 'scoops', 'construc', 'gladiators', 'dripped', 'jars', 'jam', 'berries', 'spoons', 'regulars', 'whod', 'curvaceous', 'confirm', 'pictur', 'rockets', 'muffins', 'beside', 'hatedavoided', 'straighterslimmer', 'scrappy', 'sundresses', 'whered', 'pla', 'titled', 'integrated', 'lighten', 'balooned', 'fuzzylooking', 'shopworn', 'numbered', 'uniquenesses', 'barrel', 'rural', 'countries', 'bulking', 'visually', 'bs', 'shamereally', 'jeanssuper', 'cutehowever', 'cutoff', 'buildnot', 'modelthin', 'eitherand', 'isyou', 'jeggingsleggings', 'cuten', 'onlineit', 'seasonless', 'charged', 'ack', 'doily', 'darks', 'streaked', 'poses', 'yogini', 'lovebut', 'huuuuggge', 'unheard', 'denimcargo', 'amazingdelicate', 'perfectlight', 'mashups', 'moulded', 'supports', 'fabricbut', 'wellits', 'getbut', 'meduim', 'sutble', 'groom', 'merchandise', 'greyroseblue', 'readings', 'unpack', 'bootees', 'birks', 'wedgewood', 'regal', 'appeals', 'anther', 'ang', 'tys', 'importatn', 'matieral', 'comfortbale', 'hwoever', 'ilfelt', 'reverts', 'acceptably', 'fal', 'wansup', 'jacketmy', 'building', 'fiddling', 'heater', 'polishedif', 'asymetrical', 'ador', 'focus', 'lens', 'realitymeh', 'laura', 'ashley', 'marching', 'cloying', 'unwieldy', 'anrtho', 'overallawesome', 'rippled', 'shapeno', 'position', 'bellow', 'neutralmuch', 'washeddried', 'amorphous', 'voila', 'fixes', 'numeric', 'timehand', 'workers', 'marginally', 'pregnan', 'district', 'freeze', 'boyishly', 'dressesclothes', 'advantages', 'pantseven', 'availableit', 'petiite', 'airplane', 'monitoring', 'colorfit', 'pastries', 'electric', 'linkages', 'colorlucked', 'layeringwhich', 'alway', 'tires', 'aholed', 'themin', 'discontinued', 'divide', 'laughs', 'diving', 'cutsie', 'sizeyou', 'drapinglove', 'toonice', 'allpurpose', 'againi', 'lovey', 'botih', 'tegan', 'snuggy', 'pinup', 'roared', 'toms', 'trips', 'clerks', 'allin', 'wrapping', 'unwrapping', 'lengthjust', 'haying', 'futuristic', 'pry', 'combing', 'pinstripes', 'teetunic', 'flowly', 'humongous', 'constructionsewing', 'classicmodern', 'twisting', 'straightening', 'whitei', 'bluefloral', 'puttogether', 'etiher', 'stell', 'beautifulthe', 'greenygold', 'goldnice', 'thatif', 'retrovintage', 'justicethe', 'downi', 'offload', 'africa', 'nowi', 'frail', 'whoop', 'colorfast', 'artists', 'palo', 'alto', 'edessa', 'homemade', 'bec', 'thickerthanaverage', 'host', 'delicatecold', 'destined', 'vback', 'detaili', 'naught', 'doover', 'qa', 'fullrange', 'blades', 'heavylifting', 'disclaimer', 'sof', 'impending', 'fuchsia', 'amsterdam', 'heaviness', 'daly', 'colorsbeautiful', 'anchors', 'stumped', 'crisscrosses', 'entered', 'threeseason', 'flexors', 'ripplefront', 'mashing', 'lilitz', 'signature', 'marketing', 'emails', 'unnaturally', 'track', 'distorted', 'blogger', 'amber', 'fillerupclark', 'monokini', 'navycream', 'hack', 'rediculously', 'hikes', 'antipant', 'momma', 'snuck', 'stickers', 'reticketed', 'stitchin', 'tankwearing', 'reviewsunfortunately', 'curly', 'saved', 'peppery', 'csame', 'nicelyjust', 'mirrors', 'visibleso', 'coursebut', 'bluesand', 'pedal', 'pushers', 'ratethis', 'agitates', 'reckon', 'bonnet', 'shoeslegwear', 'universally', 'editions', 'departure', 'broadened', 'coatit', 'squashed', 'coobie', 'leopard', 'hangdrying', 'concepts', 'surrender', 'htat', 'midvacation', 'spirit', 'untied', 'enoug', 'stocked', 'petities', 'cardiganshrug', 'someon', 'suport', 'patters', 'exmaple', 'bluishgreen', 'hae', 'tneck', 'breasting', 'silouette', 'tedious', 'hurdle', 'smock', 'pdx', 'pickswell', 'staticy', 'doentt', 'petitesso', 'sie', 'htough', 'greayish', 'lcan', 'laws', 'usualit', 'capelet', 'laceknit', 'marroon', 'skiiers', 'fringeit', 'heelits', 'dangled', 'evenlooking', 'avail', 'sizesmall', 'snuggest', 'framenot', 'score', 'embroiderey', 'welcome', 'companion', 'examining', 'slone', 'rouge', 'rosey', 'somethingnot', 'belongs', 'itruns', 'topsheer', 'uncut', 'unfortunatly', 'imperfect', 'medallion', 'swingier', 'impeccably', 'transcend', 'verdugo', 'rocks', 'goldolive', 'winterspring', 'availab', 'missstitch', 'funnily', 'dies', 'sailboats', 'everfrom', 'resolutions', 'waistsbig', 'midsummer', 'washington', 'jerusalem', 'lifts', 'hats', 'indecently', 'anybody', 'bustiest', 'dressfallspring', 'collecting', 'woop', 'qualm', 'sin', 'racetrack', 'mythe', 'remade', 'toasting', 'photoopen', 'bootles', 'personthen', 'shippingmy', 'shelling', 'bash', 'olds', 'gymnastics', 'ladybugs', 'mourn', 'lightest', 'infinity', 'beautifulive', 'superhot', 'jeweltone', 'sly', 'gateway', 'ityou', 'elevatedand', 'periwinkleish', 'mou', 'storehad', 'beltit', 'allpolyester', 'satisfying', 'lowercut', 'laye', 'necklineadds', 'itits', 'littleoff', 'diy', 'dallas', 'airiness', 'middleton', 'anita', 'dongre', 'wayyy', 'topthis', 'fitsflatters', 'grip', 'teababy', 'saleabsolutely', 'eberjey', 'chicken', 'bluedefinitely', 'gorgeousthen', 'pand', 'armsif', 'missized', 'middi', 'bryon', 'expedited', 'detailingit', 'deposited', 'linty', 'particle', 'badwornold', 'doesnampampampamp', 'dressat', 'bladesrather', 'lengthy', 'blob', 'humanity', 'frayedcouldnt', 'biglooks', 'frayingruns', 'ante', 'silkysatiny', 'weightlessness', 'transparenti', 'painterly', 'redo', 'dalls', 'halflength', 'acts', 'sharply', 'outmellows', 'bea', 'gosh', 'wellthere', 'insecurities', 'biit', 'prettyso', 'hipsbut', 'lobsterlike', 'reef', 'explaining', 'sizewise', 'aunt', 'detracting', 'daysi', 'external', 'underweight', 'dressappropriate', 'dressmaker', 'gameday', 'attraction', 'cough', 'delettas', 'bodywidth', 'widerib', 'scaled', 'proportionately', 'rednavy', 'prudish', 'natured', 'oldstyle', 'vividly', 'pining', 'balloonfit', 'dwarfed', 'thighsbut', 'bluecream', 'leveland', 'released', 'bodies', 'ivorywhite', 'saidquality', 'modelnot', 'flatteringmakes', 'substantialthe', 'maxed', 'whimthen', 'comfya', 'jus', 'stored', 'gas', 'station', 'unfini', 'broaden', 'wicks', 'devotee', 'headturning', 'thermal', 'smallliking', 'sleeveshad', 'bay', 'curvyfullfigured', 'input', 'oddlength', 'assemblage', 'checklist', 'retailerpologists', 'smallvery', 'embarrassing', 'mixedmedia', 'twilllike', 'rep', 'edition', 'chokers', 'gatsby', 'whitegray', 'density', 'constrictive', 'canvasy', 'specks', 'accompanying', 'softeven', 'pantless', 'relent', 'frabic', 'receiv', 'arrangements', 'determining', 'pro', 'leggingsskinny', 'vey', 'seethough', 'shapesuper', 'smallit', 'unbelted', 'jet', 'dish', 'hydrogen', 'peroxide', 'acup', 'wonderfulits', 'muchbut', 'polyestery', 'tinselly', 'weavedoes', 'anklelength', 'shld', 'lasted', 'jeanscordsleggings', 'taupey', 'seeking', 'waistless', 'pun', 'ponchoswing', 'struggled', 'tidier', 'noticable', 'exotic', 'curvehugging', 'pinches', 'tinted', 'retailerwas', 'thingsso', 'latest', 'dissapointment', 'jeansi', 'retailerpologist', 'formula', 'consumers', 'machinedelicate', 'twoply', 'cheesecloth', 'submit', 'whiled', 'ooohed', 'aaahed', 'hurriedly', 'hippyi', 'okaycouldnt', 'comp', 'jingling', 'noise', 'makers', 'offeringso', 'beautifullyeven', 'whomever', 'severely', 'slighty', 'dim', 'optical', 'comfywin', 'marking', 'indecent', 'nonretailer', 'sizewith', 'multicolored', 'scores', 'warmed', 'pessimist', 'nothings', 'bags', 'wave', 'unbasic', 'translate', 'scratched', 'ironically', 'whileit', 'thou', 'cl', 'andhonestlythey', 'offlate', 'nubbed', 'lackluster', 'huit', 'eden', 'lagoon', 'longish', 'puckery', 'svintage', 'fitshape', 'breaths', 'girth', 'secret', 'smack', 'dab', 'abdomen', 'amt', 'thei', 'southwest', 'areawin', 'tealength', 'sothere', 'contentment', 'tentative', 'jeangirl', 'shapeeven', 'reasonsits', 'mysteriously', 'italian', 'bamboo', 'meghan', 'trainor', 'song', 'thisthat', 'stair', 'officewear', 'becaus', 'amazement', 'handsome', 'whimsically', 'famine', 'nobrainier', 'contrastin', 'blondes', 'substantive', 'hangup', 'til', 'container', 'rainumbrella', 'shapelessness', 'cuteness', 'prepare', 'fantastically', 'standalone', 'boarded', 'foods', 'toolike', 'briefly', 'rpetty', 'sizewhich', 'rubbing', 'strech', 'sensational', 'lotus', 'recommendations', 'sigh', 'understandable', 'overtaken', 'handed', 'trex', 'mystery', 'ugliest', 'antebellum', 'horrified', 'depictes', 'onegoing', 'fanicer', 'graces', 'headache', 'pieties', 'concensus', 'planted', 'buttonsnot', 'navigate', 'momteacher', 'mommas', 'ahhhh', 'horrendous', 'grayplum', 'deteriorates', 'shave', 'bolder', 'underneat', 'alreadyi', 'springysummery', 'jogger', 'casualfor', 'glanced', 'reflect', 'transports', 'overs', 'welcomed', 'gear', 'sanded', 'agoand', 'dresswith', 'tankwith', 'stretchrelated', 'diagonalopening', 'sixties', 'wins', 'yea', 'slipsadly', 'disposed', 'sewnin', 'limbed', 'refit', 'lurve', 'espradilles', 'corset', 'nye', 'inspirational', 'higherend', 'toucan', 'semifitted', 'baltimoreand', 'widening', 'strangly', 'cottonymaterial', 'wouldwill', 'onwearing', 'greyblack', 'thicknessnot', 'greeni', 'baggie', 'thisjust', 'oversizedflowy', 'womanly', 'summerthe', 'catchy', 'annual', 'switzerland', 'plasticky', 'lineba', 'lightwe', 'scruffy', 'crosswrap', 'camoflauges', 'grayblue', 'female', 'toptoo', 'tooth', 'separated', 'apex', 'nay', 'gaucho', 'printpattern', 'greyi', 'intrusive', 'henly', 'ike', 'detal', 'dissapoint', 'trolling', 'origami', 'distracts', 'visibly', 'stink', 'toxic', 'mustbuy', 'sf', 'straightened', 'olivetoned', 'stupid', 'envisioning', 'structuredtailored', 'zipbutton', 'legit', 'exit', 'grabber', 'strechable', 'cloer', 'merchants', 'websites', 'smallwaisted', 'earlymid', 'blousesoft', 'fitrunning', 'guarantee', 'central', 'florescent', 'feathers', 'clicked', 'pouchy', 'lucious', 'anythingbelowyourwaist', 'maaji', 'breathablecomfortable', 'unfamiliar', 'weston', 'hose', 'jewelery', 'tattoo', 'mixe', 'michigans', 'perfectionist', 'zig', 'zag', 'repurchased', 'vacillating', 'theblack', 'overtook', 'weekendhome', 'unprofessionally', 'pilly', 'shaved', 'sided', 'stretchif', 'nick', 'defe', 'throu', 'hightquality', 'burn', 'sparrow', 'shyle', 'bressay', 'problemhips', 'jlo', 'squats', 'braand', 'outing', 'makeups', 'viceversa', 'largemost', 'thickstructured', 'knocks', 'recurrent', 'excuses', 'anoth', 'monstrously', 'vibrancy', 'daytonight', 'multitasking', 'passions', 'blowsey', 'lovelywell', 'heftier', 'picturesawesome', 'perfectweight', 'locations', 'mistaking', 'blousetee', 'coppergold', 'coverages', 'knuckles', 'summera', 'outstretched', 'donating', 'conside', 'photosand', 'lookbut', 'chestbust', 'shoreline', 'assoc', 'mailed', 'bunchee', 'pictureit', 'comfortabledoes', 'generouswould', 'overstitching', 'ribbbed', 'balloontent', 'chin', 'cardy', 'cracked', 'jared', 'subways', 'preweightloss', 'shoulderschest', 'mismarked', 'lengthen', 'boughtthe', 'nicksbohemian', 'notedits', 'mishaped', 'dangerous', 'fel', 'elouise', 'daysevenings', 'shirtblouse', 'incr', 'hor', 'tightens', 'kaki', 'habit', 'personnot', 'nosoaverage', 'lilkes', 'tideline', 'laceing', 'cub', 'wellid', 'costumes', 'largeit', 'master', 'residual', 'grandpa', 'topssweaters', 'bodysuit', 'attaching', 'tallest', 'overshadow', 'yippee', 'foldover', 'beuatiful', 'versatilealso', 'sushi', 'hostess', 'embodies', 'fortune', 'givinng', 'bubblelike', 'dndt', 'motherofbride', 'tightest', 'supercomfy', 'offmaybe', 'whiterust', 'ada', 'onvery', 'wellworth', 'seinfelds', 'policy', 'cc', 'tissuepaper', 'armholesbust', 'flowier', 'wonderul', 'encounter', 'blaclk', 'leggingsshorts', 'flar', 'toddler', 'afterwork', 'polkadotted', 'embroiderylike', 'internal', 'darby', 'swept', 'earnings', 'irresistibly', 'orangeand', 'styleit', 'intimate', 'unto', 'halfthanks', 'ttsso', 'whose', 'writer', 'wribbon', 'sweets', 'treats', 'retailerp', 'bursting', 'rogers', 'scandalous', 'crepey', 'figuredefining', 'stiffy', 'strays', 'reve', 'smallhad', 'seasonevery', 'eloise', 'retailereloise', 'bw', 'crocheting', 'thickerheavier', 'pashminas', 'photoon', 'rush', 'dt', 'lengthened', 'exacerbated', 'yogalounge', 'overexposure', 'ditto', 'showcase', 'fool', 'cs', 'semiopen', 'reeeeally', 'grrrrr', 'exa', 'slipsag', 'offshoulder', 'resonates', 'wring', 'unbelievable', 'printsomething', 'collapses', 'hunch', 'reddishburnt', 'kneeled', 'dancingpartyconcert', 'roommate', 'uberflattering', 'brightening', 'tiedye', 'ontaking', 'jeansanything', 'hipline', 'tooalbeit', 'nanette', 'lepore', 'beautifulchic', 'peeled', 'someday', 'peacock', 'zigzagging', 'effective', 'prev', 'carra', 'comf', 'underbust', 'sateen', 'sooooooo', 'irr', 'greypurple', 'hippiecasual', 'limesherbet', 'tattered', 'itchycould', 'atleast', 'accommodating', 'piles', 'story', 'enoughit', 'lightwash', 'lotafter', 'boobinner', 'boobcleavage', 'insult', 'frocks', 'ahtro', 'poofier', 'clownish', 'semiflowy', 'welp', 'botton', 'apetite', 'cutthe', 'lowits', 'owed', 'offso', 'bottons', 'defini', 'eased', 'tastethe', 'lineso', 'trusty', 'ragged', 'elastisized', 'docked', 'polarized', 'clarify', 'wellhidden', 'underestimated', 'dressits', 'dressthat', 'downthe', 'smallso', 'coolwhich', 'largely', 'thinmore', 'cardis', 'subpar', 'pregnantso', 'relentless', 'moneys', 'phd', 'buildframe', 'shouldersbust', 'workouts', 'method', 'tooas', 'withwithout', 'caved', 'funk', 'silicon', 'sid', 'nolans', 'ubercomfortable', 'obsession', 'erratic', 'flyi', 'navyindigo', 'comical', 'xxxxs', 'workedor', 'trenches', 'contra', 'exclaimed', 'joined', 'bandwagon', 'meantime', 'nobrainer', 'mila', 'doubledup', 'nimble', 'thatbuy', 'materialso', 'buttt', 'bottombackside', 'coveragealso', 'necklac', 'namely', 'anyt', 'audience', 'meseveral', 'ruf', 'roomnot', 'leans', 'equal', 'sees', 'backlike', 'mullet', 'thisto', 'overtly', 'salethis', 'flimsythink', 'shapei', 'nowdetails', 'areaso', 'undesired', 'independently', 'november', 'serving', 'cardiganblazer', 'slipliner', 'mefalling', 'surestrapless', 'underestimating', 'ranch', 'scenery', 'earthly', 'magnificent', 'mediumthat', 'boucles', 'meta', 'complementing', 'talls', 'aaaaannnnnnd', 'disastrous', 'seamed', 'nylonviscosecashmere', 'cardig', 'cabo', 'whihc', 'dime', 'stitchedin', 'falltransitioncooler', 'catelog', 'ithas', 'false', 'flutters', 'indigoblue', 'smaill', 'mediumd', 'elephant', 'rippling', 'tanwhite', 'reissued', 'meway', 'snowy', 'moz', 'fringelike', 'blouselike', 'cheered', 'choicebeautiful', 'rufflelike', 'thumbsup', 'waffled', 'unavoidable', 'glimpse', 'viewable', 'disrupts', 'spandexy', 'browfurrowing', 'presented', 'adorably', 'lengthfun', 'eccentric', 'arriving', 'lef', 'brownerneutral', 'seersuckerish', 'sk', 'allyear', 'compliements', 'daytimework', 'washedout', 'whitelightly', 'appearing', 'toget', 'loosebaggy', 'bsck', 'crude', 'exci', 'boxyness', 'baggybig', 'cowgirl', 'perc', 'dotswill', 'sweatersthe', 'dripdry', 'winecolored', 'sleevemade', 'designpattern', 'outthere', 'msize', 'yogis', 'tranquil', 'sophisticatedi', 'loosness', 'sumo', 'wrestler', 'kentucky', 'derby', 'julep', 'inconvenience', 'sneak', 'pageand', 'wen', 'seasonsbordeaux', 'uppe', 'overstretch', 'blouson', 'micro', 'nubs', 'turkey', 'pantscapris', 'cartoonishly', 'gorjuss', 'storeim', 'leap', 'skinthis', 'achieved', 'purchaseyou', 'gauchos', 'corey', 'lynn', 'calter', 'paeonia', 'rosebud', 'thoug', 'anafa', 'flowyish', 'quaiity', 'verticallyand', 'restore', 'scrolling', 'largethe', 'tightener', 'prance', 'constructionbut', 'dreams', 'incidentally', 'dinged', 'frequent', 'irritatingly', 'triue', 'sizehowever', 'surprisedi', 'weght', 'kimonostyle', 'cigarette', 'flowersbutterflies', 'pictureswhich', 'attaches', 'whit', 'anywayseven', 'troubles', 'bodybut', 'itdecided', 'justifiable', 'designit', 'areathis', 'surrounding', 'lbsand', 'proportionwise', 'impossibly', 'cracking', 'pantsand', 'untreatable', 'ceases', 'amaze', 'intracately', 'threadsit', 'shyi', 'highl', 'goodbye', 'amazingit', 'glendale', 'buttonedpockets', 'scarfdress', 'chord', 'frameim', 'cuddled', 'keen', 'unfolded', 'hypos', 'fantasia', 'notable', 'aid', 'tightfitting', 'semiopaque', 'valuable', 'handwashing', 'visions', 'sartorial', 'splendor', 'danced', 'posts', 'selfconscious', 'digs', 'doors', 'ruler', 'figurenarrow', 'row', 'sublime', 'fess', 'goodjust', 'straightlegged', 'bootiesall', 'creambeige', 'fuzzyfurry', 'mulling', 'balked', 'heed', 'warnings', 'dusky', 'beef', 'greyyellow', 'redsalmon', 'barnyard', 'retried', 'thintissue', 'waterthe', 'tuniclike', 'upsid', 'thisbut', 'southyou', 'waysthe', 'eying', 'lineny', 'brunchbeach', 'series', 'drappiness', 'waistthis', 'saucy', 'skirtsit', 'qua', 'az', 'skipping', 'dissuade', 'finethe', 'thinnish', 'slendershaped', 'rump', 'decidedly', 'waistwide', 'neve', 'dressdown', 'christma', 'floored', 'organza', 'closu', 'invested', 'sidesby', 'justifying', 'overhangs', 'completes', 'drawcord', 'exciteduntil', 'warmest', 'shaking', 'nothingalmost', 'glue', 'entering', 'stratosphere', 'crazycatlady', 'mistaken', 'disappear', 'coworker', 'aaaaandidontwanttopayforshipping', 'remedy', 'silkier', 'sown', 'perceived', 'effortlessnesswith', 'shook', 'fabricscolors', 'embroidering', 'rompervery', 'unco', 'elle', 'mcpherson', 'reconsidered', 'shouldersit', 'areaim', 'bight', 'patternsmaybe', 'cratsmanship', 'enhanced', 'ageless', 'ding', 'sizedit', 'kitten', 'freemoving', 'oddlyshaped', 'technicolor', 'multiples', 'wel', 'wobbly', 'wishlist', 'navywhite', 'topsalso', 'opencloseotherwise', 'springs', 'amadi', 'lola', 'crossfront', 'pie', 'midlower', 'ascetics', 'incomparable', 'satisfactorily', 'flocked', 'outhighly', 'desideria', 'dakota', 'soles', 'partynot', 'hs', 'upped', 'thoseam', 'comfortablea', 'tickled', 'largemight', 'wether', 'supermand', 'svelte', 'ribcageshort', 'largo', 'tankin', 'fabricthinner', 'tankit', 'fancies', 'sligh', 'pardon', 'buttonhole', 'hol', 'louisiana', 'conditioning', 'deserve', 'ple', 'geranium', 'rackerback', 'retail', 'alinefitandflare', 'airybillowy', 'modelwhich', 'collet', 'sightseeing', 'detest', 'shirtgreat', 'widebig', 'gravity', 'originality', 'wiggling', 'browsed', 'topblack', 'exaggerating', 'popbackthis', 'biggermuscular', 'drastically', 'shotyou', 'apttenrs', 'balck', 'closefit', 'receives', 'bigchested', 'oki', 'dressthis', 'eveningvery', 'madei', 'bares', 'bicycle', 'dahlia', 'bellsleeve', 'tunicand', 'oct', 'alst', 'versiona', 'dn', 'smae', 'ddresses', 'waists', 'aprts', 'redpink', 'existed', 'purchas', 'buldging', 'filigree', 'bustle', 'favoriteit', 'longtoo', 'speckles', 'frigid', 'ohio', 'tanki', 'awakward', 'trumped', 'stitchwork', 'flashes', 'minuscule', 'houndstoothlike', 'checkboardlike', 'fanatic', 'grayblacktan', 'straightthin', 'pajamasso', 'washingit', 'announce', 'nonsense', 'thoughtfully', 'popback', 'suggesting', 'fuz', 'bathroombreak', 'disrobe', 'clingi', 'creativechecked', 'defines', 'blu', 'itselfstyle', 'velcro', 'inter', 'toits', 'rat', 'alludes', 'caftans', 'slack', 'upping', 'severe', 'frontsleeves', 'buttonsnap', 'showpiece', 'superfitted', 'legsbut', 'spetite', 'oclock', 'hearty', 'laika', 'inca', 'shoesthe', 'darkinkish', 'typicaltts', 'rayongauze', 'teller', 'balc', 'legginss', 'botos', 'debate', 'sublte', 'noyte', 'menot', 'lititle', 'rash', 'wering', 'whips', 'steadly', 'hill', 'fabled', 'net', 'vpl', 'icky', 'bricky', 'thati', 'forgiven', 'nonhourglass', 'discerning', 'shortheeled', 'sitnot', 'anythingjust', 'topsit', 'availalbe', 'lwait', 'htin', 'appleshaped', 'fullylined', 'bronzey', 'fringes', 'appr', 'instantaneously', 'maternitylook', 'theighs', 'swishing', 'stunningly', 'burning', 'retuning', 'ltitle', 'thougha', 'assessments', 'wellsnugged', 'llonger', 'blurred', 'printits', 'restrained', 'optionscould', 'jacketso', 'loke', 'freakishly', 'cottonsynthetic', 'holeshalter', 'kneeii', 'cooking', 'plata', 'linencottony', 'outward', 'whitet', 'onegreat', 'sizeable', 'whitetan', 'authentic', 'squarefitting', 'antrhopologie', 'especailly', 'heavyfuzzy', 'organic', 'sophisticatedlooking', 'hike', 'sophistica', 'division', 'brownmocha', 'eliminating', 'racy', 'smallbreasted', 'goodnot', 'upi', 'sx', 'didit', 'snugnot', 'chestbut', 'issuesthe', 'comfortab', 'manu', 'adjustedthen', 'loc', 'overstated', 'minidress', 'rehemmed', 'coverageit', 'decolletage', 'ro', 'ranged', 'uhmazing', 'pantsi', 'colos', 'ashamed', 'tunicit', 'bombers', 'comfyi', 'alignment', 'pictureddescribed', 'buttock', 'appreciation', 'loveatfirstsight', 'meaty', 'thighed', 'comfortablet', 'theo', 'nly', 'lis', 'calvin', 'klein', 'chelsea', 'coverin', 'midday', 'ipad', 'lychnis', 'graybrown', 'peplumlook', 'bronzegolden', 'gunmetal', 'thoughthe', 'intervals', 'itit', 'poc', 'shouldersarm', 'abck', 'selective', 'demential', 'closetand', 'embroideryfunny', 'otk', 'armholesthey', 'storethis', 'overseas', 'litttle', 'backtoback', 'prebaby', 'vinyasa', 'wons', 'prr', 'pefect', 'amking', 'xxl', 'measument', 'sundays', 'generaly', 'fuschia', 'inthey', 'strapsas', 'specious', 'allot', 'everywhe', 'staplebut', 'openlow', 'hassel', 'breakers', 'sneakersandal', 'retailerpligie', 'assistance', 'sinched', 'ak', 'armsbodice', 'greatsweater', 'sw', 'compete', 'yesyou', 'pintucks', 'aded', 'mintue', 'darkler', 'mathced', 'everythiing', 'msallet', 'jkeep', 'matvehd', 'ejans', 'waas', 'betterthe', 'smocked', 'fancydefinitely', 'walkingit', 'fluffiness', 'tylho', 'colorsthe', 'plethora', 'whereof', 'enlarges', 'styleits', 'somethings', 'aplique', 'captivated', 'ambiguous', 'browngrayplum', 'saldly', 'ban', 'purchae', 'peruse', 'avoiding', 'ornate', 'diamonds', 'greygreen', 'whew', 'distraught', 'tints', 'yellowmango', 'thicknessweight', 'compromising', 'beautifuldelicate', 'whove', 'tinier', 'distribution', 'el', 'thighsmidsection', 'reroll', 'ulitimately', 'ponchosweater', 'tasting', 'napa', 'largeextra', 'stills', 'sofisticated', 'schoolmarm', 'streaking', 'limiting', 'peoppe', 'hr', 'nonsolid', 'leblon', 'loooooove', 'healthy', 'greenslate', 'faint', 'seasonally', 'fairer', 'apprx', 'weights', 'lats', 'rigidstiff', 'gunny', 'sax', 'pommed', 'jessica', 'rabbit', 'greedy', 'adores', 'youth', 'frock', 'overlayed', 'yarnthread', 'concentrates', 'blouseshirt', 'coatthe', 'mismatching', 'wishy', 'washy', 'shh', 'cactus', 'loveafter', 'bottomvery', 'beautifullovely', 'designbut', 'huuuge', 'gooda', 'plentiful', 'overa', 'teenytiny', 'tomboy', 'submitting', 'tsihrt', 'sheek', 'anthletic', 'tendencies', 'shoulderswith', 'brokenin', 'umbrellas', 'orangelooking', 'mirabella', 'teenybop', 'hugely', 'shirred', 'personalities', 'believing', 'blined', 'quadsthighs', 'bodyis', 'sheersee', 'innie', 'sausage', 'choise', 'crushing', 'clothingi', 'dresstunicshirt', 'simplest', 'fitso', 'sequinadorned', 'nowthis', 'shoulderarm', 'architectural', 'magnification', 'salespeople', 'yest', 'predict', 'synthetics', 'regretfully', 'obligated', 'brownpurple', 'nape', 'resources', 'magentadark', 'fuscia', 'purpleish', 'pinkloving', 'peony', 'hottermore', 'succulents', 'nicerdressier', 'smallim', 'saleslady', 'tinys', 'aestheticsweet', 'longsleeves', 'unicorn', 'greece', 'winder', 'perfec', 'screamed', 'scratchier', 'gorgeousbut', 'upheres', 'craftsman', 'unravelling', 'peachapricot', 'smallor', 'midsized', 'openness', 'willdoes', 'crystals', 'wisely', 'turtleneckcowl', 'los', 'angeles', 'reviewerthe', 'layerswhats', 'drags', 'seethroughso', 'nutcracker', 'secondhand', 'succumbed', 'temptation', 'ivoryoff', 'greytaupelight', 'orangecoral', 'colorplay', 'someth', 'withstood', 'francisco', 'coveting', 'pineapples', 'lemons', 'pained', 'shout', 'dotted', 'swirly', 'hosiery', 'brave', 'sweetly', 'lightheaded', 'nod', 'crime', 'abovetheknee', 'marvel', 'stopperas', 'isthis', 'mouth', 'runways', 'swingdress', 'expectedand', 'oddlyboxy', 'complains', 'beached', 'whale', 'stoe', 'naval', 'collarlapels', 'colordye', 'tweaking', 'nondefective', 'assurance', 'nov', 'sweatersweatshirt', 'takeover', 'jeanschinos', 'mus', 'crazylike', 'tissues', 'phones', 'exampl', 'orangemeloncolored', 'whiteyellow', 'uplifting', 'apparentlike', 'lycralove', 'thesei', 'bluepink', 'expectedcould', 'doomed', 'arbor', 'gate', 'splashed', 'startled', 'toovery', 'charts', 'bottomsjeans', 'tangled', 'woods', 'sheerling', 'bliss', 'flatteringespecially', 'everythingeven', 'survive', 'trashed', 'websiteif', 'centers', 'shearer', 'allsummertime', 'wellall', 'toright', 'overtime', 'sway', 'workinappropriate', 'widthpeplum', 'chock', 'medlarge', 'bodiceshoulders', 'ruglike', 'hugger', 'brastraps', 'mediumand', 'ultrasoft', 'runa', 'whine', 'toposition', 'becauseit', 'lacebeadwork', 'converted', 'dictated', 'sleeps', 'sensual', 'iamwomanhearmepurr', 'bodyslimming', 'dimpling', 'deny', 'dummy', 'flo', 'eaisly', 'gentlemen', 'irvine', 'humble', 'posterior', 'bummers', 'ash', 'heated', 'quadriceps', 'bday', 'repacked', 'conditionso', 'thesealthough', 'stomachhip', 'hawed', 'decen', 'baggylose', 'iffygreat', 'malabar', 'wonce', 'core', 'ituh', 'longerim', 'minimizing', 'pinkpurpleblueblack', 'stripey', 'camellia', 'decked', 'prominentand', 'dits', 'upvery', 'versital', 'luna', 'captain', 'synched', 'slenderize', 'sucking', 'fanciness', 'comfysnuggle', 'egg', 'aiming', 'athleticsmall', 'taffeta', 'numbers', 'storeit', 'nantucket', 'wintergreens', 'conformed', 'amountbut', 'mildish', 'nw', 'playa', 'stable', 'wayslove', 'blousewith', 'pulles', 'bettys', 'grazed', 'eversoslightly', 'winery', 'sizeit', 'orangewhitebrownred', 'indra', 'tooin', 'breathtakingi', 'taupenude', 'embarassingly', 'nonadjustable', 'henleybutton', 'oversizedtunic', 'substan', 'cycl', 'tallit', 'sheeny', 'flea', 'tentlook', 'retailerquality', 'metts', 'waitpress', 'velour', 'pl', 'readand', 'oppositetoo', 'figureno', 'sprea', 'belllike', 'detracted', 'woke', 'showcasing', 'topsbut', 'watermelon', 'neccissarily', 'finebut', 'saundra', 'stretchyit', 'annoys', 'wed', 'thursday', 'knitter', 'feminineromantic', 'waterjust', 'smallnormally', 'bootiesperfect', 'hyphens', 'outrageously', 'pushes', 'someit', 'downtwo', 'touted', 'redenough', 'itgot', 'contortion', 'dressloose', 'bhldn', 'reception', 'maize', 'ivoryisn', 'thinsee', 'ig', 'insides', 'press', 'submerge', 'forwar', 'inc', 'engagements', 'clasic', 'cousins', 'readytowear', 'feellook', 'pillow', 'breakerit', 'topdresstunic', 'riblike', 'patterntexture', 'akin', 'gypsiebohemian', 'excellentvery', 'perfectthe', 'openly', 'instructionshaha', 'picturemore', 'numericallysized', 'croppedshort', 'tolerate', 'advertise', 'sundrys', 'donated', 'stylelook', 'paletearose', 'bedspread', 'greengray', 'knitlike', 'suri', 'alpaca', 'polyamide', 'onesie', 'tailoreda', 'nondescri', 'praised', 'swamped', 'scoping', 'abso', 'microfiber', 'piecethe', 'ponchostyle', 'overwhelms', 'perky', 'confection', 'innocentthe', 'regency', 'itchyand', 'howeverthey', 'mocha', 'wooly', 'hadent', 'hilary', 'clinton', 'interestingoverall', 'clesrly', 'loopholes', 'hangy', 'angora', 'loosed', 'flatteringthe', 'names', 'onif', 'counterbalance', 'recovering', 'toothe', 'proofed', 'conceptually', 'softening', 'softperfect', 'madeline', 'stories', 'celebrate', 'instructed', 'peepholekeyhole', 'workchu', 'confuse', 'tobaccokhaki', 'csections', 'muddled', 'attributes', 'waterfall', 'cascading', 'downthis', 'ordred', 'winnrer', 'washedfaded', 'heelwedges', 'ruc', 'ochre', 'mephistos', 'workallows', 'thesecant', 'topthat', 'winneri', 'socksready', 'cheerleading', 'nove', 'nicelya', 'guffawed', 'implore', 'supremely', 'camisoleits', 'ideasoft', 'colorwhich', 'machinewashable', 'therere', 'obsessively', 'annnnd', 'spider', 'daydreaming', 'honeymooning', 'cinque', 'terre', 'outsi', 'march', 'topsi', 'onei', 'sizebut', 'salei', 'gladthat', 'firned', 'whoknowswhat', 'snowstorm', 'foldable', 'reflective', 'blankets', 'nonclosing', 'lightwei', 'hoepfulyl', 'orffice', 'witha', 'inadvertently', 'unrolleddown', 'fittedslim', 'belong', 'cardinal', 'christening', 'vix', 'yold', 'ottoman', 'unruly', 'neaten', 'longthe', 'impress', 'categorize', 'consists', 'moisture', 'greycondensation', 'drips', 'cutesomewhat', 'directionscold', 'shoeless', 'queen', 'snuglooked', 'nofuss', 'frontit', 'prep', 'croptop', 'ribbonembroidery', 'oversizing', 'retur', 'scattered', 'coins', 'fountain', 'stiffitchy', 'os', 'ddindt', 'beter', 'lcome', 'spanned', 'beigecolored', 'crochettype', 'vibes', 'middeep', 'ct', 'smallgo', 'mischievous', 'puella', 'unworn', 'jerseyfeel', 'abby', 'holdup', 'detailsdesign', 'spurt', 'snapping', 'patio', 'tending', 'greyolive', 'smoother', 'hirise', 'disheveled', 'mending', 'et', 'ttt', 'shortspants', 'shapelessly', 'mustardgoldenrod', 'olivetan', 'sallow', 'bustybroad', 'backwide', 'cagesize', 'hipbum', 'aghast', 'waify', 'cinnamon', 'reviewwers', 'pilates', 'unhemmed', 'unavail', 'flaredloose', 'everleigh', 'eri', 'ali', 'lululemons', 'bla', 'swimmingly', 'reviewerleast', 'fittingslender', 'srink', 'caccoon', 'whitethis', 'retaileryes', 'gappy', 'entertaining', 'piecing', 'assymetrical', 'dresslove', 'tanish', 'nec', 'blueswhitespeaches', 'brocades', 'conformable', 'dolmanstyledrop', 'seersucker', 'swinglarge', 'housedress', 'rightcute', 'stressed', 'tlas', 'salethere', 'splendid', 'luggage', 'looove', 'irritable', 'disturbing', 'stretchydont', 'quantity', 'colorsthats', 'handling', 'spxsp', 'thered', 'reutn', 'woud', 'nonflattering', 'scene', 'dug', 'medieval', 'torture', 'device', 'liposuction', 'elegancetheres', 'qualitynot', 'jackety', 'tropic', 'chilling', 'field', 'lasting', 'putwhich', 'shlumpy', 'straightathletic', 'sayin', 'fiance', 'vintagegonewrong', 'yellowed', 'newspapers', 'acco', 'shoulderd', 'curvyhips', 'glancing', 'needlenose', 'crimped', 'tiefront', 'shortersmaller', 'amazingone', 'petal', 'embracing', 'vintagemademodern', 'itjewelry', 'deconstructs', 'hangups', 'dealt', 'qualityhowever', 'ir', 'charter', 'bouncy', 'hearted', 'heavywarm', 'teeits', 'versio', 'bigbut', 'semidefeats', 'streets', 'waysand', 'aspictured', 'areif', 'jacketcapeponcho', 'shearlinglinedthats', 'shearlinglined', 'dl', 'petittes', 'ampampamp', 'hampered', 'viscosepolyester', 'rehersal', 'beautifil', 'predictably', 'ego', 'expectingit', 'soooooooo', 'doen', 'stairs', 'screeching', 'halt', 'athleticwear', 'harkens', 'conversational', 'jumperpinafore', 'sleevestheyre', 'lbssize', 'whe', 'cakes', 'ri', 'nonbelted', 'attn', 'itmore', 'perfectif', 'darted', 'familiar', 'conflicted', 'strategic', 'suggestive', 'notched', 'sculpting', 'recover', 'boyshort', 'topdress', 'seashells', 'wond', 'goanywheredoanything', 'fittts', 'woolen', 'belive', 'veltevty', 'carton', 'comfim', 'dissapointing', 'bulkystiff', 'texturepattern', 'tic', 'outdone', 'thickits', 'seafoam', 'instea', 'nervousthere', 'shaded', 'yearlove', 'longmaxi', 'syked', 'deeplow', 'toothpaste', 'bandages', 'apres', 'dire', 'mentality', 'thicknessstretch', 'singer', 'performance', 'ethnicbohemian', 'whatwasithinking', 'sidebut', 'harper', 'strestch', 'beginnings', 'delish', 'petted', 'latigo', 'asadvertised', 'ironon', 'enroute', 'bainbridge', 'orginially', 'palced', 'appropirate', 'lookcovered', 'toobut', 'app', 'newbury', 'tracked', 'lovelygreat', 'venture', 'funeral', 'pets', 'salereceived', 'sidenot', 'pancho', 'glitch', 'retreat', 'risking', 'smear', 'mefunny', 'topwell', 'shelves', 'intrepid', 'vast', 'lumpiness', 'inclination', 'alinefitnflare', 'tt', 'snugcouldnt', 'elsethe', 'costly', 'arose', 'maza', 'weer', 'wiast', 'blacki', 'embroiding', 'perferred', 'chicness', 'backed', 'battling', 'typesgood', 'arts', 'crafts', 'sampler', 'shortin', 'torsoi', 'poorl', 'springtimey', 'sal', 'raided', 'cleantotally', 'forwhich', 'mans', 'seductive', 'garner', 'eucalan', 'softthe', 'lbsaverage', 'en', 'deeperricher', 'naomis', 'taza', 'thatd', 'arc', 'shortens', 'prettily', 'pouching', 'ponchotype', 'midwestern', 'xssp', 'seciton', 'jacked', 'experts', 'sungarden', 'filthy', 'improvement', 'jeansjeggings', 'reeses', 'darlingflattering', 'caprisankle', 'ticks', 'sunless', 'skies', 'nat', 'hometown', 'buttah', 'grass', 'starters', 'successfully', 'yuk', 'agitated', 'contacts', 'topunfortunately', 'welllined', 'bilious', 'addiction', 'whirl', 'bluegreenish', 'coatjackets', 'untacked', 'simpler', 'fu', 'ecause', 'embedded', 'boxytrue', 'comfortablei', 'jeansperfection', 'enourmous', 'stichting', 'camsiole', 'tooks', 'campole', 'neckli', 'nail', 'retailerin', 'drearriest', 'jacketlove', 'itpull', 'loveee', 'cuffedhowever', 'perfectlength', 'mumsunflower', 'roperalloverflower', 'milk', 'agai', 'jacketis', 'fallits', 'cheating', 'dine', 'mar', 'blackgreen', 'sunshine', 'lbsathletic', 'hopped', 'picturedthe', 'sweaterits', 'behave', 'winterhopefully', 'itemit', 'seamstressso', 'thoughj', 'largedepends', 'upto', 'examined', 'proceeded', 'scandelously', 'awhilesnatched', 'creampatterned', 'hunted', 'biokleen', 'permanent', 'citys', 'misled', 'ecru', 'eggshell', 'flattereing', 'vpllace', 'grays', 'arrow', 'smallred', 'bubbling', 'areanear', 'armpitslike', 'ladi', 'marni', 'mui', 'prada', 'posters', 'semiattached', 'hitolow', 'meek', 'alternately', 'swoop', 'relieved', 'slightand', 'slightdisappointment', 'cuteasallgetout', 'samecolor', 'apron', 'materialeverything', 'drooling', 'bustya', 'richness', 'broadshouldered', 'waistskirt', 'comfortablelove', 'worm', 'ho', 'blueit', 'absolutly', 'collarcuffs', 'whitedirty', 'fluorescent', 'memorable', 'boudoir', 'greyrustteal', 'paleface', 'crisscrossing', 'portray', 'flouncier', 'contouring', 'jeantype', 'hangar', 'buttonscolorpattern', 'coplaints', 'monthly', 'perfectit', 'lawn', 'comparat', 'perfects', 'heavychunky', 'sweaterthink', 'lite', 'yogi', 'herbalist', 'jodhpurs', 'eek', 'miserable', 'expectedit', 'toscana', 'sandscape', 'sundress', 'blousei', 'peachthen', 'sizenow', 'largebut', 'route', 'lengh', 'kindof', 'purchasei', 'sweatshirttype', 'pricei', 'lbsshirt', 'grayslight', 'greige', 'creeping', 'brownblack', 'manback', 'doeseven', 'retailerthere', 'skingreat', 'oprefer', 'aottern', 'revealinglow', 'worrisome', 'crimsoncolored', 'daytoevening', 'syle', 'creamblack', 'slatecan', 'batty', 'underpattern', 'mave', 'cooing', 'mustardygold', 'contri', 'jacketthen', 'trials', 'smalltight', 'floorwith', 'bustarms', 'biti', 'framealmost', 'reevaluate', 'contours', 'cappier', 'generate', 'lightweightgreat', 'vermillion', 'oversizedand', 'lookits', 'comfortablereally', 'midlength', 'chronic', 'fridayand', 'sisz', 'sipped', 'cardijacket', 'loely', 'evens', 'intriguing', 'optic', 'shouldersnecksleeves', 'vintagestyl', 'summergreat', 'greenkhaki', 'doperfect', 'shortenedbut', 'biggy', 'penguin', 'sickly', 'yellowbeige', 'endora', 'heis', 'witho', 'navyperiwinkle', 'heartbreakingly', 'firstbut', 'itbut', 'swishier', 'effector', 'chintzyi', 'sis', 'szie', 'looke', 'aweful', 'nad', 'ahge', 'hur', 'palelike', 'asflattering', 'gush', 'starchchemical', 'jegging', 'chestarmpit', 'thatll', 'familyfriendly', 'piled', 'nonobvious', 'reno', 'everythingway', 'keel', 'xxp', 'learning', 'secondthe', 'ridge', 'amazingsuper', 'winnerjust', 'hightight', 'pressing', 'hipbone', 'choicebut', 'mediumbecause', 'sadincalled', 'flir', 'florascura', 'tdf', 'skorts', 'tripping', 'fleshtoned', 'chestiness', 'fattiness', 'longerespecially', 'waistit', 'topsbulgesi', 'wks', 'invent', 'jeansjean', 'bleached', 'denimmaterial', 'shortsized', 'nonankle', 'official', 'snagspullers', 'cleared', 'derriereim', 'hokey', 'inwonderland', 'hesitancy', 'stylized', 'nitpick', 'tiedyed', 'nondenim', 'cutr', 'decid', 'slinder', 'peti', 'eases', 'flatteringif', 'belling', 'phot', 'climb', 'bountiful', 'fullnessnot', 'boutique', 'wale', 'peace', 'pregnantnot', 'striving', 'achieveit', 'presumably', 'naming', 'burgundyred', 'cury', 'nike', 'sparkled', 'enjoyment', 'deceive', 'graduating', 'retailerbeen', 'whilethinking', 'saleuntil', 'charmit', 'upsidedown', 'hottest', 'flawless', 'conversationalist', 'carribean', 'toyed', 'kneenot', 'strength', 'undamaged', 'fastfashion', 'enougheverything', 'shortand', 'tassles', 'modelthe', 'redmauve', 'versitality', 'adjustableit', 'creambeigeneutral', 'clincher', 'excellently', 'stockso', 'tallerthin', 'expens', 'blight', 'patterncoloring', 'satisfy', 'contract', 'hipsthighs', 'utterly', 'suuuuuper', 'eitheror', 'bloomed', 'bozo', 'jungle', 'schedule', 'wellnot', 'metoo', 'throughdark', 'gentlehandwash', 'espadrille', 'miley', 'cirus', 'armsyoull', 'cerise', 'liatris', 'semilarge', 'backso', 'aro', 'pinkblush', 'internationally', 'excursions', 'rollneck', 'drawings', 'outlining', 'empty', 'hurts', 'confine', 'blaring', 'offensive', 'rosepink', 'colorstyledetaling', 'holder', 'waaaaaay', 'sweeping', 'scrubs', 'perfer', 'purpleblue', 'rds', 'wornin', 'nubbly', 'boxybaggy', 'craving', 'foollike', 'junior', 'funas', 'niceflattering', 'chubbiness', 'flips', 'tennys', 'blousynot', 'puffier', 'gorgeousness', 'sausages', 'beg', 'autumnearly', 'minneapolis', 'jacketgot', 'exorbitant', 'charges', 'bm', 'dol', 'slovenly', 'creased', 'radiating', 'washcloth', 'shortsjeanspants', 'slot', 'underthings', 'morher', 'skiers', 'sloping', 'superwide', 'overaccentuated', 'crinoline', 'taggart', 'blingy', 'notsosmall', 'inlet', 'waking', 'grams', 'goods', 'persons', 'baggysloppy', 'greennot', 'abroad', 'qualityverses', 'shortish', 'nonitalian', 'reacts', 'loro', 'piana', 'santa', 'barbara', 'therei', 'knowonce', 'gr', 'withhold', 'snapin', 'comfortablesoft', 'anywhereyet', 'shouldersits', 'milkmaid', 'monthold', 'cranky', 'geeze', 'modellol', 'sizein', 'mite', 'vanit', 'lightairy', 'gorgeousthe', 'decadent', 'cartonniers', 'knockout', 'wax', 'poetic', 'dealbreaking', 'stickthin', 'collaboration', 'themyou', 'marshmallowlike', 'usuall', 'embroarding', 'delegate', 'iteration', 'outcame', 'peittes', 'stillso', 'ace', 'bandage', 'fort', 'knox', 'gauntlet', 'determined', 'labor', 'onethe', 'voluminousand', 'volu', 'riders', 'situated', 'coolfeeling', 'hap', 'ghillie', 'forewarning', 'toppiece', 'intensity', 'frumpier', 'largeish', 'waistseat', 'hoisting', 'fitlength', 'colornot', 'deeperdarker', 'turquoisegreen', 'densest', 'thickest', 'largeeven', 'pinkgrapeish', 'epitomized', 'vacillate', 'factors', 'melting', 'deceptively', 'depend', 'chancei', 'enoughbut', 'overjoyed', 'xsmallxxsmall', 'roomyso', 'didnamp', 'bellowy', 'grommet', 'fierce', 'uhm', 'farthest', 'gourgeous', 'chestier', 'maintena', 'choir', 'encouraged', 'wheelhouse', 'cursed', 'adjustingpulling', 'revert', 'abovetheshoulders', 'nymph', 'promos', 'treatments', 'clothstone', 'jog', 'pilcto', 'straightandnarrow', 'passtoo', 'straightup', 'designshape', 'undoubtedly', 'preowend', 'qualitysewing', 'expectant', 'blew', 'isth', 'predominantly', 'weaved', 'wearplace', 'prolong', 'weightspare', 'comebackbut', 'hubs', 'straplooking', 'perusing', 'complection', 'polyrayon', 'dozens', 'span', 'sofla', 'sultry', 'sweaty', 'sizingwise', 'tartan', 'fallfeeling', 'suffocating', 'diminish', 'satisfaction', 'crumple', 'professionally', 'renatkable', 'creamoff', 'throwaway', 'frontbut', 'weara', 'joan', 'gapless', 'streamline', 'launderings', 'epite', 'legsi', 'actualyl', 'maneuver', 'cycles', 'wamp', 'afghan', 'sweatergood', 'paler', 'teased', 'japanese', 'valentine', 'tex', 'reviewing', 'bei', 'aflutter', 'marala', 'strand', 'traditionally', 'ummmmm', 'dislikeswhy', 'shiftswing', 'sackthe', 'skirtblouse', 'dreses', 'neitral', 'topheavy', 'unassuming', 'pantsyoga', 'foura', 'intoluckily', 'snugtoo', 'pleatsthey', 'pressedflat', 'blockingrich', 'shoulderssmaller', 'ehhh', 'volition', 'jeanspantsshorts', 'dressa', 'datebut', 'backbut', 'wellso', 'ye', 'perfectlycasual', 'beamed', 'denver', 'sizethis', 'wiryeven', 'switched', 'outweighed', 'bigif', 'cr', 'dreamtrue', 'sizeromantic', 'flirtyi', 'sandalsthe', 'limitless', 'cheshire', 'panky', 'complected', 'tmi', 'softamazing', 'outrageous', 'gems', 'beaufully', 'sleevesthe', 'beautify', 'saycountry', 'greatfantastic', 'herethis', 'dazzling', 'justiceif', 'nearby', 'shirtlove', 'othersthis', 'reeked', 'patchouli', 'tries', 'slitstyle', 'professor', 'professorial', 'postshower', 'onwow', 'dose', 'debatedtwo', 'resounding', 'mages', 'teenager', 'tinythis', 'sackvirtually', 'goldilockstoo', 'additonal', 'cluster', 'winwin', 'legnth', 'beac', 'orangeish', 'labs', 'redthe', 'accomplishing', 'collars', 'laden', 'disappointedthis', 'detailsvery', 'suis', 'rates', 'diversity', 'pilatesyoga', 'musttryon', 'appropriateness', 'inappropriateso', 'transpa', 'spills', 'folkloric', 'fans', 'winterwhite', 'wearwith', 'coatlike', 'knuc', 'skews', 'remains', 'maintained', 'boxed', 'lightcolored', 'dragonflies', 'wethot', 'noce', 'shoulderneck', 'comfotably', 'litle', 'guidance', 'frill', 'reins', 'sidephysically', 'isand', 'downplaying', 'greynot', 'stonelinen', 'citrus', 'waistedlong', 'slimmed', 'mitif', 'tooim', 'firmness', 'summerfor', 'shedpilled', 'wblue', 'whiteblue', 'sidesnot', 'fringing', 'iteveryone', 'grandmotherly', 'fallperfect', 'bunchedwerent', 'craziest', 'alsonot', 'resembled', 'vneckits', 'demon', 'translates', 'revisitation', 'ropelike', 'removedi', 'richerdarker', 'saddened', 'descri', 'brazilian', 'nicks', 'strains', 'overhead', 'dubbed', 'anthtos', 'facebook', 'irradiated', 'crab', 'claws', 'shorted', 'referencei', 'swap', 'assessed', 'postnatal', 'hourglassy', 'stirrup', 'twotoned', 'appearsvery', 'seea', 'hermosa', 'surf', 'zuma', 'seeas', 'surfingpadd', 'sizegrab', 'imported', 'clipdot', 'pretyy', 'cottongauze', 'relation', 'bustand', 'swamp', 'paint', 'unfold', 'loook', 'firming', 'effectthe', 'llbs', 'rubbery', 'grips', 'sunprotection', 'burns', 'kneesi', 'rouched', 'loosehonestly', 'minimally', 'straightish', 'baggybut', 'unsung', 'hero', 'flies', 'anyou', 'adjacent', 'iphone', 'niceforgiving', 'packages', 'underwearpajama', 'winterfall', 'currant', 'fittedtailored', 'greener', 'myselfi', 'dint', 'training', 'fatty', 'lowwaist', 'perfectdrapey', 'iffy', 'popout', 'pantie', 'lass', 'pice', 'appopriate', 'tankeveryone', 'colorit', 'skins', 'hundreds', 'plu', 'quotdrapequot', 'spor', 'stilt', 'boney', 'tankinis', 'obese', 'jelly', 'winglike', 'motos', 'squarish', 'mauvish', 'tells', 'higherup', 'surviving', 'mediterranean', 'reserved', 'regardi', 'widemuch', 'flipp', 'splashy', 'influx', 'shownbeautiful', 'bottomback', 'kneesin', 'fronti', 'itdont', 'tightwill', 'towels', 'tightening', 'boxines', 'fleetwoods', 'sweaterlove', 'badand', 'badis', 'squareness', 'buto', 'passes', 'tulips', 'plucked', 'recipe', 'backit', 'vented', 'frest', 'romance', 'areaeven', 'oppressive', 'givekind', 'upstairs', 'freaking', 'lookedthe', 'source', 'branddesigner', 'nevery', 'itemsit', 'sortof', 'comfortthese', 'creamsicle', 'doublelined', 'flowyer', 'dimple', 'burned', 'washedjean', 'loungin', 'fauna', 'houses', 'fallback', 'ast', 'ahold', 'winth', 'trepidation', 'midstomach', 'expe', 'priceybut', 'itnot', 'anytimeanywhere', 'pleaser', 'wer', 'gargantuan', 'purcahsed', 'nto', 'luncheons', 'prominently', 'astoria', 'assembledcomfortable', 'shrinkagepair', 'rainbow', 'greycream', 'nicelynot', 'practicing', 'interiorbut', 'hoodthe', 'cozyaroundthehouse', 'longhaul', 'wrent', 'pressure', 'soeurs', 'anyw', 'gripper', 'coatingelastic', 'blisters', 'korean', 'jewels', 'owe', 'branches', 'fruit', 'offs', 'ccup', 'bothering', 'warrent', 'nuetral', 'acetate', 'glovegood', 'doest', 'silkjacquard', 'peeps', 'moreso', 'strike', 'thylo', 'polkadot', 'customizable', 'fasionable', 'dvfish', 'vines', 'yellows', 'reports', 'imagination', 'wilt', 'casualwith', 'overywhelming', 'overlong', 'demarcated', 'shortsdress', 'chocking', 'perennial', 'saleonly', 'purchaser', 'squealed', 'woodlandinspired', 'enamor', 'hightops', 'highheeled', 'closelythe', 'snagable', 'homes', 'controls', 'mammoth', 'bottomadding', 'ponder', 'fullon', 'cosy', 'accomadate', 'nipping', 'fiits', 'avg', 'orderd', 'realy', 'tanbeige', 'instruction', 'tweedy', 'wowt', 'wight', 'mumu', 'toll', 'wnat', 'verge', 'steaminglaundering', 'midnovember', 'nightless', 'ankl', 'amputated', 'barbies', 'hulked', 'vexing', 'outgoing', 'chokey', 'peoples', 'exacerbate', 'jagged', 'fabricwhile', 'stretchyhas', 'digi', 'acrylicfeeling', 'formally', 'midilength', 'skirtyards', 'waistbandits', 'strangled', 'longim', 'tighti', 'deminished', 'ev', 'paradise', 'brait', 'manipulation', 'irritated', 'sorts', 'whiteoatmeal', 'positions', 'rarityand', 'printcrochet', 'storm', 'advising', 'slimfitting', 'materialif', 'castoff', 'autobots', 'symbol', 'transformers', 'freshman', 'highschool', 'dusted', 'rachel', 'worseits', 'asylum', 'kee', 'drappy', 'itin', 'backless', 'bagger', 'petitealso', 'coatsjackets', 'unforgivingthere', 'usualbut', 'thini', 'flub', 'naps', 'itt', 'peggedslimtapered', 'jiggle', 'voluptuous', 'perfectlythe', 'forgive', 'cascades', 'carrie', 'bradshaw', 'queenworthy', 'walzing', 'mayer', 'immaculate', 'monthe', 'abut', 'intrinsic', 'attracts', 'recommen', 'poooofffy', 'frmae', 'btu', 'kissed', 'wellstyled', 'bejewels', 'boyfriendgirlfriend', 'styl', 'powering', 'bandsits', 'mauvetweed', 'spoilers', 'traverse', 'hiphitting', 'betterthanbasic', 'cuteperfect', 'necklineshoulder', 'quasiboatneck', 'tenting', 'redmaroon', 'bue', 'misread', 'brownmustardbeige', 'newest', 'pantlegging', 'harbinger', 'burgundies', 'supermodels', 'newport', 'frump', 'ear', 'goodslightly', 'unfortunetly', 'contrasts', 'designstyle', 'sheershee', 'rap', 'sprint', 'tieback', 'indoor', 'stitchingseaming', 'almostfrayed', 'lasership', 'deliveries', 'surpass', 'fedex', 'usps', 'crams', 'unprotected', 'soapbox', 'resilient', 'reigned', 'gladthe', 'spill', 'resistance', 'rearthe', 'doubleknot', 'belief', 'filmy', 'wayup', 'thee', 'againvery', 'contributing', 'fyiits', 'rceived', 'elasticwaisted', 'immediatley', 'amaz', 'unike', 'slinkiness', 'xssize', 'girlnextdoor', 'yield', 'pettite', 'colorskind', 'thickabout', 'liittle', 'boutiques', 'gorgeousit', 'figuredso', 'womenand', 'sweaterjust', 'accompanies', 'english', 'beardedlady', 'julie', 'andrews', 'toughen', 'petitexs', 'guests', 'pleatherlike', 'considerate', 'carful', 'intertwined', 'trough', 'hange', 'shakes', 'toowrong', 'weekendw', 'bohoglam', 'hobby', 'recommendusually', 'vestbut', 'onlinein', 'fulfills', 'tis', 'longertorsoed', 'tule', 'overflare', 'nerves', 'cleani', 'personalityits', 'semidressy', 'classicthat', 'onlinei', 'lengtharms', 'beautifula', 'requirements', 'possi', 'drapeswing', 'commenting', 'begrudgingly', 'port', 'stumps', 'discolor', 'discoloration', 'ret', 'jerseytype', 'torsochest', 'zoolanders', 'derelict', 'campaign', 'anyonea', 'couch', 'molting', 'partner', 'athleticstraight', 'dominantly', 'girli', 'insane', 'overallit', 'ribcagebust', 'adventurous', 'wonderfulcozy', 'itno', 'downsilly', 'plcro', 'greyfit', 'greytoo', 'seasonplease', 'honeymoon', 'creamwhite', 'experimenting', 'hahahathis', 'views', 'destroys', 'underthebust', 'tbose', 'navybut', 'ahe', 'exams', 'aga', 'statedkind', 'rosepale', 'eitheractually', 'stretchyness', 'harness', 'lusciousness', 'pnw', 'farrier', 'crossword', 'villa', 'picturesthere', 'readers', 'beltlovers', 'looknot', 'chain', 'hippocket', 'fireengine', 'madonna', 'smallbinding', 'ears', 'noseor', 'winking', 'promotional', 'hamper', 'dryel', 'ageing', 'softcozy', 'hub', 'baristas', 'dones', 'complemented', 'wiht', 'scrumptious', 'rayonpoly', 'slitv', 'beacheress', 'eveningand', 'looserbigger', 'hipster', 'slinkyish', 'horrific', 'hump', 'hovered', 'dislikes', 'leggingpants', 'nicejust', 'pig', 'lemony', 'precuffed', 'headband', 'swisuit', 'rusching', 'joking', 'yellowgold', 'fittingversatile', 'worker', 'curveless', 'athro', 'notches', 'bratype', 'bustycurvy', 'dresscut', 'cavernous', 'fleshy', 'tunicdressshirt', 'tunicshirt', 'splitsleevecoldshoulder', 'thrille', 'charge', 'manufacture', 'beneficial', 'tanvi', 'kedia', 'invariably', 'notsoperfect', 'combi', 'replenished', 'ribboned', 'silvergold', 'lurex', 'suprised', 'ita', 'sleepy', 'wrinkledit', 'cottonrayon', 'quotfelted', 'woolquoti', 'outthe', 'sougly', 'preggos', 'imitations', 'negatively', 'subtleties', 'teepee', 'evocative', 'jeaens', 'homespun', 'vulnerable', 'onl', 'cherished', 'divinely', 'armsfell', 'tnecks', 'didmt', 'yesit', 'accentuatea', 'shortscropped', 'alrea', 'fatter', 'overlapped', 'togetherit', 'flareit', 'okso', 'didmy', 'forcing', 'caressing', 'poppies', 'onpoint', 'milestone', 'trans', 'dang', 'tshirty', 'richlooking', 'thoughits', 'somegood', 'persimmon', 'suprisingly', 'pinkorangeteal', 'lowness', 'drapeyness', 'stretchthis', 'cheapthe', 'storage', 'assorted', 'examination', 'suspicion', 'jewlery', 'kittens', 'tugged', 'thinki', 'sizeshowever', 'maxidresses', 'trek', 'villain', 'lighterweight', 'envious', 'overwearing', 'forearms', 'rosette', 'afterthought', 'tracey', 'regu', 'runofthemill', 'footless', 'lineit', 'counted', 'enable', 'amazinglook', 'smallnot', 'suprise', 'embodiment', 'pesky', 'tri', 'collarneckline', 'retrospect', 'cuncun', 'fittingtoo', 'attributed', 'deduce', 'sizi', 'fiend', 'fatal', 'sectioning', 'highwasted', 'lowrider', 'owing', 'carrot', 'sweaterknit', 'smash', 'buns', 'ballerina', 'badass', 'colleagues', 'dolor', 'graypurple', 'clevage', 'reconstructed', 'therapy', 'comforta', 'shimmeryness', 'leaking', 'chestbreasts', 'indulgent', 'softcool', 'circulates', 'inquiry', 'fleshbaring', 'pays', 'homage', 'flairthis', 'commonly', 'brandstunning', 'scoring', 'stainstick', 'themso', 'drier', 'colorblind', 'dowton', 'integrity', 'highchokes', 'badso', 'proud', 'armarmpits', 'shoppingclothing', 'bitit', 'lasercut', 'psuedoempire', 'silhouettedesign', 'wayoff', 'bloop', 'beautifulwell', 'crusty', 'casua', 'shirtstunics', 'colletage', 'knobby', 'glittersparkle', 'specified', 'handmedown', 'handpainted', 'bachelorette', 'roast', 'sunbut', 'cardboard', 'greatfitted', 'warnedthis', 'tallalmost', 'greatsimilar', 'wimpy', 'fills', 'summerize', 'skirtfabric', 'spain', 'flamenco', 'diminished', 'bottomed', 'shaperslip', 'resemble', 'boyi', 'textureprint', 'dragonfly', 'beigekhaki', 'leapt', 'opitome', 'roomieri', 'drees', 'roomierimhave', 'sumer', 'shee', 'greatlove', 'overlying', 'xxsand', 'ja', 'shortie', 'thinsemisheer', 'perk', 'weavemesh', 'thinning', 'mode', 'thighlength', 'blackonlytights', 'inauthentic', 'lit', 'boxing', 'champion', 'wasteline', 'saves', 'system', 'dividing', 'colorwas', 'sept', 'picsmore', 'fabricstyle', 'cared', 'longjohns', 'manrepeller', 'bitim', 'uptodate', 'lookers', 'trhrow', 'eregular', 'pinstriped', 'genie', 'disgraceful', 'tannude', 'saratoga', 'incrediblesoft', 'creamoffwhite', 'varieties', 'quicker', 'adieu', 'remaindered', 'compounded', 'jumpsuitsrompersetc', 'snakeskin', 'tissuestyle', 'purpley', 'cheapy', 'ontake', 'plainly', 'multiseasonal', 'aversion', 'failure', 'googling', 'tsp', 'conditioner', 'horror', 'swayed', 'lunches', 'judy', 'jetson', 'boyfriendy', 'boxyloose', 'allways', 'creations', 'breathtakingly', 'retie', 'preholiday', 'polar', 'offit', 'jogging', 'stright', 'wrikling', 'wwear', 'mixup', 'washout', 'jeeps', 'weathers', 'sapphireit', 'showered', 'jeansbooties', 'biggish', 'strenuous', 'disintegrate', 'unfixable', 'purch', 'bootieboots', 'airflow', 'redeemed', 'chestshoulder', 'workoutsand', 'crossfit', 'heavyand', 'unadjustable', 'hoo', 'swooned', 'butthips', 'abdominal', 'ausually', 'sweatertunicdress', 'dreary', 'expectedmaybe', 'embrodiery', 'fitlooks', 'corny', 'fields', 'overcast', 'chiffonlike', 'materal', 'palmarosa', 'flatteringi', 'herits', 'anymoreim', 'speckle', 'matchespecially', 'hesitent', 'biker', 'rebound', 'messlighter', 'sinch', 'iike', 'sholulder', 'swindled', 'onetime', 'armed', 'ausaria', 'plusno', 'spades', 'contemplated', 'beadingrivet', 'thedyed', 'reallllly', 'wearno', 'japan', 'rename', 'gazillion', 'decorated', 'lovebutthe', 'fitlower', 'flowyalmost', 'smushed', 'bthe', 'flaresuch', 'tropics', 'mended', 'snail', 'faulty', 'yolk', 'bcasue', 'ittoo', 'anothr', 'looseflowy', 'littl', 'cahrm', 'proably', 'blk', 'perception', 'mirrornear', 'framepleats', 'mustardy', 'interlocking', 'alinefairly', 'boxyand', 'chinoswhat', 'layi', 'palest', 'afforded', 'respite', 'hallelujah', 'retrofabulous', 'wid', 'alleviated', 'narrowhipped', 'melooked', 'failing', 'middlecould', 'baptismhave', 'fuzzies', 'lifelessly', 'justbroke', 'escape', 'weirdit', 'bottomwhere', 'tankcamisole', 'ate', 'linguini', 'hel', 'mold', 'cotteny', 'shawls', 'trifle', 'stud', 'adjustableand', 'tricep', 'blunders', 'donset', 'comfycute', 'population', 'billowyness', 'greek', 'surroundings', 'handknitted', 'grossly', 'crafting', 'jimmy', 'squareapple', 'donecontrasting', 'contralaterally', 'anklenowhere', 'elegantwithaslightedge', 'denimblue', 'neckgenerous', 'seated', 'unforced', 'sexified', 'iliked', 'goldilicks', 'crutches', 'cirque', 'chaos', 'dreamysoft', 'pantsjumpsuit', 'du', 'components', 'buthe', 'iether', 'impecable', 'semihalter', 'buildthought', 'sweatshirtwish', 'loungey', 'vribant', 'waht', 'cont', 'liberation', 'repairing', 'sta', 'mutton', 'lamb', 'grable', 'cheesecake', 'grave', 'bridging', 'tshirtsweater', 'bellyconscious', 'ext', 'shortbut', 'stylistically', 'coolif', 'wired', 'athleticfull', 'cutieneeded', 'sleeeves', 'featureperfect', 'lacingdo', 'sorbetinspired', 'halfline', 'halflining', 'westher', 'sawn', 'prechristmas', 'exploding', 'brownishgreenish', 'littlegirls', 'wonderfullyi', 'bulkyits', 'coverall', 'shirtstyle', 'outgrab', 'gorilla', 'talle', 'feely', 'felting', 'rosie', 'neira', 'piecesits', 'dryerdryer', 'sheets', 'workhorse', 'plainer', 'illl', 'smallreg', 'disapointed', 'marvilously', 'tir', 'purchasebut', 'slimly', 'reinforcing', 'assessing', 'orlando', 'resigned', 'awate', 'faced', 'oil', 'punk', 'yak', 'whaa', 'pokes', 'alerations', 'lightweat', 'wiastband', 'enoughi', 'ladiesthis', 'sizesmallwas', 'enchanted', 'weightcan', 'reallybut', 'nicecan', 'tooutility', 'thinlightweight', 'verall', 'topaccessories', 'powerwalker', 'rotate', 'pillowcasesacklike', 'contributer', 'puzzling', 'creatures', 'bustproblems', 'salivating', 'homework', 'swatch', 'largeswinging', 'invert', 'ingnore', 'outofthisworld', 'posting', 'runching', 'leggingboot', 'scarvesspot', 'lbnow', 'leng', 'arrows', 'crisply', 'smallsmall', 'pared', 'lineas', 'stinkn', 'refrain', 'sailing', 'salesclerk', 'greatless', 'ordinarya', 'tor', 'purpleindigo', 'skirtpants', 'feline', 'thesedo', 'housebought', 'clerk', 'alerted', 'undnerneath', 'analysis', 'foamyair', 'kindly', 'flanneltype', 'heelsand', 'sizewas', 'weardoesnt', 'itsy', 'bitsy', 'flowyness', 'beutiful', 'teksture', 'elswhere', 'askedher', 'donest', 'ahs', 'nonte', 'legsexy', 'jeanslong', 'sweatertall', 'normaly', 'unforgettable', 'snu', 'dresscover', 'ships', 'cab', 'curb', 'memorial', 'causally', 'dressycasual', 'stylingit', 'appetite', 'kil', 'beautifullly', 'bleeding', 'couchquiltpurseetc', 'captivating', 'texturesa', 'blouselooks', 'fp', 'nearest', 'placing', 'oknothing', 'nesrly', 'buttercup', 'selfconfidence', 'straightleg', 'syntheticalmost', 'flatteri', 'flounces', 'gulped', 'besid', 'inlay', 'autumnal', 'eleveness', 'allergic', 'contort', 'buttonwhich', 'argument', 'simplifie', 'curvesan', 'cutfit', 'dolmanstyle', 'onjust', 'throught', 'invited', 'retire', 'locally', 'drapeyloose', 'pencils', 'burdensome', 'aestheticsthis', 'salegrab', 'dressmore', 'pixlove', 'sleevesits', 'kneequality'])"
            ]
          },
          "metadata": {},
          "execution_count": 376
        }
      ],
      "source": [
        "Vectorize.vocabulary_.keys()"
      ]
    },
    {
      "cell_type": "code",
      "execution_count": 377,
      "metadata": {
        "colab": {
          "base_uri": "https://localhost:8080/"
        },
        "id": "lTAStDb7EFck",
        "outputId": "9770ef3c-6536-4b18-cdcb-c58cdd106aa4"
      },
      "outputs": [
        {
          "output_type": "execute_result",
          "data": {
            "text/plain": [
              "<16980x15502 sparse matrix of type '<class 'numpy.float64'>'\n",
              "\twith 447591 stored elements in Compressed Sparse Row format>"
            ]
          },
          "metadata": {},
          "execution_count": 377
        }
      ],
      "source": [
        "# Membuat TFIDF atau model yang menggunakan transformer\n",
        "Transformer = TfidfTransformer()\n",
        "\n",
        "X_train_tfidf = Transformer.fit_transform(X_train_vec)\n",
        "X_test_tfidf = Transformer.transform(X_test_vec)\n",
        "\n",
        "X_train_tfidf"
      ]
    },
    {
      "cell_type": "code",
      "source": [
        "X_train_tfidf.shape"
      ],
      "metadata": {
        "colab": {
          "base_uri": "https://localhost:8080/"
        },
        "id": "_2n8t2x7-zi4",
        "outputId": "b99bd71d-e1fe-48bd-cd26-0aac618a5a60"
      },
      "execution_count": 378,
      "outputs": [
        {
          "output_type": "execute_result",
          "data": {
            "text/plain": [
              "(16980, 15502)"
            ]
          },
          "metadata": {},
          "execution_count": 378
        }
      ]
    },
    {
      "cell_type": "code",
      "execution_count": 379,
      "metadata": {
        "colab": {
          "base_uri": "https://localhost:8080/"
        },
        "id": "AcETZRNUEFck",
        "outputId": "55063657-fb6e-4d94-e92d-b010747fed5d"
      },
      "outputs": [
        {
          "output_type": "stream",
          "name": "stdout",
          "text": [
            "  (0, 13166)\t0.2347689978566114\n",
            "  (0, 7645)\t0.14114634076118807\n",
            "  (0, 5707)\t0.33142100839212413\n",
            "  (0, 5661)\t0.16523214453683976\n",
            "  (0, 5538)\t0.329374662085243\n",
            "  (0, 4867)\t0.20875487296787504\n",
            "  (0, 4613)\t0.27034080601180777\n",
            "  (0, 4393)\t0.3139677998367213\n",
            "  (0, 3485)\t0.2520509524514117\n",
            "  (0, 2587)\t0.2034842261527496\n",
            "  (0, 2031)\t0.27661541197473216\n",
            "  (0, 1501)\t0.20911929515143865\n",
            "  (0, 1210)\t0.4266009473928566\n",
            "  (0, 1161)\t0.23858465796125963\n",
            "  (1, 15001)\t0.1687837821837348\n",
            "  (1, 14942)\t0.17274407945514822\n",
            "  (1, 13956)\t0.21279103744989034\n",
            "  (1, 13693)\t0.22787673885942522\n",
            "  (1, 13610)\t0.13761403394848878\n",
            "  (1, 13028)\t0.15195956844806893\n",
            "  (1, 12440)\t0.2909897717312858\n",
            "  (1, 11195)\t0.15777944352686735\n",
            "  (1, 10494)\t0.11597579711691348\n",
            "  (1, 8654)\t0.2205832451192101\n",
            "  (1, 8626)\t0.12546890350751005\n",
            "  :\t:\n",
            "  (16978, 4274)\t0.10611079431044172\n",
            "  (16978, 3487)\t0.1778383436780388\n",
            "  (16978, 2927)\t0.09910503698324519\n",
            "  (16978, 1010)\t0.08571743682480847\n",
            "  (16978, 886)\t0.20192738471507943\n",
            "  (16978, 857)\t0.19470827652337763\n",
            "  (16978, 822)\t0.08498824089216044\n",
            "  (16978, 637)\t0.1410648002211293\n",
            "  (16979, 15365)\t0.20610393632422336\n",
            "  (16979, 14942)\t0.24824141440163933\n",
            "  (16979, 14531)\t0.24514802014669573\n",
            "  (16979, 13166)\t0.20232368717510057\n",
            "  (16979, 12966)\t0.32973916745217025\n",
            "  (16979, 12062)\t0.2972936818932837\n",
            "  (16979, 11942)\t0.1288177919418689\n",
            "  (16979, 10419)\t0.3030587159631227\n",
            "  (16979, 9512)\t0.16682122916841333\n",
            "  (16979, 9069)\t0.16470627521534992\n",
            "  (16979, 7309)\t0.37250040599569156\n",
            "  (16979, 6821)\t0.19830426011621705\n",
            "  (16979, 5980)\t0.28197537230623027\n",
            "  (16979, 4810)\t0.24323161370428817\n",
            "  (16979, 3571)\t0.20900537128838867\n",
            "  (16979, 3189)\t0.17789039583409672\n",
            "  (16979, 1161)\t0.2056120192309833\n"
          ]
        }
      ],
      "source": [
        "print(X_train_tfidf)"
      ]
    },
    {
      "cell_type": "markdown",
      "metadata": {
        "id": "-WMXKfFqEFck"
      },
      "source": [
        "## Embedding Layer in Deep Learning with Tensorflow"
      ]
    },
    {
      "cell_type": "code",
      "execution_count": 380,
      "metadata": {
        "colab": {
          "base_uri": "https://localhost:8080/"
        },
        "id": "LsrPPkyHEFck",
        "outputId": "a6ed014e-695f-4cc6-ec02-1d209626fac9"
      },
      "outputs": [
        {
          "output_type": "stream",
          "name": "stdout",
          "text": [
            "Jumlah vocab: 15502\n",
            "Panjang maksimum kalimat: 58 kata\n"
          ]
        }
      ],
      "source": [
        "# Melihat jumlah vocab dan panjang maksimum kalimat pada dataset\n",
        "jml_vocab = len(Vectorize.vocabulary_.keys())\n",
        "max_sen_len = max([len(i.split(\" \")) for i in X_train])\n",
        "\n",
        "print(\"Jumlah vocab:\",jml_vocab)\n",
        "print(\"Panjang maksimum kalimat:\",max_sen_len,\"kata\")"
      ]
    },
    {
      "cell_type": "code",
      "execution_count": 381,
      "metadata": {
        "id": "u8s4uRI6EFcl"
      },
      "outputs": [],
      "source": [
        "# Aplikasi vektorisasi pada data\n",
        "text_vectorization = TextVectorization(max_tokens=jml_vocab,\n",
        "                                       standardize=\"lower_and_strip_punctuation\",\n",
        "                                       split=\"whitespace\",\n",
        "                                       ngrams=None, #pemenggalan kata, misal 2, 2 kata baru koma(,)\n",
        "                                       output_mode=\"int\",\n",
        "                                       output_sequence_length=max_sen_len,\n",
        "                                       input_shape=(1,) # karena menggunakan sequential API\n",
        "                                       )\n",
        "\n",
        "text_vectorization.adapt(X_train) "
      ]
    },
    {
      "cell_type": "code",
      "execution_count": 382,
      "metadata": {
        "colab": {
          "base_uri": "https://localhost:8080/",
          "height": 36
        },
        "id": "z80aSlTxEFcl",
        "outputId": "3ed58c9d-486b-4309-9cf8-5be69e7a1add"
      },
      "outputs": [
        {
          "output_type": "execute_result",
          "data": {
            "text/plain": [
              "'absolutely wonderful silky sexy comfortable'"
            ],
            "application/vnd.google.colaboratory.intrinsic+json": {
              "type": "string"
            }
          },
          "metadata": {},
          "execution_count": 382
        }
      ],
      "source": [
        "df_tx.text_processed[0]"
      ]
    },
    {
      "cell_type": "code",
      "execution_count": 383,
      "metadata": {
        "colab": {
          "base_uri": "https://localhost:8080/"
        },
        "id": "GH7WaX6GEFcl",
        "outputId": "cc1ce795-eee2-459a-cd92-ae6d3e763433"
      },
      "outputs": [
        {
          "output_type": "execute_result",
          "data": {
            "text/plain": [
              "<tf.Tensor: shape=(1, 58), dtype=int64, numpy=\n",
              "array([[179, 400, 777, 503,  26,   0,   0,   0,   0,   0,   0,   0,   0,\n",
              "          0,   0,   0,   0,   0,   0,   0,   0,   0,   0,   0,   0,   0,\n",
              "          0,   0,   0,   0,   0,   0,   0,   0,   0,   0,   0,   0,   0,\n",
              "          0,   0,   0,   0,   0,   0,   0,   0,   0,   0,   0,   0,   0,\n",
              "          0,   0,   0,   0,   0,   0]])>"
            ]
          },
          "metadata": {},
          "execution_count": 383
        }
      ],
      "source": [
        "text_vectorization([df_tx.text_processed[0]])"
      ]
    },
    {
      "cell_type": "code",
      "execution_count": 384,
      "metadata": {
        "id": "ZyZuRfPeEFcl"
      },
      "outputs": [],
      "source": [
        "# Melakukan embedding pada data\n",
        "embedding = Embedding(input_dim=jml_vocab,\n",
        "                      output_dim=128,\n",
        "                      embeddings_initializer=\"uniform\",\n",
        "                      input_length=max_sen_len\n",
        "                      )"
      ]
    },
    {
      "cell_type": "code",
      "execution_count": 385,
      "metadata": {
        "colab": {
          "base_uri": "https://localhost:8080/"
        },
        "id": "b8oB_bxqEFcm",
        "outputId": "ddf082fa-68a9-4558-b5e7-f07b92ed4bfd"
      },
      "outputs": [
        {
          "output_type": "execute_result",
          "data": {
            "text/plain": [
              "<tf.Tensor: shape=(1, 58, 128), dtype=float32, numpy=\n",
              "array([[[ 0.0379384 ,  0.0094174 , -0.01562768, ..., -0.04062201,\n",
              "         -0.0056561 ,  0.03147246],\n",
              "        [-0.00249652,  0.01758856,  0.04665519, ...,  0.02320443,\n",
              "         -0.02498256,  0.00670077],\n",
              "        [-0.03351089, -0.04888615,  0.04524391, ..., -0.02539504,\n",
              "         -0.03725189,  0.04606047],\n",
              "        ...,\n",
              "        [ 0.01124365, -0.01160238, -0.03943161, ...,  0.04657431,\n",
              "          0.01444653,  0.04928737],\n",
              "        [ 0.01124365, -0.01160238, -0.03943161, ...,  0.04657431,\n",
              "          0.01444653,  0.04928737],\n",
              "        [ 0.01124365, -0.01160238, -0.03943161, ...,  0.04657431,\n",
              "          0.01444653,  0.04928737]]], dtype=float32)>"
            ]
          },
          "metadata": {},
          "execution_count": 385
        }
      ],
      "source": [
        "emb_res = embedding(text_vectorization([df_tx.text_processed[0]]))\n",
        "emb_res"
      ]
    },
    {
      "cell_type": "code",
      "execution_count": 386,
      "metadata": {
        "colab": {
          "base_uri": "https://localhost:8080/"
        },
        "id": "JHJRcNNmEFcm",
        "outputId": "4b10f405-53a4-4c78-d70d-5f3710526540"
      },
      "outputs": [
        {
          "output_type": "execute_result",
          "data": {
            "text/plain": [
              "<tf.Tensor: shape=(128,), dtype=float32, numpy=\n",
              "array([ 0.0379384 ,  0.0094174 , -0.01562768,  0.04074028, -0.00646668,\n",
              "        0.0024887 , -0.01729197, -0.04549836,  0.03396401,  0.03254538,\n",
              "        0.00141782, -0.02319675, -0.00648677, -0.0215708 ,  0.02926425,\n",
              "        0.01853028,  0.00127425, -0.01520533, -0.04243789, -0.02404317,\n",
              "        0.01576025, -0.00148692, -0.03093581,  0.00422143,  0.0266459 ,\n",
              "        0.02368747,  0.03569115, -0.03722642,  0.02128066,  0.01976882,\n",
              "       -0.02508397,  0.0065521 ,  0.0179598 ,  0.03329823, -0.02985078,\n",
              "        0.00622474,  0.03635855,  0.01001549,  0.03193823,  0.04063431,\n",
              "       -0.01706884, -0.00028346,  0.01471417, -0.03120529,  0.01954944,\n",
              "       -0.02288604,  0.03884092,  0.0486377 , -0.01743666,  0.00708038,\n",
              "        0.04803023, -0.03409217,  0.00906159, -0.04986267,  0.03340552,\n",
              "       -0.03101909,  0.0141705 , -0.03606809,  0.01077241,  0.04863303,\n",
              "        0.02298034,  0.03765193, -0.01118404,  0.00769246, -0.01727267,\n",
              "       -0.03612757,  0.03728184, -0.04041513, -0.00179423, -0.04754234,\n",
              "       -0.01985426, -0.01816697, -0.02893302, -0.02698923, -0.03977181,\n",
              "       -0.02157617, -0.02829158, -0.02681159,  0.04723556, -0.02314526,\n",
              "       -0.02882502,  0.04717079,  0.01314319,  0.02160356,  0.01700125,\n",
              "        0.03249848, -0.00805732,  0.0251038 ,  0.04279076,  0.02587148,\n",
              "        0.01284203, -0.00850209, -0.02071267,  0.00990825, -0.00818485,\n",
              "        0.04933614,  0.04345853, -0.03970141, -0.00033368, -0.0465709 ,\n",
              "       -0.03551631, -0.04925711,  0.00502544,  0.02556485, -0.02669067,\n",
              "        0.03503115, -0.02584918,  0.00711383,  0.04392897, -0.04666661,\n",
              "        0.03540558, -0.0097361 ,  0.0310961 ,  0.02228979, -0.03690803,\n",
              "        0.00125943, -0.01509919, -0.01343231, -0.03290776, -0.03353103,\n",
              "        0.00355094,  0.02814626, -0.03622905, -0.00337904, -0.00573619,\n",
              "       -0.04062201, -0.0056561 ,  0.03147246], dtype=float32)>"
            ]
          },
          "metadata": {},
          "execution_count": 386
        }
      ],
      "source": [
        "emb_res[0][0]"
      ]
    },
    {
      "cell_type": "markdown",
      "metadata": {
        "id": "Ss3nGJJXH0Iv"
      },
      "source": [
        "## 6 - Model Definition, Training and Evaluation"
      ]
    },
    {
      "cell_type": "markdown",
      "metadata": {
        "id": "Ta2f0kW-EFcm"
      },
      "source": [
        "> Bagian ini merupakan proses pendefinisian model, dan pada dataset ini akan digunakan Traditional Machine Learning dengan MultinomialNB, dan Deep Learning, menggunakan DNN, LMTS dan Bidirectional karena target pada dataset ini adalah melihat apakah pelanggan kemungkinan akan churn atau tidak, sehingga akan dilihat performanya menggunakan metric classification report dan confusion matrix"
      ]
    },
    {
      "cell_type": "markdown",
      "source": [
        "## Traditional Machine Learning - MultinomialNB"
      ],
      "metadata": {
        "id": "zr2fjVH90mGK"
      }
    },
    {
      "cell_type": "code",
      "source": [
        "# Merubah format to array\n",
        "X_train_sc = X_train_tfidf.todense()\n",
        "X_test_sc = X_test_tfidf.todense()"
      ],
      "metadata": {
        "id": "ZBuALHNhJQAh"
      },
      "execution_count": 388,
      "outputs": []
    },
    {
      "cell_type": "code",
      "source": [
        "# Modeling menggunakan MultinomialNB\n",
        "nb = MultinomialNB()\n",
        "nb.fit(X_train_sc, y_train)\n",
        "\n",
        "y_pred = nb.predict(X_test_sc)\n",
        "print(classification_report(y_test, y_pred))"
      ],
      "metadata": {
        "colab": {
          "base_uri": "https://localhost:8080/"
        },
        "id": "sJfziSlk0nlK",
        "outputId": "7e3dd244-102f-49b9-ff7e-47fcfdb65963"
      },
      "execution_count": 394,
      "outputs": [
        {
          "output_type": "stream",
          "name": "stdout",
          "text": [
            "              precision    recall  f1-score   support\n",
            "\n",
            "           0       1.00      0.02      0.04      1025\n",
            "           1       0.82      1.00      0.90      4636\n",
            "\n",
            "    accuracy                           0.82      5661\n",
            "   macro avg       0.91      0.51      0.47      5661\n",
            "weighted avg       0.85      0.82      0.75      5661\n",
            "\n"
          ]
        }
      ]
    },
    {
      "cell_type": "markdown",
      "source": [
        "> Terlihat dari hasil classification report pada model MultinomialNB memiliki Accuracy sebesar 82%, dengan recall, 2 persen pada target tidak rekomended, dan 100 persen pada produk rekomended, dataset imbalance mungkin menjadi sebab hasil overfit dan belum baik pada target produk tidak rekomended"
      ],
      "metadata": {
        "id": "CWhmlVfndWkR"
      }
    },
    {
      "cell_type": "code",
      "source": [
        "cm_ml = confusion_matrix(y_test, y_pred)"
      ],
      "metadata": {
        "id": "fmd0uJOrfkMz"
      },
      "execution_count": 396,
      "outputs": []
    },
    {
      "cell_type": "code",
      "source": [
        "cm_display = ConfusionMatrixDisplay(cm_ml).plot()"
      ],
      "metadata": {
        "colab": {
          "base_uri": "https://localhost:8080/",
          "height": 279
        },
        "id": "fQ8h97nIfx7u",
        "outputId": "7b7504a4-7f99-40f9-ceb3-4dc873bff845"
      },
      "execution_count": 397,
      "outputs": [
        {
          "output_type": "display_data",
          "data": {
            "text/plain": [
              "<Figure size 432x288 with 2 Axes>"
            ],
            "image/png": "[encoded data removed]"
          },
          "metadata": {
            "needs_background": "light"
          }
        }
      ]
    },
    {
      "cell_type": "markdown",
      "source": [
        "> Pada matrix terlihat bahwa product yang kemungkinan rekomended yang ternyata tidak rekomended adalah 1006 dari jumlah kemungkinan produk rekomendednya rekomendednya 4636"
      ],
      "metadata": {
        "id": "zuKalEOWg5sJ"
      }
    },
    {
      "cell_type": "markdown",
      "metadata": {
        "id": "0meWRO-0EFcm"
      },
      "source": [
        "## Deep Learning - Fully Connected Layer"
      ]
    },
    {
      "cell_type": "code",
      "source": [
        "y_train.value_counts()"
      ],
      "metadata": {
        "colab": {
          "base_uri": "https://localhost:8080/"
        },
        "id": "MX2oxdsskd4o",
        "outputId": "de4f0264-f3ac-4c89-8f9d-410d9b64a2dc"
      },
      "execution_count": 398,
      "outputs": [
        {
          "output_type": "execute_result",
          "data": {
            "text/plain": [
              "1    13904\n",
              "0     3076\n",
              "Name: recommended, dtype: int64"
            ]
          },
          "metadata": {},
          "execution_count": 398
        }
      ]
    },
    {
      "cell_type": "code",
      "source": [
        "y_test.value_counts()"
      ],
      "metadata": {
        "colab": {
          "base_uri": "https://localhost:8080/"
        },
        "id": "u-oubQ8Wkdvp",
        "outputId": "2ac00db1-c89d-4a9f-d32d-c17b38560a50"
      },
      "execution_count": 399,
      "outputs": [
        {
          "output_type": "execute_result",
          "data": {
            "text/plain": [
              "1    4636\n",
              "0    1025\n",
              "Name: recommended, dtype: int64"
            ]
          },
          "metadata": {},
          "execution_count": 399
        }
      ]
    },
    {
      "cell_type": "code",
      "source": [
        "X_train.shape, y_train.shape, X_test.shape, y_test.shape"
      ],
      "metadata": {
        "colab": {
          "base_uri": "https://localhost:8080/"
        },
        "id": "tVPkIquu5mAI",
        "outputId": "c0c49124-bb0e-4437-ac3c-54b07ab497a9"
      },
      "execution_count": 400,
      "outputs": [
        {
          "output_type": "execute_result",
          "data": {
            "text/plain": [
              "((16980,), (16980,), (5661,), (5661,))"
            ]
          },
          "metadata": {},
          "execution_count": 400
        }
      ]
    },
    {
      "cell_type": "markdown",
      "source": [
        "## Model DNN"
      ],
      "metadata": {
        "id": "utr_jcfBT0aX"
      }
    },
    {
      "cell_type": "code",
      "source": [
        "# sequential DNN\n",
        "model_DNN1 = Sequential()\n",
        "model_DNN1.add(text_vectorization)\n",
        "model_DNN1.add(embedding)\n",
        "model_DNN1.add(Dense(32,activation='relu'))\n",
        "model_DNN1.add(Dense(1, activation='sigmoid'))\n",
        "\n",
        "# compile\n",
        "model_DNN1.compile(loss='binary_crossentropy',\n",
        "              optimizer=\"adam\",\n",
        "              metrics=['accuracy'])\n",
        "\n",
        "# train\n",
        "history = model_DNN1.fit(X_train, y_train, epochs=50, validation_data=(X_test, y_test))"
      ],
      "metadata": {
        "colab": {
          "base_uri": "https://localhost:8080/"
        },
        "id": "PRudbtX-Gd2e",
        "outputId": "9703c5de-3367-4e0d-9402-d90c72e44f98"
      },
      "execution_count": 401,
      "outputs": [
        {
          "output_type": "stream",
          "name": "stdout",
          "text": [
            "Epoch 1/50\n",
            "531/531 [==============================] - 3s 5ms/step - loss: 0.4765 - accuracy: 0.8190 - val_loss: 0.4628 - val_accuracy: 0.8199\n",
            "Epoch 2/50\n",
            "531/531 [==============================] - 3s 5ms/step - loss: 0.4595 - accuracy: 0.8207 - val_loss: 0.4643 - val_accuracy: 0.8194\n",
            "Epoch 3/50\n",
            "531/531 [==============================] - 3s 5ms/step - loss: 0.4575 - accuracy: 0.8220 - val_loss: 0.4633 - val_accuracy: 0.8194\n",
            "Epoch 4/50\n",
            "531/531 [==============================] - 3s 5ms/step - loss: 0.4565 - accuracy: 0.8221 - val_loss: 0.4666 - val_accuracy: 0.8193\n",
            "Epoch 5/50\n",
            "531/531 [==============================] - 3s 5ms/step - loss: 0.4555 - accuracy: 0.8224 - val_loss: 0.4645 - val_accuracy: 0.8194\n",
            "Epoch 6/50\n",
            "531/531 [==============================] - 3s 5ms/step - loss: 0.4550 - accuracy: 0.8224 - val_loss: 0.4646 - val_accuracy: 0.8194\n",
            "Epoch 7/50\n",
            "531/531 [==============================] - 3s 5ms/step - loss: 0.4545 - accuracy: 0.8225 - val_loss: 0.4667 - val_accuracy: 0.8194\n",
            "Epoch 8/50\n",
            "531/531 [==============================] - 3s 5ms/step - loss: 0.4542 - accuracy: 0.8225 - val_loss: 0.4661 - val_accuracy: 0.8194\n",
            "Epoch 9/50\n",
            "531/531 [==============================] - 2s 5ms/step - loss: 0.4541 - accuracy: 0.8226 - val_loss: 0.4664 - val_accuracy: 0.8194\n",
            "Epoch 10/50\n",
            "531/531 [==============================] - 2s 5ms/step - loss: 0.4537 - accuracy: 0.8226 - val_loss: 0.4673 - val_accuracy: 0.8193\n",
            "Epoch 11/50\n",
            "531/531 [==============================] - 2s 5ms/step - loss: 0.4537 - accuracy: 0.8226 - val_loss: 0.4666 - val_accuracy: 0.8194\n",
            "Epoch 12/50\n",
            "531/531 [==============================] - 2s 5ms/step - loss: 0.4536 - accuracy: 0.8226 - val_loss: 0.4671 - val_accuracy: 0.8192\n",
            "Epoch 13/50\n",
            "531/531 [==============================] - 2s 5ms/step - loss: 0.4532 - accuracy: 0.8226 - val_loss: 0.4671 - val_accuracy: 0.8193\n",
            "Epoch 14/50\n",
            "531/531 [==============================] - 2s 5ms/step - loss: 0.4535 - accuracy: 0.8226 - val_loss: 0.4675 - val_accuracy: 0.8193\n",
            "Epoch 15/50\n",
            "531/531 [==============================] - 2s 5ms/step - loss: 0.4533 - accuracy: 0.8226 - val_loss: 0.4675 - val_accuracy: 0.8193\n",
            "Epoch 16/50\n",
            "531/531 [==============================] - 2s 5ms/step - loss: 0.4532 - accuracy: 0.8226 - val_loss: 0.4681 - val_accuracy: 0.8193\n",
            "Epoch 17/50\n",
            "531/531 [==============================] - 2s 5ms/step - loss: 0.4530 - accuracy: 0.8226 - val_loss: 0.4681 - val_accuracy: 0.8193\n",
            "Epoch 18/50\n",
            "531/531 [==============================] - 2s 5ms/step - loss: 0.4528 - accuracy: 0.8226 - val_loss: 0.4679 - val_accuracy: 0.8193\n",
            "Epoch 19/50\n",
            "531/531 [==============================] - 2s 5ms/step - loss: 0.4531 - accuracy: 0.8226 - val_loss: 0.4692 - val_accuracy: 0.8193\n",
            "Epoch 20/50\n",
            "531/531 [==============================] - 2s 5ms/step - loss: 0.4528 - accuracy: 0.8226 - val_loss: 0.4699 - val_accuracy: 0.8193\n",
            "Epoch 21/50\n",
            "531/531 [==============================] - 2s 5ms/step - loss: 0.4530 - accuracy: 0.8227 - val_loss: 0.4696 - val_accuracy: 0.8193\n",
            "Epoch 22/50\n",
            "531/531 [==============================] - 2s 5ms/step - loss: 0.4529 - accuracy: 0.8226 - val_loss: 0.4685 - val_accuracy: 0.8192\n",
            "Epoch 23/50\n",
            "531/531 [==============================] - 2s 5ms/step - loss: 0.4527 - accuracy: 0.8226 - val_loss: 0.4712 - val_accuracy: 0.8193\n",
            "Epoch 24/50\n",
            "531/531 [==============================] - 2s 5ms/step - loss: 0.4525 - accuracy: 0.8226 - val_loss: 0.4697 - val_accuracy: 0.8193\n",
            "Epoch 25/50\n",
            "531/531 [==============================] - 2s 5ms/step - loss: 0.4527 - accuracy: 0.8226 - val_loss: 0.4692 - val_accuracy: 0.8193\n",
            "Epoch 26/50\n",
            "531/531 [==============================] - 2s 5ms/step - loss: 0.4526 - accuracy: 0.8226 - val_loss: 0.4693 - val_accuracy: 0.8193\n",
            "Epoch 27/50\n",
            "531/531 [==============================] - 2s 5ms/step - loss: 0.4527 - accuracy: 0.8226 - val_loss: 0.4697 - val_accuracy: 0.8194\n",
            "Epoch 28/50\n",
            "531/531 [==============================] - 2s 5ms/step - loss: 0.4525 - accuracy: 0.8226 - val_loss: 0.4691 - val_accuracy: 0.8192\n",
            "Epoch 29/50\n",
            "531/531 [==============================] - 2s 5ms/step - loss: 0.4526 - accuracy: 0.8226 - val_loss: 0.4687 - val_accuracy: 0.8193\n",
            "Epoch 30/50\n",
            "531/531 [==============================] - 2s 5ms/step - loss: 0.4525 - accuracy: 0.8226 - val_loss: 0.4700 - val_accuracy: 0.8193\n",
            "Epoch 31/50\n",
            "531/531 [==============================] - 2s 5ms/step - loss: 0.4526 - accuracy: 0.8226 - val_loss: 0.4708 - val_accuracy: 0.8192\n",
            "Epoch 32/50\n",
            "531/531 [==============================] - 2s 5ms/step - loss: 0.4525 - accuracy: 0.8226 - val_loss: 0.4698 - val_accuracy: 0.8193\n",
            "Epoch 33/50\n",
            "531/531 [==============================] - 2s 5ms/step - loss: 0.4523 - accuracy: 0.8226 - val_loss: 0.4698 - val_accuracy: 0.8193\n",
            "Epoch 34/50\n",
            "531/531 [==============================] - 2s 5ms/step - loss: 0.4526 - accuracy: 0.8226 - val_loss: 0.4702 - val_accuracy: 0.8191\n",
            "Epoch 35/50\n",
            "531/531 [==============================] - 2s 5ms/step - loss: 0.4524 - accuracy: 0.8226 - val_loss: 0.4704 - val_accuracy: 0.8193\n",
            "Epoch 36/50\n",
            "531/531 [==============================] - 2s 5ms/step - loss: 0.4521 - accuracy: 0.8226 - val_loss: 0.4717 - val_accuracy: 0.8187\n",
            "Epoch 37/50\n",
            "531/531 [==============================] - 2s 5ms/step - loss: 0.4525 - accuracy: 0.8226 - val_loss: 0.4710 - val_accuracy: 0.8193\n",
            "Epoch 38/50\n",
            "531/531 [==============================] - 2s 5ms/step - loss: 0.4523 - accuracy: 0.8226 - val_loss: 0.4710 - val_accuracy: 0.8193\n",
            "Epoch 39/50\n",
            "531/531 [==============================] - 2s 5ms/step - loss: 0.4521 - accuracy: 0.8226 - val_loss: 0.4706 - val_accuracy: 0.8190\n",
            "Epoch 40/50\n",
            "531/531 [==============================] - 2s 5ms/step - loss: 0.4522 - accuracy: 0.8226 - val_loss: 0.4714 - val_accuracy: 0.8193\n",
            "Epoch 41/50\n",
            "531/531 [==============================] - 2s 5ms/step - loss: 0.4524 - accuracy: 0.8226 - val_loss: 0.4712 - val_accuracy: 0.8191\n",
            "Epoch 42/50\n",
            "531/531 [==============================] - 2s 5ms/step - loss: 0.4523 - accuracy: 0.8226 - val_loss: 0.4704 - val_accuracy: 0.8194\n",
            "Epoch 43/50\n",
            "531/531 [==============================] - 2s 5ms/step - loss: 0.4523 - accuracy: 0.8226 - val_loss: 0.4706 - val_accuracy: 0.8192\n",
            "Epoch 44/50\n",
            "531/531 [==============================] - 2s 5ms/step - loss: 0.4523 - accuracy: 0.8226 - val_loss: 0.4708 - val_accuracy: 0.8192\n",
            "Epoch 45/50\n",
            "531/531 [==============================] - 3s 5ms/step - loss: 0.4524 - accuracy: 0.8226 - val_loss: 0.4712 - val_accuracy: 0.8193\n",
            "Epoch 46/50\n",
            "531/531 [==============================] - 2s 5ms/step - loss: 0.4522 - accuracy: 0.8226 - val_loss: 0.4712 - val_accuracy: 0.8193\n",
            "Epoch 47/50\n",
            "531/531 [==============================] - 2s 5ms/step - loss: 0.4521 - accuracy: 0.8226 - val_loss: 0.4707 - val_accuracy: 0.8193\n",
            "Epoch 48/50\n",
            "531/531 [==============================] - 2s 5ms/step - loss: 0.4523 - accuracy: 0.8226 - val_loss: 0.4712 - val_accuracy: 0.8194\n",
            "Epoch 49/50\n",
            "531/531 [==============================] - 2s 5ms/step - loss: 0.4522 - accuracy: 0.8226 - val_loss: 0.4710 - val_accuracy: 0.8193\n",
            "Epoch 50/50\n",
            "531/531 [==============================] - 2s 5ms/step - loss: 0.4522 - accuracy: 0.8226 - val_loss: 0.4709 - val_accuracy: 0.8192\n"
          ]
        }
      ]
    },
    {
      "cell_type": "code",
      "source": [
        "model_DNN1_df = pd.DataFrame(model_DNN1.history.history)\n",
        "model_DNN1_df"
      ],
      "metadata": {
        "id": "oMpqWVkiR9WG",
        "colab": {
          "base_uri": "https://localhost:8080/",
          "height": 1000
        },
        "outputId": "e38a7ff5-8013-4d0a-cb61-10e08948fd27"
      },
      "execution_count": 402,
      "outputs": [
        {
          "output_type": "execute_result",
          "data": {
            "text/plain": [
              "        loss  accuracy  val_loss  val_accuracy\n",
              "0   0.476470  0.818975  0.462786      0.819899\n",
              "1   0.459535  0.820670  0.464293      0.819439\n",
              "2   0.457485  0.821951  0.463287      0.819381\n",
              "3   0.456541  0.822074  0.466618      0.819317\n",
              "4   0.455524  0.822358  0.464463      0.819430\n",
              "5   0.454980  0.822437  0.464636      0.819418\n",
              "6   0.454504  0.822495  0.466704      0.819424\n",
              "7   0.454169  0.822484  0.466109      0.819351\n",
              "8   0.454133  0.822566  0.466393      0.819372\n",
              "9   0.453664  0.822594  0.467339      0.819284\n",
              "10  0.453732  0.822600  0.466626      0.819354\n",
              "11  0.453575  0.822613  0.467105      0.819235\n",
              "12  0.453202  0.822580  0.467087      0.819290\n",
              "13  0.453494  0.822606  0.467463      0.819320\n",
              "14  0.453299  0.822635  0.467501      0.819284\n",
              "15  0.453205  0.822572  0.468068      0.819311\n",
              "16  0.453007  0.822631  0.468126      0.819323\n",
              "17  0.452804  0.822645  0.467894      0.819260\n",
              "18  0.453073  0.822623  0.469240      0.819287\n",
              "19  0.452823  0.822628  0.469883      0.819335\n",
              "20  0.453004  0.822665  0.469640      0.819274\n",
              "21  0.452855  0.822626  0.468513      0.819247\n",
              "22  0.452733  0.822624  0.471169      0.819287\n",
              "23  0.452543  0.822602  0.469661      0.819311\n",
              "24  0.452688  0.822606  0.469200      0.819299\n",
              "25  0.452563  0.822611  0.469274      0.819253\n",
              "26  0.452693  0.822604  0.469710      0.819375\n",
              "27  0.452454  0.822575  0.469134      0.819202\n",
              "28  0.452554  0.822607  0.468715      0.819296\n",
              "29  0.452508  0.822623  0.469976      0.819262\n",
              "30  0.452557  0.822592  0.470808      0.819220\n",
              "31  0.452466  0.822616  0.469759      0.819290\n",
              "32  0.452335  0.822618  0.469755      0.819344\n",
              "33  0.452551  0.822588  0.470220      0.819095\n",
              "34  0.452370  0.822645  0.470420      0.819290\n",
              "35  0.452120  0.822602  0.471701      0.818653\n",
              "36  0.452504  0.822641  0.470993      0.819274\n",
              "37  0.452274  0.822589  0.470992      0.819284\n",
              "38  0.452126  0.822595  0.470587      0.818994\n",
              "39  0.452166  0.822564  0.471421      0.819329\n",
              "40  0.452351  0.822602  0.471178      0.819116\n",
              "41  0.452332  0.822588  0.470355      0.819378\n",
              "42  0.452323  0.822565  0.470557      0.819244\n",
              "43  0.452253  0.822608  0.470800      0.819192\n",
              "44  0.452388  0.822564  0.471162      0.819311\n",
              "45  0.452154  0.822605  0.471221      0.819272\n",
              "46  0.452079  0.822622  0.470707      0.819308\n",
              "47  0.452300  0.822620  0.471216      0.819363\n",
              "48  0.452238  0.822576  0.471025      0.819262\n",
              "49  0.452155  0.822632  0.470899      0.819207"
            ],
            "text/html": [
              "\n",
              "  <div id=\"df-bf829b91-c6bb-4589-8cf7-948047a88f80\">\n",
              "    <div class=\"colab-df-container\">\n",
              "      <div>\n",
              "<style scoped>\n",
              "    .dataframe tbody tr th:only-of-type {\n",
              "        vertical-align: middle;\n",
              "    }\n",
              "\n",
              "    .dataframe tbody tr th {\n",
              "        vertical-align: top;\n",
              "    }\n",
              "\n",
              "    .dataframe thead th {\n",
              "        text-align: right;\n",
              "    }\n",
              "</style>\n",
              "<table border=\"1\" class=\"dataframe\">\n",
              "  <thead>\n",
              "    <tr style=\"text-align: right;\">\n",
              "      <th></th>\n",
              "      <th>loss</th>\n",
              "      <th>accuracy</th>\n",
              "      <th>val_loss</th>\n",
              "      <th>val_accuracy</th>\n",
              "    </tr>\n",
              "  </thead>\n",
              "  <tbody>\n",
              "    <tr>\n",
              "      <th>0</th>\n",
              "      <td>0.476470</td>\n",
              "      <td>0.818975</td>\n",
              "      <td>0.462786</td>\n",
              "      <td>0.819899</td>\n",
              "    </tr>\n",
              "    <tr>\n",
              "      <th>1</th>\n",
              "      <td>0.459535</td>\n",
              "      <td>0.820670</td>\n",
              "      <td>0.464293</td>\n",
              "      <td>0.819439</td>\n",
              "    </tr>\n",
              "    <tr>\n",
              "      <th>2</th>\n",
              "      <td>0.457485</td>\n",
              "      <td>0.821951</td>\n",
              "      <td>0.463287</td>\n",
              "      <td>0.819381</td>\n",
              "    </tr>\n",
              "    <tr>\n",
              "      <th>3</th>\n",
              "      <td>0.456541</td>\n",
              "      <td>0.822074</td>\n",
              "      <td>0.466618</td>\n",
              "      <td>0.819317</td>\n",
              "    </tr>\n",
              "    <tr>\n",
              "      <th>4</th>\n",
              "      <td>0.455524</td>\n",
              "      <td>0.822358</td>\n",
              "      <td>0.464463</td>\n",
              "      <td>0.819430</td>\n",
              "    </tr>\n",
              "    <tr>\n",
              "      <th>5</th>\n",
              "      <td>0.454980</td>\n",
              "      <td>0.822437</td>\n",
              "      <td>0.464636</td>\n",
              "      <td>0.819418</td>\n",
              "    </tr>\n",
              "    <tr>\n",
              "      <th>6</th>\n",
              "      <td>0.454504</td>\n",
              "      <td>0.822495</td>\n",
              "      <td>0.466704</td>\n",
              "      <td>0.819424</td>\n",
              "    </tr>\n",
              "    <tr>\n",
              "      <th>7</th>\n",
              "      <td>0.454169</td>\n",
              "      <td>0.822484</td>\n",
              "      <td>0.466109</td>\n",
              "      <td>0.819351</td>\n",
              "    </tr>\n",
              "    <tr>\n",
              "      <th>8</th>\n",
              "      <td>0.454133</td>\n",
              "      <td>0.822566</td>\n",
              "      <td>0.466393</td>\n",
              "      <td>0.819372</td>\n",
              "    </tr>\n",
              "    <tr>\n",
              "      <th>9</th>\n",
              "      <td>0.453664</td>\n",
              "      <td>0.822594</td>\n",
              "      <td>0.467339</td>\n",
              "      <td>0.819284</td>\n",
              "    </tr>\n",
              "    <tr>\n",
              "      <th>10</th>\n",
              "      <td>0.453732</td>\n",
              "      <td>0.822600</td>\n",
              "      <td>0.466626</td>\n",
              "      <td>0.819354</td>\n",
              "    </tr>\n",
              "    <tr>\n",
              "      <th>11</th>\n",
              "      <td>0.453575</td>\n",
              "      <td>0.822613</td>\n",
              "      <td>0.467105</td>\n",
              "      <td>0.819235</td>\n",
              "    </tr>\n",
              "    <tr>\n",
              "      <th>12</th>\n",
              "      <td>0.453202</td>\n",
              "      <td>0.822580</td>\n",
              "      <td>0.467087</td>\n",
              "      <td>0.819290</td>\n",
              "    </tr>\n",
              "    <tr>\n",
              "      <th>13</th>\n",
              "      <td>0.453494</td>\n",
              "      <td>0.822606</td>\n",
              "      <td>0.467463</td>\n",
              "      <td>0.819320</td>\n",
              "    </tr>\n",
              "    <tr>\n",
              "      <th>14</th>\n",
              "      <td>0.453299</td>\n",
              "      <td>0.822635</td>\n",
              "      <td>0.467501</td>\n",
              "      <td>0.819284</td>\n",
              "    </tr>\n",
              "    <tr>\n",
              "      <th>15</th>\n",
              "      <td>0.453205</td>\n",
              "      <td>0.822572</td>\n",
              "      <td>0.468068</td>\n",
              "      <td>0.819311</td>\n",
              "    </tr>\n",
              "    <tr>\n",
              "      <th>16</th>\n",
              "      <td>0.453007</td>\n",
              "      <td>0.822631</td>\n",
              "      <td>0.468126</td>\n",
              "      <td>0.819323</td>\n",
              "    </tr>\n",
              "    <tr>\n",
              "      <th>17</th>\n",
              "      <td>0.452804</td>\n",
              "      <td>0.822645</td>\n",
              "      <td>0.467894</td>\n",
              "      <td>0.819260</td>\n",
              "    </tr>\n",
              "    <tr>\n",
              "      <th>18</th>\n",
              "      <td>0.453073</td>\n",
              "      <td>0.822623</td>\n",
              "      <td>0.469240</td>\n",
              "      <td>0.819287</td>\n",
              "    </tr>\n",
              "    <tr>\n",
              "      <th>19</th>\n",
              "      <td>0.452823</td>\n",
              "      <td>0.822628</td>\n",
              "      <td>0.469883</td>\n",
              "      <td>0.819335</td>\n",
              "    </tr>\n",
              "    <tr>\n",
              "      <th>20</th>\n",
              "      <td>0.453004</td>\n",
              "      <td>0.822665</td>\n",
              "      <td>0.469640</td>\n",
              "      <td>0.819274</td>\n",
              "    </tr>\n",
              "    <tr>\n",
              "      <th>21</th>\n",
              "      <td>0.452855</td>\n",
              "      <td>0.822626</td>\n",
              "      <td>0.468513</td>\n",
              "      <td>0.819247</td>\n",
              "    </tr>\n",
              "    <tr>\n",
              "      <th>22</th>\n",
              "      <td>0.452733</td>\n",
              "      <td>0.822624</td>\n",
              "      <td>0.471169</td>\n",
              "      <td>0.819287</td>\n",
              "    </tr>\n",
              "    <tr>\n",
              "      <th>23</th>\n",
              "      <td>0.452543</td>\n",
              "      <td>0.822602</td>\n",
              "      <td>0.469661</td>\n",
              "      <td>0.819311</td>\n",
              "    </tr>\n",
              "    <tr>\n",
              "      <th>24</th>\n",
              "      <td>0.452688</td>\n",
              "      <td>0.822606</td>\n",
              "      <td>0.469200</td>\n",
              "      <td>0.819299</td>\n",
              "    </tr>\n",
              "    <tr>\n",
              "      <th>25</th>\n",
              "      <td>0.452563</td>\n",
              "      <td>0.822611</td>\n",
              "      <td>0.469274</td>\n",
              "      <td>0.819253</td>\n",
              "    </tr>\n",
              "    <tr>\n",
              "      <th>26</th>\n",
              "      <td>0.452693</td>\n",
              "      <td>0.822604</td>\n",
              "      <td>0.469710</td>\n",
              "      <td>0.819375</td>\n",
              "    </tr>\n",
              "    <tr>\n",
              "      <th>27</th>\n",
              "      <td>0.452454</td>\n",
              "      <td>0.822575</td>\n",
              "      <td>0.469134</td>\n",
              "      <td>0.819202</td>\n",
              "    </tr>\n",
              "    <tr>\n",
              "      <th>28</th>\n",
              "      <td>0.452554</td>\n",
              "      <td>0.822607</td>\n",
              "      <td>0.468715</td>\n",
              "      <td>0.819296</td>\n",
              "    </tr>\n",
              "    <tr>\n",
              "      <th>29</th>\n",
              "      <td>0.452508</td>\n",
              "      <td>0.822623</td>\n",
              "      <td>0.469976</td>\n",
              "      <td>0.819262</td>\n",
              "    </tr>\n",
              "    <tr>\n",
              "      <th>30</th>\n",
              "      <td>0.452557</td>\n",
              "      <td>0.822592</td>\n",
              "      <td>0.470808</td>\n",
              "      <td>0.819220</td>\n",
              "    </tr>\n",
              "    <tr>\n",
              "      <th>31</th>\n",
              "      <td>0.452466</td>\n",
              "      <td>0.822616</td>\n",
              "      <td>0.469759</td>\n",
              "      <td>0.819290</td>\n",
              "    </tr>\n",
              "    <tr>\n",
              "      <th>32</th>\n",
              "      <td>0.452335</td>\n",
              "      <td>0.822618</td>\n",
              "      <td>0.469755</td>\n",
              "      <td>0.819344</td>\n",
              "    </tr>\n",
              "    <tr>\n",
              "      <th>33</th>\n",
              "      <td>0.452551</td>\n",
              "      <td>0.822588</td>\n",
              "      <td>0.470220</td>\n",
              "      <td>0.819095</td>\n",
              "    </tr>\n",
              "    <tr>\n",
              "      <th>34</th>\n",
              "      <td>0.452370</td>\n",
              "      <td>0.822645</td>\n",
              "      <td>0.470420</td>\n",
              "      <td>0.819290</td>\n",
              "    </tr>\n",
              "    <tr>\n",
              "      <th>35</th>\n",
              "      <td>0.452120</td>\n",
              "      <td>0.822602</td>\n",
              "      <td>0.471701</td>\n",
              "      <td>0.818653</td>\n",
              "    </tr>\n",
              "    <tr>\n",
              "      <th>36</th>\n",
              "      <td>0.452504</td>\n",
              "      <td>0.822641</td>\n",
              "      <td>0.470993</td>\n",
              "      <td>0.819274</td>\n",
              "    </tr>\n",
              "    <tr>\n",
              "      <th>37</th>\n",
              "      <td>0.452274</td>\n",
              "      <td>0.822589</td>\n",
              "      <td>0.470992</td>\n",
              "      <td>0.819284</td>\n",
              "    </tr>\n",
              "    <tr>\n",
              "      <th>38</th>\n",
              "      <td>0.452126</td>\n",
              "      <td>0.822595</td>\n",
              "      <td>0.470587</td>\n",
              "      <td>0.818994</td>\n",
              "    </tr>\n",
              "    <tr>\n",
              "      <th>39</th>\n",
              "      <td>0.452166</td>\n",
              "      <td>0.822564</td>\n",
              "      <td>0.471421</td>\n",
              "      <td>0.819329</td>\n",
              "    </tr>\n",
              "    <tr>\n",
              "      <th>40</th>\n",
              "      <td>0.452351</td>\n",
              "      <td>0.822602</td>\n",
              "      <td>0.471178</td>\n",
              "      <td>0.819116</td>\n",
              "    </tr>\n",
              "    <tr>\n",
              "      <th>41</th>\n",
              "      <td>0.452332</td>\n",
              "      <td>0.822588</td>\n",
              "      <td>0.470355</td>\n",
              "      <td>0.819378</td>\n",
              "    </tr>\n",
              "    <tr>\n",
              "      <th>42</th>\n",
              "      <td>0.452323</td>\n",
              "      <td>0.822565</td>\n",
              "      <td>0.470557</td>\n",
              "      <td>0.819244</td>\n",
              "    </tr>\n",
              "    <tr>\n",
              "      <th>43</th>\n",
              "      <td>0.452253</td>\n",
              "      <td>0.822608</td>\n",
              "      <td>0.470800</td>\n",
              "      <td>0.819192</td>\n",
              "    </tr>\n",
              "    <tr>\n",
              "      <th>44</th>\n",
              "      <td>0.452388</td>\n",
              "      <td>0.822564</td>\n",
              "      <td>0.471162</td>\n",
              "      <td>0.819311</td>\n",
              "    </tr>\n",
              "    <tr>\n",
              "      <th>45</th>\n",
              "      <td>0.452154</td>\n",
              "      <td>0.822605</td>\n",
              "      <td>0.471221</td>\n",
              "      <td>0.819272</td>\n",
              "    </tr>\n",
              "    <tr>\n",
              "      <th>46</th>\n",
              "      <td>0.452079</td>\n",
              "      <td>0.822622</td>\n",
              "      <td>0.470707</td>\n",
              "      <td>0.819308</td>\n",
              "    </tr>\n",
              "    <tr>\n",
              "      <th>47</th>\n",
              "      <td>0.452300</td>\n",
              "      <td>0.822620</td>\n",
              "      <td>0.471216</td>\n",
              "      <td>0.819363</td>\n",
              "    </tr>\n",
              "    <tr>\n",
              "      <th>48</th>\n",
              "      <td>0.452238</td>\n",
              "      <td>0.822576</td>\n",
              "      <td>0.471025</td>\n",
              "      <td>0.819262</td>\n",
              "    </tr>\n",
              "    <tr>\n",
              "      <th>49</th>\n",
              "      <td>0.452155</td>\n",
              "      <td>0.822632</td>\n",
              "      <td>0.470899</td>\n",
              "      <td>0.819207</td>\n",
              "    </tr>\n",
              "  </tbody>\n",
              "</table>\n",
              "</div>\n",
              "      <button class=\"colab-df-convert\" onclick=\"convertToInteractive('df-bf829b91-c6bb-4589-8cf7-948047a88f80')\"\n",
              "              title=\"Convert this dataframe to an interactive table.\"\n",
              "              style=\"display:none;\">\n",
              "        \n",
              "  <svg xmlns=\"http://www.w3.org/2000/svg\" height=\"24px\"viewBox=\"0 0 24 24\"\n",
              "       width=\"24px\">\n",
              "    <path d=\"M0 0h24v24H0V0z\" fill=\"none\"/>\n",
              "    <path d=\"M18.56 5.44l.94 2.06.94-2.06 2.06-.94-2.06-.94-.94-2.06-.94 2.06-2.06.94zm-11 1L8.5 8.5l.94-2.06 2.06-.94-2.06-.94L8.5 2.5l-.94 2.06-2.06.94zm10 10l.94 2.06.94-2.06 2.06-.94-2.06-.94-.94-2.06-.94 2.06-2.06.94z\"/><path d=\"M17.41 7.96l-1.37-1.37c-.4-.4-.92-.59-1.43-.59-.52 0-1.04.2-1.43.59L10.3 9.45l-7.72 7.72c-.78.78-.78 2.05 0 2.83L4 21.41c.39.39.9.59 1.41.59.51 0 1.02-.2 1.41-.59l7.78-7.78 2.81-2.81c.8-.78.8-2.07 0-2.86zM5.41 20L4 18.59l7.72-7.72 1.47 1.35L5.41 20z\"/>\n",
              "  </svg>\n",
              "      </button>\n",
              "      \n",
              "  <style>\n",
              "    .colab-df-container {\n",
              "      display:flex;\n",
              "      flex-wrap:wrap;\n",
              "      gap: 12px;\n",
              "    }\n",
              "\n",
              "    .colab-df-convert {\n",
              "      background-color: #E8F0FE;\n",
              "      border: none;\n",
              "      border-radius: 50%;\n",
              "      cursor: pointer;\n",
              "      display: none;\n",
              "      fill: #1967D2;\n",
              "      height: 32px;\n",
              "      padding: 0 0 0 0;\n",
              "      width: 32px;\n",
              "    }\n",
              "\n",
              "    .colab-df-convert:hover {\n",
              "      background-color: #E2EBFA;\n",
              "      box-shadow: 0px 1px 2px rgba(60, 64, 67, 0.3), 0px 1px 3px 1px rgba(60, 64, 67, 0.15);\n",
              "      fill: #174EA6;\n",
              "    }\n",
              "\n",
              "    [theme=dark] .colab-df-convert {\n",
              "      background-color: #3B4455;\n",
              "      fill: #D2E3FC;\n",
              "    }\n",
              "\n",
              "    [theme=dark] .colab-df-convert:hover {\n",
              "      background-color: #434B5C;\n",
              "      box-shadow: 0px 1px 3px 1px rgba(0, 0, 0, 0.15);\n",
              "      filter: drop-shadow(0px 1px 2px rgba(0, 0, 0, 0.3));\n",
              "      fill: #FFFFFF;\n",
              "    }\n",
              "  </style>\n",
              "\n",
              "      <script>\n",
              "        const buttonEl =\n",
              "          document.querySelector('#df-bf829b91-c6bb-4589-8cf7-948047a88f80 button.colab-df-convert');\n",
              "        buttonEl.style.display =\n",
              "          google.colab.kernel.accessAllowed ? 'block' : 'none';\n",
              "\n",
              "        async function convertToInteractive(key) {\n",
              "          const element = document.querySelector('#df-bf829b91-c6bb-4589-8cf7-948047a88f80');\n",
              "          const dataTable =\n",
              "            await google.colab.kernel.invokeFunction('convertToInteractive',\n",
              "                                                     [key], {});\n",
              "          if (!dataTable) return;\n",
              "\n",
              "          const docLinkHtml = 'Like what you see? Visit the ' +\n",
              "            '<a target=\"_blank\" href=https://colab.research.google.com/notebooks/data_table.ipynb>data table notebook</a>'\n",
              "            + ' to learn more about interactive tables.';\n",
              "          element.innerHTML = '';\n",
              "          dataTable['output_type'] = 'display_data';\n",
              "          await google.colab.output.renderOutput(dataTable, element);\n",
              "          const docLink = document.createElement('div');\n",
              "          docLink.innerHTML = docLinkHtml;\n",
              "          element.appendChild(docLink);\n",
              "        }\n",
              "      </script>\n",
              "    </div>\n",
              "  </div>\n",
              "  "
            ]
          },
          "metadata": {},
          "execution_count": 402
        }
      ]
    },
    {
      "cell_type": "code",
      "source": [
        "model_DNN1_df.plot()"
      ],
      "metadata": {
        "id": "ULJDxtRvSHkB",
        "colab": {
          "base_uri": "https://localhost:8080/",
          "height": 282
        },
        "outputId": "6b7d048e-50f8-42f4-f15a-fc6a27d8263f"
      },
      "execution_count": 403,
      "outputs": [
        {
          "output_type": "execute_result",
          "data": {
            "text/plain": [
              "<matplotlib.axes._subplots.AxesSubplot at 0x7efdddae2b50>"
            ]
          },
          "metadata": {},
          "execution_count": 403
        },
        {
          "output_type": "display_data",
          "data": {
            "text/plain": [
              "<Figure size 432x288 with 1 Axes>"
            ],
            "image/png": "[encoded data removed]"
          },
          "metadata": {
            "needs_background": "light"
          }
        }
      ]
    },
    {
      "cell_type": "markdown",
      "source": [
        "> Terlihat plot dari hasil model sudah baik, karena nilai loss dan accuracy tidak begitu berbeda atau naik, tidak ada explode atau vanish"
      ],
      "metadata": {
        "id": "9hbBJTU2jsxD"
      }
    },
    {
      "cell_type": "code",
      "source": [
        "model_DNN1.summary()"
      ],
      "metadata": {
        "id": "bhVN6wqySahe",
        "colab": {
          "base_uri": "https://localhost:8080/"
        },
        "outputId": "3c6565d0-ea53-42d0-e694-b56a62fd9ce4"
      },
      "execution_count": 404,
      "outputs": [
        {
          "output_type": "stream",
          "name": "stdout",
          "text": [
            "Model: \"sequential_14\"\n",
            "_________________________________________________________________\n",
            " Layer (type)                Output Shape              Param #   \n",
            "=================================================================\n",
            " text_vectorization_2 (TextV  (None, 58)               0         \n",
            " ectorization)                                                   \n",
            "                                                                 \n",
            " embedding_8 (Embedding)     (None, 58, 128)           1984256   \n",
            "                                                                 \n",
            " dense_18 (Dense)            (None, 58, 32)            4128      \n",
            "                                                                 \n",
            " dense_19 (Dense)            (None, 58, 1)             33        \n",
            "                                                                 \n",
            "=================================================================\n",
            "Total params: 1,988,417\n",
            "Trainable params: 1,988,417\n",
            "Non-trainable params: 0\n",
            "_________________________________________________________________\n"
          ]
        }
      ]
    },
    {
      "cell_type": "code",
      "source": [
        "model_DNN1.evaluate(X_train, y_train)"
      ],
      "metadata": {
        "id": "k1txiD8vzacN",
        "colab": {
          "base_uri": "https://localhost:8080/"
        },
        "outputId": "aa9b1d50-0112-4719-8380-b9f823bdd63e"
      },
      "execution_count": 405,
      "outputs": [
        {
          "output_type": "stream",
          "name": "stdout",
          "text": [
            "531/531 [==============================] - 2s 3ms/step - loss: 0.4515 - accuracy: 0.8227\n"
          ]
        },
        {
          "output_type": "execute_result",
          "data": {
            "text/plain": [
              "[0.4515228569507599, 0.822748064994812]"
            ]
          },
          "metadata": {},
          "execution_count": 405
        }
      ]
    },
    {
      "cell_type": "code",
      "source": [
        "model_DNN1.evaluate(X_test, y_test)"
      ],
      "metadata": {
        "id": "HO137bhIzkhP",
        "colab": {
          "base_uri": "https://localhost:8080/"
        },
        "outputId": "ab987f32-8f74-4ffc-d8a0-21f65edb7845"
      },
      "execution_count": 406,
      "outputs": [
        {
          "output_type": "stream",
          "name": "stdout",
          "text": [
            "177/177 [==============================] - 1s 3ms/step - loss: 0.4709 - accuracy: 0.8192\n"
          ]
        },
        {
          "output_type": "execute_result",
          "data": {
            "text/plain": [
              "[0.4708986282348633, 0.819207489490509]"
            ]
          },
          "metadata": {},
          "execution_count": 406
        }
      ]
    },
    {
      "cell_type": "markdown",
      "source": [
        "#### Classification Report"
      ],
      "metadata": {
        "id": "c3NqKlUkSo04"
      }
    },
    {
      "cell_type": "code",
      "source": [
        "# membuat model evaluasi \n",
        "y_pred_train = np.argmax(model_DNN1.predict(X_train), axis=1)\n",
        "y_pred_train = np.where(y_pred_train > 0.5, 1, 0)\n",
        "print(classification_report(y_train, y_pred_train))"
      ],
      "metadata": {
        "id": "2ueIpHCj6JE6",
        "colab": {
          "base_uri": "https://localhost:8080/"
        },
        "outputId": "c7a8e985-157f-47e4-bfeb-f247617027b2"
      },
      "execution_count": 407,
      "outputs": [
        {
          "output_type": "stream",
          "name": "stdout",
          "text": [
            "              precision    recall  f1-score   support\n",
            "\n",
            "           0       0.24      0.05      0.08      3076\n",
            "           1       0.82      0.97      0.89     13904\n",
            "\n",
            "    accuracy                           0.80     16980\n",
            "   macro avg       0.53      0.51      0.48     16980\n",
            "weighted avg       0.72      0.80      0.74     16980\n",
            "\n"
          ]
        }
      ]
    },
    {
      "cell_type": "markdown",
      "source": [
        "> Terlihat dari hasil classification report pada model DNN memiliki Accuracy sebesar 80%, dengan recall, 5 persen pada target tidak rekomended, dan 97% pada produk rekomended, dataset imbalance mungkin menjadi sebab hasil overfit dan belum baik pada target produk tidak rekomended"
      ],
      "metadata": {
        "id": "L7rq8euJj4Dh"
      }
    },
    {
      "cell_type": "code",
      "source": [
        "# membuat model evaluasi \n",
        "y_pred_test = np.argmax(model_DNN1.predict(X_test), axis=1)\n",
        "y_pred_test = np.where(y_pred_test > 0.5, 1, 0)\n",
        "print(classification_report(y_test, y_pred_test))"
      ],
      "metadata": {
        "id": "0FaghB9hZSb2",
        "colab": {
          "base_uri": "https://localhost:8080/"
        },
        "outputId": "000ae6f9-e006-4388-c14d-0479e5b45395"
      },
      "execution_count": 408,
      "outputs": [
        {
          "output_type": "stream",
          "name": "stdout",
          "text": [
            "              precision    recall  f1-score   support\n",
            "\n",
            "           0       0.24      0.05      0.08      1025\n",
            "           1       0.82      0.97      0.89      4636\n",
            "\n",
            "    accuracy                           0.80      5661\n",
            "   macro avg       0.53      0.51      0.48      5661\n",
            "weighted avg       0.72      0.80      0.74      5661\n",
            "\n"
          ]
        }
      ]
    },
    {
      "cell_type": "markdown",
      "source": [
        "> Terlihat dari hasil classification report pada model DNN memiliki Accuracy sebesar 80%, dengan recall, 5 persen pada target tidak rekomended, dan 97% pada produk rekomended, dataset imbalance mungkin menjadi sebab hasil overfit dan belum baik pada target produk tidak rekomended"
      ],
      "metadata": {
        "id": "IByiRqD3kiXD"
      }
    },
    {
      "cell_type": "markdown",
      "source": [
        "#### Confusion Matrix"
      ],
      "metadata": {
        "id": "lL5HlZZMT5r1"
      }
    },
    {
      "cell_type": "code",
      "source": [
        "cm_DNN1_train = confusion_matrix(y_train, y_pred_train)"
      ],
      "metadata": {
        "id": "TFC0LJrZT5NY"
      },
      "execution_count": 409,
      "outputs": []
    },
    {
      "cell_type": "code",
      "source": [
        "cm_display = ConfusionMatrixDisplay(cm_DNN1_train).plot()"
      ],
      "metadata": {
        "id": "5W8hFL4FUNuh",
        "colab": {
          "base_uri": "https://localhost:8080/",
          "height": 279
        },
        "outputId": "284e9e5b-a140-4a28-80ad-7da1d0628c5f"
      },
      "execution_count": 410,
      "outputs": [
        {
          "output_type": "display_data",
          "data": {
            "text/plain": [
              "<Figure size 432x288 with 2 Axes>"
            ],
            "image/png": "[encoded data removed]"
          },
          "metadata": {
            "needs_background": "light"
          }
        }
      ]
    },
    {
      "cell_type": "markdown",
      "source": [
        "> Pada matrix terlihat bahwa product yang kemungkinan rekomended yang ternyata tidak rekomended adalah 2928 dari jumlah kemungkinan produk rekomendednya 13434"
      ],
      "metadata": {
        "id": "o_B9nu9KkpSf"
      }
    },
    {
      "cell_type": "code",
      "source": [
        "cm_DNN1_test = confusion_matrix(y_test, y_pred_test)"
      ],
      "metadata": {
        "id": "IUOEUAEZWg9a"
      },
      "execution_count": 411,
      "outputs": []
    },
    {
      "cell_type": "code",
      "source": [
        "cm_display = ConfusionMatrixDisplay(cm_DNN1_test).plot()"
      ],
      "metadata": {
        "colab": {
          "base_uri": "https://localhost:8080/",
          "height": 279
        },
        "id": "nq7smBYOWkBn",
        "outputId": "83408439-55ce-4ae7-dce4-e7f92acc582a"
      },
      "execution_count": 412,
      "outputs": [
        {
          "output_type": "display_data",
          "data": {
            "text/plain": [
              "<Figure size 432x288 with 2 Axes>"
            ],
            "image/png": "[encoded data removed]"
          },
          "metadata": {
            "needs_background": "light"
          }
        }
      ]
    },
    {
      "cell_type": "markdown",
      "source": [
        "> Pada matrix terlihat bahwa product yang kemungkinan rekomended yang ternyata tidak rekomended adalah 976 dari jumlah kemungkinan produk rekomendednya 4479"
      ],
      "metadata": {
        "id": "IkqjTCSukvMT"
      }
    },
    {
      "cell_type": "markdown",
      "source": [
        "## LSTM"
      ],
      "metadata": {
        "id": "idwFCMVx2Ws3"
      }
    },
    {
      "cell_type": "markdown",
      "metadata": {
        "id": "eCNtJZczEFcn"
      },
      "source": [
        "Cara Word Embedding 1"
      ]
    },
    {
      "cell_type": "code",
      "execution_count": 413,
      "metadata": {
        "id": "yIx0xxgiEFco",
        "colab": {
          "base_uri": "https://localhost:8080/"
        },
        "outputId": "14d386da-a6f0-4cd7-b309-3b47860ff63a"
      },
      "outputs": [
        {
          "output_type": "stream",
          "name": "stdout",
          "text": [
            "Epoch 1/50\n",
            "531/531 [==============================] - 6s 7ms/step - loss: 0.2180 - accuracy: 0.9092 - val_loss: 0.3402 - val_accuracy: 0.8825\n",
            "Epoch 2/50\n",
            "531/531 [==============================] - 3s 6ms/step - loss: 0.1279 - accuracy: 0.9516 - val_loss: 0.3107 - val_accuracy: 0.8774\n",
            "Epoch 3/50\n",
            "531/531 [==============================] - 3s 6ms/step - loss: 0.1000 - accuracy: 0.9638 - val_loss: 0.4194 - val_accuracy: 0.8756\n",
            "Epoch 4/50\n",
            "531/531 [==============================] - 3s 6ms/step - loss: 0.0817 - accuracy: 0.9702 - val_loss: 0.4805 - val_accuracy: 0.8707\n",
            "Epoch 5/50\n",
            "531/531 [==============================] - 3s 6ms/step - loss: 0.0673 - accuracy: 0.9753 - val_loss: 0.5063 - val_accuracy: 0.8682\n",
            "Epoch 6/50\n",
            "531/531 [==============================] - 3s 6ms/step - loss: 0.0567 - accuracy: 0.9802 - val_loss: 0.5701 - val_accuracy: 0.8642\n",
            "Epoch 7/50\n",
            "531/531 [==============================] - 3s 6ms/step - loss: 0.0490 - accuracy: 0.9827 - val_loss: 0.7620 - val_accuracy: 0.8617\n",
            "Epoch 8/50\n",
            "531/531 [==============================] - 3s 6ms/step - loss: 0.0437 - accuracy: 0.9845 - val_loss: 0.6008 - val_accuracy: 0.8580\n",
            "Epoch 9/50\n",
            "531/531 [==============================] - 3s 6ms/step - loss: 0.0484 - accuracy: 0.9835 - val_loss: 0.6524 - val_accuracy: 0.8601\n",
            "Epoch 10/50\n",
            "531/531 [==============================] - 3s 6ms/step - loss: 0.0372 - accuracy: 0.9875 - val_loss: 0.7292 - val_accuracy: 0.8596\n",
            "Epoch 11/50\n",
            "531/531 [==============================] - 3s 6ms/step - loss: 0.0399 - accuracy: 0.9853 - val_loss: 0.6146 - val_accuracy: 0.8578\n",
            "Epoch 12/50\n",
            "531/531 [==============================] - 3s 6ms/step - loss: 0.0312 - accuracy: 0.9888 - val_loss: 0.6887 - val_accuracy: 0.8612\n",
            "Epoch 13/50\n",
            "531/531 [==============================] - 3s 6ms/step - loss: 0.0300 - accuracy: 0.9886 - val_loss: 0.7854 - val_accuracy: 0.8596\n",
            "Epoch 14/50\n",
            "531/531 [==============================] - 3s 6ms/step - loss: 0.0218 - accuracy: 0.9917 - val_loss: 0.7216 - val_accuracy: 0.8539\n",
            "Epoch 15/50\n",
            "531/531 [==============================] - 4s 8ms/step - loss: 0.0191 - accuracy: 0.9929 - val_loss: 0.7741 - val_accuracy: 0.8597\n",
            "Epoch 16/50\n",
            "531/531 [==============================] - 4s 8ms/step - loss: 0.0165 - accuracy: 0.9942 - val_loss: 0.7525 - val_accuracy: 0.8638\n",
            "Epoch 17/50\n",
            "531/531 [==============================] - 3s 6ms/step - loss: 0.0175 - accuracy: 0.9941 - val_loss: 0.7291 - val_accuracy: 0.8592\n",
            "Epoch 18/50\n",
            "531/531 [==============================] - 3s 6ms/step - loss: 0.0172 - accuracy: 0.9942 - val_loss: 0.7959 - val_accuracy: 0.8583\n",
            "Epoch 19/50\n",
            "531/531 [==============================] - 3s 6ms/step - loss: 0.0424 - accuracy: 0.9839 - val_loss: 0.6615 - val_accuracy: 0.8617\n",
            "Epoch 20/50\n",
            "531/531 [==============================] - 3s 6ms/step - loss: 0.0249 - accuracy: 0.9910 - val_loss: 0.6929 - val_accuracy: 0.8592\n",
            "Epoch 21/50\n",
            "531/531 [==============================] - 4s 8ms/step - loss: 0.0146 - accuracy: 0.9950 - val_loss: 0.8256 - val_accuracy: 0.8523\n",
            "Epoch 22/50\n",
            "531/531 [==============================] - 5s 9ms/step - loss: 0.0138 - accuracy: 0.9952 - val_loss: 0.8901 - val_accuracy: 0.8589\n",
            "Epoch 23/50\n",
            "531/531 [==============================] - 3s 6ms/step - loss: 0.0092 - accuracy: 0.9970 - val_loss: 0.9033 - val_accuracy: 0.8551\n",
            "Epoch 24/50\n",
            "531/531 [==============================] - 4s 7ms/step - loss: 0.0170 - accuracy: 0.9949 - val_loss: 0.7699 - val_accuracy: 0.8574\n",
            "Epoch 25/50\n",
            "531/531 [==============================] - 4s 7ms/step - loss: 0.0118 - accuracy: 0.9956 - val_loss: 0.9025 - val_accuracy: 0.8576\n",
            "Epoch 26/50\n",
            "531/531 [==============================] - 3s 6ms/step - loss: 0.0129 - accuracy: 0.9961 - val_loss: 0.8329 - val_accuracy: 0.8560\n",
            "Epoch 27/50\n",
            "531/531 [==============================] - 3s 6ms/step - loss: 0.0078 - accuracy: 0.9976 - val_loss: 0.9796 - val_accuracy: 0.8520\n",
            "Epoch 28/50\n",
            "531/531 [==============================] - 3s 6ms/step - loss: 0.0079 - accuracy: 0.9980 - val_loss: 0.9350 - val_accuracy: 0.8601\n",
            "Epoch 29/50\n",
            "531/531 [==============================] - 3s 6ms/step - loss: 0.0116 - accuracy: 0.9963 - val_loss: 0.8318 - val_accuracy: 0.8493\n",
            "Epoch 30/50\n",
            "531/531 [==============================] - 3s 6ms/step - loss: 0.0053 - accuracy: 0.9985 - val_loss: 0.9545 - val_accuracy: 0.8525\n",
            "Epoch 31/50\n",
            "531/531 [==============================] - 3s 6ms/step - loss: 0.0085 - accuracy: 0.9973 - val_loss: 0.8668 - val_accuracy: 0.8477\n",
            "Epoch 32/50\n",
            "531/531 [==============================] - 3s 6ms/step - loss: 0.0054 - accuracy: 0.9985 - val_loss: 0.9700 - val_accuracy: 0.8511\n",
            "Epoch 33/50\n",
            "531/531 [==============================] - 3s 6ms/step - loss: 0.0040 - accuracy: 0.9989 - val_loss: 1.0505 - val_accuracy: 0.8518\n",
            "Epoch 34/50\n",
            "531/531 [==============================] - 4s 7ms/step - loss: 0.0052 - accuracy: 0.9985 - val_loss: 1.0514 - val_accuracy: 0.8534\n",
            "Epoch 35/50\n",
            "531/531 [==============================] - 4s 7ms/step - loss: 0.0068 - accuracy: 0.9979 - val_loss: 0.9293 - val_accuracy: 0.8559\n",
            "Epoch 36/50\n",
            "531/531 [==============================] - 3s 6ms/step - loss: 0.0037 - accuracy: 0.9988 - val_loss: 1.0338 - val_accuracy: 0.8525\n",
            "Epoch 37/50\n",
            "531/531 [==============================] - 3s 6ms/step - loss: 0.0030 - accuracy: 0.9991 - val_loss: 1.0029 - val_accuracy: 0.8539\n",
            "Epoch 38/50\n",
            "531/531 [==============================] - 3s 6ms/step - loss: 0.0021 - accuracy: 0.9994 - val_loss: 1.0758 - val_accuracy: 0.8541\n",
            "Epoch 39/50\n",
            "531/531 [==============================] - 3s 6ms/step - loss: 0.0072 - accuracy: 0.9983 - val_loss: 0.8867 - val_accuracy: 0.8438\n",
            "Epoch 40/50\n",
            "531/531 [==============================] - 3s 6ms/step - loss: 0.0058 - accuracy: 0.9986 - val_loss: 0.9850 - val_accuracy: 0.8488\n",
            "Epoch 41/50\n",
            "531/531 [==============================] - 3s 6ms/step - loss: 0.0082 - accuracy: 0.9978 - val_loss: 0.9127 - val_accuracy: 0.8518\n",
            "Epoch 42/50\n",
            "531/531 [==============================] - 3s 6ms/step - loss: 0.0055 - accuracy: 0.9986 - val_loss: 0.9433 - val_accuracy: 0.8583\n",
            "Epoch 43/50\n",
            "531/531 [==============================] - 3s 6ms/step - loss: 0.0036 - accuracy: 0.9992 - val_loss: 0.9912 - val_accuracy: 0.8550\n",
            "Epoch 44/50\n",
            "531/531 [==============================] - 3s 6ms/step - loss: 0.0033 - accuracy: 0.9994 - val_loss: 1.0037 - val_accuracy: 0.8520\n",
            "Epoch 45/50\n",
            "531/531 [==============================] - 3s 6ms/step - loss: 0.0019 - accuracy: 0.9996 - val_loss: 1.0451 - val_accuracy: 0.8532\n",
            "Epoch 46/50\n",
            "531/531 [==============================] - 3s 6ms/step - loss: 9.2007e-04 - accuracy: 0.9999 - val_loss: 1.1103 - val_accuracy: 0.8539\n",
            "Epoch 47/50\n",
            "531/531 [==============================] - 3s 6ms/step - loss: 8.3675e-04 - accuracy: 0.9999 - val_loss: 1.1240 - val_accuracy: 0.8537\n",
            "Epoch 48/50\n",
            "531/531 [==============================] - 3s 6ms/step - loss: 7.9688e-04 - accuracy: 0.9999 - val_loss: 1.1727 - val_accuracy: 0.8530\n",
            "Epoch 49/50\n",
            "531/531 [==============================] - 3s 6ms/step - loss: 7.3862e-04 - accuracy: 0.9999 - val_loss: 1.2348 - val_accuracy: 0.8534\n",
            "Epoch 50/50\n",
            "531/531 [==============================] - 3s 6ms/step - loss: 0.0013 - accuracy: 0.9997 - val_loss: 1.0335 - val_accuracy: 0.8541\n"
          ]
        }
      ],
      "source": [
        "# sequential LSTM\n",
        "model_LSTM = Sequential()\n",
        "model_LSTM.add(text_vectorization)\n",
        "model_LSTM.add(embedding)\n",
        "model_LSTM.add(LSTM(32))\n",
        "model_LSTM.add(Dense(1,activation='sigmoid'))\n",
        "\n",
        "# compile\n",
        "model_LSTM.compile(loss='binary_crossentropy',optimizer='adam',metrics='accuracy')\n",
        "\n",
        "# train\n",
        "history = model_LSTM.fit(X_train, y_train, epochs=50,\n",
        "                         validation_data=(X_test, y_test))"
      ]
    },
    {
      "cell_type": "code",
      "source": [
        "model_LSTM_df = pd.DataFrame(model_LSTM.history.history)\n",
        "model_LSTM_df"
      ],
      "metadata": {
        "id": "uWOTCJ_aaMXN",
        "colab": {
          "base_uri": "https://localhost:8080/",
          "height": 1000
        },
        "outputId": "7437ab30-1a35-4b99-a2e4-dda459b54c06"
      },
      "execution_count": 414,
      "outputs": [
        {
          "output_type": "execute_result",
          "data": {
            "text/plain": [
              "        loss  accuracy  val_loss  val_accuracy\n",
              "0   0.218022  0.909246  0.340233      0.882530\n",
              "1   0.127877  0.951649  0.310713      0.877407\n",
              "2   0.099957  0.963781  0.419408      0.875640\n",
              "3   0.081684  0.970200  0.480527      0.870694\n",
              "4   0.067337  0.975324  0.506345      0.868221\n",
              "5   0.056676  0.980212  0.570113      0.864158\n",
              "6   0.048990  0.982744  0.762034      0.861685\n",
              "7   0.043716  0.984511  0.600788      0.857976\n",
              "8   0.048402  0.983510  0.652425      0.860095\n",
              "9   0.037165  0.987515  0.729201      0.859565\n",
              "10  0.039944  0.985336  0.614579      0.857799\n",
              "11  0.031196  0.988810  0.688667      0.861155\n",
              "12  0.030010  0.988634  0.785442      0.859565\n",
              "13  0.021754  0.991696  0.721585      0.853913\n",
              "14  0.019138  0.992933  0.774052      0.859742\n",
              "15  0.016546  0.994170  0.752507      0.863805\n",
              "16  0.017535  0.994052  0.729097      0.859212\n",
              "17  0.017246  0.994228  0.795855      0.858329\n",
              "18  0.042399  0.983863  0.661528      0.861685\n",
              "19  0.024910  0.991048  0.692900      0.859212\n",
              "20  0.014582  0.994994  0.825593      0.852323\n",
              "21  0.013834  0.995171  0.890073      0.858859\n",
              "22  0.009157  0.996996  0.903337      0.855149\n",
              "23  0.016983  0.994876  0.769898      0.857446\n",
              "24  0.011756  0.995583  0.902539      0.857622\n",
              "25  0.012901  0.996054  0.832870      0.856032\n",
              "26  0.007800  0.997585  0.979562      0.851970\n",
              "27  0.007907  0.997998  0.935041      0.860095\n",
              "28  0.011610  0.996349  0.831825      0.849320\n",
              "29  0.005297  0.998528  0.954463      0.852500\n",
              "30  0.008498  0.997291  0.866764      0.847730\n",
              "31  0.005379  0.998528  0.970045      0.851086\n",
              "32  0.003962  0.998940  1.050530      0.851793\n",
              "33  0.005166  0.998469  1.051363      0.853383\n",
              "34  0.006781  0.997939  0.929295      0.855856\n",
              "35  0.003650  0.998763  1.033808      0.852500\n",
              "36  0.003003  0.999117  1.002861      0.853913\n",
              "37  0.002128  0.999352  1.075781      0.854089\n",
              "38  0.007177  0.998292  0.886728      0.843844\n",
              "39  0.005759  0.998645  0.985045      0.848790\n",
              "40  0.008227  0.997821  0.912708      0.851793\n",
              "41  0.005469  0.998645  0.943322      0.858329\n",
              "42  0.003626  0.999234  0.991158      0.854973\n",
              "43  0.003268  0.999352  1.003676      0.851970\n",
              "44  0.001941  0.999647  1.045113      0.853206\n",
              "45  0.000920  0.999882  1.110312      0.853913\n",
              "46  0.000837  0.999882  1.124045      0.853736\n",
              "47  0.000797  0.999882  1.172686      0.853029\n",
              "48  0.000739  0.999882  1.234840      0.853383\n",
              "49  0.001290  0.999706  1.033472      0.854089"
            ],
            "text/html": [
              "\n",
              "  <div id=\"df-42f7dd10-b19e-4ac2-a647-eb536f8b8724\">\n",
              "    <div class=\"colab-df-container\">\n",
              "      <div>\n",
              "<style scoped>\n",
              "    .dataframe tbody tr th:only-of-type {\n",
              "        vertical-align: middle;\n",
              "    }\n",
              "\n",
              "    .dataframe tbody tr th {\n",
              "        vertical-align: top;\n",
              "    }\n",
              "\n",
              "    .dataframe thead th {\n",
              "        text-align: right;\n",
              "    }\n",
              "</style>\n",
              "<table border=\"1\" class=\"dataframe\">\n",
              "  <thead>\n",
              "    <tr style=\"text-align: right;\">\n",
              "      <th></th>\n",
              "      <th>loss</th>\n",
              "      <th>accuracy</th>\n",
              "      <th>val_loss</th>\n",
              "      <th>val_accuracy</th>\n",
              "    </tr>\n",
              "  </thead>\n",
              "  <tbody>\n",
              "    <tr>\n",
              "      <th>0</th>\n",
              "      <td>0.218022</td>\n",
              "      <td>0.909246</td>\n",
              "      <td>0.340233</td>\n",
              "      <td>0.882530</td>\n",
              "    </tr>\n",
              "    <tr>\n",
              "      <th>1</th>\n",
              "      <td>0.127877</td>\n",
              "      <td>0.951649</td>\n",
              "      <td>0.310713</td>\n",
              "      <td>0.877407</td>\n",
              "    </tr>\n",
              "    <tr>\n",
              "      <th>2</th>\n",
              "      <td>0.099957</td>\n",
              "      <td>0.963781</td>\n",
              "      <td>0.419408</td>\n",
              "      <td>0.875640</td>\n",
              "    </tr>\n",
              "    <tr>\n",
              "      <th>3</th>\n",
              "      <td>0.081684</td>\n",
              "      <td>0.970200</td>\n",
              "      <td>0.480527</td>\n",
              "      <td>0.870694</td>\n",
              "    </tr>\n",
              "    <tr>\n",
              "      <th>4</th>\n",
              "      <td>0.067337</td>\n",
              "      <td>0.975324</td>\n",
              "      <td>0.506345</td>\n",
              "      <td>0.868221</td>\n",
              "    </tr>\n",
              "    <tr>\n",
              "      <th>5</th>\n",
              "      <td>0.056676</td>\n",
              "      <td>0.980212</td>\n",
              "      <td>0.570113</td>\n",
              "      <td>0.864158</td>\n",
              "    </tr>\n",
              "    <tr>\n",
              "      <th>6</th>\n",
              "      <td>0.048990</td>\n",
              "      <td>0.982744</td>\n",
              "      <td>0.762034</td>\n",
              "      <td>0.861685</td>\n",
              "    </tr>\n",
              "    <tr>\n",
              "      <th>7</th>\n",
              "      <td>0.043716</td>\n",
              "      <td>0.984511</td>\n",
              "      <td>0.600788</td>\n",
              "      <td>0.857976</td>\n",
              "    </tr>\n",
              "    <tr>\n",
              "      <th>8</th>\n",
              "      <td>0.048402</td>\n",
              "      <td>0.983510</td>\n",
              "      <td>0.652425</td>\n",
              "      <td>0.860095</td>\n",
              "    </tr>\n",
              "    <tr>\n",
              "      <th>9</th>\n",
              "      <td>0.037165</td>\n",
              "      <td>0.987515</td>\n",
              "      <td>0.729201</td>\n",
              "      <td>0.859565</td>\n",
              "    </tr>\n",
              "    <tr>\n",
              "      <th>10</th>\n",
              "      <td>0.039944</td>\n",
              "      <td>0.985336</td>\n",
              "      <td>0.614579</td>\n",
              "      <td>0.857799</td>\n",
              "    </tr>\n",
              "    <tr>\n",
              "      <th>11</th>\n",
              "      <td>0.031196</td>\n",
              "      <td>0.988810</td>\n",
              "      <td>0.688667</td>\n",
              "      <td>0.861155</td>\n",
              "    </tr>\n",
              "    <tr>\n",
              "      <th>12</th>\n",
              "      <td>0.030010</td>\n",
              "      <td>0.988634</td>\n",
              "      <td>0.785442</td>\n",
              "      <td>0.859565</td>\n",
              "    </tr>\n",
              "    <tr>\n",
              "      <th>13</th>\n",
              "      <td>0.021754</td>\n",
              "      <td>0.991696</td>\n",
              "      <td>0.721585</td>\n",
              "      <td>0.853913</td>\n",
              "    </tr>\n",
              "    <tr>\n",
              "      <th>14</th>\n",
              "      <td>0.019138</td>\n",
              "      <td>0.992933</td>\n",
              "      <td>0.774052</td>\n",
              "      <td>0.859742</td>\n",
              "    </tr>\n",
              "    <tr>\n",
              "      <th>15</th>\n",
              "      <td>0.016546</td>\n",
              "      <td>0.994170</td>\n",
              "      <td>0.752507</td>\n",
              "      <td>0.863805</td>\n",
              "    </tr>\n",
              "    <tr>\n",
              "      <th>16</th>\n",
              "      <td>0.017535</td>\n",
              "      <td>0.994052</td>\n",
              "      <td>0.729097</td>\n",
              "      <td>0.859212</td>\n",
              "    </tr>\n",
              "    <tr>\n",
              "      <th>17</th>\n",
              "      <td>0.017246</td>\n",
              "      <td>0.994228</td>\n",
              "      <td>0.795855</td>\n",
              "      <td>0.858329</td>\n",
              "    </tr>\n",
              "    <tr>\n",
              "      <th>18</th>\n",
              "      <td>0.042399</td>\n",
              "      <td>0.983863</td>\n",
              "      <td>0.661528</td>\n",
              "      <td>0.861685</td>\n",
              "    </tr>\n",
              "    <tr>\n",
              "      <th>19</th>\n",
              "      <td>0.024910</td>\n",
              "      <td>0.991048</td>\n",
              "      <td>0.692900</td>\n",
              "      <td>0.859212</td>\n",
              "    </tr>\n",
              "    <tr>\n",
              "      <th>20</th>\n",
              "      <td>0.014582</td>\n",
              "      <td>0.994994</td>\n",
              "      <td>0.825593</td>\n",
              "      <td>0.852323</td>\n",
              "    </tr>\n",
              "    <tr>\n",
              "      <th>21</th>\n",
              "      <td>0.013834</td>\n",
              "      <td>0.995171</td>\n",
              "      <td>0.890073</td>\n",
              "      <td>0.858859</td>\n",
              "    </tr>\n",
              "    <tr>\n",
              "      <th>22</th>\n",
              "      <td>0.009157</td>\n",
              "      <td>0.996996</td>\n",
              "      <td>0.903337</td>\n",
              "      <td>0.855149</td>\n",
              "    </tr>\n",
              "    <tr>\n",
              "      <th>23</th>\n",
              "      <td>0.016983</td>\n",
              "      <td>0.994876</td>\n",
              "      <td>0.769898</td>\n",
              "      <td>0.857446</td>\n",
              "    </tr>\n",
              "    <tr>\n",
              "      <th>24</th>\n",
              "      <td>0.011756</td>\n",
              "      <td>0.995583</td>\n",
              "      <td>0.902539</td>\n",
              "      <td>0.857622</td>\n",
              "    </tr>\n",
              "    <tr>\n",
              "      <th>25</th>\n",
              "      <td>0.012901</td>\n",
              "      <td>0.996054</td>\n",
              "      <td>0.832870</td>\n",
              "      <td>0.856032</td>\n",
              "    </tr>\n",
              "    <tr>\n",
              "      <th>26</th>\n",
              "      <td>0.007800</td>\n",
              "      <td>0.997585</td>\n",
              "      <td>0.979562</td>\n",
              "      <td>0.851970</td>\n",
              "    </tr>\n",
              "    <tr>\n",
              "      <th>27</th>\n",
              "      <td>0.007907</td>\n",
              "      <td>0.997998</td>\n",
              "      <td>0.935041</td>\n",
              "      <td>0.860095</td>\n",
              "    </tr>\n",
              "    <tr>\n",
              "      <th>28</th>\n",
              "      <td>0.011610</td>\n",
              "      <td>0.996349</td>\n",
              "      <td>0.831825</td>\n",
              "      <td>0.849320</td>\n",
              "    </tr>\n",
              "    <tr>\n",
              "      <th>29</th>\n",
              "      <td>0.005297</td>\n",
              "      <td>0.998528</td>\n",
              "      <td>0.954463</td>\n",
              "      <td>0.852500</td>\n",
              "    </tr>\n",
              "    <tr>\n",
              "      <th>30</th>\n",
              "      <td>0.008498</td>\n",
              "      <td>0.997291</td>\n",
              "      <td>0.866764</td>\n",
              "      <td>0.847730</td>\n",
              "    </tr>\n",
              "    <tr>\n",
              "      <th>31</th>\n",
              "      <td>0.005379</td>\n",
              "      <td>0.998528</td>\n",
              "      <td>0.970045</td>\n",
              "      <td>0.851086</td>\n",
              "    </tr>\n",
              "    <tr>\n",
              "      <th>32</th>\n",
              "      <td>0.003962</td>\n",
              "      <td>0.998940</td>\n",
              "      <td>1.050530</td>\n",
              "      <td>0.851793</td>\n",
              "    </tr>\n",
              "    <tr>\n",
              "      <th>33</th>\n",
              "      <td>0.005166</td>\n",
              "      <td>0.998469</td>\n",
              "      <td>1.051363</td>\n",
              "      <td>0.853383</td>\n",
              "    </tr>\n",
              "    <tr>\n",
              "      <th>34</th>\n",
              "      <td>0.006781</td>\n",
              "      <td>0.997939</td>\n",
              "      <td>0.929295</td>\n",
              "      <td>0.855856</td>\n",
              "    </tr>\n",
              "    <tr>\n",
              "      <th>35</th>\n",
              "      <td>0.003650</td>\n",
              "      <td>0.998763</td>\n",
              "      <td>1.033808</td>\n",
              "      <td>0.852500</td>\n",
              "    </tr>\n",
              "    <tr>\n",
              "      <th>36</th>\n",
              "      <td>0.003003</td>\n",
              "      <td>0.999117</td>\n",
              "      <td>1.002861</td>\n",
              "      <td>0.853913</td>\n",
              "    </tr>\n",
              "    <tr>\n",
              "      <th>37</th>\n",
              "      <td>0.002128</td>\n",
              "      <td>0.999352</td>\n",
              "      <td>1.075781</td>\n",
              "      <td>0.854089</td>\n",
              "    </tr>\n",
              "    <tr>\n",
              "      <th>38</th>\n",
              "      <td>0.007177</td>\n",
              "      <td>0.998292</td>\n",
              "      <td>0.886728</td>\n",
              "      <td>0.843844</td>\n",
              "    </tr>\n",
              "    <tr>\n",
              "      <th>39</th>\n",
              "      <td>0.005759</td>\n",
              "      <td>0.998645</td>\n",
              "      <td>0.985045</td>\n",
              "      <td>0.848790</td>\n",
              "    </tr>\n",
              "    <tr>\n",
              "      <th>40</th>\n",
              "      <td>0.008227</td>\n",
              "      <td>0.997821</td>\n",
              "      <td>0.912708</td>\n",
              "      <td>0.851793</td>\n",
              "    </tr>\n",
              "    <tr>\n",
              "      <th>41</th>\n",
              "      <td>0.005469</td>\n",
              "      <td>0.998645</td>\n",
              "      <td>0.943322</td>\n",
              "      <td>0.858329</td>\n",
              "    </tr>\n",
              "    <tr>\n",
              "      <th>42</th>\n",
              "      <td>0.003626</td>\n",
              "      <td>0.999234</td>\n",
              "      <td>0.991158</td>\n",
              "      <td>0.854973</td>\n",
              "    </tr>\n",
              "    <tr>\n",
              "      <th>43</th>\n",
              "      <td>0.003268</td>\n",
              "      <td>0.999352</td>\n",
              "      <td>1.003676</td>\n",
              "      <td>0.851970</td>\n",
              "    </tr>\n",
              "    <tr>\n",
              "      <th>44</th>\n",
              "      <td>0.001941</td>\n",
              "      <td>0.999647</td>\n",
              "      <td>1.045113</td>\n",
              "      <td>0.853206</td>\n",
              "    </tr>\n",
              "    <tr>\n",
              "      <th>45</th>\n",
              "      <td>0.000920</td>\n",
              "      <td>0.999882</td>\n",
              "      <td>1.110312</td>\n",
              "      <td>0.853913</td>\n",
              "    </tr>\n",
              "    <tr>\n",
              "      <th>46</th>\n",
              "      <td>0.000837</td>\n",
              "      <td>0.999882</td>\n",
              "      <td>1.124045</td>\n",
              "      <td>0.853736</td>\n",
              "    </tr>\n",
              "    <tr>\n",
              "      <th>47</th>\n",
              "      <td>0.000797</td>\n",
              "      <td>0.999882</td>\n",
              "      <td>1.172686</td>\n",
              "      <td>0.853029</td>\n",
              "    </tr>\n",
              "    <tr>\n",
              "      <th>48</th>\n",
              "      <td>0.000739</td>\n",
              "      <td>0.999882</td>\n",
              "      <td>1.234840</td>\n",
              "      <td>0.853383</td>\n",
              "    </tr>\n",
              "    <tr>\n",
              "      <th>49</th>\n",
              "      <td>0.001290</td>\n",
              "      <td>0.999706</td>\n",
              "      <td>1.033472</td>\n",
              "      <td>0.854089</td>\n",
              "    </tr>\n",
              "  </tbody>\n",
              "</table>\n",
              "</div>\n",
              "      <button class=\"colab-df-convert\" onclick=\"convertToInteractive('df-42f7dd10-b19e-4ac2-a647-eb536f8b8724')\"\n",
              "              title=\"Convert this dataframe to an interactive table.\"\n",
              "              style=\"display:none;\">\n",
              "        \n",
              "  <svg xmlns=\"http://www.w3.org/2000/svg\" height=\"24px\"viewBox=\"0 0 24 24\"\n",
              "       width=\"24px\">\n",
              "    <path d=\"M0 0h24v24H0V0z\" fill=\"none\"/>\n",
              "    <path d=\"M18.56 5.44l.94 2.06.94-2.06 2.06-.94-2.06-.94-.94-2.06-.94 2.06-2.06.94zm-11 1L8.5 8.5l.94-2.06 2.06-.94-2.06-.94L8.5 2.5l-.94 2.06-2.06.94zm10 10l.94 2.06.94-2.06 2.06-.94-2.06-.94-.94-2.06-.94 2.06-2.06.94z\"/><path d=\"M17.41 7.96l-1.37-1.37c-.4-.4-.92-.59-1.43-.59-.52 0-1.04.2-1.43.59L10.3 9.45l-7.72 7.72c-.78.78-.78 2.05 0 2.83L4 21.41c.39.39.9.59 1.41.59.51 0 1.02-.2 1.41-.59l7.78-7.78 2.81-2.81c.8-.78.8-2.07 0-2.86zM5.41 20L4 18.59l7.72-7.72 1.47 1.35L5.41 20z\"/>\n",
              "  </svg>\n",
              "      </button>\n",
              "      \n",
              "  <style>\n",
              "    .colab-df-container {\n",
              "      display:flex;\n",
              "      flex-wrap:wrap;\n",
              "      gap: 12px;\n",
              "    }\n",
              "\n",
              "    .colab-df-convert {\n",
              "      background-color: #E8F0FE;\n",
              "      border: none;\n",
              "      border-radius: 50%;\n",
              "      cursor: pointer;\n",
              "      display: none;\n",
              "      fill: #1967D2;\n",
              "      height: 32px;\n",
              "      padding: 0 0 0 0;\n",
              "      width: 32px;\n",
              "    }\n",
              "\n",
              "    .colab-df-convert:hover {\n",
              "      background-color: #E2EBFA;\n",
              "      box-shadow: 0px 1px 2px rgba(60, 64, 67, 0.3), 0px 1px 3px 1px rgba(60, 64, 67, 0.15);\n",
              "      fill: #174EA6;\n",
              "    }\n",
              "\n",
              "    [theme=dark] .colab-df-convert {\n",
              "      background-color: #3B4455;\n",
              "      fill: #D2E3FC;\n",
              "    }\n",
              "\n",
              "    [theme=dark] .colab-df-convert:hover {\n",
              "      background-color: #434B5C;\n",
              "      box-shadow: 0px 1px 3px 1px rgba(0, 0, 0, 0.15);\n",
              "      filter: drop-shadow(0px 1px 2px rgba(0, 0, 0, 0.3));\n",
              "      fill: #FFFFFF;\n",
              "    }\n",
              "  </style>\n",
              "\n",
              "      <script>\n",
              "        const buttonEl =\n",
              "          document.querySelector('#df-42f7dd10-b19e-4ac2-a647-eb536f8b8724 button.colab-df-convert');\n",
              "        buttonEl.style.display =\n",
              "          google.colab.kernel.accessAllowed ? 'block' : 'none';\n",
              "\n",
              "        async function convertToInteractive(key) {\n",
              "          const element = document.querySelector('#df-42f7dd10-b19e-4ac2-a647-eb536f8b8724');\n",
              "          const dataTable =\n",
              "            await google.colab.kernel.invokeFunction('convertToInteractive',\n",
              "                                                     [key], {});\n",
              "          if (!dataTable) return;\n",
              "\n",
              "          const docLinkHtml = 'Like what you see? Visit the ' +\n",
              "            '<a target=\"_blank\" href=https://colab.research.google.com/notebooks/data_table.ipynb>data table notebook</a>'\n",
              "            + ' to learn more about interactive tables.';\n",
              "          element.innerHTML = '';\n",
              "          dataTable['output_type'] = 'display_data';\n",
              "          await google.colab.output.renderOutput(dataTable, element);\n",
              "          const docLink = document.createElement('div');\n",
              "          docLink.innerHTML = docLinkHtml;\n",
              "          element.appendChild(docLink);\n",
              "        }\n",
              "      </script>\n",
              "    </div>\n",
              "  </div>\n",
              "  "
            ]
          },
          "metadata": {},
          "execution_count": 414
        }
      ]
    },
    {
      "cell_type": "code",
      "source": [
        "model_LSTM_df.plot()"
      ],
      "metadata": {
        "id": "UEKCVMB8a2vW",
        "colab": {
          "base_uri": "https://localhost:8080/",
          "height": 282
        },
        "outputId": "9ee2b39f-3dd4-4495-cc23-bc34bae2c3b7"
      },
      "execution_count": 415,
      "outputs": [
        {
          "output_type": "execute_result",
          "data": {
            "text/plain": [
              "<matplotlib.axes._subplots.AxesSubplot at 0x7efddcc43e90>"
            ]
          },
          "metadata": {},
          "execution_count": 415
        },
        {
          "output_type": "display_data",
          "data": {
            "text/plain": [
              "<Figure size 432x288 with 1 Axes>"
            ],
            "image/png": "[encoded data removed]"
          },
          "metadata": {
            "needs_background": "light"
          }
        }
      ]
    },
    {
      "cell_type": "markdown",
      "source": [
        "#### Classification Report"
      ],
      "metadata": {
        "id": "GHxEPH-qate9"
      }
    },
    {
      "cell_type": "code",
      "source": [
        "y_pred_train = model_LSTM.predict(X_train)\n",
        "y_pred_train = np.where(y_pred_train > 0.5, 1, 0)\n",
        "print(classification_report(y_train, y_pred_train))"
      ],
      "metadata": {
        "colab": {
          "base_uri": "https://localhost:8080/"
        },
        "id": "BhEThf4e9IVP",
        "outputId": "897d936d-dc0d-44f3-ee2a-e0e328fb5e9f"
      },
      "execution_count": 416,
      "outputs": [
        {
          "output_type": "stream",
          "name": "stdout",
          "text": [
            "              precision    recall  f1-score   support\n",
            "\n",
            "           0       1.00      1.00      1.00      3076\n",
            "           1       1.00      1.00      1.00     13904\n",
            "\n",
            "    accuracy                           1.00     16980\n",
            "   macro avg       1.00      1.00      1.00     16980\n",
            "weighted avg       1.00      1.00      1.00     16980\n",
            "\n"
          ]
        }
      ]
    },
    {
      "cell_type": "markdown",
      "source": [
        "> Terlihat dari hasil classification report memiliki Accuracy sebesar 100%, dengan recall, 100% pada target tidak rekomended, dan 100% pada produk rekomended, dataset imbalance mungkin menjadi sebab hasil overfit "
      ],
      "metadata": {
        "id": "31yQJht5k4ox"
      }
    },
    {
      "cell_type": "code",
      "source": [
        "y_pred_test = model_LSTM.predict(X_test)\n",
        "y_pred_test = np.where(y_pred_test > 0.5, 1, 0)\n",
        "print(classification_report(y_test, y_pred_test))"
      ],
      "metadata": {
        "colab": {
          "base_uri": "https://localhost:8080/"
        },
        "id": "rrFIEx7-w9w5",
        "outputId": "a2409c37-587e-4aa8-9679-d80f42071de9"
      },
      "execution_count": 417,
      "outputs": [
        {
          "output_type": "stream",
          "name": "stdout",
          "text": [
            "              precision    recall  f1-score   support\n",
            "\n",
            "           0       0.61      0.53      0.57      1025\n",
            "           1       0.90      0.93      0.91      4636\n",
            "\n",
            "    accuracy                           0.85      5661\n",
            "   macro avg       0.76      0.73      0.74      5661\n",
            "weighted avg       0.85      0.85      0.85      5661\n",
            "\n"
          ]
        }
      ]
    },
    {
      "cell_type": "markdown",
      "source": [
        "> Terlihat dari hasil classification report memiliki Accuracy sebesar 85%, dengan recall, 53% pada target tidak rekomended, dan 93% pada produk rekomended, dataset imbalance mungkin menjadi sebab hasil overfit dan belum baik pada target produk tidak rekomended"
      ],
      "metadata": {
        "id": "o3GP4hl1lF1_"
      }
    },
    {
      "cell_type": "markdown",
      "source": [
        "#### Confusion Matrix"
      ],
      "metadata": {
        "id": "4S-HLpSSaxS8"
      }
    },
    {
      "cell_type": "code",
      "source": [
        "cm_LSTM_train = confusion_matrix(y_train, y_pred_train)"
      ],
      "metadata": {
        "id": "7VMqFONc2aJJ"
      },
      "execution_count": 418,
      "outputs": []
    },
    {
      "cell_type": "code",
      "source": [
        "cm_display = ConfusionMatrixDisplay(cm_LSTM_train).plot()"
      ],
      "metadata": {
        "colab": {
          "base_uri": "https://localhost:8080/",
          "height": 279
        },
        "id": "vGTESJwI-A8B",
        "outputId": "ae789525-30d7-4ae0-81f3-5f1dbe71663f"
      },
      "execution_count": 419,
      "outputs": [
        {
          "output_type": "display_data",
          "data": {
            "text/plain": [
              "<Figure size 432x288 with 2 Axes>"
            ],
            "image/png": "[encoded data removed]"
          },
          "metadata": {
            "needs_background": "light"
          }
        }
      ]
    },
    {
      "cell_type": "markdown",
      "source": [
        "> Pada matrix terlihat bahwa product yang kemungkinan rekomended yang ternyata tidak rekomended adalah 2 dari jumlah kemungkinan produk rekomendednya 13903"
      ],
      "metadata": {
        "id": "t2NfMGDWlXxC"
      }
    },
    {
      "cell_type": "code",
      "source": [
        "cm_LSTM_test = confusion_matrix(y_test, y_pred_test)"
      ],
      "metadata": {
        "id": "yF4WfKFCV4Ka"
      },
      "execution_count": 420,
      "outputs": []
    },
    {
      "cell_type": "code",
      "source": [
        "cm_display = ConfusionMatrixDisplay(cm_LSTM_test).plot()"
      ],
      "metadata": {
        "colab": {
          "base_uri": "https://localhost:8080/",
          "height": 279
        },
        "id": "xIcEOr89V8Yr",
        "outputId": "ad6ef6f1-84a8-45ed-da35-cfd81310d3c0"
      },
      "execution_count": 421,
      "outputs": [
        {
          "output_type": "display_data",
          "data": {
            "text/plain": [
              "<Figure size 432x288 with 2 Axes>"
            ],
            "image/png": "[encoded data removed]"
          },
          "metadata": {
            "needs_background": "light"
          }
        }
      ]
    },
    {
      "cell_type": "markdown",
      "source": [
        "> Pada matrix terlihat bahwa product yang kemungkinan rekomended yang ternyata tidak rekomended adalah 484 dari jumlah kemungkinan produk rekomendednya 4294"
      ],
      "metadata": {
        "id": "F9p4nPk8lbnt"
      }
    },
    {
      "cell_type": "markdown",
      "source": [
        "## Bidirectional1"
      ],
      "metadata": {
        "id": "YUAR1drY5e2X"
      }
    },
    {
      "cell_type": "code",
      "source": [
        "# sequential Bidirectional\n",
        "model_bidi = Sequential()\n",
        "model_bidi.add(text_vectorization)\n",
        "model_bidi.add(embedding)\n",
        "model_bidi.add(Bidirectional(GRU(units = 48, return_sequences = True)))\n",
        "model_bidi.add(Dropout(0.5))\n",
        "model_bidi.add(Bidirectional(GRU(units = 24, return_sequences = True)))\n",
        "model_bidi.add(Dropout(0.5))\n",
        "model_bidi.add(Bidirectional(GRU(units = 12)))\n",
        "model_bidi.add(Dense(1,activation='sigmoid'))\n",
        "\n",
        "# compile\n",
        "model_bidi.compile(loss='binary_crossentropy',optimizer='adam',metrics='accuracy')\n",
        "\n",
        "early_stop = EarlyStopping(monitor = \"val_loss\", mode = \"auto\", \n",
        "                           verbose = 1, patience = 5, restore_best_weights = True)\n",
        "\n",
        "# train\n",
        "history = model_bidi.fit(X_train,\n",
        "                         y_train,\n",
        "                         epochs=25, batch_size= 256, class_weight = {0:19, 1:81},   \n",
        "                         validation_data=(X_test, y_test), callbacks = [early_stop])"
      ],
      "metadata": {
        "id": "6uP5k_js5g1M",
        "colab": {
          "base_uri": "https://localhost:8080/"
        },
        "outputId": "1156d1e7-446a-4a1b-ab3a-ab12d801c846"
      },
      "execution_count": 422,
      "outputs": [
        {
          "output_type": "stream",
          "name": "stdout",
          "text": [
            "Epoch 1/25\n",
            "67/67 [==============================] - 14s 60ms/step - loss: 12.6158 - accuracy: 0.8400 - val_loss: 0.4171 - val_accuracy: 0.8677\n",
            "Epoch 2/25\n",
            "67/67 [==============================] - 2s 31ms/step - loss: 2.9693 - accuracy: 0.9720 - val_loss: 0.5357 - val_accuracy: 0.8615\n",
            "Epoch 3/25\n",
            "67/67 [==============================] - 2s 31ms/step - loss: 1.7154 - accuracy: 0.9855 - val_loss: 0.5701 - val_accuracy: 0.8511\n",
            "Epoch 4/25\n",
            "67/67 [==============================] - 2s 31ms/step - loss: 1.2790 - accuracy: 0.9899 - val_loss: 0.6547 - val_accuracy: 0.8564\n",
            "Epoch 5/25\n",
            "67/67 [==============================] - 2s 31ms/step - loss: 1.0141 - accuracy: 0.9918 - val_loss: 0.6983 - val_accuracy: 0.8576\n",
            "Epoch 6/25\n",
            "65/67 [============================>.] - ETA: 0s - loss: 0.7817 - accuracy: 0.9946Restoring model weights from the end of the best epoch: 1.\n",
            "67/67 [==============================] - 2s 32ms/step - loss: 0.7852 - accuracy: 0.9946 - val_loss: 0.7542 - val_accuracy: 0.8521\n",
            "Epoch 6: early stopping\n"
          ]
        }
      ]
    },
    {
      "cell_type": "code",
      "source": [
        "model_bidi_df = pd.DataFrame(model_bidi.history.history)\n",
        "model_bidi_df"
      ],
      "metadata": {
        "id": "SZLtsVENbDdE",
        "colab": {
          "base_uri": "https://localhost:8080/",
          "height": 237
        },
        "outputId": "85aba9e2-4a23-4eb1-9ad2-d7216958bc55"
      },
      "execution_count": 423,
      "outputs": [
        {
          "output_type": "execute_result",
          "data": {
            "text/plain": [
              "        loss  accuracy  val_loss  val_accuracy\n",
              "0  12.615823  0.839988  0.417138      0.867691\n",
              "1   2.969291  0.972026  0.535676      0.861509\n",
              "2   1.715440  0.985512  0.570050      0.851086\n",
              "3   1.278950  0.989870  0.654710      0.856386\n",
              "4   1.014115  0.991755  0.698329      0.857622\n",
              "5   0.785162  0.994582  0.754165      0.852146"
            ],
            "text/html": [
              "\n",
              "  <div id=\"df-d28df751-4c0e-4d55-9393-b051450ca040\">\n",
              "    <div class=\"colab-df-container\">\n",
              "      <div>\n",
              "<style scoped>\n",
              "    .dataframe tbody tr th:only-of-type {\n",
              "        vertical-align: middle;\n",
              "    }\n",
              "\n",
              "    .dataframe tbody tr th {\n",
              "        vertical-align: top;\n",
              "    }\n",
              "\n",
              "    .dataframe thead th {\n",
              "        text-align: right;\n",
              "    }\n",
              "</style>\n",
              "<table border=\"1\" class=\"dataframe\">\n",
              "  <thead>\n",
              "    <tr style=\"text-align: right;\">\n",
              "      <th></th>\n",
              "      <th>loss</th>\n",
              "      <th>accuracy</th>\n",
              "      <th>val_loss</th>\n",
              "      <th>val_accuracy</th>\n",
              "    </tr>\n",
              "  </thead>\n",
              "  <tbody>\n",
              "    <tr>\n",
              "      <th>0</th>\n",
              "      <td>12.615823</td>\n",
              "      <td>0.839988</td>\n",
              "      <td>0.417138</td>\n",
              "      <td>0.867691</td>\n",
              "    </tr>\n",
              "    <tr>\n",
              "      <th>1</th>\n",
              "      <td>2.969291</td>\n",
              "      <td>0.972026</td>\n",
              "      <td>0.535676</td>\n",
              "      <td>0.861509</td>\n",
              "    </tr>\n",
              "    <tr>\n",
              "      <th>2</th>\n",
              "      <td>1.715440</td>\n",
              "      <td>0.985512</td>\n",
              "      <td>0.570050</td>\n",
              "      <td>0.851086</td>\n",
              "    </tr>\n",
              "    <tr>\n",
              "      <th>3</th>\n",
              "      <td>1.278950</td>\n",
              "      <td>0.989870</td>\n",
              "      <td>0.654710</td>\n",
              "      <td>0.856386</td>\n",
              "    </tr>\n",
              "    <tr>\n",
              "      <th>4</th>\n",
              "      <td>1.014115</td>\n",
              "      <td>0.991755</td>\n",
              "      <td>0.698329</td>\n",
              "      <td>0.857622</td>\n",
              "    </tr>\n",
              "    <tr>\n",
              "      <th>5</th>\n",
              "      <td>0.785162</td>\n",
              "      <td>0.994582</td>\n",
              "      <td>0.754165</td>\n",
              "      <td>0.852146</td>\n",
              "    </tr>\n",
              "  </tbody>\n",
              "</table>\n",
              "</div>\n",
              "      <button class=\"colab-df-convert\" onclick=\"convertToInteractive('df-d28df751-4c0e-4d55-9393-b051450ca040')\"\n",
              "              title=\"Convert this dataframe to an interactive table.\"\n",
              "              style=\"display:none;\">\n",
              "        \n",
              "  <svg xmlns=\"http://www.w3.org/2000/svg\" height=\"24px\"viewBox=\"0 0 24 24\"\n",
              "       width=\"24px\">\n",
              "    <path d=\"M0 0h24v24H0V0z\" fill=\"none\"/>\n",
              "    <path d=\"M18.56 5.44l.94 2.06.94-2.06 2.06-.94-2.06-.94-.94-2.06-.94 2.06-2.06.94zm-11 1L8.5 8.5l.94-2.06 2.06-.94-2.06-.94L8.5 2.5l-.94 2.06-2.06.94zm10 10l.94 2.06.94-2.06 2.06-.94-2.06-.94-.94-2.06-.94 2.06-2.06.94z\"/><path d=\"M17.41 7.96l-1.37-1.37c-.4-.4-.92-.59-1.43-.59-.52 0-1.04.2-1.43.59L10.3 9.45l-7.72 7.72c-.78.78-.78 2.05 0 2.83L4 21.41c.39.39.9.59 1.41.59.51 0 1.02-.2 1.41-.59l7.78-7.78 2.81-2.81c.8-.78.8-2.07 0-2.86zM5.41 20L4 18.59l7.72-7.72 1.47 1.35L5.41 20z\"/>\n",
              "  </svg>\n",
              "      </button>\n",
              "      \n",
              "  <style>\n",
              "    .colab-df-container {\n",
              "      display:flex;\n",
              "      flex-wrap:wrap;\n",
              "      gap: 12px;\n",
              "    }\n",
              "\n",
              "    .colab-df-convert {\n",
              "      background-color: #E8F0FE;\n",
              "      border: none;\n",
              "      border-radius: 50%;\n",
              "      cursor: pointer;\n",
              "      display: none;\n",
              "      fill: #1967D2;\n",
              "      height: 32px;\n",
              "      padding: 0 0 0 0;\n",
              "      width: 32px;\n",
              "    }\n",
              "\n",
              "    .colab-df-convert:hover {\n",
              "      background-color: #E2EBFA;\n",
              "      box-shadow: 0px 1px 2px rgba(60, 64, 67, 0.3), 0px 1px 3px 1px rgba(60, 64, 67, 0.15);\n",
              "      fill: #174EA6;\n",
              "    }\n",
              "\n",
              "    [theme=dark] .colab-df-convert {\n",
              "      background-color: #3B4455;\n",
              "      fill: #D2E3FC;\n",
              "    }\n",
              "\n",
              "    [theme=dark] .colab-df-convert:hover {\n",
              "      background-color: #434B5C;\n",
              "      box-shadow: 0px 1px 3px 1px rgba(0, 0, 0, 0.15);\n",
              "      filter: drop-shadow(0px 1px 2px rgba(0, 0, 0, 0.3));\n",
              "      fill: #FFFFFF;\n",
              "    }\n",
              "  </style>\n",
              "\n",
              "      <script>\n",
              "        const buttonEl =\n",
              "          document.querySelector('#df-d28df751-4c0e-4d55-9393-b051450ca040 button.colab-df-convert');\n",
              "        buttonEl.style.display =\n",
              "          google.colab.kernel.accessAllowed ? 'block' : 'none';\n",
              "\n",
              "        async function convertToInteractive(key) {\n",
              "          const element = document.querySelector('#df-d28df751-4c0e-4d55-9393-b051450ca040');\n",
              "          const dataTable =\n",
              "            await google.colab.kernel.invokeFunction('convertToInteractive',\n",
              "                                                     [key], {});\n",
              "          if (!dataTable) return;\n",
              "\n",
              "          const docLinkHtml = 'Like what you see? Visit the ' +\n",
              "            '<a target=\"_blank\" href=https://colab.research.google.com/notebooks/data_table.ipynb>data table notebook</a>'\n",
              "            + ' to learn more about interactive tables.';\n",
              "          element.innerHTML = '';\n",
              "          dataTable['output_type'] = 'display_data';\n",
              "          await google.colab.output.renderOutput(dataTable, element);\n",
              "          const docLink = document.createElement('div');\n",
              "          docLink.innerHTML = docLinkHtml;\n",
              "          element.appendChild(docLink);\n",
              "        }\n",
              "      </script>\n",
              "    </div>\n",
              "  </div>\n",
              "  "
            ]
          },
          "metadata": {},
          "execution_count": 423
        }
      ]
    },
    {
      "cell_type": "code",
      "source": [
        "model_bidi_df.plot()"
      ],
      "metadata": {
        "id": "xJBpEH4YchwO",
        "colab": {
          "base_uri": "https://localhost:8080/",
          "height": 282
        },
        "outputId": "efd7a8ea-d793-483b-a60f-dc44ab8028e1"
      },
      "execution_count": 424,
      "outputs": [
        {
          "output_type": "execute_result",
          "data": {
            "text/plain": [
              "<matplotlib.axes._subplots.AxesSubplot at 0x7ef857ab5f10>"
            ]
          },
          "metadata": {},
          "execution_count": 424
        },
        {
          "output_type": "display_data",
          "data": {
            "text/plain": [
              "<Figure size 432x288 with 1 Axes>"
            ],
            "image/png": "[encoded data removed]"
          },
          "metadata": {
            "needs_background": "light"
          }
        }
      ]
    },
    {
      "cell_type": "markdown",
      "source": [
        "#### Classification Report"
      ],
      "metadata": {
        "id": "25clMoPIcZ4l"
      }
    },
    {
      "cell_type": "code",
      "source": [
        "y_pred_train = model_bidi.predict(X_train)\n",
        "y_pred_train = np.where(y_pred_train > 0.5, 1, 0)\n",
        "print(classification_report(y_train, y_pred_train))"
      ],
      "metadata": {
        "colab": {
          "base_uri": "https://localhost:8080/"
        },
        "id": "jTjYgLeYS5Za",
        "outputId": "e0aa9bb4-7ca0-4cfe-f15a-be65aff4b906"
      },
      "execution_count": 425,
      "outputs": [
        {
          "output_type": "stream",
          "name": "stdout",
          "text": [
            "              precision    recall  f1-score   support\n",
            "\n",
            "           0       0.95      0.84      0.89      3076\n",
            "           1       0.97      0.99      0.98     13904\n",
            "\n",
            "    accuracy                           0.96     16980\n",
            "   macro avg       0.96      0.92      0.94     16980\n",
            "weighted avg       0.96      0.96      0.96     16980\n",
            "\n"
          ]
        }
      ]
    },
    {
      "cell_type": "markdown",
      "source": [
        "> Terlihat dari hasil classification report memiliki Accuracy sebesar 96%, dengan recall, 84% pada target tidak rekomended, dan 99% pada produk rekomended, dataset imbalance mungkin menjadi sebab hasil overfit dan belum baik pada target produk tidak rekomended"
      ],
      "metadata": {
        "id": "S3JINWwQljGK"
      }
    },
    {
      "cell_type": "code",
      "source": [
        "y_pred_test = model_bidi.predict(X_test)\n",
        "y_pred_test = np.where(y_pred_test > 0.5, 1, 0)\n",
        "print(classification_report(y_test, y_pred_test))"
      ],
      "metadata": {
        "colab": {
          "base_uri": "https://localhost:8080/"
        },
        "id": "kfaLqVjdwJlb",
        "outputId": "a28dbaea-19ca-4595-8aca-c95987e1d526"
      },
      "execution_count": 426,
      "outputs": [
        {
          "output_type": "stream",
          "name": "stdout",
          "text": [
            "              precision    recall  f1-score   support\n",
            "\n",
            "           0       0.69      0.48      0.57      1025\n",
            "           1       0.89      0.95      0.92      4636\n",
            "\n",
            "    accuracy                           0.87      5661\n",
            "   macro avg       0.79      0.72      0.75      5661\n",
            "weighted avg       0.86      0.87      0.86      5661\n",
            "\n"
          ]
        }
      ]
    },
    {
      "cell_type": "markdown",
      "source": [
        "> Terlihat dari hasil classification report memiliki Accuracy sebesar 87%, dengan recall, 48% pada target tidak rekomended, dan 95% pada produk rekomended, dataset imbalance mungkin menjadi sebab hasil overfit dan belum baik pada target produk tidak rekomended"
      ],
      "metadata": {
        "id": "diP6l5n7ltd8"
      }
    },
    {
      "cell_type": "markdown",
      "source": [
        "#### Confusion Matrix"
      ],
      "metadata": {
        "id": "qd7bxjL-dGJc"
      }
    },
    {
      "cell_type": "code",
      "source": [
        "cm_bidi1_train = confusion_matrix(y_train, y_pred_train)"
      ],
      "metadata": {
        "id": "0UC6NcHLTFMG"
      },
      "execution_count": 427,
      "outputs": []
    },
    {
      "cell_type": "code",
      "source": [
        "cm_display = ConfusionMatrixDisplay(cm_bidi1_train).plot()"
      ],
      "metadata": {
        "colab": {
          "base_uri": "https://localhost:8080/",
          "height": 279
        },
        "id": "j_9oYoMHTRWM",
        "outputId": "e1592d7a-535c-489b-b7e8-852eaff8de20"
      },
      "execution_count": 428,
      "outputs": [
        {
          "output_type": "display_data",
          "data": {
            "text/plain": [
              "<Figure size 432x288 with 2 Axes>"
            ],
            "image/png": "[encoded data removed]"
          },
          "metadata": {
            "needs_background": "light"
          }
        }
      ]
    },
    {
      "cell_type": "markdown",
      "source": [
        "> Pada matrix terlihat bahwa product yang kemungkinan rekomended yang ternyata tidak rekomended adalah 487 dari jumlah kemungkinan produk rekomendednya 13777"
      ],
      "metadata": {
        "id": "YlGJIMKymSjc"
      }
    },
    {
      "cell_type": "code",
      "source": [
        "cm_bidi1_test = confusion_matrix(y_test, y_pred_test)"
      ],
      "metadata": {
        "id": "dNXi7tIJVh_c"
      },
      "execution_count": 429,
      "outputs": []
    },
    {
      "cell_type": "code",
      "source": [
        "cm_display = ConfusionMatrixDisplay(cm_bidi1_test).plot()"
      ],
      "metadata": {
        "colab": {
          "base_uri": "https://localhost:8080/",
          "height": 279
        },
        "id": "zSriO8s5Vlvm",
        "outputId": "2f694834-d267-4b63-b2f8-fda1a1d0ea19"
      },
      "execution_count": 430,
      "outputs": [
        {
          "output_type": "display_data",
          "data": {
            "text/plain": [
              "<Figure size 432x288 with 2 Axes>"
            ],
            "image/png": "[encoded data removed]"
          },
          "metadata": {
            "needs_background": "light"
          }
        }
      ]
    },
    {
      "cell_type": "markdown",
      "source": [
        "> Pada matrix terlihat bahwa product yang kemungkinan rekomended yang ternyata tidak rekomended adalah 529 dari jumlah kemungkinan produk rekomendednya 4416"
      ],
      "metadata": {
        "id": "OhaZ-tWBmWfd"
      }
    },
    {
      "cell_type": "markdown",
      "source": [
        "## Bidirectional2"
      ],
      "metadata": {
        "id": "l1gpnICWfICG"
      }
    },
    {
      "cell_type": "code",
      "source": [
        "# sequential Bidirectional\n",
        "model_bidi2 = Sequential()\n",
        "model_bidi2.add(text_vectorization)\n",
        "model_bidi2.add(embedding)\n",
        "model_bidi2.add(Bidirectional(LSTM(units = 48, return_sequences = True)))\n",
        "model_bidi2.add(Dropout(0.5))\n",
        "model_bidi2.add(Bidirectional(LSTM(units = 24, return_sequences = True)))\n",
        "model_bidi2.add(Dropout(0.5))\n",
        "model_bidi2.add(Bidirectional(LSTM(units = 12)))\n",
        "model_bidi2.add(Dense(1,activation='sigmoid'))\n",
        "\n",
        "# compile\n",
        "model_bidi2.compile(loss='binary_crossentropy',optimizer='adam',metrics='accuracy')\n",
        "\n",
        "early_stop = EarlyStopping(monitor = \"val_loss\", mode = \"auto\", \n",
        "                           verbose = 1, patience = 5, restore_best_weights = True)\n",
        "\n",
        "# train\n",
        "history = model_bidi2.fit(X_train,\n",
        "                         y_train,\n",
        "                         epochs=25, batch_size= 256, class_weight = {0:19, 1:81},   \n",
        "                         validation_data=(X_test, y_test))"
      ],
      "metadata": {
        "id": "Hv83bkhHfHDg",
        "colab": {
          "base_uri": "https://localhost:8080/"
        },
        "outputId": "94c75029-a511-440c-cb75-2fa167c8a493"
      },
      "execution_count": 431,
      "outputs": [
        {
          "output_type": "stream",
          "name": "stdout",
          "text": [
            "Epoch 1/25\n",
            "67/67 [==============================] - 12s 63ms/step - loss: 14.5903 - accuracy: 0.8087 - val_loss: 0.4322 - val_accuracy: 0.8189\n",
            "Epoch 2/25\n",
            "67/67 [==============================] - 2s 33ms/step - loss: 4.0525 - accuracy: 0.9415 - val_loss: 0.4277 - val_accuracy: 0.8638\n",
            "Epoch 3/25\n",
            "67/67 [==============================] - 2s 33ms/step - loss: 2.4642 - accuracy: 0.9812 - val_loss: 0.4936 - val_accuracy: 0.8647\n",
            "Epoch 4/25\n",
            "67/67 [==============================] - 2s 33ms/step - loss: 1.8668 - accuracy: 0.9832 - val_loss: 0.5536 - val_accuracy: 0.8589\n",
            "Epoch 5/25\n",
            "67/67 [==============================] - 2s 33ms/step - loss: 1.1659 - accuracy: 0.9914 - val_loss: 0.6029 - val_accuracy: 0.8546\n",
            "Epoch 6/25\n",
            "67/67 [==============================] - 2s 33ms/step - loss: 0.9202 - accuracy: 0.9933 - val_loss: 0.6709 - val_accuracy: 0.8590\n",
            "Epoch 7/25\n",
            "67/67 [==============================] - 2s 33ms/step - loss: 0.6737 - accuracy: 0.9949 - val_loss: 0.7159 - val_accuracy: 0.8562\n",
            "Epoch 8/25\n",
            "67/67 [==============================] - 2s 33ms/step - loss: 0.5011 - accuracy: 0.9966 - val_loss: 0.7523 - val_accuracy: 0.8551\n",
            "Epoch 9/25\n",
            "67/67 [==============================] - 2s 33ms/step - loss: 0.4075 - accuracy: 0.9976 - val_loss: 0.7834 - val_accuracy: 0.8417\n",
            "Epoch 10/25\n",
            "67/67 [==============================] - 2s 33ms/step - loss: 0.4837 - accuracy: 0.9961 - val_loss: 0.7916 - val_accuracy: 0.8574\n",
            "Epoch 11/25\n",
            "67/67 [==============================] - 2s 33ms/step - loss: 0.2900 - accuracy: 0.9976 - val_loss: 0.8404 - val_accuracy: 0.8516\n",
            "Epoch 12/25\n",
            "67/67 [==============================] - 2s 33ms/step - loss: 0.2182 - accuracy: 0.9984 - val_loss: 0.8777 - val_accuracy: 0.8541\n",
            "Epoch 13/25\n",
            "67/67 [==============================] - 2s 33ms/step - loss: 0.2908 - accuracy: 0.9974 - val_loss: 0.8547 - val_accuracy: 0.8557\n",
            "Epoch 14/25\n",
            "67/67 [==============================] - 2s 33ms/step - loss: 0.6802 - accuracy: 0.9933 - val_loss: 0.7819 - val_accuracy: 0.8573\n",
            "Epoch 15/25\n",
            "67/67 [==============================] - 2s 33ms/step - loss: 0.4838 - accuracy: 0.9959 - val_loss: 0.8338 - val_accuracy: 0.8562\n",
            "Epoch 16/25\n",
            "67/67 [==============================] - 2s 33ms/step - loss: 0.3021 - accuracy: 0.9979 - val_loss: 0.9200 - val_accuracy: 0.8539\n",
            "Epoch 17/25\n",
            "67/67 [==============================] - 2s 33ms/step - loss: 0.1811 - accuracy: 0.9986 - val_loss: 0.9864 - val_accuracy: 0.8509\n",
            "Epoch 18/25\n",
            "67/67 [==============================] - 2s 33ms/step - loss: 0.0955 - accuracy: 0.9993 - val_loss: 1.0214 - val_accuracy: 0.8525\n",
            "Epoch 19/25\n",
            "67/67 [==============================] - 2s 33ms/step - loss: 0.2310 - accuracy: 0.9982 - val_loss: 0.9110 - val_accuracy: 0.8589\n",
            "Epoch 20/25\n",
            "67/67 [==============================] - 2s 33ms/step - loss: 0.2716 - accuracy: 0.9973 - val_loss: 0.9681 - val_accuracy: 0.8562\n",
            "Epoch 21/25\n",
            "67/67 [==============================] - 2s 33ms/step - loss: 0.1136 - accuracy: 0.9989 - val_loss: 1.0137 - val_accuracy: 0.8559\n",
            "Epoch 22/25\n",
            "67/67 [==============================] - 2s 33ms/step - loss: 0.0701 - accuracy: 0.9994 - val_loss: 1.0502 - val_accuracy: 0.8523\n",
            "Epoch 23/25\n",
            "67/67 [==============================] - 2s 33ms/step - loss: 0.0873 - accuracy: 0.9994 - val_loss: 1.0724 - val_accuracy: 0.8520\n",
            "Epoch 24/25\n",
            "67/67 [==============================] - 2s 33ms/step - loss: 0.0979 - accuracy: 0.9992 - val_loss: 1.0746 - val_accuracy: 0.8543\n",
            "Epoch 25/25\n",
            "67/67 [==============================] - 2s 33ms/step - loss: 0.0679 - accuracy: 0.9996 - val_loss: 1.1068 - val_accuracy: 0.8539\n"
          ]
        }
      ]
    },
    {
      "cell_type": "code",
      "source": [
        "model_bidi2_df = pd.DataFrame(model_bidi2.history.history)\n",
        "model_bidi2_df"
      ],
      "metadata": {
        "id": "WjZFm_l7fhO1",
        "colab": {
          "base_uri": "https://localhost:8080/",
          "height": 833
        },
        "outputId": "46af84a7-53e9-43f7-e5b4-42352b1349c1"
      },
      "execution_count": 432,
      "outputs": [
        {
          "output_type": "execute_result",
          "data": {
            "text/plain": [
              "         loss  accuracy  val_loss  val_accuracy\n",
              "0   14.590250  0.808657  0.432170      0.818937\n",
              "1    4.052476  0.941461  0.427709      0.863805\n",
              "2    2.464241  0.981154  0.493577      0.864688\n",
              "3    1.866804  0.983157  0.553573      0.858859\n",
              "4    1.165916  0.991402  0.602898      0.854619\n",
              "5    0.920240  0.993286  0.670949      0.859035\n",
              "6    0.673713  0.994876  0.715914      0.856209\n",
              "7    0.501117  0.996643  0.752283      0.855149\n",
              "8    0.407539  0.997585  0.783398      0.841724\n",
              "9    0.483668  0.996113  0.791615      0.857446\n",
              "10   0.289950  0.997644  0.840362      0.851616\n",
              "11   0.218192  0.998410  0.877725      0.854089\n",
              "12   0.290819  0.997409  0.854745      0.855679\n",
              "13   0.680162  0.993345  0.781866      0.857269\n",
              "14   0.483834  0.995878  0.833760      0.856209\n",
              "15   0.302109  0.997880  0.920014      0.853913\n",
              "16   0.181114  0.998645  0.986403      0.850910\n",
              "17   0.095525  0.999293  1.021415      0.852500\n",
              "18   0.231048  0.998174  0.911017      0.858859\n",
              "19   0.271573  0.997350  0.968134      0.856209\n",
              "20   0.113571  0.998940  1.013717      0.855856\n",
              "21   0.070086  0.999411  1.050209      0.852323\n",
              "22   0.087347  0.999411  1.072403      0.851970\n",
              "23   0.097866  0.999234  1.074602      0.854266\n",
              "24   0.067950  0.999588  1.106813      0.853913"
            ],
            "text/html": [
              "\n",
              "  <div id=\"df-01fa48e0-84c7-415e-b690-125cbf4dbcec\">\n",
              "    <div class=\"colab-df-container\">\n",
              "      <div>\n",
              "<style scoped>\n",
              "    .dataframe tbody tr th:only-of-type {\n",
              "        vertical-align: middle;\n",
              "    }\n",
              "\n",
              "    .dataframe tbody tr th {\n",
              "        vertical-align: top;\n",
              "    }\n",
              "\n",
              "    .dataframe thead th {\n",
              "        text-align: right;\n",
              "    }\n",
              "</style>\n",
              "<table border=\"1\" class=\"dataframe\">\n",
              "  <thead>\n",
              "    <tr style=\"text-align: right;\">\n",
              "      <th></th>\n",
              "      <th>loss</th>\n",
              "      <th>accuracy</th>\n",
              "      <th>val_loss</th>\n",
              "      <th>val_accuracy</th>\n",
              "    </tr>\n",
              "  </thead>\n",
              "  <tbody>\n",
              "    <tr>\n",
              "      <th>0</th>\n",
              "      <td>14.590250</td>\n",
              "      <td>0.808657</td>\n",
              "      <td>0.432170</td>\n",
              "      <td>0.818937</td>\n",
              "    </tr>\n",
              "    <tr>\n",
              "      <th>1</th>\n",
              "      <td>4.052476</td>\n",
              "      <td>0.941461</td>\n",
              "      <td>0.427709</td>\n",
              "      <td>0.863805</td>\n",
              "    </tr>\n",
              "    <tr>\n",
              "      <th>2</th>\n",
              "      <td>2.464241</td>\n",
              "      <td>0.981154</td>\n",
              "      <td>0.493577</td>\n",
              "      <td>0.864688</td>\n",
              "    </tr>\n",
              "    <tr>\n",
              "      <th>3</th>\n",
              "      <td>1.866804</td>\n",
              "      <td>0.983157</td>\n",
              "      <td>0.553573</td>\n",
              "      <td>0.858859</td>\n",
              "    </tr>\n",
              "    <tr>\n",
              "      <th>4</th>\n",
              "      <td>1.165916</td>\n",
              "      <td>0.991402</td>\n",
              "      <td>0.602898</td>\n",
              "      <td>0.854619</td>\n",
              "    </tr>\n",
              "    <tr>\n",
              "      <th>5</th>\n",
              "      <td>0.920240</td>\n",
              "      <td>0.993286</td>\n",
              "      <td>0.670949</td>\n",
              "      <td>0.859035</td>\n",
              "    </tr>\n",
              "    <tr>\n",
              "      <th>6</th>\n",
              "      <td>0.673713</td>\n",
              "      <td>0.994876</td>\n",
              "      <td>0.715914</td>\n",
              "      <td>0.856209</td>\n",
              "    </tr>\n",
              "    <tr>\n",
              "      <th>7</th>\n",
              "      <td>0.501117</td>\n",
              "      <td>0.996643</td>\n",
              "      <td>0.752283</td>\n",
              "      <td>0.855149</td>\n",
              "    </tr>\n",
              "    <tr>\n",
              "      <th>8</th>\n",
              "      <td>0.407539</td>\n",
              "      <td>0.997585</td>\n",
              "      <td>0.783398</td>\n",
              "      <td>0.841724</td>\n",
              "    </tr>\n",
              "    <tr>\n",
              "      <th>9</th>\n",
              "      <td>0.483668</td>\n",
              "      <td>0.996113</td>\n",
              "      <td>0.791615</td>\n",
              "      <td>0.857446</td>\n",
              "    </tr>\n",
              "    <tr>\n",
              "      <th>10</th>\n",
              "      <td>0.289950</td>\n",
              "      <td>0.997644</td>\n",
              "      <td>0.840362</td>\n",
              "      <td>0.851616</td>\n",
              "    </tr>\n",
              "    <tr>\n",
              "      <th>11</th>\n",
              "      <td>0.218192</td>\n",
              "      <td>0.998410</td>\n",
              "      <td>0.877725</td>\n",
              "      <td>0.854089</td>\n",
              "    </tr>\n",
              "    <tr>\n",
              "      <th>12</th>\n",
              "      <td>0.290819</td>\n",
              "      <td>0.997409</td>\n",
              "      <td>0.854745</td>\n",
              "      <td>0.855679</td>\n",
              "    </tr>\n",
              "    <tr>\n",
              "      <th>13</th>\n",
              "      <td>0.680162</td>\n",
              "      <td>0.993345</td>\n",
              "      <td>0.781866</td>\n",
              "      <td>0.857269</td>\n",
              "    </tr>\n",
              "    <tr>\n",
              "      <th>14</th>\n",
              "      <td>0.483834</td>\n",
              "      <td>0.995878</td>\n",
              "      <td>0.833760</td>\n",
              "      <td>0.856209</td>\n",
              "    </tr>\n",
              "    <tr>\n",
              "      <th>15</th>\n",
              "      <td>0.302109</td>\n",
              "      <td>0.997880</td>\n",
              "      <td>0.920014</td>\n",
              "      <td>0.853913</td>\n",
              "    </tr>\n",
              "    <tr>\n",
              "      <th>16</th>\n",
              "      <td>0.181114</td>\n",
              "      <td>0.998645</td>\n",
              "      <td>0.986403</td>\n",
              "      <td>0.850910</td>\n",
              "    </tr>\n",
              "    <tr>\n",
              "      <th>17</th>\n",
              "      <td>0.095525</td>\n",
              "      <td>0.999293</td>\n",
              "      <td>1.021415</td>\n",
              "      <td>0.852500</td>\n",
              "    </tr>\n",
              "    <tr>\n",
              "      <th>18</th>\n",
              "      <td>0.231048</td>\n",
              "      <td>0.998174</td>\n",
              "      <td>0.911017</td>\n",
              "      <td>0.858859</td>\n",
              "    </tr>\n",
              "    <tr>\n",
              "      <th>19</th>\n",
              "      <td>0.271573</td>\n",
              "      <td>0.997350</td>\n",
              "      <td>0.968134</td>\n",
              "      <td>0.856209</td>\n",
              "    </tr>\n",
              "    <tr>\n",
              "      <th>20</th>\n",
              "      <td>0.113571</td>\n",
              "      <td>0.998940</td>\n",
              "      <td>1.013717</td>\n",
              "      <td>0.855856</td>\n",
              "    </tr>\n",
              "    <tr>\n",
              "      <th>21</th>\n",
              "      <td>0.070086</td>\n",
              "      <td>0.999411</td>\n",
              "      <td>1.050209</td>\n",
              "      <td>0.852323</td>\n",
              "    </tr>\n",
              "    <tr>\n",
              "      <th>22</th>\n",
              "      <td>0.087347</td>\n",
              "      <td>0.999411</td>\n",
              "      <td>1.072403</td>\n",
              "      <td>0.851970</td>\n",
              "    </tr>\n",
              "    <tr>\n",
              "      <th>23</th>\n",
              "      <td>0.097866</td>\n",
              "      <td>0.999234</td>\n",
              "      <td>1.074602</td>\n",
              "      <td>0.854266</td>\n",
              "    </tr>\n",
              "    <tr>\n",
              "      <th>24</th>\n",
              "      <td>0.067950</td>\n",
              "      <td>0.999588</td>\n",
              "      <td>1.106813</td>\n",
              "      <td>0.853913</td>\n",
              "    </tr>\n",
              "  </tbody>\n",
              "</table>\n",
              "</div>\n",
              "      <button class=\"colab-df-convert\" onclick=\"convertToInteractive('df-01fa48e0-84c7-415e-b690-125cbf4dbcec')\"\n",
              "              title=\"Convert this dataframe to an interactive table.\"\n",
              "              style=\"display:none;\">\n",
              "        \n",
              "  <svg xmlns=\"http://www.w3.org/2000/svg\" height=\"24px\"viewBox=\"0 0 24 24\"\n",
              "       width=\"24px\">\n",
              "    <path d=\"M0 0h24v24H0V0z\" fill=\"none\"/>\n",
              "    <path d=\"M18.56 5.44l.94 2.06.94-2.06 2.06-.94-2.06-.94-.94-2.06-.94 2.06-2.06.94zm-11 1L8.5 8.5l.94-2.06 2.06-.94-2.06-.94L8.5 2.5l-.94 2.06-2.06.94zm10 10l.94 2.06.94-2.06 2.06-.94-2.06-.94-.94-2.06-.94 2.06-2.06.94z\"/><path d=\"M17.41 7.96l-1.37-1.37c-.4-.4-.92-.59-1.43-.59-.52 0-1.04.2-1.43.59L10.3 9.45l-7.72 7.72c-.78.78-.78 2.05 0 2.83L4 21.41c.39.39.9.59 1.41.59.51 0 1.02-.2 1.41-.59l7.78-7.78 2.81-2.81c.8-.78.8-2.07 0-2.86zM5.41 20L4 18.59l7.72-7.72 1.47 1.35L5.41 20z\"/>\n",
              "  </svg>\n",
              "      </button>\n",
              "      \n",
              "  <style>\n",
              "    .colab-df-container {\n",
              "      display:flex;\n",
              "      flex-wrap:wrap;\n",
              "      gap: 12px;\n",
              "    }\n",
              "\n",
              "    .colab-df-convert {\n",
              "      background-color: #E8F0FE;\n",
              "      border: none;\n",
              "      border-radius: 50%;\n",
              "      cursor: pointer;\n",
              "      display: none;\n",
              "      fill: #1967D2;\n",
              "      height: 32px;\n",
              "      padding: 0 0 0 0;\n",
              "      width: 32px;\n",
              "    }\n",
              "\n",
              "    .colab-df-convert:hover {\n",
              "      background-color: #E2EBFA;\n",
              "      box-shadow: 0px 1px 2px rgba(60, 64, 67, 0.3), 0px 1px 3px 1px rgba(60, 64, 67, 0.15);\n",
              "      fill: #174EA6;\n",
              "    }\n",
              "\n",
              "    [theme=dark] .colab-df-convert {\n",
              "      background-color: #3B4455;\n",
              "      fill: #D2E3FC;\n",
              "    }\n",
              "\n",
              "    [theme=dark] .colab-df-convert:hover {\n",
              "      background-color: #434B5C;\n",
              "      box-shadow: 0px 1px 3px 1px rgba(0, 0, 0, 0.15);\n",
              "      filter: drop-shadow(0px 1px 2px rgba(0, 0, 0, 0.3));\n",
              "      fill: #FFFFFF;\n",
              "    }\n",
              "  </style>\n",
              "\n",
              "      <script>\n",
              "        const buttonEl =\n",
              "          document.querySelector('#df-01fa48e0-84c7-415e-b690-125cbf4dbcec button.colab-df-convert');\n",
              "        buttonEl.style.display =\n",
              "          google.colab.kernel.accessAllowed ? 'block' : 'none';\n",
              "\n",
              "        async function convertToInteractive(key) {\n",
              "          const element = document.querySelector('#df-01fa48e0-84c7-415e-b690-125cbf4dbcec');\n",
              "          const dataTable =\n",
              "            await google.colab.kernel.invokeFunction('convertToInteractive',\n",
              "                                                     [key], {});\n",
              "          if (!dataTable) return;\n",
              "\n",
              "          const docLinkHtml = 'Like what you see? Visit the ' +\n",
              "            '<a target=\"_blank\" href=https://colab.research.google.com/notebooks/data_table.ipynb>data table notebook</a>'\n",
              "            + ' to learn more about interactive tables.';\n",
              "          element.innerHTML = '';\n",
              "          dataTable['output_type'] = 'display_data';\n",
              "          await google.colab.output.renderOutput(dataTable, element);\n",
              "          const docLink = document.createElement('div');\n",
              "          docLink.innerHTML = docLinkHtml;\n",
              "          element.appendChild(docLink);\n",
              "        }\n",
              "      </script>\n",
              "    </div>\n",
              "  </div>\n",
              "  "
            ]
          },
          "metadata": {},
          "execution_count": 432
        }
      ]
    },
    {
      "cell_type": "code",
      "source": [
        "model_bidi2_df.plot()"
      ],
      "metadata": {
        "id": "_P2XBwOqf4w7",
        "colab": {
          "base_uri": "https://localhost:8080/",
          "height": 282
        },
        "outputId": "1d6b60e8-fa07-4297-9d91-e976290b04d2"
      },
      "execution_count": 433,
      "outputs": [
        {
          "output_type": "execute_result",
          "data": {
            "text/plain": [
              "<matplotlib.axes._subplots.AxesSubplot at 0x7efddfec5d10>"
            ]
          },
          "metadata": {},
          "execution_count": 433
        },
        {
          "output_type": "display_data",
          "data": {
            "text/plain": [
              "<Figure size 432x288 with 1 Axes>"
            ],
            "image/png": "[encoded data removed]"
          },
          "metadata": {
            "needs_background": "light"
          }
        }
      ]
    },
    {
      "cell_type": "markdown",
      "source": [
        "#### Classification Report"
      ],
      "metadata": {
        "id": "Eb96VhSsbXq8"
      }
    },
    {
      "cell_type": "code",
      "source": [
        "y_pred_train = model_bidi2.predict(X_train)\n",
        "y_pred_train = np.where(y_pred_train > 0.5, 1, 0)\n",
        "print(classification_report(y_train, y_pred_train))"
      ],
      "metadata": {
        "colab": {
          "base_uri": "https://localhost:8080/"
        },
        "id": "3Bz3VBTsTwBu",
        "outputId": "08684154-45b9-40b3-fbf0-4501a32d4c0e"
      },
      "execution_count": 434,
      "outputs": [
        {
          "output_type": "stream",
          "name": "stdout",
          "text": [
            "              precision    recall  f1-score   support\n",
            "\n",
            "           0       1.00      1.00      1.00      3076\n",
            "           1       1.00      1.00      1.00     13904\n",
            "\n",
            "    accuracy                           1.00     16980\n",
            "   macro avg       1.00      1.00      1.00     16980\n",
            "weighted avg       1.00      1.00      1.00     16980\n",
            "\n"
          ]
        }
      ]
    },
    {
      "cell_type": "markdown",
      "source": [
        "> Terlihat dari hasil classification report memiliki Accuracy sebesar 100%, dengan recall, 100% pada target tidak rekomended, dan 100% pada produk rekomended, dataset imbalance mungkin menjadi sebab hasil overfit dan belum baik pada target produk tidak rekomended"
      ],
      "metadata": {
        "id": "BBgOUQ9SmcEg"
      }
    },
    {
      "cell_type": "code",
      "source": [
        "y_pred_test = model_bidi2.predict(X_test)\n",
        "y_pred_test = np.where(y_pred_test > 0.5, 1, 0)\n",
        "print(classification_report(y_test, y_pred_test))"
      ],
      "metadata": {
        "colab": {
          "base_uri": "https://localhost:8080/"
        },
        "id": "SH8WbRx6v5gH",
        "outputId": "985adeb1-780f-47c4-edeb-90809d3f3469"
      },
      "execution_count": 435,
      "outputs": [
        {
          "output_type": "stream",
          "name": "stdout",
          "text": [
            "              precision    recall  f1-score   support\n",
            "\n",
            "           0       0.62      0.49      0.55      1025\n",
            "           1       0.89      0.94      0.91      4636\n",
            "\n",
            "    accuracy                           0.85      5661\n",
            "   macro avg       0.76      0.71      0.73      5661\n",
            "weighted avg       0.84      0.85      0.85      5661\n",
            "\n"
          ]
        }
      ]
    },
    {
      "cell_type": "markdown",
      "source": [
        "> Terlihat dari hasil classification report memiliki Accuracy sebesar 85%, dengan recall, 49% pada target tidak rekomended, dan 94% pada produk rekomended, dataset imbalance mungkin menjadi sebab hasil overfit dan belum baik pada target produk tidak rekomended"
      ],
      "metadata": {
        "id": "DHghW-5jmiNp"
      }
    },
    {
      "cell_type": "markdown",
      "source": [
        "#### Confusion Matrix"
      ],
      "metadata": {
        "id": "i6RZCOhubGlb"
      }
    },
    {
      "cell_type": "code",
      "source": [
        "cm_bidi1_train = confusion_matrix(y_train, y_pred_train)"
      ],
      "metadata": {
        "id": "jmLG0HLCT4nc"
      },
      "execution_count": 436,
      "outputs": []
    },
    {
      "cell_type": "code",
      "source": [
        "cm_display = ConfusionMatrixDisplay(cm_bidi1_train).plot()"
      ],
      "metadata": {
        "colab": {
          "base_uri": "https://localhost:8080/",
          "height": 279
        },
        "id": "ufD6UDSQT-2q",
        "outputId": "9dc35afd-03ab-4e64-9357-e26a75ce1a2a"
      },
      "execution_count": 437,
      "outputs": [
        {
          "output_type": "display_data",
          "data": {
            "text/plain": [
              "<Figure size 432x288 with 2 Axes>"
            ],
            "image/png": "[encoded data removed]"
          },
          "metadata": {
            "needs_background": "light"
          }
        }
      ]
    },
    {
      "cell_type": "markdown",
      "source": [
        "> Pada matrix terlihat bahwa product yang kemungkinan rekomended yang ternyata tidak rekomended adalah 4 dari jumlah kemungkinan produk rekomendednya 13904"
      ],
      "metadata": {
        "id": "e5uk7vlDmsGI"
      }
    },
    {
      "cell_type": "code",
      "source": [
        "cm_bidi1_test = confusion_matrix(y_test, y_pred_test)"
      ],
      "metadata": {
        "id": "VpH3P23OT4cG"
      },
      "execution_count": 438,
      "outputs": []
    },
    {
      "cell_type": "code",
      "source": [
        "cm_display = ConfusionMatrixDisplay(cm_bidi1_test).plot()"
      ],
      "metadata": {
        "colab": {
          "base_uri": "https://localhost:8080/",
          "height": 279
        },
        "id": "2hFKJ2mbT_SF",
        "outputId": "54652edd-6fe5-4367-853c-9ad702688448"
      },
      "execution_count": 439,
      "outputs": [
        {
          "output_type": "display_data",
          "data": {
            "text/plain": [
              "<Figure size 432x288 with 2 Axes>"
            ],
            "image/png": "[encoded data removed]"
          },
          "metadata": {
            "needs_background": "light"
          }
        }
      ]
    },
    {
      "cell_type": "markdown",
      "source": [
        "> Pada matrix terlihat bahwa product yang kemungkinan rekomended yang ternyata tidak rekomended adalah 526 dari jumlah kemungkinan produk rekomendednya 4335"
      ],
      "metadata": {
        "id": "VaZv4RKCmzXZ"
      }
    },
    {
      "cell_type": "markdown",
      "metadata": {
        "id": "HUdirr7PEFc1"
      },
      "source": [
        "## 7 - Model Saving"
      ]
    },
    {
      "cell_type": "markdown",
      "metadata": {
        "id": "ywFuMlbPEFc2"
      },
      "source": [
        "### Save Model"
      ]
    },
    {
      "cell_type": "code",
      "source": [
        "from google.colab import drive\n",
        "drive.mount('/content/drive')"
      ],
      "metadata": {
        "colab": {
          "base_uri": "https://localhost:8080/"
        },
        "id": "E9rtoSWS4pPS",
        "outputId": "5f4abdf9-109f-456c-9939-f62a55540ff5"
      },
      "execution_count": 440,
      "outputs": [
        {
          "output_type": "stream",
          "name": "stdout",
          "text": [
            "Drive already mounted at /content/drive; to attempt to forcibly remount, call drive.mount(\"/content/drive\", force_remount=True).\n"
          ]
        }
      ]
    },
    {
      "cell_type": "code",
      "source": [
        "%pwd"
      ],
      "metadata": {
        "colab": {
          "base_uri": "https://localhost:8080/",
          "height": 36
        },
        "id": "GmV5C40x5oE-",
        "outputId": "32a9ca3f-e2c4-4868-e674-13831faeb859"
      },
      "execution_count": 441,
      "outputs": [
        {
          "output_type": "execute_result",
          "data": {
            "text/plain": [
              "'/content/drive/My Drive'"
            ],
            "application/vnd.google.colaboratory.intrinsic+json": {
              "type": "string"
            }
          },
          "metadata": {},
          "execution_count": 441
        }
      ]
    },
    {
      "cell_type": "code",
      "source": [
        "%cd drive/MyDrive"
      ],
      "metadata": {
        "colab": {
          "base_uri": "https://localhost:8080/"
        },
        "id": "U8FByD1Y4OoO",
        "outputId": "5038af42-ecaf-477d-b5b5-b47528fe03da"
      },
      "execution_count": 442,
      "outputs": [
        {
          "output_type": "stream",
          "name": "stdout",
          "text": [
            "[Errno 2] No such file or directory: 'drive/MyDrive'\n",
            "/content/drive/MyDrive\n"
          ]
        }
      ]
    },
    {
      "cell_type": "code",
      "execution_count": 443,
      "metadata": {
        "id": "DC69IUYiEFc2"
      },
      "outputs": [],
      "source": [
        "# Freeze Model\n",
        "model_bidi.trainable = False"
      ]
    },
    {
      "cell_type": "code",
      "execution_count": 444,
      "metadata": {
        "id": "iZkSKWDxEFc2",
        "colab": {
          "base_uri": "https://localhost:8080/"
        },
        "outputId": "f454f966-e347-40b2-d606-217912353f50"
      },
      "outputs": [
        {
          "output_type": "stream",
          "name": "stderr",
          "text": [
            "WARNING:absl:Found untraced functions such as gru_cell_19_layer_call_fn, gru_cell_19_layer_call_and_return_conditional_losses, gru_cell_20_layer_call_fn, gru_cell_20_layer_call_and_return_conditional_losses, gru_cell_22_layer_call_fn while saving (showing 5 of 12). These functions will not be directly callable after loading.\n"
          ]
        },
        {
          "output_type": "stream",
          "name": "stdout",
          "text": [
            "INFO:tensorflow:Assets written to: ecommerce_review/assets\n"
          ]
        },
        {
          "output_type": "stream",
          "name": "stderr",
          "text": [
            "INFO:tensorflow:Assets written to: ecommerce_review/assets\n",
            "WARNING:absl:<keras.layers.recurrent.GRUCell object at 0x7efb0e483490> has the same name 'GRUCell' as a built-in Keras object. Consider renaming <class 'keras.layers.recurrent.GRUCell'> to avoid naming conflicts when loading with `tf.keras.models.load_model`. If renaming is not possible, pass the object in the `custom_objects` parameter of the load function.\n",
            "WARNING:absl:<keras.layers.recurrent.GRUCell object at 0x7efb0e483ed0> has the same name 'GRUCell' as a built-in Keras object. Consider renaming <class 'keras.layers.recurrent.GRUCell'> to avoid naming conflicts when loading with `tf.keras.models.load_model`. If renaming is not possible, pass the object in the `custom_objects` parameter of the load function.\n",
            "WARNING:absl:<keras.layers.recurrent.GRUCell object at 0x7ef85536acd0> has the same name 'GRUCell' as a built-in Keras object. Consider renaming <class 'keras.layers.recurrent.GRUCell'> to avoid naming conflicts when loading with `tf.keras.models.load_model`. If renaming is not possible, pass the object in the `custom_objects` parameter of the load function.\n",
            "WARNING:absl:<keras.layers.recurrent.GRUCell object at 0x7ef855361a10> has the same name 'GRUCell' as a built-in Keras object. Consider renaming <class 'keras.layers.recurrent.GRUCell'> to avoid naming conflicts when loading with `tf.keras.models.load_model`. If renaming is not possible, pass the object in the `custom_objects` parameter of the load function.\n",
            "WARNING:absl:<keras.layers.recurrent.GRUCell object at 0x7efddc996a10> has the same name 'GRUCell' as a built-in Keras object. Consider renaming <class 'keras.layers.recurrent.GRUCell'> to avoid naming conflicts when loading with `tf.keras.models.load_model`. If renaming is not possible, pass the object in the `custom_objects` parameter of the load function.\n",
            "WARNING:absl:<keras.layers.recurrent.GRUCell object at 0x7efddc97f550> has the same name 'GRUCell' as a built-in Keras object. Consider renaming <class 'keras.layers.recurrent.GRUCell'> to avoid naming conflicts when loading with `tf.keras.models.load_model`. If renaming is not possible, pass the object in the `custom_objects` parameter of the load function.\n"
          ]
        }
      ],
      "source": [
        "# save model\n",
        "model_bidi.save(\"ecommerce_review\")"
      ]
    },
    {
      "cell_type": "markdown",
      "metadata": {
        "id": "aJSlrui7EFc3"
      },
      "source": [
        "> model yang digunakan adalah dari Bidirectional 1 karena memiliki hasil yang lebih baik dari segi recall dan accuracy, yang tidak terlalu overfit"
      ]
    },
    {
      "cell_type": "markdown",
      "metadata": {
        "id": "_orltDgP6hEK"
      },
      "source": [
        "## 8 - Model Inference"
      ]
    },
    {
      "cell_type": "markdown",
      "metadata": {
        "id": "MJzgk7st6kKj"
      },
      "source": [
        "> Bagian ini merupakan pembuatan model inferens atau melihat data baru berdasarkan model deep learning yang sudah dibuat"
      ]
    },
    {
      "cell_type": "code",
      "source": [
        "# Melihat unique value dari dataset\n",
        "\n",
        "for i in df_inf.columns:\n",
        "    print(i, 'unique: ', df_inf[i].unique(),'\\n')"
      ],
      "metadata": {
        "colab": {
          "base_uri": "https://localhost:8080/"
        },
        "id": "eKIcO_MfsdbL",
        "outputId": "d1a7eda7-5561-4e28-d7cc-612764807a01"
      },
      "execution_count": 445,
      "outputs": [
        {
          "output_type": "stream",
          "name": "stdout",
          "text": [
            "clothing_id unique:  [1095  903  830 1047 1110  820 1059 1092   22  394] \n",
            "\n",
            "age unique:  [34 57 56 36 30 37 39] \n",
            "\n",
            "title unique:  ['Size up if busty' 'Snap front hoodie' 'Adorable'\n",
            " 'Fraying after 2 wears!' 'Fabulous material....' 'Run and buy.....' nan\n",
            " 'Sbags easily' 'Please bring this shirt back!!!'] \n",
            "\n",
            "review_text unique:  ['I agree with the other reviewer that the color isn\\'t as pink in person and more subtle. my thoughts below on some other things:\\r\\n__________\\r\\npros:\\r\\n- pockets! makes it so fun and chic with the overall style.\\r\\n- the material is lovely and breathable. i didn\\'t find it sheer at all! of course, i didn\\'t wear it outside the dressing room. the material is thicker but it hangs on the body well.\\r\\n- runs \"mostly\" tts. i only tried on the medium and it fit everywhere being slightly tighter in the chest. i'\n",
            " 'I have many sweaters but i bought this during the sale and it is very soft and comfortable.'\n",
            " 'Beautiful top but runs a whole size small. gave to my daughter who loved!'\n",
            " 'I loved these pants.they are so comfortable. however, after just wearing them twice, the threads of the leaves are fraying, and leaving lint on whatever i sit on. the leaves at the seat of the pants are now slowly disappearing. this after wearing twice to work! i imagine after a few more wears that the leaves at the seat of the pants will be close to gone, or at least much less \"white\" with threads then the rest of the places. this is super unfortunate and will be returning. too bad, they were l'\n",
            " 'I ordered this dress in a petite but it arrived in a regular, the rest fit and in the meantime the petites ran out in my size.  the dress is too long but it is so beautiful i will get it shortened.  the fabric is lovely.  i am blonde and the green is so nice with my hair... which is a good thing since the other colour was totally sold out.  try not to miss out on this lovely purchase.....'\n",
            " \"Such a cute shirt! i picked up the white-with-flowers that is not being shown online yet. the straight white looks like it could wrinkle and definitely needs a tank underneath but the white with flowers was not see-through and seems like it will require a bit less steaming (the detail masks wrinkles :)) the flowered-design also has a small tie at the neck that i don't think was on the solid color design (can't totally remember) - cute extra detail but not overly obvious, it blends into the shirt\"\n",
            " \"Had to send back for exchange. way too big. i'm very excited to get a smaller size because they are really beautifully made.\"\n",
            " \"I liked this dress but wasn't sure about the color on me. i tried it on anyway. originally, i tried on the 0, but it seemed big so i ordered the 00. also usually i order petite, but this dress is already short (and i am not getting younger), so i went with regular size this time. color was not bad on my pale skin, i think the hue was ok (surprisingly). one thing that might bug the perfectionist in me, the zig zag isn't always aligned, the waist, for instance was crooked, but if it is like that e\"\n",
            " \"This is my favorite shirt ever. i've had it for years and it still looks great. please, please bring it back!!\"\n",
            " nan] \n",
            "\n",
            "rating unique:  [4 3 5] \n",
            "\n",
            "recommended unique:  [1 0] \n",
            "\n",
            "feedback_count unique:  [19  0  3 11  2  5] \n",
            "\n",
            "division unique:  ['General' 'General Petite' 'Intimates'] \n",
            "\n",
            "department unique:  ['Dresses' 'Tops' 'Bottoms' 'Intimate'] \n",
            "\n",
            "class unique:  ['Dresses' 'Fine gauge' 'Blouses' 'Pants' 'Knits' 'Swim'] \n",
            "\n"
          ]
        }
      ]
    },
    {
      "cell_type": "code",
      "execution_count": 446,
      "metadata": {
        "id": "Da_REfTg6iNc"
      },
      "outputs": [],
      "source": [
        "# Mereset index\n",
        "df_inf.reset_index(inplace=True)"
      ]
    },
    {
      "cell_type": "code",
      "execution_count": 447,
      "metadata": {
        "id": "fA3fpNfj6spg",
        "colab": {
          "base_uri": "https://localhost:8080/",
          "height": 191
        },
        "outputId": "d02033c8-8220-4dc4-e0b5-70bf096955f3"
      },
      "outputs": [
        {
          "output_type": "execute_result",
          "data": {
            "text/plain": [
              "   index  clothing_id  age              title  \\\n",
              "0      0         1095   34   Size up if busty   \n",
              "1      1          903   57  Snap front hoodie   \n",
              "\n",
              "                                         review_text  rating  recommended  \\\n",
              "0  I agree with the other reviewer that the color...       4            1   \n",
              "1  I have many sweaters but i bought this during ...       4            1   \n",
              "\n",
              "   feedback_count        division department       class  \n",
              "0              19         General    Dresses     Dresses  \n",
              "1               0  General Petite       Tops  Fine gauge  "
            ],
            "text/html": [
              "\n",
              "  <div id=\"df-0c072825-967b-4121-9894-52a60704c0c0\">\n",
              "    <div class=\"colab-df-container\">\n",
              "      <div>\n",
              "<style scoped>\n",
              "    .dataframe tbody tr th:only-of-type {\n",
              "        vertical-align: middle;\n",
              "    }\n",
              "\n",
              "    .dataframe tbody tr th {\n",
              "        vertical-align: top;\n",
              "    }\n",
              "\n",
              "    .dataframe thead th {\n",
              "        text-align: right;\n",
              "    }\n",
              "</style>\n",
              "<table border=\"1\" class=\"dataframe\">\n",
              "  <thead>\n",
              "    <tr style=\"text-align: right;\">\n",
              "      <th></th>\n",
              "      <th>index</th>\n",
              "      <th>clothing_id</th>\n",
              "      <th>age</th>\n",
              "      <th>title</th>\n",
              "      <th>review_text</th>\n",
              "      <th>rating</th>\n",
              "      <th>recommended</th>\n",
              "      <th>feedback_count</th>\n",
              "      <th>division</th>\n",
              "      <th>department</th>\n",
              "      <th>class</th>\n",
              "    </tr>\n",
              "  </thead>\n",
              "  <tbody>\n",
              "    <tr>\n",
              "      <th>0</th>\n",
              "      <td>0</td>\n",
              "      <td>1095</td>\n",
              "      <td>34</td>\n",
              "      <td>Size up if busty</td>\n",
              "      <td>I agree with the other reviewer that the color...</td>\n",
              "      <td>4</td>\n",
              "      <td>1</td>\n",
              "      <td>19</td>\n",
              "      <td>General</td>\n",
              "      <td>Dresses</td>\n",
              "      <td>Dresses</td>\n",
              "    </tr>\n",
              "    <tr>\n",
              "      <th>1</th>\n",
              "      <td>1</td>\n",
              "      <td>903</td>\n",
              "      <td>57</td>\n",
              "      <td>Snap front hoodie</td>\n",
              "      <td>I have many sweaters but i bought this during ...</td>\n",
              "      <td>4</td>\n",
              "      <td>1</td>\n",
              "      <td>0</td>\n",
              "      <td>General Petite</td>\n",
              "      <td>Tops</td>\n",
              "      <td>Fine gauge</td>\n",
              "    </tr>\n",
              "  </tbody>\n",
              "</table>\n",
              "</div>\n",
              "      <button class=\"colab-df-convert\" onclick=\"convertToInteractive('df-0c072825-967b-4121-9894-52a60704c0c0')\"\n",
              "              title=\"Convert this dataframe to an interactive table.\"\n",
              "              style=\"display:none;\">\n",
              "        \n",
              "  <svg xmlns=\"http://www.w3.org/2000/svg\" height=\"24px\"viewBox=\"0 0 24 24\"\n",
              "       width=\"24px\">\n",
              "    <path d=\"M0 0h24v24H0V0z\" fill=\"none\"/>\n",
              "    <path d=\"M18.56 5.44l.94 2.06.94-2.06 2.06-.94-2.06-.94-.94-2.06-.94 2.06-2.06.94zm-11 1L8.5 8.5l.94-2.06 2.06-.94-2.06-.94L8.5 2.5l-.94 2.06-2.06.94zm10 10l.94 2.06.94-2.06 2.06-.94-2.06-.94-.94-2.06-.94 2.06-2.06.94z\"/><path d=\"M17.41 7.96l-1.37-1.37c-.4-.4-.92-.59-1.43-.59-.52 0-1.04.2-1.43.59L10.3 9.45l-7.72 7.72c-.78.78-.78 2.05 0 2.83L4 21.41c.39.39.9.59 1.41.59.51 0 1.02-.2 1.41-.59l7.78-7.78 2.81-2.81c.8-.78.8-2.07 0-2.86zM5.41 20L4 18.59l7.72-7.72 1.47 1.35L5.41 20z\"/>\n",
              "  </svg>\n",
              "      </button>\n",
              "      \n",
              "  <style>\n",
              "    .colab-df-container {\n",
              "      display:flex;\n",
              "      flex-wrap:wrap;\n",
              "      gap: 12px;\n",
              "    }\n",
              "\n",
              "    .colab-df-convert {\n",
              "      background-color: #E8F0FE;\n",
              "      border: none;\n",
              "      border-radius: 50%;\n",
              "      cursor: pointer;\n",
              "      display: none;\n",
              "      fill: #1967D2;\n",
              "      height: 32px;\n",
              "      padding: 0 0 0 0;\n",
              "      width: 32px;\n",
              "    }\n",
              "\n",
              "    .colab-df-convert:hover {\n",
              "      background-color: #E2EBFA;\n",
              "      box-shadow: 0px 1px 2px rgba(60, 64, 67, 0.3), 0px 1px 3px 1px rgba(60, 64, 67, 0.15);\n",
              "      fill: #174EA6;\n",
              "    }\n",
              "\n",
              "    [theme=dark] .colab-df-convert {\n",
              "      background-color: #3B4455;\n",
              "      fill: #D2E3FC;\n",
              "    }\n",
              "\n",
              "    [theme=dark] .colab-df-convert:hover {\n",
              "      background-color: #434B5C;\n",
              "      box-shadow: 0px 1px 3px 1px rgba(0, 0, 0, 0.15);\n",
              "      filter: drop-shadow(0px 1px 2px rgba(0, 0, 0, 0.3));\n",
              "      fill: #FFFFFF;\n",
              "    }\n",
              "  </style>\n",
              "\n",
              "      <script>\n",
              "        const buttonEl =\n",
              "          document.querySelector('#df-0c072825-967b-4121-9894-52a60704c0c0 button.colab-df-convert');\n",
              "        buttonEl.style.display =\n",
              "          google.colab.kernel.accessAllowed ? 'block' : 'none';\n",
              "\n",
              "        async function convertToInteractive(key) {\n",
              "          const element = document.querySelector('#df-0c072825-967b-4121-9894-52a60704c0c0');\n",
              "          const dataTable =\n",
              "            await google.colab.kernel.invokeFunction('convertToInteractive',\n",
              "                                                     [key], {});\n",
              "          if (!dataTable) return;\n",
              "\n",
              "          const docLinkHtml = 'Like what you see? Visit the ' +\n",
              "            '<a target=\"_blank\" href=https://colab.research.google.com/notebooks/data_table.ipynb>data table notebook</a>'\n",
              "            + ' to learn more about interactive tables.';\n",
              "          element.innerHTML = '';\n",
              "          dataTable['output_type'] = 'display_data';\n",
              "          await google.colab.output.renderOutput(dataTable, element);\n",
              "          const docLink = document.createElement('div');\n",
              "          docLink.innerHTML = docLinkHtml;\n",
              "          element.appendChild(docLink);\n",
              "        }\n",
              "      </script>\n",
              "    </div>\n",
              "  </div>\n",
              "  "
            ]
          },
          "metadata": {},
          "execution_count": 447
        }
      ],
      "source": [
        "# Melihat dataset teratas\n",
        "df_inf.head(2)"
      ]
    },
    {
      "cell_type": "code",
      "source": [
        "# Melihat informasi dataset\n",
        "df_inf.info()"
      ],
      "metadata": {
        "colab": {
          "base_uri": "https://localhost:8080/"
        },
        "id": "k9-SfAm1sPDs",
        "outputId": "4d6b7418-8b26-4ca9-da65-315e8c44a29f"
      },
      "execution_count": 448,
      "outputs": [
        {
          "output_type": "stream",
          "name": "stdout",
          "text": [
            "<class 'pandas.core.frame.DataFrame'>\n",
            "RangeIndex: 10 entries, 0 to 9\n",
            "Data columns (total 11 columns):\n",
            " #   Column          Non-Null Count  Dtype \n",
            "---  ------          --------------  ----- \n",
            " 0   index           10 non-null     int64 \n",
            " 1   clothing_id     10 non-null     int64 \n",
            " 2   age             10 non-null     int64 \n",
            " 3   title           8 non-null      object\n",
            " 4   review_text     9 non-null      object\n",
            " 5   rating          10 non-null     int64 \n",
            " 6   recommended     10 non-null     int64 \n",
            " 7   feedback_count  10 non-null     int64 \n",
            " 8   division        10 non-null     object\n",
            " 9   department      10 non-null     object\n",
            " 10  class           10 non-null     object\n",
            "dtypes: int64(6), object(5)\n",
            "memory usage: 1008.0+ bytes\n"
          ]
        }
      ]
    },
    {
      "cell_type": "code",
      "source": [
        "# Menghilangkan NaN yang ada di dataset inferensial\n",
        "df_inf.dropna(inplace=True)"
      ],
      "metadata": {
        "id": "9JvUUWF2tNtM"
      },
      "execution_count": 450,
      "outputs": []
    },
    {
      "cell_type": "code",
      "source": [
        "# Melihat dataset setelah menghilangkan NaN\n",
        "df_inf"
      ],
      "metadata": {
        "colab": {
          "base_uri": "https://localhost:8080/",
          "height": 483
        },
        "id": "6qo87Amm1w3U",
        "outputId": "bb7c1bb4-1451-4d9a-efc8-8d13e6a613e2"
      },
      "execution_count": 451,
      "outputs": [
        {
          "output_type": "execute_result",
          "data": {
            "text/plain": [
              "   index  clothing_id  age                            title  \\\n",
              "0      0         1095   34                 Size up if busty   \n",
              "1      1          903   57                Snap front hoodie   \n",
              "2      2          830   56                         Adorable   \n",
              "3      3         1047   36           Fraying after 2 wears!   \n",
              "4      4         1110   30            Fabulous material....   \n",
              "5      5          820   36                 Run and buy.....   \n",
              "7      7         1092   39                     Sbags easily   \n",
              "8      8           22   30  Please bring this shirt back!!!   \n",
              "\n",
              "                                         review_text  rating  recommended  \\\n",
              "0  I agree with the other reviewer that the color...       4            1   \n",
              "1  I have many sweaters but i bought this during ...       4            1   \n",
              "2  Beautiful top but runs a whole size small. gav...       4            1   \n",
              "3  I loved these pants.they are so comfortable. h...       3            0   \n",
              "4  I ordered this dress in a petite but it arrive...       5            1   \n",
              "5  Such a cute shirt! i picked up the white-with-...       5            1   \n",
              "7  I liked this dress but wasn't sure about the c...       5            1   \n",
              "8  This is my favorite shirt ever. i've had it fo...       5            1   \n",
              "\n",
              "   feedback_count        division department       class  \n",
              "0              19         General    Dresses     Dresses  \n",
              "1               0  General Petite       Tops  Fine gauge  \n",
              "2               3         General       Tops     Blouses  \n",
              "3               3  General Petite    Bottoms       Pants  \n",
              "4               0         General    Dresses     Dresses  \n",
              "5              11  General Petite       Tops     Blouses  \n",
              "7               5         General    Dresses     Dresses  \n",
              "8               0         General       Tops       Knits  "
            ],
            "text/html": [
              "\n",
              "  <div id=\"df-835360f8-6bdf-4c2e-9b14-7a1b900bcc80\">\n",
              "    <div class=\"colab-df-container\">\n",
              "      <div>\n",
              "<style scoped>\n",
              "    .dataframe tbody tr th:only-of-type {\n",
              "        vertical-align: middle;\n",
              "    }\n",
              "\n",
              "    .dataframe tbody tr th {\n",
              "        vertical-align: top;\n",
              "    }\n",
              "\n",
              "    .dataframe thead th {\n",
              "        text-align: right;\n",
              "    }\n",
              "</style>\n",
              "<table border=\"1\" class=\"dataframe\">\n",
              "  <thead>\n",
              "    <tr style=\"text-align: right;\">\n",
              "      <th></th>\n",
              "      <th>index</th>\n",
              "      <th>clothing_id</th>\n",
              "      <th>age</th>\n",
              "      <th>title</th>\n",
              "      <th>review_text</th>\n",
              "      <th>rating</th>\n",
              "      <th>recommended</th>\n",
              "      <th>feedback_count</th>\n",
              "      <th>division</th>\n",
              "      <th>department</th>\n",
              "      <th>class</th>\n",
              "    </tr>\n",
              "  </thead>\n",
              "  <tbody>\n",
              "    <tr>\n",
              "      <th>0</th>\n",
              "      <td>0</td>\n",
              "      <td>1095</td>\n",
              "      <td>34</td>\n",
              "      <td>Size up if busty</td>\n",
              "      <td>I agree with the other reviewer that the color...</td>\n",
              "      <td>4</td>\n",
              "      <td>1</td>\n",
              "      <td>19</td>\n",
              "      <td>General</td>\n",
              "      <td>Dresses</td>\n",
              "      <td>Dresses</td>\n",
              "    </tr>\n",
              "    <tr>\n",
              "      <th>1</th>\n",
              "      <td>1</td>\n",
              "      <td>903</td>\n",
              "      <td>57</td>\n",
              "      <td>Snap front hoodie</td>\n",
              "      <td>I have many sweaters but i bought this during ...</td>\n",
              "      <td>4</td>\n",
              "      <td>1</td>\n",
              "      <td>0</td>\n",
              "      <td>General Petite</td>\n",
              "      <td>Tops</td>\n",
              "      <td>Fine gauge</td>\n",
              "    </tr>\n",
              "    <tr>\n",
              "      <th>2</th>\n",
              "      <td>2</td>\n",
              "      <td>830</td>\n",
              "      <td>56</td>\n",
              "      <td>Adorable</td>\n",
              "      <td>Beautiful top but runs a whole size small. gav...</td>\n",
              "      <td>4</td>\n",
              "      <td>1</td>\n",
              "      <td>3</td>\n",
              "      <td>General</td>\n",
              "      <td>Tops</td>\n",
              "      <td>Blouses</td>\n",
              "    </tr>\n",
              "    <tr>\n",
              "      <th>3</th>\n",
              "      <td>3</td>\n",
              "      <td>1047</td>\n",
              "      <td>36</td>\n",
              "      <td>Fraying after 2 wears!</td>\n",
              "      <td>I loved these pants.they are so comfortable. h...</td>\n",
              "      <td>3</td>\n",
              "      <td>0</td>\n",
              "      <td>3</td>\n",
              "      <td>General Petite</td>\n",
              "      <td>Bottoms</td>\n",
              "      <td>Pants</td>\n",
              "    </tr>\n",
              "    <tr>\n",
              "      <th>4</th>\n",
              "      <td>4</td>\n",
              "      <td>1110</td>\n",
              "      <td>30</td>\n",
              "      <td>Fabulous material....</td>\n",
              "      <td>I ordered this dress in a petite but it arrive...</td>\n",
              "      <td>5</td>\n",
              "      <td>1</td>\n",
              "      <td>0</td>\n",
              "      <td>General</td>\n",
              "      <td>Dresses</td>\n",
              "      <td>Dresses</td>\n",
              "    </tr>\n",
              "    <tr>\n",
              "      <th>5</th>\n",
              "      <td>5</td>\n",
              "      <td>820</td>\n",
              "      <td>36</td>\n",
              "      <td>Run and buy.....</td>\n",
              "      <td>Such a cute shirt! i picked up the white-with-...</td>\n",
              "      <td>5</td>\n",
              "      <td>1</td>\n",
              "      <td>11</td>\n",
              "      <td>General Petite</td>\n",
              "      <td>Tops</td>\n",
              "      <td>Blouses</td>\n",
              "    </tr>\n",
              "    <tr>\n",
              "      <th>7</th>\n",
              "      <td>7</td>\n",
              "      <td>1092</td>\n",
              "      <td>39</td>\n",
              "      <td>Sbags easily</td>\n",
              "      <td>I liked this dress but wasn't sure about the c...</td>\n",
              "      <td>5</td>\n",
              "      <td>1</td>\n",
              "      <td>5</td>\n",
              "      <td>General</td>\n",
              "      <td>Dresses</td>\n",
              "      <td>Dresses</td>\n",
              "    </tr>\n",
              "    <tr>\n",
              "      <th>8</th>\n",
              "      <td>8</td>\n",
              "      <td>22</td>\n",
              "      <td>30</td>\n",
              "      <td>Please bring this shirt back!!!</td>\n",
              "      <td>This is my favorite shirt ever. i've had it fo...</td>\n",
              "      <td>5</td>\n",
              "      <td>1</td>\n",
              "      <td>0</td>\n",
              "      <td>General</td>\n",
              "      <td>Tops</td>\n",
              "      <td>Knits</td>\n",
              "    </tr>\n",
              "  </tbody>\n",
              "</table>\n",
              "</div>\n",
              "      <button class=\"colab-df-convert\" onclick=\"convertToInteractive('df-835360f8-6bdf-4c2e-9b14-7a1b900bcc80')\"\n",
              "              title=\"Convert this dataframe to an interactive table.\"\n",
              "              style=\"display:none;\">\n",
              "        \n",
              "  <svg xmlns=\"http://www.w3.org/2000/svg\" height=\"24px\"viewBox=\"0 0 24 24\"\n",
              "       width=\"24px\">\n",
              "    <path d=\"M0 0h24v24H0V0z\" fill=\"none\"/>\n",
              "    <path d=\"M18.56 5.44l.94 2.06.94-2.06 2.06-.94-2.06-.94-.94-2.06-.94 2.06-2.06.94zm-11 1L8.5 8.5l.94-2.06 2.06-.94-2.06-.94L8.5 2.5l-.94 2.06-2.06.94zm10 10l.94 2.06.94-2.06 2.06-.94-2.06-.94-.94-2.06-.94 2.06-2.06.94z\"/><path d=\"M17.41 7.96l-1.37-1.37c-.4-.4-.92-.59-1.43-.59-.52 0-1.04.2-1.43.59L10.3 9.45l-7.72 7.72c-.78.78-.78 2.05 0 2.83L4 21.41c.39.39.9.59 1.41.59.51 0 1.02-.2 1.41-.59l7.78-7.78 2.81-2.81c.8-.78.8-2.07 0-2.86zM5.41 20L4 18.59l7.72-7.72 1.47 1.35L5.41 20z\"/>\n",
              "  </svg>\n",
              "      </button>\n",
              "      \n",
              "  <style>\n",
              "    .colab-df-container {\n",
              "      display:flex;\n",
              "      flex-wrap:wrap;\n",
              "      gap: 12px;\n",
              "    }\n",
              "\n",
              "    .colab-df-convert {\n",
              "      background-color: #E8F0FE;\n",
              "      border: none;\n",
              "      border-radius: 50%;\n",
              "      cursor: pointer;\n",
              "      display: none;\n",
              "      fill: #1967D2;\n",
              "      height: 32px;\n",
              "      padding: 0 0 0 0;\n",
              "      width: 32px;\n",
              "    }\n",
              "\n",
              "    .colab-df-convert:hover {\n",
              "      background-color: #E2EBFA;\n",
              "      box-shadow: 0px 1px 2px rgba(60, 64, 67, 0.3), 0px 1px 3px 1px rgba(60, 64, 67, 0.15);\n",
              "      fill: #174EA6;\n",
              "    }\n",
              "\n",
              "    [theme=dark] .colab-df-convert {\n",
              "      background-color: #3B4455;\n",
              "      fill: #D2E3FC;\n",
              "    }\n",
              "\n",
              "    [theme=dark] .colab-df-convert:hover {\n",
              "      background-color: #434B5C;\n",
              "      box-shadow: 0px 1px 3px 1px rgba(0, 0, 0, 0.15);\n",
              "      filter: drop-shadow(0px 1px 2px rgba(0, 0, 0, 0.3));\n",
              "      fill: #FFFFFF;\n",
              "    }\n",
              "  </style>\n",
              "\n",
              "      <script>\n",
              "        const buttonEl =\n",
              "          document.querySelector('#df-835360f8-6bdf-4c2e-9b14-7a1b900bcc80 button.colab-df-convert');\n",
              "        buttonEl.style.display =\n",
              "          google.colab.kernel.accessAllowed ? 'block' : 'none';\n",
              "\n",
              "        async function convertToInteractive(key) {\n",
              "          const element = document.querySelector('#df-835360f8-6bdf-4c2e-9b14-7a1b900bcc80');\n",
              "          const dataTable =\n",
              "            await google.colab.kernel.invokeFunction('convertToInteractive',\n",
              "                                                     [key], {});\n",
              "          if (!dataTable) return;\n",
              "\n",
              "          const docLinkHtml = 'Like what you see? Visit the ' +\n",
              "            '<a target=\"_blank\" href=https://colab.research.google.com/notebooks/data_table.ipynb>data table notebook</a>'\n",
              "            + ' to learn more about interactive tables.';\n",
              "          element.innerHTML = '';\n",
              "          dataTable['output_type'] = 'display_data';\n",
              "          await google.colab.output.renderOutput(dataTable, element);\n",
              "          const docLink = document.createElement('div');\n",
              "          docLink.innerHTML = docLinkHtml;\n",
              "          element.appendChild(docLink);\n",
              "        }\n",
              "      </script>\n",
              "    </div>\n",
              "  </div>\n",
              "  "
            ]
          },
          "metadata": {},
          "execution_count": 451
        }
      ]
    },
    {
      "cell_type": "code",
      "source": [
        "# Memproses data inferensial dengan fungsi preprocess dataset\n",
        "df_inf['text_processed_inf'] = df_inf['review_text'].apply(lambda x: text_proses(x))\n",
        "df_inf"
      ],
      "metadata": {
        "colab": {
          "base_uri": "https://localhost:8080/",
          "height": 639
        },
        "id": "qwd_MaMnqIRj",
        "outputId": "12f47a8f-9a19-4eb1-837d-09ee8bbc6989"
      },
      "execution_count": 452,
      "outputs": [
        {
          "output_type": "execute_result",
          "data": {
            "text/plain": [
              "   index  clothing_id  age                            title  \\\n",
              "0      0         1095   34                 Size up if busty   \n",
              "1      1          903   57                Snap front hoodie   \n",
              "2      2          830   56                         Adorable   \n",
              "3      3         1047   36           Fraying after 2 wears!   \n",
              "4      4         1110   30            Fabulous material....   \n",
              "5      5          820   36                 Run and buy.....   \n",
              "7      7         1092   39                     Sbags easily   \n",
              "8      8           22   30  Please bring this shirt back!!!   \n",
              "\n",
              "                                         review_text  rating  recommended  \\\n",
              "0  I agree with the other reviewer that the color...       4            1   \n",
              "1  I have many sweaters but i bought this during ...       4            1   \n",
              "2  Beautiful top but runs a whole size small. gav...       4            1   \n",
              "3  I loved these pants.they are so comfortable. h...       3            0   \n",
              "4  I ordered this dress in a petite but it arrive...       5            1   \n",
              "5  Such a cute shirt! i picked up the white-with-...       5            1   \n",
              "7  I liked this dress but wasn't sure about the c...       5            1   \n",
              "8  This is my favorite shirt ever. i've had it fo...       5            1   \n",
              "\n",
              "   feedback_count        division department       class  \\\n",
              "0              19         General    Dresses     Dresses   \n",
              "1               0  General Petite       Tops  Fine gauge   \n",
              "2               3         General       Tops     Blouses   \n",
              "3               3  General Petite    Bottoms       Pants   \n",
              "4               0         General    Dresses     Dresses   \n",
              "5              11  General Petite       Tops     Blouses   \n",
              "7               5         General    Dresses     Dresses   \n",
              "8               0         General       Tops       Knits   \n",
              "\n",
              "                                  text_processed_inf  \n",
              "0  agree reviewer color isnt pink person subtle t...  \n",
              "1         many sweaters bought sale soft comfortable  \n",
              "2  beautiful top runs whole size small gave daugh...  \n",
              "3  loved pantsthey comfortable however wearing tw...  \n",
              "4  ordered dress petite arrived regular rest fit ...  \n",
              "5  cute shirt picked whitewithflowers shown onlin...  \n",
              "7  liked dress wasnt sure color tried anyway orig...  \n",
              "8  favorite shirt ever ive years still looks grea...  "
            ],
            "text/html": [
              "\n",
              "  <div id=\"df-b996bed3-b315-425a-a283-088958ae2383\">\n",
              "    <div class=\"colab-df-container\">\n",
              "      <div>\n",
              "<style scoped>\n",
              "    .dataframe tbody tr th:only-of-type {\n",
              "        vertical-align: middle;\n",
              "    }\n",
              "\n",
              "    .dataframe tbody tr th {\n",
              "        vertical-align: top;\n",
              "    }\n",
              "\n",
              "    .dataframe thead th {\n",
              "        text-align: right;\n",
              "    }\n",
              "</style>\n",
              "<table border=\"1\" class=\"dataframe\">\n",
              "  <thead>\n",
              "    <tr style=\"text-align: right;\">\n",
              "      <th></th>\n",
              "      <th>index</th>\n",
              "      <th>clothing_id</th>\n",
              "      <th>age</th>\n",
              "      <th>title</th>\n",
              "      <th>review_text</th>\n",
              "      <th>rating</th>\n",
              "      <th>recommended</th>\n",
              "      <th>feedback_count</th>\n",
              "      <th>division</th>\n",
              "      <th>department</th>\n",
              "      <th>class</th>\n",
              "      <th>text_processed_inf</th>\n",
              "    </tr>\n",
              "  </thead>\n",
              "  <tbody>\n",
              "    <tr>\n",
              "      <th>0</th>\n",
              "      <td>0</td>\n",
              "      <td>1095</td>\n",
              "      <td>34</td>\n",
              "      <td>Size up if busty</td>\n",
              "      <td>I agree with the other reviewer that the color...</td>\n",
              "      <td>4</td>\n",
              "      <td>1</td>\n",
              "      <td>19</td>\n",
              "      <td>General</td>\n",
              "      <td>Dresses</td>\n",
              "      <td>Dresses</td>\n",
              "      <td>agree reviewer color isnt pink person subtle t...</td>\n",
              "    </tr>\n",
              "    <tr>\n",
              "      <th>1</th>\n",
              "      <td>1</td>\n",
              "      <td>903</td>\n",
              "      <td>57</td>\n",
              "      <td>Snap front hoodie</td>\n",
              "      <td>I have many sweaters but i bought this during ...</td>\n",
              "      <td>4</td>\n",
              "      <td>1</td>\n",
              "      <td>0</td>\n",
              "      <td>General Petite</td>\n",
              "      <td>Tops</td>\n",
              "      <td>Fine gauge</td>\n",
              "      <td>many sweaters bought sale soft comfortable</td>\n",
              "    </tr>\n",
              "    <tr>\n",
              "      <th>2</th>\n",
              "      <td>2</td>\n",
              "      <td>830</td>\n",
              "      <td>56</td>\n",
              "      <td>Adorable</td>\n",
              "      <td>Beautiful top but runs a whole size small. gav...</td>\n",
              "      <td>4</td>\n",
              "      <td>1</td>\n",
              "      <td>3</td>\n",
              "      <td>General</td>\n",
              "      <td>Tops</td>\n",
              "      <td>Blouses</td>\n",
              "      <td>beautiful top runs whole size small gave daugh...</td>\n",
              "    </tr>\n",
              "    <tr>\n",
              "      <th>3</th>\n",
              "      <td>3</td>\n",
              "      <td>1047</td>\n",
              "      <td>36</td>\n",
              "      <td>Fraying after 2 wears!</td>\n",
              "      <td>I loved these pants.they are so comfortable. h...</td>\n",
              "      <td>3</td>\n",
              "      <td>0</td>\n",
              "      <td>3</td>\n",
              "      <td>General Petite</td>\n",
              "      <td>Bottoms</td>\n",
              "      <td>Pants</td>\n",
              "      <td>loved pantsthey comfortable however wearing tw...</td>\n",
              "    </tr>\n",
              "    <tr>\n",
              "      <th>4</th>\n",
              "      <td>4</td>\n",
              "      <td>1110</td>\n",
              "      <td>30</td>\n",
              "      <td>Fabulous material....</td>\n",
              "      <td>I ordered this dress in a petite but it arrive...</td>\n",
              "      <td>5</td>\n",
              "      <td>1</td>\n",
              "      <td>0</td>\n",
              "      <td>General</td>\n",
              "      <td>Dresses</td>\n",
              "      <td>Dresses</td>\n",
              "      <td>ordered dress petite arrived regular rest fit ...</td>\n",
              "    </tr>\n",
              "    <tr>\n",
              "      <th>5</th>\n",
              "      <td>5</td>\n",
              "      <td>820</td>\n",
              "      <td>36</td>\n",
              "      <td>Run and buy.....</td>\n",
              "      <td>Such a cute shirt! i picked up the white-with-...</td>\n",
              "      <td>5</td>\n",
              "      <td>1</td>\n",
              "      <td>11</td>\n",
              "      <td>General Petite</td>\n",
              "      <td>Tops</td>\n",
              "      <td>Blouses</td>\n",
              "      <td>cute shirt picked whitewithflowers shown onlin...</td>\n",
              "    </tr>\n",
              "    <tr>\n",
              "      <th>7</th>\n",
              "      <td>7</td>\n",
              "      <td>1092</td>\n",
              "      <td>39</td>\n",
              "      <td>Sbags easily</td>\n",
              "      <td>I liked this dress but wasn't sure about the c...</td>\n",
              "      <td>5</td>\n",
              "      <td>1</td>\n",
              "      <td>5</td>\n",
              "      <td>General</td>\n",
              "      <td>Dresses</td>\n",
              "      <td>Dresses</td>\n",
              "      <td>liked dress wasnt sure color tried anyway orig...</td>\n",
              "    </tr>\n",
              "    <tr>\n",
              "      <th>8</th>\n",
              "      <td>8</td>\n",
              "      <td>22</td>\n",
              "      <td>30</td>\n",
              "      <td>Please bring this shirt back!!!</td>\n",
              "      <td>This is my favorite shirt ever. i've had it fo...</td>\n",
              "      <td>5</td>\n",
              "      <td>1</td>\n",
              "      <td>0</td>\n",
              "      <td>General</td>\n",
              "      <td>Tops</td>\n",
              "      <td>Knits</td>\n",
              "      <td>favorite shirt ever ive years still looks grea...</td>\n",
              "    </tr>\n",
              "  </tbody>\n",
              "</table>\n",
              "</div>\n",
              "      <button class=\"colab-df-convert\" onclick=\"convertToInteractive('df-b996bed3-b315-425a-a283-088958ae2383')\"\n",
              "              title=\"Convert this dataframe to an interactive table.\"\n",
              "              style=\"display:none;\">\n",
              "        \n",
              "  <svg xmlns=\"http://www.w3.org/2000/svg\" height=\"24px\"viewBox=\"0 0 24 24\"\n",
              "       width=\"24px\">\n",
              "    <path d=\"M0 0h24v24H0V0z\" fill=\"none\"/>\n",
              "    <path d=\"M18.56 5.44l.94 2.06.94-2.06 2.06-.94-2.06-.94-.94-2.06-.94 2.06-2.06.94zm-11 1L8.5 8.5l.94-2.06 2.06-.94-2.06-.94L8.5 2.5l-.94 2.06-2.06.94zm10 10l.94 2.06.94-2.06 2.06-.94-2.06-.94-.94-2.06-.94 2.06-2.06.94z\"/><path d=\"M17.41 7.96l-1.37-1.37c-.4-.4-.92-.59-1.43-.59-.52 0-1.04.2-1.43.59L10.3 9.45l-7.72 7.72c-.78.78-.78 2.05 0 2.83L4 21.41c.39.39.9.59 1.41.59.51 0 1.02-.2 1.41-.59l7.78-7.78 2.81-2.81c.8-.78.8-2.07 0-2.86zM5.41 20L4 18.59l7.72-7.72 1.47 1.35L5.41 20z\"/>\n",
              "  </svg>\n",
              "      </button>\n",
              "      \n",
              "  <style>\n",
              "    .colab-df-container {\n",
              "      display:flex;\n",
              "      flex-wrap:wrap;\n",
              "      gap: 12px;\n",
              "    }\n",
              "\n",
              "    .colab-df-convert {\n",
              "      background-color: #E8F0FE;\n",
              "      border: none;\n",
              "      border-radius: 50%;\n",
              "      cursor: pointer;\n",
              "      display: none;\n",
              "      fill: #1967D2;\n",
              "      height: 32px;\n",
              "      padding: 0 0 0 0;\n",
              "      width: 32px;\n",
              "    }\n",
              "\n",
              "    .colab-df-convert:hover {\n",
              "      background-color: #E2EBFA;\n",
              "      box-shadow: 0px 1px 2px rgba(60, 64, 67, 0.3), 0px 1px 3px 1px rgba(60, 64, 67, 0.15);\n",
              "      fill: #174EA6;\n",
              "    }\n",
              "\n",
              "    [theme=dark] .colab-df-convert {\n",
              "      background-color: #3B4455;\n",
              "      fill: #D2E3FC;\n",
              "    }\n",
              "\n",
              "    [theme=dark] .colab-df-convert:hover {\n",
              "      background-color: #434B5C;\n",
              "      box-shadow: 0px 1px 3px 1px rgba(0, 0, 0, 0.15);\n",
              "      filter: drop-shadow(0px 1px 2px rgba(0, 0, 0, 0.3));\n",
              "      fill: #FFFFFF;\n",
              "    }\n",
              "  </style>\n",
              "\n",
              "      <script>\n",
              "        const buttonEl =\n",
              "          document.querySelector('#df-b996bed3-b315-425a-a283-088958ae2383 button.colab-df-convert');\n",
              "        buttonEl.style.display =\n",
              "          google.colab.kernel.accessAllowed ? 'block' : 'none';\n",
              "\n",
              "        async function convertToInteractive(key) {\n",
              "          const element = document.querySelector('#df-b996bed3-b315-425a-a283-088958ae2383');\n",
              "          const dataTable =\n",
              "            await google.colab.kernel.invokeFunction('convertToInteractive',\n",
              "                                                     [key], {});\n",
              "          if (!dataTable) return;\n",
              "\n",
              "          const docLinkHtml = 'Like what you see? Visit the ' +\n",
              "            '<a target=\"_blank\" href=https://colab.research.google.com/notebooks/data_table.ipynb>data table notebook</a>'\n",
              "            + ' to learn more about interactive tables.';\n",
              "          element.innerHTML = '';\n",
              "          dataTable['output_type'] = 'display_data';\n",
              "          await google.colab.output.renderOutput(dataTable, element);\n",
              "          const docLink = document.createElement('div');\n",
              "          docLink.innerHTML = docLinkHtml;\n",
              "          element.appendChild(docLink);\n",
              "        }\n",
              "      </script>\n",
              "    </div>\n",
              "  </div>\n",
              "  "
            ]
          },
          "metadata": {},
          "execution_count": 452
        }
      ]
    },
    {
      "cell_type": "code",
      "source": [
        "# Membuat variabel dari text yang diproses\n",
        "inf_train = df_inf['text_processed_inf']"
      ],
      "metadata": {
        "id": "73L0myILtuW5"
      },
      "execution_count": 453,
      "outputs": []
    },
    {
      "cell_type": "code",
      "source": [
        "# Evaluasi model inferensial\n",
        "y_pred_inf = model_bidi.predict(inf_train)"
      ],
      "metadata": {
        "id": "7uh4kWNCt8kN"
      },
      "execution_count": 454,
      "outputs": []
    },
    {
      "cell_type": "code",
      "source": [
        "# Melihat hasil model\n",
        "y_pred_inf"
      ],
      "metadata": {
        "colab": {
          "base_uri": "https://localhost:8080/"
        },
        "id": "SEKqgTF-uIir",
        "outputId": "50ea0541-3883-4d28-9f81-faaf4c079cd6"
      },
      "execution_count": 455,
      "outputs": [
        {
          "output_type": "execute_result",
          "data": {
            "text/plain": [
              "array([[0.9929268 ],\n",
              "       [0.7788184 ],\n",
              "       [0.7706434 ],\n",
              "       [0.16799583],\n",
              "       [0.9920312 ],\n",
              "       [0.99391264],\n",
              "       [0.9872939 ],\n",
              "       [0.34414288]], dtype=float32)"
            ]
          },
          "metadata": {},
          "execution_count": 455
        }
      ]
    },
    {
      "cell_type": "code",
      "execution_count": 456,
      "metadata": {
        "id": "lg63BGtNEFc5",
        "colab": {
          "base_uri": "https://localhost:8080/"
        },
        "outputId": "e40319c0-61c3-41ab-fe5b-1f27dab09a82"
      },
      "outputs": [
        {
          "output_type": "execute_result",
          "data": {
            "text/plain": [
              "[1, 1, 1, 0, 1, 1, 1, 0]"
            ]
          },
          "metadata": {},
          "execution_count": 456
        }
      ],
      "source": [
        "# merubah nilai menjadi 1 (rekomended) dan 0 (tidak rekomended), agar lebih mudah memaknai hasil prediksi\n",
        "model_bidi_inf = []\n",
        "\n",
        "for items in y_pred_inf:\n",
        "    if items > 0.5:\n",
        "        items = 1\n",
        "        model_bidi_inf.append(items)\n",
        "    else:\n",
        "        items = 0\n",
        "        model_bidi_inf.append(items)\n",
        "model_bidi_inf"
      ]
    },
    {
      "cell_type": "code",
      "execution_count": 457,
      "metadata": {
        "id": "7pxsiOOJEFc6"
      },
      "outputs": [],
      "source": [
        "# membuat dataframe hasil inference\n",
        "model_bidi_pred_inf_df = pd.DataFrame(model_bidi_inf, columns=['model_bidi - Prediction'])"
      ]
    },
    {
      "cell_type": "code",
      "source": [
        "df_inf['model_bidi - Prediction'] = model_bidi_inf"
      ],
      "metadata": {
        "id": "o8Lhg1162wNh"
      },
      "execution_count": 458,
      "outputs": []
    },
    {
      "cell_type": "code",
      "source": [
        "df_inf"
      ],
      "metadata": {
        "colab": {
          "base_uri": "https://localhost:8080/",
          "height": 833
        },
        "id": "_n9GemM93MHS",
        "outputId": "3d7a4f86-9f92-4ecf-ceca-e32d8aa6b166"
      },
      "execution_count": 459,
      "outputs": [
        {
          "output_type": "execute_result",
          "data": {
            "text/plain": [
              "   index  clothing_id  age                            title  \\\n",
              "0      0         1095   34                 Size up if busty   \n",
              "1      1          903   57                Snap front hoodie   \n",
              "2      2          830   56                         Adorable   \n",
              "3      3         1047   36           Fraying after 2 wears!   \n",
              "4      4         1110   30            Fabulous material....   \n",
              "5      5          820   36                 Run and buy.....   \n",
              "7      7         1092   39                     Sbags easily   \n",
              "8      8           22   30  Please bring this shirt back!!!   \n",
              "\n",
              "                                         review_text  rating  recommended  \\\n",
              "0  I agree with the other reviewer that the color...       4            1   \n",
              "1  I have many sweaters but i bought this during ...       4            1   \n",
              "2  Beautiful top but runs a whole size small. gav...       4            1   \n",
              "3  I loved these pants.they are so comfortable. h...       3            0   \n",
              "4  I ordered this dress in a petite but it arrive...       5            1   \n",
              "5  Such a cute shirt! i picked up the white-with-...       5            1   \n",
              "7  I liked this dress but wasn't sure about the c...       5            1   \n",
              "8  This is my favorite shirt ever. i've had it fo...       5            1   \n",
              "\n",
              "   feedback_count        division department       class  \\\n",
              "0              19         General    Dresses     Dresses   \n",
              "1               0  General Petite       Tops  Fine gauge   \n",
              "2               3         General       Tops     Blouses   \n",
              "3               3  General Petite    Bottoms       Pants   \n",
              "4               0         General    Dresses     Dresses   \n",
              "5              11  General Petite       Tops     Blouses   \n",
              "7               5         General    Dresses     Dresses   \n",
              "8               0         General       Tops       Knits   \n",
              "\n",
              "                                  text_processed_inf  model_bidi - Prediction  \n",
              "0  agree reviewer color isnt pink person subtle t...                        1  \n",
              "1         many sweaters bought sale soft comfortable                        1  \n",
              "2  beautiful top runs whole size small gave daugh...                        1  \n",
              "3  loved pantsthey comfortable however wearing tw...                        0  \n",
              "4  ordered dress petite arrived regular rest fit ...                        1  \n",
              "5  cute shirt picked whitewithflowers shown onlin...                        1  \n",
              "7  liked dress wasnt sure color tried anyway orig...                        1  \n",
              "8  favorite shirt ever ive years still looks grea...                        0  "
            ],
            "text/html": [
              "\n",
              "  <div id=\"df-980f6b06-7417-4c26-932e-a11cf582a89d\">\n",
              "    <div class=\"colab-df-container\">\n",
              "      <div>\n",
              "<style scoped>\n",
              "    .dataframe tbody tr th:only-of-type {\n",
              "        vertical-align: middle;\n",
              "    }\n",
              "\n",
              "    .dataframe tbody tr th {\n",
              "        vertical-align: top;\n",
              "    }\n",
              "\n",
              "    .dataframe thead th {\n",
              "        text-align: right;\n",
              "    }\n",
              "</style>\n",
              "<table border=\"1\" class=\"dataframe\">\n",
              "  <thead>\n",
              "    <tr style=\"text-align: right;\">\n",
              "      <th></th>\n",
              "      <th>index</th>\n",
              "      <th>clothing_id</th>\n",
              "      <th>age</th>\n",
              "      <th>title</th>\n",
              "      <th>review_text</th>\n",
              "      <th>rating</th>\n",
              "      <th>recommended</th>\n",
              "      <th>feedback_count</th>\n",
              "      <th>division</th>\n",
              "      <th>department</th>\n",
              "      <th>class</th>\n",
              "      <th>text_processed_inf</th>\n",
              "      <th>model_bidi - Prediction</th>\n",
              "    </tr>\n",
              "  </thead>\n",
              "  <tbody>\n",
              "    <tr>\n",
              "      <th>0</th>\n",
              "      <td>0</td>\n",
              "      <td>1095</td>\n",
              "      <td>34</td>\n",
              "      <td>Size up if busty</td>\n",
              "      <td>I agree with the other reviewer that the color...</td>\n",
              "      <td>4</td>\n",
              "      <td>1</td>\n",
              "      <td>19</td>\n",
              "      <td>General</td>\n",
              "      <td>Dresses</td>\n",
              "      <td>Dresses</td>\n",
              "      <td>agree reviewer color isnt pink person subtle t...</td>\n",
              "      <td>1</td>\n",
              "    </tr>\n",
              "    <tr>\n",
              "      <th>1</th>\n",
              "      <td>1</td>\n",
              "      <td>903</td>\n",
              "      <td>57</td>\n",
              "      <td>Snap front hoodie</td>\n",
              "      <td>I have many sweaters but i bought this during ...</td>\n",
              "      <td>4</td>\n",
              "      <td>1</td>\n",
              "      <td>0</td>\n",
              "      <td>General Petite</td>\n",
              "      <td>Tops</td>\n",
              "      <td>Fine gauge</td>\n",
              "      <td>many sweaters bought sale soft comfortable</td>\n",
              "      <td>1</td>\n",
              "    </tr>\n",
              "    <tr>\n",
              "      <th>2</th>\n",
              "      <td>2</td>\n",
              "      <td>830</td>\n",
              "      <td>56</td>\n",
              "      <td>Adorable</td>\n",
              "      <td>Beautiful top but runs a whole size small. gav...</td>\n",
              "      <td>4</td>\n",
              "      <td>1</td>\n",
              "      <td>3</td>\n",
              "      <td>General</td>\n",
              "      <td>Tops</td>\n",
              "      <td>Blouses</td>\n",
              "      <td>beautiful top runs whole size small gave daugh...</td>\n",
              "      <td>1</td>\n",
              "    </tr>\n",
              "    <tr>\n",
              "      <th>3</th>\n",
              "      <td>3</td>\n",
              "      <td>1047</td>\n",
              "      <td>36</td>\n",
              "      <td>Fraying after 2 wears!</td>\n",
              "      <td>I loved these pants.they are so comfortable. h...</td>\n",
              "      <td>3</td>\n",
              "      <td>0</td>\n",
              "      <td>3</td>\n",
              "      <td>General Petite</td>\n",
              "      <td>Bottoms</td>\n",
              "      <td>Pants</td>\n",
              "      <td>loved pantsthey comfortable however wearing tw...</td>\n",
              "      <td>0</td>\n",
              "    </tr>\n",
              "    <tr>\n",
              "      <th>4</th>\n",
              "      <td>4</td>\n",
              "      <td>1110</td>\n",
              "      <td>30</td>\n",
              "      <td>Fabulous material....</td>\n",
              "      <td>I ordered this dress in a petite but it arrive...</td>\n",
              "      <td>5</td>\n",
              "      <td>1</td>\n",
              "      <td>0</td>\n",
              "      <td>General</td>\n",
              "      <td>Dresses</td>\n",
              "      <td>Dresses</td>\n",
              "      <td>ordered dress petite arrived regular rest fit ...</td>\n",
              "      <td>1</td>\n",
              "    </tr>\n",
              "    <tr>\n",
              "      <th>5</th>\n",
              "      <td>5</td>\n",
              "      <td>820</td>\n",
              "      <td>36</td>\n",
              "      <td>Run and buy.....</td>\n",
              "      <td>Such a cute shirt! i picked up the white-with-...</td>\n",
              "      <td>5</td>\n",
              "      <td>1</td>\n",
              "      <td>11</td>\n",
              "      <td>General Petite</td>\n",
              "      <td>Tops</td>\n",
              "      <td>Blouses</td>\n",
              "      <td>cute shirt picked whitewithflowers shown onlin...</td>\n",
              "      <td>1</td>\n",
              "    </tr>\n",
              "    <tr>\n",
              "      <th>7</th>\n",
              "      <td>7</td>\n",
              "      <td>1092</td>\n",
              "      <td>39</td>\n",
              "      <td>Sbags easily</td>\n",
              "      <td>I liked this dress but wasn't sure about the c...</td>\n",
              "      <td>5</td>\n",
              "      <td>1</td>\n",
              "      <td>5</td>\n",
              "      <td>General</td>\n",
              "      <td>Dresses</td>\n",
              "      <td>Dresses</td>\n",
              "      <td>liked dress wasnt sure color tried anyway orig...</td>\n",
              "      <td>1</td>\n",
              "    </tr>\n",
              "    <tr>\n",
              "      <th>8</th>\n",
              "      <td>8</td>\n",
              "      <td>22</td>\n",
              "      <td>30</td>\n",
              "      <td>Please bring this shirt back!!!</td>\n",
              "      <td>This is my favorite shirt ever. i've had it fo...</td>\n",
              "      <td>5</td>\n",
              "      <td>1</td>\n",
              "      <td>0</td>\n",
              "      <td>General</td>\n",
              "      <td>Tops</td>\n",
              "      <td>Knits</td>\n",
              "      <td>favorite shirt ever ive years still looks grea...</td>\n",
              "      <td>0</td>\n",
              "    </tr>\n",
              "  </tbody>\n",
              "</table>\n",
              "</div>\n",
              "      <button class=\"colab-df-convert\" onclick=\"convertToInteractive('df-980f6b06-7417-4c26-932e-a11cf582a89d')\"\n",
              "              title=\"Convert this dataframe to an interactive table.\"\n",
              "              style=\"display:none;\">\n",
              "        \n",
              "  <svg xmlns=\"http://www.w3.org/2000/svg\" height=\"24px\"viewBox=\"0 0 24 24\"\n",
              "       width=\"24px\">\n",
              "    <path d=\"M0 0h24v24H0V0z\" fill=\"none\"/>\n",
              "    <path d=\"M18.56 5.44l.94 2.06.94-2.06 2.06-.94-2.06-.94-.94-2.06-.94 2.06-2.06.94zm-11 1L8.5 8.5l.94-2.06 2.06-.94-2.06-.94L8.5 2.5l-.94 2.06-2.06.94zm10 10l.94 2.06.94-2.06 2.06-.94-2.06-.94-.94-2.06-.94 2.06-2.06.94z\"/><path d=\"M17.41 7.96l-1.37-1.37c-.4-.4-.92-.59-1.43-.59-.52 0-1.04.2-1.43.59L10.3 9.45l-7.72 7.72c-.78.78-.78 2.05 0 2.83L4 21.41c.39.39.9.59 1.41.59.51 0 1.02-.2 1.41-.59l7.78-7.78 2.81-2.81c.8-.78.8-2.07 0-2.86zM5.41 20L4 18.59l7.72-7.72 1.47 1.35L5.41 20z\"/>\n",
              "  </svg>\n",
              "      </button>\n",
              "      \n",
              "  <style>\n",
              "    .colab-df-container {\n",
              "      display:flex;\n",
              "      flex-wrap:wrap;\n",
              "      gap: 12px;\n",
              "    }\n",
              "\n",
              "    .colab-df-convert {\n",
              "      background-color: #E8F0FE;\n",
              "      border: none;\n",
              "      border-radius: 50%;\n",
              "      cursor: pointer;\n",
              "      display: none;\n",
              "      fill: #1967D2;\n",
              "      height: 32px;\n",
              "      padding: 0 0 0 0;\n",
              "      width: 32px;\n",
              "    }\n",
              "\n",
              "    .colab-df-convert:hover {\n",
              "      background-color: #E2EBFA;\n",
              "      box-shadow: 0px 1px 2px rgba(60, 64, 67, 0.3), 0px 1px 3px 1px rgba(60, 64, 67, 0.15);\n",
              "      fill: #174EA6;\n",
              "    }\n",
              "\n",
              "    [theme=dark] .colab-df-convert {\n",
              "      background-color: #3B4455;\n",
              "      fill: #D2E3FC;\n",
              "    }\n",
              "\n",
              "    [theme=dark] .colab-df-convert:hover {\n",
              "      background-color: #434B5C;\n",
              "      box-shadow: 0px 1px 3px 1px rgba(0, 0, 0, 0.15);\n",
              "      filter: drop-shadow(0px 1px 2px rgba(0, 0, 0, 0.3));\n",
              "      fill: #FFFFFF;\n",
              "    }\n",
              "  </style>\n",
              "\n",
              "      <script>\n",
              "        const buttonEl =\n",
              "          document.querySelector('#df-980f6b06-7417-4c26-932e-a11cf582a89d button.colab-df-convert');\n",
              "        buttonEl.style.display =\n",
              "          google.colab.kernel.accessAllowed ? 'block' : 'none';\n",
              "\n",
              "        async function convertToInteractive(key) {\n",
              "          const element = document.querySelector('#df-980f6b06-7417-4c26-932e-a11cf582a89d');\n",
              "          const dataTable =\n",
              "            await google.colab.kernel.invokeFunction('convertToInteractive',\n",
              "                                                     [key], {});\n",
              "          if (!dataTable) return;\n",
              "\n",
              "          const docLinkHtml = 'Like what you see? Visit the ' +\n",
              "            '<a target=\"_blank\" href=https://colab.research.google.com/notebooks/data_table.ipynb>data table notebook</a>'\n",
              "            + ' to learn more about interactive tables.';\n",
              "          element.innerHTML = '';\n",
              "          dataTable['output_type'] = 'display_data';\n",
              "          await google.colab.output.renderOutput(dataTable, element);\n",
              "          const docLink = document.createElement('div');\n",
              "          docLink.innerHTML = docLinkHtml;\n",
              "          element.appendChild(docLink);\n",
              "        }\n",
              "      </script>\n",
              "    </div>\n",
              "  </div>\n",
              "  "
            ]
          },
          "metadata": {},
          "execution_count": 459
        }
      ]
    },
    {
      "cell_type": "markdown",
      "metadata": {
        "id": "vocs6glMEFc7"
      },
      "source": [
        "> Terlihat model bidirectional 1 memberikan hasil inference hasil prediksi yang baik tidak ada miss predict sesuai dengan accuracynya yang sekitar 90%"
      ]
    },
    {
      "cell_type": "markdown",
      "metadata": {
        "id": "14HXB3yiEFc7"
      },
      "source": [
        "## 9 - Conclusions, Assumptions and Overall Analysis"
      ]
    },
    {
      "cell_type": "markdown",
      "metadata": {
        "id": "vbeCrHW7EFc7"
      },
      "source": [
        "Telah dilakukan analisa dan pemodelan Deep Learning dengan 5 model yaitu Traditional MultinomialNB, Model DNN, LSTM, Bidirectional1 dan Bidirectional2,\n",
        "dengan menggunakan dataset Women Clothing E-Commerce Review dengan detail sebagai berikut:\n",
        "- Persiapan data yang kemudian digunakan dalam 5 Pemodelan, memasukan data, mencangkup EDA analysis, kemudian melakukan seleksi fitur, handling missing value, kemudian dilakukan preprocessing menggunakan Case Folding: Mengubah teks ke lowercase, menghilangkan tanda baca, menghilangkan karakter yang tidak diperlukan, menghilangkan stopwords, lematisasi, mengembalikan kata ke kata dasarnya, lalu splitting dataset menjadi train, dan test, embedding dan vectorizer pada dataset kemudian dimasukan kedalam model\n",
        "- Implementasi 5 model untuk mencari yang terbaik, membuat prediksi, melakukan training pada model, model evaluasi dengan mendapatkan hasil accuracy dan recall dan model terbaik adalah model bidirectional1 dengan nilai pada X_train accuracy: 96% , nilai recall 84% untuk target product yang tidak rekomended dan 99% untuk target product yang rekomended, melakukan model inferens dan mendapat data prediksi klasifikasi Women Clothing Ecommerce Review dengan menggunakan NLP.\n",
        "- Disclaimer: mungkin data akan berubah-ubah setelah dilakukan Re-Run pada model, oleh karenanya narasi dari Classification Report dan Confusion Matrix bisa berbeda, namun seharusnya hasilnya tidak akan berbeda jauh dari yang sudah dinarasikan\n"
      ]
    },
    {
      "cell_type": "markdown",
      "metadata": {
        "id": "LKjQvKv9EFc7"
      },
      "source": [
        "Terimakasih\n"
      ]
    },
    {
      "cell_type": "markdown",
      "metadata": {
        "id": "QuDaagVREFc7"
      },
      "source": [
        "Source : \n",
        "\n",
        "https://www.kaggle.com/code/nandinibagga/women-reviews-visualization-sentiment-analysis\n",
        "\n",
        "https://www.kaggle.com/code/azizozmen/nlp-comparative-rnn-dl-models-with-detailed-eda"
      ]
    },
    {
      "cell_type": "code",
      "source": [
        ""
      ],
      "metadata": {
        "id": "PgCNBxLustGL"
      },
      "execution_count": null,
      "outputs": []
    }
  ],
  "metadata": {
    "accelerator": "GPU",
    "colab": {
      "machine_shape": "hm",
      "name": "h8dsft_Milestone2P2_imam_ahfas.ipynb",
      "provenance": [],
      "collapsed_sections": [],
      "toc_visible": true
    },
    "gpuClass": "standard",
    "kernelspec": {
      "display_name": "Python 3.9.7 ('base')",
      "language": "python",
      "name": "python3"
    },
    "language_info": {
      "codemirror_mode": {
        "name": "ipython",
        "version": 3
      },
      "file_extension": ".py",
      "mimetype": "text/x-python",
      "name": "python",
      "nbconvert_exporter": "python",
      "pygments_lexer": "ipython3",
      "version": "3.9.7"
    },
    "vscode": {
      "interpreter": {
        "hash": "ad2bdc8ecc057115af97d19610ffacc2b4e99fae6737bb82f5d7fb13d2f2c186"
      }
    }
  },
  "nbformat": 4,
  "nbformat_minor": 0
}